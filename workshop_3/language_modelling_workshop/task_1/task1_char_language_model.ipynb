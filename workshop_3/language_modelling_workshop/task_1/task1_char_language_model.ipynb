{
 "cells": [
  {
   "cell_type": "markdown",
   "metadata": {},
   "source": [
    "## Посимвольная языковая модель.\n",
    "\n",
    "В первом задании Вам нужно написать и обучить посимвольную нейронную языковую модель для вычисления вероятностей буквенных последовательностей (то есть слов). Такие модели используются в задачах словоизменения и распознавания/порождения звучащей речи. Для обучения модели используйте данные для русского языка из [репозитория](https://github.com/sigmorphon/conll2018/tree/master/task1/surprise).\n",
    "\n",
    "**В процессе написания Вам нужно решить следующие проблемы:**\n",
    "    \n",
    "* как будет выглядеть обучающая выборка; что будет являться признаками, и что - метками классов.\n",
    "* как сделать так, чтобы модель при предсказании символа учитывала все предыдущие символы слова.\n",
    "* какие специальные символы нужно использовать.\n",
    "* как передавать в модель текущее состояние рекуррентной сети\n",
    "\n",
    "**Результаты:**\n",
    "\n",
    "* предобработчик данных,\n",
    "* генератор обучающих данных (батчей),\n",
    "* обученная модель\n",
    "* перплексия модели на настроечной выборке\n",
    "* посимвольные вероятности слов в контрольной выборке\n",
    "\n",
    "**Дополнительно:**\n",
    "\n",
    "* дополнительный вход модели (часть речи слова, другие морфологические признаки), влияет ли его добавление на перплексию\n",
    "* сравнение различных архитектур нейронной сети (FC, RNN, LSTM, QRNN, ...)"
   ]
  },
  {
   "cell_type": "code",
   "execution_count": null,
   "metadata": {},
   "outputs": [],
   "source": [
    "# it is better to do all imports at the first cell\n"
   ]
  },
  {
   "cell_type": "code",
   "execution_count": null,
   "metadata": {},
   "outputs": [],
   "source": [
    "# Uncomment to download data\n",
    "# !wget https://github.com/sigmorphon/conll2018/blob/master/task1/surprise/russian-train-high\n",
    "# !wget https://github.com/sigmorphon/conll2018/blob/master/task1/surprise/russian-dev\n",
    "# !wget https://github.com/sigmorphon/conll2018/blob/master/task1/surprise/russian-covered-test"
   ]
  },
  {
   "cell_type": "code",
   "execution_count": null,
   "metadata": {},
   "outputs": [],
   "source": [
    "def read_dataset(infile):\n",
    "    words, tags = [], []\n",
    "    with open(infile, \"r\", encoding=\"utf8\") as f:\n",
    "        for line in f:\n",
    "            line = line.strip()\n",
    "            splitted = line.split(\"\\t\")\n",
    "            if len(splitted) != 3:\n",
    "                continue\n",
    "            words.append(splitted[0].lower())\n",
    "            tags.append(splitted[2])\n",
    "    return words, tags\n",
    "\n",
    "train_words, train_tags = read_dataset(\"russian-train-high\")\n",
    "dev_words, dev_tags = read_dataset(\"russian-dev\")\n",
    "test_words, test_tags = read_dataset(\"russian-covered-test\")"
   ]
  },
  {
   "cell_type": "markdown",
   "metadata": {},
   "source": [
    "Подумайте, какие вспомогательные токены могут быть вам полезны. Выдайте им индексы от `0` до `len(AUXILIARY) - 1`"
   ]
  },
  {
   "cell_type": "code",
   "execution_count": null,
   "metadata": {},
   "outputs": [],
   "source": [
    "AUXILIARY = "
   ]
  },
  {
   "cell_type": "code",
   "execution_count": null,
   "metadata": {},
   "outputs": [],
   "source": [
    "class Vocabulary:\n",
    "    def fit(self, data):\n",
    "        \"\"\"Extract unique symbols from the data, make itos (item to string) and stoi (string to index) objects\"\"\"\n",
    "        symbols = set(x for elem in data for x in elem)\n",
    "        self._symbols = AUXILIARY + sorted(symbols)\n",
    "        # Запомните следующую строчку кода - она нужна примерно всегда\n",
    "        self._symbol_codes = {s: i for i, s in enumerate(self._symbols)}\n",
    "        return self\n",
    "\n",
    "    def __len__(self):\n",
    "        return len(self._symbols)\n",
    "\n",
    "    def transform(self, data):\n",
    "        \"\"\"Transform data to indices\n",
    "        Input:\n",
    "            - data, list of strings\n",
    "        Output:\n",
    "            - list of list of char indices\n",
    "\n",
    "        >>> self.transform(['word1', 'token2'])\n",
    "        >>> [[24, 2, 19, 13, 3], [8, 2, 9, 1, 7, 4]]\n",
    "        \"\"\"\n",
    "        ..."
   ]
  },
  {
   "cell_type": "code",
   "execution_count": null,
   "metadata": {},
   "outputs": [],
   "source": []
  }
 ],
 "metadata": {
  "kernelspec": {
   "display_name": "Python 3",
   "language": "python",
   "name": "python3"
  },
  "language_info": {
   "codemirror_mode": {
    "name": "ipython",
    "version": 3
   },
   "file_extension": ".py",
   "mimetype": "text/x-python",
   "name": "python",
   "nbconvert_exporter": "python",
   "pygments_lexer": "ipython3",
   "version": "3.7.2"
  }
 },
 "nbformat": 4,
 "nbformat_minor": 2
}
