{
 "cells": [
  {
   "cell_type": "markdown",
   "metadata": {},
   "source": [
    "## Посимвольная языковая модель.\n",
    "\n",
    "В первом задании Вам нужно написать и обучить посимвольную нейронную языковую модель для вычисления вероятностей буквенных последовательностей (то есть слов). Такие модели используются в задачах словоизменения и распознавания/порождения звучащей речи. Для обучения модели используйте данные для русского языка из [репозитория](https://github.com/sigmorphon/conll2018/tree/master/task1/surprise).\n",
    "\n",
    "**В процессе написания Вам нужно решить следующие проблемы:**\n",
    "    \n",
    "* как будет выглядеть обучающая выборка; что будет являться признаками, и что - метками классов.\n",
    "* как сделать так, чтобы модель при предсказании символа учитывала все предыдущие символы слова.\n",
    "* какие специальные символы нужно использовать.\n",
    "* как передавать в модель текущее состояние рекуррентной сети\n",
    "\n",
    "**Результаты:**\n",
    "\n",
    "* предобработчик данных,\n",
    "* генератор обучающих данных (батчей),\n",
    "* обученная модель\n",
    "* перплексия модели на настроечной выборке\n",
    "* посимвольные вероятности слов в контрольной выборке\n",
    "\n",
    "**Дополнительно:**\n",
    "\n",
    "* дополнительный вход модели (часть речи слова, другие морфологические признаки), влияет ли его добавление на перплексию\n",
    "* сравнение различных архитектур нейронной сети (FC, RNN, LSTM, QRNN, ...)"
   ]
  },
  {
   "cell_type": "markdown",
   "metadata": {},
   "source": [
    "Подумайте, какие вспомогательные токены могут быть вам полезны. Выдайте им индексы от `0` до `len(AUXILIARY) - 1`"
   ]
  },
  {
   "cell_type": "code",
   "execution_count": null,
   "metadata": {},
   "outputs": [],
   "source": []
  },
  {
   "cell_type": "markdown",
   "metadata": {},
   "source": [
    "**План**\n",
    "- Данные\n",
    "    - Признаки: набор символов токена, заканчивается токеном END\n",
    "    - Метки класса: набор символов того же токена, начинается с токена BEGIN\n",
    "- Для учета всех предыдущих символов, при предсказании следующего символа, дополнительно мы должны передавать на вход предыдущий токен\n",
    "- Специальные символы\n",
    "    - BEGIN, END, MASK, UNK\n",
    "- (???) Как передавать в модель текущее состояние рекуррентной сети"
   ]
  },
  {
   "cell_type": "code",
   "execution_count": 1,
   "metadata": {},
   "outputs": [],
   "source": [
    "# it is better to do all imports at the first cell\n",
    "from pathlib import Path\n",
    "from itertools import islice\n",
    "from operator import itemgetter\n",
    "from functools import partial\n",
    "\n",
    "import numpy as np\n",
    "import pandas as pd\n",
    "\n",
    "import torch\n",
    "import torch.nn as nn\n",
    "from torch.utils.data import Dataset, DataLoader"
   ]
  },
  {
   "cell_type": "code",
   "execution_count": 2,
   "metadata": {},
   "outputs": [],
   "source": [
    "# Uncomment to download data\n",
    "# !wget https://github.com/sigmorphon/conll2018/blob/master/task1/surprise/russian-train-high\n",
    "# !wget https://github.com/sigmorphon/conll2018/blob/master/task1/surprise/russian-dev\n",
    "# !wget https://github.com/sigmorphon/conll2018/blob/master/task1/surprise/russian-covered-test"
   ]
  },
  {
   "cell_type": "code",
   "execution_count": 3,
   "metadata": {},
   "outputs": [],
   "source": [
    "DATA_PATH = Path('./data')"
   ]
  },
  {
   "cell_type": "code",
   "execution_count": 4,
   "metadata": {},
   "outputs": [],
   "source": [
    "file_paths = {'train': DATA_PATH/'russian-train-high',\n",
    "              'dev': DATA_PATH/'russian-dev',\n",
    "              'test': DATA_PATH/'russian-test'}"
   ]
  },
  {
   "cell_type": "code",
   "execution_count": 5,
   "metadata": {},
   "outputs": [],
   "source": [
    "class Vocabulary:\n",
    "    def __init__(self, token_to_idx=None):\n",
    "        # Initialize mapping (token -> idx) if empty\n",
    "        if token_to_idx is None:\n",
    "            token_to_idx = {}\n",
    "        \n",
    "        # Generate 2 mappings (tokens -> idx, idx -> token)\n",
    "        self._token_to_idx = token_to_idx\n",
    "        self._idx_to_token = {idx: token \n",
    "                              for token, idx in self._token_to_idx.items()}\n",
    "    \n",
    "    def add_token(self, token):\n",
    "        if token in self._token_to_idx:\n",
    "            # get index of token if it is already exists in vocabulary\n",
    "            index = self._token_to_idx[token]\n",
    "        else:\n",
    "            # for new token, append it to mapping with new index\n",
    "            index = len(self._token_to_idx)\n",
    "            self._token_to_idx[token] = index\n",
    "            self._idx_to_token[index] = token\n",
    "        \n",
    "        # return index of token\n",
    "        return index\n",
    "    \n",
    "    def lookup_token(self, token):\n",
    "        # return index by token\n",
    "        return self._token_to_idx[token]\n",
    "    \n",
    "    def lookup_index(self, index):\n",
    "        # return token by index\n",
    "        return self._idx_to_token[index]\n",
    "    \n",
    "    def __len__(self):\n",
    "        # override len function to get vocabulary size more easily\n",
    "        return len(self._token_to_idx)"
   ]
  },
  {
   "cell_type": "code",
   "execution_count": 6,
   "metadata": {},
   "outputs": [],
   "source": [
    "class SequenceVocabulary(Vocabulary):\n",
    "    def __init__(self, token_to_idx=None,\n",
    "                 unk_token='<UNK>',\n",
    "                 mask_token='<MASK>',\n",
    "                 begin_token='<BEGIN>',\n",
    "                 end_token='<END>'):\n",
    "        super().__init__(token_to_idx)\n",
    "        \n",
    "        # Save special token symbols\n",
    "        self._mask_token = mask_token\n",
    "        self._unk_token = unk_token\n",
    "        self._begin_token = begin_token\n",
    "        self._end_token = end_token\n",
    "        \n",
    "        # Get and save indices for special token symbols\n",
    "        self.mask_index = self.add_token(self._mask_token)\n",
    "        self.unk_index = self.add_token(self._unk_token)        \n",
    "        self.begin_index = self.add_token(self._begin_token)        \n",
    "        self.end_index = self.add_token(self._end_token)\n",
    "    \n",
    "    def lookup_token(self, token):\n",
    "        # Override method to use <UNK> index \n",
    "        # if the token is not in vocabulary\n",
    "        return self._token_to_idx.get(token, self.unk_index)"
   ]
  },
  {
   "cell_type": "code",
   "execution_count": 25,
   "metadata": {},
   "outputs": [],
   "source": [
    "class CharLMVectorizer:\n",
    "    def __init__(self, char_vocab):\n",
    "        # Save character vocabulary\n",
    "        self.char_vocab = char_vocab\n",
    "        \n",
    "    def vectorize(self, word, vector_length=-1):\n",
    "        # Wrap word with <BEGIN> and <END> tokens\n",
    "        indices = [self.char_vocab.begin_index]\n",
    "        indices.extend(self.char_vocab.lookup_token(token) for token in word)\n",
    "        indices.append(self.char_vocab.end_index)\n",
    "        \n",
    "        \n",
    "        # If vector_length is provided (eval mode) as argument - use it\n",
    "        # Otherwise, alculate length for source and target vectors (train mode):\n",
    "        # length of word + 1 special token (<BEGIN> or <END>)\n",
    "        # if vector_length == -1:\n",
    "        #    vector_length = len(word) + 1\n",
    "        vector_length = len(word) + 1\n",
    "        \n",
    "        # Create padded version of the source vector\n",
    "        # <BEGIN> <char1> ... <charN> <MASK> ... <MASK>\n",
    "        # where N - length of original word\n",
    "        source_vector = np.full(vector_length, self.char_vocab.mask_index,\n",
    "                                 dtype=np.int64)\n",
    "        source_indices = indices[:-1]\n",
    "        source_vector[:len(source_indices)] = source_indices\n",
    "        \n",
    "        # Create padded version of the target vector\n",
    "        # <char1> ... <charN> <END> <MASK> ... <MASK>\n",
    "        # where N - length of original word\n",
    "        target_vector = np.full(vector_length, self.char_vocab.mask_index,\n",
    "                                dtype=np.int64)\n",
    "        target_indices = indices[1:]\n",
    "        target_vector[:len(target_indices)] = target_indices\n",
    "        \n",
    "        length = len(source_vector)\n",
    "        \n",
    "        # Return padded versions of the source and target vectors\n",
    "        return {'source_vector': source_vector, \n",
    "                'target_vector': target_vector,\n",
    "                'length': length}\n",
    "    \n",
    "    @classmethod\n",
    "    def from_dataframe(cls, full_df, data_type):\n",
    "        # Create sequence vocabulary\n",
    "        char_vocab = SequenceVocabulary()\n",
    "        \n",
    "        # Get dataframe subset to built vocabulary\n",
    "        target_df = full_df[full_df['data_type'].isin(data_type)]\n",
    "        \n",
    "        # Add tokens to vocabulary from train dataset\n",
    "        for _, row in target_df.iterrows():\n",
    "            for char in row['word']:\n",
    "                char_vocab.add_token(char)\n",
    "            \n",
    "        return cls(char_vocab)"
   ]
  },
  {
   "cell_type": "code",
   "execution_count": 26,
   "metadata": {},
   "outputs": [],
   "source": [
    "class CharLMDataset(Dataset):\n",
    "    def __init__(self, full_df, vectorizer):\n",
    "        # Save original dataset (train/dev/test)\n",
    "        self.full_df = full_df\n",
    "        \n",
    "        # Save vectorizer\n",
    "        self._vectorizer = vectorizer\n",
    "        \n",
    "        # Calculate maximum word length (including BOS/EOS tokens) \n",
    "        # across whole dataset for further padding (not efficient)\n",
    "        # self._max_seq_length = max(map(len, self.full_df['word'])) + 1\n",
    "        \n",
    "        # Save train/dev/test datasets separately\n",
    "        # and save its sizes (number of rows)\n",
    "        self.train_df = self.full_df[self.full_df['data_type'] == 'train']\n",
    "        self.train_size = len(self.train_df)\n",
    "        \n",
    "        self.dev_df = self.full_df[self.full_df['data_type'] == 'dev']\n",
    "        self.dev_size = len(self.dev_df)\n",
    "        \n",
    "        self.test_df = self.full_df[self.full_df['data_type'] == 'test']\n",
    "        self.test_size = len(self.test_df)\n",
    "\n",
    "        # Store information about datasets in dictionary\n",
    "        self._lookup_dict = {'train': (self.train_df, self.train_size),\n",
    "                             'dev': (self.dev_df, self.dev_size),\n",
    "                             'test': (self.test_df, self.test_size)}\n",
    "        \n",
    "        # Set train data as default\n",
    "        self.set_data_type('train')\n",
    "    \n",
    "    @classmethod\n",
    "    def read_dataset(cls, file_path, data_type):\n",
    "        # Read specific file and save its data type (train/dev/test)\n",
    "        df = pd.read_csv(file_path, sep='\\t', \n",
    "                         header=None, names=['word'], \n",
    "                         usecols=[0])\n",
    "        df['data_type'] = data_type\n",
    "        \n",
    "        # Return dataframe with data and its type\n",
    "        return df\n",
    "    \n",
    "    @classmethod\n",
    "    def load_dataset(cls, files_path):\n",
    "        dfs_list = []\n",
    "        \n",
    "        # Read all datasets specified in files_path\n",
    "        for data_type, file_path in file_paths.items():\n",
    "            df = cls.read_dataset(file_path, data_type)\n",
    "            dfs_list.append(df)\n",
    "        \n",
    "        # Concatenate all datasets\n",
    "        full_df = pd.concat(dfs_list, axis=0, ignore_index=True)\n",
    "        \n",
    "        # Return concatenated dataframe with specified data types\n",
    "        return full_df\n",
    "    \n",
    "    @classmethod\n",
    "    def make_vectorizer(cls, files_path):\n",
    "        # Load all data from files specified in files_path\n",
    "        full_df = cls.load_dataset(files_path)\n",
    "        \n",
    "        # Create CharLMDataset class using full dataset and vectorizer\n",
    "        return cls(full_df, CharLMVectorizer.from_dataframe(full_df, \n",
    "                                                            data_type=['train']))\n",
    "    \n",
    "    def get_vectorizer(self):\n",
    "        # Return vectorizer related to Dataset\n",
    "        return self._vectorizer\n",
    "    \n",
    "    def set_data_type(self, data_type='train'):\n",
    "        # Set type, data, and its size as current dataset\n",
    "        self._target_type = data_type\n",
    "        self._target_df, self._target_size = self._lookup_dict[data_type]\n",
    "       \n",
    "        \n",
    "    def __len__(self):\n",
    "        # Return length of the current dataset\n",
    "        return self._target_size\n",
    "    \n",
    "    def __getitem__(self, index):\n",
    "        # Get example by index from the current dataset\n",
    "        row = self._target_df.iloc[index]\n",
    "        \n",
    "        # Generate source and target vector, and its length from the example\n",
    "        # with padding to maximum word size (including BOS/EOS tokens)\n",
    "        vector_dict = self._vectorizer.vectorize(row['word'])#, self._max_seq_length)\n",
    "        \n",
    "        # Return generated vectors with its length\n",
    "        return vector_dict\n",
    "    \n",
    "    def get_num_batches(self, batch_size):\n",
    "        # Calculate the number of full batches\n",
    "        return len(self) // batch_size # ???"
   ]
  },
  {
   "cell_type": "code",
   "execution_count": 64,
   "metadata": {},
   "outputs": [
    {
     "name": "stdout",
     "output_type": "stream",
     "text": [
      "train\n"
     ]
    },
    {
     "data": {
      "text/plain": [
       "train    10000\n",
       "test      1000\n",
       "dev       1000\n",
       "Name: data_type, dtype: int64"
      ]
     },
     "execution_count": 64,
     "metadata": {},
     "output_type": "execute_result"
    }
   ],
   "source": [
    "lm_dataset = CharLMDataset.make_vectorizer(file_paths)\n",
    "print(lm_dataset._target_type)\n",
    "lm_dataset.full_df['data_type'].value_counts()"
   ]
  },
  {
   "cell_type": "code",
   "execution_count": 65,
   "metadata": {},
   "outputs": [
    {
     "name": "stdout",
     "output_type": "stream",
     "text": [
      "{'<MASK>': 0, '<UNK>': 1, '<BEGIN>': 2, '<END>': 3, 'в': 4, 'а': 5, 'л': 6, 'о': 7, 'н': 8, 'с': 9, 'к': 10, 'и': 11, 'й': 12, 'е': 13, 'з': 14, 'ч': 15, 'ы': 16, 'т': 17, 'р': 18, 'ё': 19, 'п': 20, 'ь': 21, 'г': 22, 'б': 23, 'ю': 24, 'я': 25, 'д': 26, 'у': 27, 'ш': 28, 'м': 29, 'х': 30, 'ж': 31, 'ц': 32, ' ': 33, 'щ': 34, '-': 35, 'ф': 36, 'э': 37, 'ъ': 38, 'С': 39, 'Ш': 40, 'И': 41, 'З': 42, 'А': 43, 'Г': 44, 'Э': 45, 'Л': 46, 'Ф': 47, 'В': 48, 'П': 49, 'М': 50, 'Р': 51, 'Б': 52, 'Х': 53, 'Н': 54, 'Е': 55}\n",
      "56\n",
      "{0: '<MASK>', 1: '<UNK>', 2: '<BEGIN>', 3: '<END>', 4: 'в', 5: 'а', 6: 'л', 7: 'о', 8: 'н', 9: 'с', 10: 'к', 11: 'и', 12: 'й', 13: 'е', 14: 'з', 15: 'ч', 16: 'ы', 17: 'т', 18: 'р', 19: 'ё', 20: 'п', 21: 'ь', 22: 'г', 23: 'б', 24: 'ю', 25: 'я', 26: 'д', 27: 'у', 28: 'ш', 29: 'м', 30: 'х', 31: 'ж', 32: 'ц', 33: ' ', 34: 'щ', 35: '-', 36: 'ф', 37: 'э', 38: 'ъ', 39: 'С', 40: 'Ш', 41: 'И', 42: 'З', 43: 'А', 44: 'Г', 45: 'Э', 46: 'Л', 47: 'Ф', 48: 'В', 49: 'П', 50: 'М', 51: 'Р', 52: 'Б', 53: 'Х', 54: 'Н', 55: 'Е'}\n",
      "56\n"
     ]
    }
   ],
   "source": [
    "print(lm_dataset.get_vectorizer().char_vocab._token_to_idx)\n",
    "print(len(lm_dataset.get_vectorizer().char_vocab._token_to_idx))\n",
    "print(lm_dataset.get_vectorizer().char_vocab._idx_to_token)\n",
    "print(len(lm_dataset.get_vectorizer().char_vocab._idx_to_token))"
   ]
  },
  {
   "cell_type": "code",
   "execution_count": 66,
   "metadata": {},
   "outputs": [
    {
     "data": {
      "text/plain": [
       "{'source_vector': array([ 2,  8, 13, 14,  5, 10,  7,  8, 15, 13,  8,  8, 16, 12]),\n",
       " 'target_vector': array([ 8, 13, 14,  5, 10,  7,  8, 15, 13,  8,  8, 16, 12,  3]),\n",
       " 'length': 14}"
      ]
     },
     "execution_count": 66,
     "metadata": {},
     "output_type": "execute_result"
    }
   ],
   "source": [
    "lm_dataset[1]"
   ]
  },
  {
   "cell_type": "code",
   "execution_count": 67,
   "metadata": {},
   "outputs": [
    {
     "data": {
      "text/plain": [
       "{'source_vector': array([ 2, 54, 13,  1, 18,  1,  9, 55, 17,  1]),\n",
       " 'target_vector': array([54, 13,  1, 18,  1,  9, 55, 17,  1,  3]),\n",
       " 'length': 10}"
      ]
     },
     "execution_count": 67,
     "metadata": {},
     "output_type": "execute_result"
    }
   ],
   "source": [
    "lm_dataset.get_vectorizer().vectorize('НеЙрОсЕтЬ')"
   ]
  },
  {
   "cell_type": "code",
   "execution_count": null,
   "metadata": {},
   "outputs": [],
   "source": []
  },
  {
   "cell_type": "raw",
   "metadata": {},
   "source": [
    "if isinstance(batch[0], torch.Tensor):\n",
    "        out = None\n",
    "        if _use_shared_memory:\n",
    "            # If we're in a background process, concatenate directly into a\n",
    "            # shared memory tensor to avoid an extra copy\n",
    "            numel = sum([x.numel() for x in batch])\n",
    "            storage = batch[0].storage()._new_shared(numel)\n",
    "            out = batch[0].new(storage)\n",
    "        return torch.stack(batch, 0, out=out)"
   ]
  },
  {
   "cell_type": "raw",
   "metadata": {},
   "source": []
  },
  {
   "cell_type": "raw",
   "metadata": {},
   "source": [
    "for batch in islice(generate_batches(lm_dataset, 2, shuffle=True), 1):\n",
    "    print(batch)"
   ]
  },
  {
   "cell_type": "raw",
   "metadata": {},
   "source": []
  },
  {
   "cell_type": "code",
   "execution_count": 14,
   "metadata": {},
   "outputs": [
    {
     "data": {
      "text/plain": [
       "[array([ 2,  4,  5,  6,  6,  7,  8,  9, 10, 11, 12]),\n",
       " array([ 2,  8, 13, 14,  5, 10,  7,  8, 15, 13,  8,  8, 16, 12])]"
      ]
     },
     "execution_count": 14,
     "metadata": {},
     "output_type": "execute_result"
    }
   ],
   "source": [
    "data = [{'source_vector': np.array([ 2,  4,  5,  6,  6,  7,  8,  9, 10, 11, 12]), \n",
    "      'target_vector': np.array([ 4,  5,  6,  6,  7,  8,  9, 10, 11, 12,  3])}, \n",
    "     {'source_vector': np.array([ 2,  8, 13, 14,  5, 10,  7,  8, 15, 13,  8,  8, 16, 12]), \n",
    "      'target_vector': np.array([ 8, 13, 14,  5, 10,  7,  8, 15, 13,  8,  8, 16, 12,  3])}]\n",
    "get_source = itemgetter('source_vector')\n",
    "\n",
    "source_data = list(map(get_source, data))\n",
    "source_data"
   ]
  },
  {
   "cell_type": "code",
   "execution_count": 15,
   "metadata": {},
   "outputs": [],
   "source": [
    "def pad_sequence(elem, item_name, max_length, value=0):\n",
    "    data = elem[item_name]\n",
    "    data_len = len(data)\n",
    "    data = np.pad(data, (0, max_length - len(data)), \n",
    "                  mode='constant', constant_values=value)\n",
    "    return data, data_len"
   ]
  },
  {
   "cell_type": "code",
   "execution_count": 16,
   "metadata": {},
   "outputs": [],
   "source": [
    "pad_source_seq = partial(pad_sequence, item_name='source_vector', max_length=16, value=0)"
   ]
  },
  {
   "cell_type": "code",
   "execution_count": 17,
   "metadata": {},
   "outputs": [
    {
     "data": {
      "text/plain": [
       "(array([[ 2,  4,  5,  6,  6,  7,  8,  9, 10, 11, 12,  0,  0,  0,  0,  0],\n",
       "        [ 2,  8, 13, 14,  5, 10,  7,  8, 15, 13,  8,  8, 16, 12,  0,  0]]),\n",
       " (11, 14))"
      ]
     },
     "execution_count": 17,
     "metadata": {},
     "output_type": "execute_result"
    }
   ],
   "source": [
    "padded_data, data_len = list(zip(*map(pad_source_seq, data)))\n",
    "padded_data = np.vstack(padded_data)\n",
    "padded_data, data_len"
   ]
  },
  {
   "cell_type": "code",
   "execution_count": 18,
   "metadata": {},
   "outputs": [
    {
     "data": {
      "text/plain": [
       "array([[ 2,  8, 13, 14,  5, 10,  7,  8, 15, 13,  8,  8, 16, 12,  0,  0],\n",
       "       [ 2,  4,  5,  6,  6,  7,  8,  9, 10, 11, 12,  0,  0,  0,  0,  0]])"
      ]
     },
     "execution_count": 18,
     "metadata": {},
     "output_type": "execute_result"
    }
   ],
   "source": [
    "sort_idx = np.argsort(data_len)[::-1]\n",
    "padded_data[sort_idx]"
   ]
  },
  {
   "cell_type": "code",
   "execution_count": 19,
   "metadata": {},
   "outputs": [
    {
     "data": {
      "text/plain": [
       "array([[ 2,  4,  5,  6,  6,  7,  8,  9, 10, 11, 12,  0,  0,  0,  0,  0],\n",
       "       [ 2,  8, 13, 14,  5, 10,  7,  8, 15, 13,  8,  8, 16, 12,  0,  0]])"
      ]
     },
     "execution_count": 19,
     "metadata": {},
     "output_type": "execute_result"
    }
   ],
   "source": [
    "unsort_idx = np.argsort(sort_idx)\n",
    "padded_data[sort_idx][unsort_idx]"
   ]
  },
  {
   "cell_type": "raw",
   "metadata": {},
   "source": []
  },
  {
   "cell_type": "code",
   "execution_count": 54,
   "metadata": {},
   "outputs": [],
   "source": [
    "dd = [{'source_vector': np.array([ 2,  4,  5,  6,  6,  7,  8,  9, 10, 11, 12]), \n",
    "       'target_vector': np.array([ 4,  5,  6,  6,  7,  8,  9, 10, 11, 12,  3]), 'length': 11}, \n",
    "      {'source_vector': np.array([ 2,  8, 13, 14,  5, 10,  7,  8, 15, 13,  8,  8, 16, 12]), \n",
    "       'target_vector': np.array([ 8, 13, 14,  5, 10,  7,  8, 15, 13,  8,  8, 16, 12,  3]), 'length': 14}]"
   ]
  },
  {
   "cell_type": "code",
   "execution_count": 81,
   "metadata": {},
   "outputs": [],
   "source": [
    "def pad_sequence(elem, item_name, max_length, value=0):\n",
    "    data = elem[item_name]\n",
    "    data_len = elem['length']\n",
    "    data = np.pad(data, (0, max_length - data_len), \n",
    "                  mode='constant', constant_values=value)\n",
    "    return data"
   ]
  },
  {
   "cell_type": "code",
   "execution_count": 137,
   "metadata": {},
   "outputs": [
    {
     "data": {
      "text/plain": [
       "tensor([0, 1, 2])"
      ]
     },
     "execution_count": 137,
     "metadata": {},
     "output_type": "execute_result"
    }
   ],
   "source": [
    "l = [x for x in range(3)]\n",
    "torch.tensor(l)"
   ]
  },
  {
   "cell_type": "code",
   "execution_count": 146,
   "metadata": {},
   "outputs": [],
   "source": [
    "def collate_fn(batch):\n",
    "    get_length_item = itemgetter('length')\n",
    "    \n",
    "    batch_lengths = torch.tensor(list(map(get_length_item, batch)))\n",
    "    max_batch_length = torch.max(batch_lengths)\n",
    "    \n",
    "    padded_source_batch = partial(pad_sequence, item_name='source_vector', \n",
    "                                  max_length=max_batch_length, value=0)\n",
    "    padded_source_batch = list(map(padded_source_batch, batch))\n",
    "    padded_source_batch = np.vstack(padded_source_batch)\n",
    "    padded_source_batch = torch.from_numpy(padded_source_batch)\n",
    "    \n",
    "    padded_target_batch = partial(pad_sequence, item_name='target_vector', \n",
    "                                  max_length=max_batch_length, value=0)\n",
    "    padded_target_batch = list(map(padded_target_batch, batch))\n",
    "    padded_target_batch = np.vstack(padded_target_batch)\n",
    "    padded_target_batch = torch.from_numpy(padded_target_batch)\n",
    "    \n",
    "    return {'source_batch': padded_source_batch, \n",
    "            'target_batch': padded_target_batch,\n",
    "            'batch_lengths': batch_lengths}"
   ]
  },
  {
   "cell_type": "code",
   "execution_count": 147,
   "metadata": {},
   "outputs": [],
   "source": [
    "def generate_batches(dataset, batch_size,\n",
    "                     shuffle=True, drop_last=True,\n",
    "                     collate_fn=None,\n",
    "                     device='cpu'):\n",
    "    if collate_fn is None:\n",
    "        data_loader = DataLoader(dataset=dataset, batch_size=batch_size,\n",
    "                                 shuffle=shuffle, drop_last=drop_last)\n",
    "    else:\n",
    "        data_loader = DataLoader(dataset=dataset, batch_size=batch_size,\n",
    "                                 shuffle=shuffle, drop_last=drop_last,\n",
    "                                 collate_fn=collate_fn)\n",
    "    \n",
    "    for data_dict in data_loader:\n",
    "        lengths = data_dict['batch_lengths'].numpy()\n",
    "        sorted_length_indices = lengths.argsort()[::-1].tolist()\n",
    "        \n",
    "        out_data_dict = {}\n",
    "        for name, tensor in data_dict.items():\n",
    "            out_data_dict[name] = data_dict[name][sorted_length_indices].to(device)\n",
    "        yield out_data_dict"
   ]
  },
  {
   "cell_type": "code",
   "execution_count": 154,
   "metadata": {},
   "outputs": [
    {
     "name": "stdout",
     "output_type": "stream",
     "text": [
      "dict_items([('source_batch', tensor([[ 2,  8, 13, 14,  5, 10,  7,  8, 15, 13,  8,  8, 16, 12],\n",
      "        [ 2, 11,  9, 17, 18, 19, 20, 16,  4,  5, 17, 21,  0,  0],\n",
      "        [ 2,  4,  5,  6,  6,  7,  8,  9, 10, 11, 12,  0,  0,  0]])), ('target_batch', tensor([[ 8, 13, 14,  5, 10,  7,  8, 15, 13,  8,  8, 16, 12,  3],\n",
      "        [11,  9, 17, 18, 19, 20, 16,  4,  5, 17, 21,  3,  0,  0],\n",
      "        [ 4,  5,  6,  6,  7,  8,  9, 10, 11, 12,  3,  0,  0,  0]])), ('batch_lengths', tensor([14, 12, 11]))])\n",
      "dict_items([('source_batch', tensor([[ 2,  8, 13,  7, 23,  7,  9,  8,  7,  4,  5,  8,  8, 16, 12],\n",
      "        [ 2,  9, 13, 18, 21, 22,  5,  0,  0,  0,  0,  0,  0,  0,  0],\n",
      "        [ 2,  6, 11, 15,  8, 16, 12,  0,  0,  0,  0,  0,  0,  0,  0]])), ('target_batch', tensor([[ 8, 13,  7, 23,  7,  9,  8,  7,  4,  5,  8,  8, 16, 12,  3],\n",
      "        [ 9, 13, 18, 21, 22,  5,  3,  0,  0,  0,  0,  0,  0,  0,  0],\n",
      "        [ 6, 11, 15,  8, 16, 12,  3,  0,  0,  0,  0,  0,  0,  0,  0]])), ('batch_lengths', tensor([15,  7,  7]))])\n",
      "dict_items([('source_batch', tensor([[ 2,  7, 23,  6, 19, 17, 16,  4,  5, 17, 21],\n",
      "        [ 2, 14,  5, 18,  5,  9, 17, 11,  0,  0,  0],\n",
      "        [ 2, 17, 24, 17, 25,  0,  0,  0,  0,  0,  0]])), ('target_batch', tensor([[ 7, 23,  6, 19, 17, 16,  4,  5, 17, 21,  3],\n",
      "        [14,  5, 18,  5,  9, 17, 11,  3,  0,  0,  0],\n",
      "        [17, 24, 17, 25,  3,  0,  0,  0,  0,  0,  0]])), ('batch_lengths', tensor([11,  8,  5]))])\n"
     ]
    }
   ],
   "source": [
    "for batch in islice(generate_batches(lm_dataset, 3, shuffle=False, collate_fn=collate_fn), 3):\n",
    "    print(batch.items())"
   ]
  },
  {
   "cell_type": "code",
   "execution_count": null,
   "metadata": {},
   "outputs": [],
   "source": []
  },
  {
   "cell_type": "code",
   "execution_count": null,
   "metadata": {},
   "outputs": [],
   "source": []
  },
  {
   "cell_type": "code",
   "execution_count": 108,
   "metadata": {},
   "outputs": [
    {
     "name": "stdout",
     "output_type": "stream",
     "text": [
      "{'source_vector': array([ 2,  4,  5,  6,  6,  7,  8,  9, 10, 11, 12]), 'target_vector': array([ 4,  5,  6,  6,  7,  8,  9, 10, 11, 12,  3])}\n",
      "{'source_vector': array([ 2,  8, 13, 14,  5, 10,  7,  8, 15, 13,  8,  8, 16, 12]), 'target_vector': array([ 8, 13, 14,  5, 10,  7,  8, 15, 13,  8,  8, 16, 12,  3])}\n",
      "{'source_vector': array([ 2, 11,  9, 17, 18, 19, 20, 16,  4,  5, 17, 21]), 'target_vector': array([11,  9, 17, 18, 19, 20, 16,  4,  5, 17, 21,  3])}\n",
      "{'source_vector': array([ 2,  6, 11, 15,  8, 16, 12]), 'target_vector': array([ 6, 11, 15,  8, 16, 12,  3])}\n",
      "{'source_vector': array([ 2,  9, 13, 18, 21, 22,  5]), 'target_vector': array([ 9, 13, 18, 21, 22,  5,  3])}\n"
     ]
    }
   ],
   "source": [
    "for batch in islice(lmd, 5):\n",
    "    print(batch)"
   ]
  },
  {
   "cell_type": "code",
   "execution_count": null,
   "metadata": {},
   "outputs": [],
   "source": []
  },
  {
   "cell_type": "code",
   "execution_count": null,
   "metadata": {},
   "outputs": [],
   "source": []
  },
  {
   "cell_type": "code",
   "execution_count": null,
   "metadata": {},
   "outputs": [],
   "source": []
  }
 ],
 "metadata": {
  "kernelspec": {
   "display_name": "Python 3",
   "language": "python",
   "name": "python3"
  },
  "language_info": {
   "codemirror_mode": {
    "name": "ipython",
    "version": 3
   },
   "file_extension": ".py",
   "mimetype": "text/x-python",
   "name": "python",
   "nbconvert_exporter": "python",
   "pygments_lexer": "ipython3",
   "version": "3.6.7"
  }
 },
 "nbformat": 4,
 "nbformat_minor": 2
}
