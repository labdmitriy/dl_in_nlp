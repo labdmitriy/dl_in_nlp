{
 "cells": [
  {
   "cell_type": "markdown",
   "metadata": {},
   "source": [
    "## Word-level language model\n",
    "\n",
    "In the previous tasks you have written character-level language model. Time has come to grow up.\n",
    "\n",
    "Word language models face a lot of new problems for you to solve. There are some of them:\n",
    "  * How to read long texts (Gbs of data)\n",
    "  * How to build vocabulry (and to effectively reduce its size)\n",
    "  * How to deal with out-of-vocabulary (OOV) words\n",
    "  * How to construct batch of _uncorrelated_ examples (not from the same text)\n",
    "  * How and when to drop RNN state\n",
    "  * What special tokens should be used? BOS? EOS?\n",
    "\n",
    "**Results of this task:**\n",
    "  * Text preprocessing\n",
    "  * Batcher\n",
    "  * Trained language model:\n",
    "    * model should use truncated backpropagation through time\n",
    "    * model should drop RNN state between different documents (eg. wikipedia articles)\n",
    "  * Test set perplexity\n",
    "\n",
    "**Additional points:**\n",
    "  * Text preprocessing and batching that works with large files (does not load all the file to memory)\n",
    "  * AWD-LSTM or other uncommon RNN architectures (SRU, QRNN)\n",
    "  * Use popular dataset \n",
    "\n",
    "It is becoming common to use [byte-pair encoding](https://github.com/google/sentencepiece) to solve vocabulary problem. Use it! Here is an [example](https://github.com/google/sentencepiece/blob/master/python/sentencepiece_python_module_example.ipynb)."
   ]
  },
  {
   "cell_type": "code",
   "execution_count": null,
   "metadata": {},
   "outputs": [],
   "source": []
  }
 ],
 "metadata": {
  "kernelspec": {
   "display_name": "Python 3",
   "language": "python",
   "name": "python3"
  },
  "language_info": {
   "codemirror_mode": {
    "name": "ipython",
    "version": 3
   },
   "file_extension": ".py",
   "mimetype": "text/x-python",
   "name": "python",
   "nbconvert_exporter": "python",
   "pygments_lexer": "ipython3",
   "version": "3.6.7"
  }
 },
 "nbformat": 4,
 "nbformat_minor": 2
}
