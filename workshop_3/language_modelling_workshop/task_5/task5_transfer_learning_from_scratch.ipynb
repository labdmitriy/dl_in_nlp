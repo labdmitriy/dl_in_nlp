{
 "cells": [
  {
   "cell_type": "markdown",
   "metadata": {},
   "source": [
    "## Transfer Learning\n",
    "\n",
    "You have already applied ELMo and ULMfit for NLP tasks. Now it's time to implement one of these (or both) by yourself!\n",
    "\n",
    "Everything you need can be found in the paper.\n",
    "\n",
    "  * [ELMo paper](https://arxiv.org/abs/1802.05365)\n",
    "  * [ULMfit paper](https://arxiv.org/abs/1801.06146)\n",
    "\n",
    "We recommend you to structure this task as [described here](https://blog.metaflow.fr/tensorflow-a-proposal-of-good-practices-for-files-folders-and-models-architecture-f23171501ae3).\n",
    "\n",
    "This task is fully optional and does not have a deadline. Contact @dropout05 after you finish."
   ]
  },
  {
   "cell_type": "code",
   "execution_count": null,
   "metadata": {},
   "outputs": [],
   "source": []
  }
 ],
 "metadata": {
  "kernelspec": {
   "display_name": "Python 3",
   "language": "python",
   "name": "python3"
  },
  "language_info": {
   "codemirror_mode": {
    "name": "ipython",
    "version": 3
   },
   "file_extension": ".py",
   "mimetype": "text/x-python",
   "name": "python",
   "nbconvert_exporter": "python",
   "pygments_lexer": "ipython3",
   "version": "3.7.2"
  }
 },
 "nbformat": 4,
 "nbformat_minor": 2
}
