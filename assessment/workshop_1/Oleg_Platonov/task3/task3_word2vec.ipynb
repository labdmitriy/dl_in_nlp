{
 "cells": [
  {
   "cell_type": "markdown",
   "metadata": {},
   "source": [
    "# Naive word2vec\n",
    "\n",
    "This task can be formulated very simply. Follow this [paper](https://arxiv.org/pdf/1411.2738.pdf) and implement word2vec like a two-layer neural network with matrices $W$ and $W'$. One matrix projects words to low-dimensional 'hidden' space and the other - back to high-dimensional vocabulary space.\n",
    "\n",
    "![word2vec](https://i.stack.imgur.com/6eVXZ.jpg)\n",
    "\n",
    "You can use TensorFlow/PyTorch (numpy too, if you love to calculate gradients on your own and want some extra points, but don't forget to numerically check your gradients) and code from your previous task. Again: you don't have to implement negative sampling (you may reduce your vocabulary size for faster computation).\n",
    "\n",
    "**Results of this task**:\n",
    " * trained word vectors (mention somewhere, how long it took to train)\n",
    " * plotted loss (so we can see that it has converged)\n",
    " * function to map token to corresponding word vector\n",
    " * beautiful visualizations (PCE, T-SNE), you can use TensorBoard and play with your vectors in 3D (don't forget to add screenshots to the task)\n",
    " * qualitative evaluations of word vectors: nearest neighbors, word analogies\n",
    "\n",
    "**Extra:**\n",
    " * quantitative evaluation:\n",
    "   * for intrinsic evaluation you can find datasets [here](https://aclweb.org/aclwiki/Analogy_(State_of_the_art))\n",
    "   * for extrincis evaluation you can use [these](https://medium.com/@dataturks/rare-text-classification-open-datasets-9d340c8c508e)\n",
    "\n",
    "Also, you can find any other datasets for quantitative evaluation. If you chose to do this, please use the same datasets across tasks 3, 4, 5 and 6.\n",
    "\n",
    "Again. It is **highly recommended** to read this [paper](https://arxiv.org/pdf/1411.2738.pdf)\n",
    "\n",
    "Example of visualization in tensorboard:\n",
    "https://projector.tensorflow.org\n",
    "\n",
    "Example of 2D visualisation:\n",
    "\n",
    "![2dword2vec](https://www.tensorflow.org/images/tsne.png)\n",
    "\n",
    "If you struggle with something, ask your neighbor. If it is not obvious for you, probably someone else is looking for the answer too. And in contrast, if you see that you can help someone - do it! Good luck!"
   ]
  },
  {
   "cell_type": "code",
   "execution_count": 1,
   "metadata": {
    "collapsed": true
   },
   "outputs": [],
   "source": [
    "import numpy as np\n",
    "import tensorflow as tf\n",
    "from sklearn.metrics.pairwise import cosine_similarity\n",
    "from sklearn.manifold import TSNE\n",
    "import pickle\n",
    "import matplotlib.pyplot as plt\n",
    "%matplotlib inline"
   ]
  },
  {
   "cell_type": "markdown",
   "metadata": {},
   "source": [
    "### Подготовка данных"
   ]
  },
  {
   "cell_type": "markdown",
   "metadata": {},
   "source": [
    "Будем использовать дефолтный текст ('text8'). Повторим простую предобработку текста из задания 2: удалим из текста стопслова и слишком редкие слова (встречающиеся менее 25 раз).\n",
    "Также создадим батчер для SkipGram модели. Он генерирует батчи, состоящие из n пар слов (x, y), где x - центрально еслово, y - некоторое слово из окна вокруг центрального слова."
   ]
  },
  {
   "cell_type": "code",
   "execution_count": 2,
   "metadata": {},
   "outputs": [
    {
     "name": "stdout",
     "output_type": "stream",
     "text": [
      "Vocab size: 27790\n"
     ]
    }
   ],
   "source": [
    "from preprocessing import prepare_data\n",
    "frequent_words, token2id, id2token, batcher = prepare_data(min_count=25, shuffle=False)\n",
    "print(f'Vocab size: {len(token2id)}')"
   ]
  },
  {
   "cell_type": "markdown",
   "metadata": {},
   "source": [
    "### Модель"
   ]
  },
  {
   "cell_type": "code",
   "execution_count": 3,
   "metadata": {
    "collapsed": true
   },
   "outputs": [],
   "source": [
    "class Word2VecModel():\n",
    "    def __init__(self, params):\n",
    "        self.embeddings = tf.get_variable(name='embedding_matrix', \n",
    "                                          shape=[params['vocab_size'], params['embedding_dim']], \n",
    "                                          dtype=tf.float32, \n",
    "                                          trainable=True)\n",
    "        \n",
    "        self.weights = tf.get_variable(name='weight_matrix', \n",
    "                                       shape=[params['embedding_dim'], params['vocab_size']], \n",
    "                                       trainable=True)\n",
    "        \n",
    "        self.inputs = tf.placeholder(shape=(None), dtype=tf.int32, name='inputs')\n",
    "        self.targets = tf.placeholder(shape=(None), dtype=tf.int32, name='targets')\n",
    "        self.learning_rate = tf.placeholder(shape=[], dtype=tf.float32, name='learning_rate')\n",
    "        \n",
    "        self.inputs_embedded = tf.nn.embedding_lookup(self.embeddings, self.inputs)\n",
    "        self.logits = self.inputs_embedded @ self.weights\n",
    "        self.loss = tf.reduce_mean(tf.nn.sparse_softmax_cross_entropy_with_logits(labels=self.targets, logits=self.logits))\n",
    "        \n",
    "        self.optimizer = tf.train.AdamOptimizer(learning_rate=self.learning_rate)\n",
    "        self.train_op = self.optimizer.minimize(self.loss, global_step=tf.train.get_global_step())\n",
    "        \n",
    "        self.loss_history = []\n",
    "    \n",
    "    def train(self, session, inputs, targets, learning_rate):\n",
    "        feed_dict = {\n",
    "            self.inputs: inputs, \n",
    "            self.targets: targets,\n",
    "            self.learning_rate: learning_rate,\n",
    "        }\n",
    "    \n",
    "        loss, _ = session.run([self.loss, self.train_op], feed_dict=feed_dict)\n",
    "        \n",
    "        return loss\n"
   ]
  },
  {
   "cell_type": "code",
   "execution_count": 4,
   "metadata": {
    "collapsed": true
   },
   "outputs": [],
   "source": [
    "def train_model(model, session, batcher, batch_size, num_epochs, learning_rate, loss_history, print_every=100):\n",
    "    train_iter = int(np.ceil(len(batcher.data) / batch_size))\n",
    "    print('Start training... \\n')\n",
    "    \n",
    "    for epoch in range(1, num_epochs + 1):\n",
    "        batcher.shuffle()\n",
    "        \n",
    "        print(f'Epoch {epoch}/{num_epochs}:')        \n",
    "        epoch_loss = 0\n",
    "        intermediate_loss = 0\n",
    "        \n",
    "        for i, (inputs, targets) in enumerate(batcher.generate_batches(batch_size=batch_size), 1):\n",
    "            current_loss = model.train(session=session, \n",
    "                                       inputs=inputs, \n",
    "                                       targets=targets, \n",
    "                                       learning_rate=learning_rate)\n",
    "            \n",
    "            epoch_loss += current_loss\n",
    "            intermediate_loss += current_loss\n",
    "            loss_history.append(current_loss)\n",
    "            \n",
    "            if i % print_every == 0 or (i == 1 and epoch == 1) or i == train_iter:\n",
    "                if i == 1:\n",
    "                    div = 1\n",
    "                elif i == train_iter:\n",
    "                    div = train_iter % print_every\n",
    "                else:\n",
    "                    div = print_every\n",
    "                print(f'Epoch: [{epoch}/{num_epochs}], step: [{i}/{train_iter}], mean loss: {intermediate_loss / div}')\n",
    "                if i != 1:\n",
    "                    intermediate_loss = 0\n",
    "        \n",
    "        print(f'Epoch {epoch} finished, mean loss during epoch {epoch}: {epoch_loss / train_iter} \\n')\n",
    "    \n",
    "    print('...training finished.')"
   ]
  },
  {
   "cell_type": "code",
   "execution_count": 5,
   "metadata": {
    "collapsed": true
   },
   "outputs": [],
   "source": [
    "def plot_loss(losses, average_over_batches=1, upper_bound=None):\n",
    "    average_losses = [np.mean(losses[i:i+average_over_batches+1]) for i in range(0, len(losses), average_over_batches)]\n",
    "    indices = list(range(average_over_batches, len(losses), average_over_batches)) + [len(losses)]\n",
    "    plt.plot(indices, average_losses, '-')\n",
    "    plt.grid(True)\n",
    "    plt.title('Training loss')\n",
    "    plt.xlabel('iteration')\n",
    "    plt.ylabel('loss')\n",
    "    if upper_bound is not None:\n",
    "        plt.ylim(top=upper_bound)\n",
    "    plt.show()"
   ]
  },
  {
   "cell_type": "markdown",
   "metadata": {},
   "source": [
    "### Обучение"
   ]
  },
  {
   "cell_type": "markdown",
   "metadata": {},
   "source": [
    "Обучим word2vewc модель с эмбеддингами размерности 50."
   ]
  },
  {
   "cell_type": "code",
   "execution_count": 6,
   "metadata": {
    "collapsed": true
   },
   "outputs": [],
   "source": [
    "params = {\n",
    "    'embedding_dim': 50, \n",
    "    'vocab_size': len(token2id)\n",
    "}"
   ]
  },
  {
   "cell_type": "code",
   "execution_count": 7,
   "metadata": {
    "collapsed": true
   },
   "outputs": [],
   "source": [
    "tf.reset_default_graph()\n",
    "np.random.seed(111)\n",
    "tf.set_random_seed(111)"
   ]
  },
  {
   "cell_type": "code",
   "execution_count": 8,
   "metadata": {
    "collapsed": true
   },
   "outputs": [],
   "source": [
    "model = Word2VecModel(params)"
   ]
  },
  {
   "cell_type": "code",
   "execution_count": 9,
   "metadata": {},
   "outputs": [
    {
     "name": "stdout",
     "output_type": "stream",
     "text": [
      "Start training... \n",
      "\n",
      "Epoch 1/3:\n",
      "Epoch: [1/3], step: [1/29334], mean loss: 10.232416152954102\n",
      "Epoch: [1/3], step: [3000/29334], mean loss: 8.295458582401276\n",
      "Epoch: [1/3], step: [6000/29334], mean loss: 8.036851735432943\n",
      "Epoch: [1/3], step: [9000/29334], mean loss: 7.938734637737274\n",
      "Epoch: [1/3], step: [12000/29334], mean loss: 7.855325692335764\n",
      "Epoch: [1/3], step: [15000/29334], mean loss: 7.797161047140757\n",
      "Epoch: [1/3], step: [18000/29334], mean loss: 7.757543628851573\n",
      "Epoch: [1/3], step: [21000/29334], mean loss: 7.726457229137421\n",
      "Epoch: [1/3], step: [24000/29334], mean loss: 7.703418858528138\n",
      "Epoch: [1/3], step: [27000/29334], mean loss: 7.684057866414388\n",
      "Epoch: [1/3], step: [29334/29334], mean loss: 7.6725914972709\n",
      "Epoch 1 finished, mean loss during epoch 1: 7.850714406101073 \n",
      "\n",
      "Epoch 2/3:\n",
      "Epoch: [2/3], step: [3000/29334], mean loss: 7.644977852026622\n",
      "Epoch: [2/3], step: [6000/29334], mean loss: 7.640191334247589\n",
      "Epoch: [2/3], step: [9000/29334], mean loss: 7.63565370241801\n",
      "Epoch: [2/3], step: [12000/29334], mean loss: 7.628888861179352\n",
      "Epoch: [2/3], step: [15000/29334], mean loss: 7.626241477966309\n",
      "Epoch: [2/3], step: [18000/29334], mean loss: 7.622176115830739\n",
      "Epoch: [2/3], step: [21000/29334], mean loss: 7.617466135025024\n",
      "Epoch: [2/3], step: [24000/29334], mean loss: 7.616261005719503\n",
      "Epoch: [2/3], step: [27000/29334], mean loss: 7.614106173038483\n",
      "Epoch: [2/3], step: [29334/29334], mean loss: 7.611136035829297\n",
      "Epoch 2 finished, mean loss during epoch 2: 7.626040754073105 \n",
      "\n",
      "Epoch 3/3:\n",
      "Epoch: [3/3], step: [3000/29334], mean loss: 7.5884487339655555\n",
      "Epoch: [3/3], step: [6000/29334], mean loss: 7.59231716744105\n",
      "Epoch: [3/3], step: [9000/29334], mean loss: 7.59254974937439\n",
      "Epoch: [3/3], step: [12000/29334], mean loss: 7.597267622788747\n",
      "Epoch: [3/3], step: [15000/29334], mean loss: 7.594358523050944\n",
      "Epoch: [3/3], step: [18000/29334], mean loss: 7.594688262144724\n",
      "Epoch: [3/3], step: [21000/29334], mean loss: 7.594534480253856\n",
      "Epoch: [3/3], step: [24000/29334], mean loss: 7.596309190591176\n",
      "Epoch: [3/3], step: [27000/29334], mean loss: 7.597838973999023\n",
      "Epoch: [3/3], step: [29334/29334], mean loss: 7.5937084473395\n",
      "Epoch 3 finished, mean loss during epoch 3: 7.594213323342156 \n",
      "\n",
      "...training finished.\n",
      "Wall time: 1h 7min 55s\n"
     ]
    }
   ],
   "source": [
    "%%time\n",
    "\n",
    "session = tf.Session()\n",
    "session.run(tf.global_variables_initializer())\n",
    "\n",
    "train_model(model=model, \n",
    "            session=session, \n",
    "            batcher=batcher, \n",
    "            num_epochs=3, \n",
    "            batch_size=2048, \n",
    "            learning_rate=1e-3, \n",
    "            loss_history=model.loss_history, \n",
    "            print_every=3000)"
   ]
  },
  {
   "cell_type": "markdown",
   "metadata": {},
   "source": [
    "Обучение в течение трех эпох заняло чуть больше часа на GTX 1050 Ti."
   ]
  },
  {
   "cell_type": "code",
   "execution_count": 15,
   "metadata": {},
   "outputs": [
    {
     "data": {
      "image/png": "[encoded data removed]",
      "text/plain": [
       "<Figure size 432x288 with 1 Axes>"
      ]
     },
     "metadata": {},
     "output_type": "display_data"
    }
   ],
   "source": [
    "plot_loss(model.loss_history, average_over_batches=300, upper_bound=8.2)"
   ]
  },
  {
   "cell_type": "code",
   "execution_count": 17,
   "metadata": {
    "collapsed": true
   },
   "outputs": [],
   "source": [
    "embeddings = session.run(model.embeddings)\n",
    "session.close()"
   ]
  },
  {
   "cell_type": "markdown",
   "metadata": {},
   "source": [
    "### Оценка качества эмбеддингов"
   ]
  },
  {
   "cell_type": "code",
   "execution_count": 18,
   "metadata": {
    "collapsed": true
   },
   "outputs": [],
   "source": [
    "def get_embedding(token):\n",
    "    '''Returns embedding for given token.'''\n",
    "    \n",
    "    return embeddings[token2id[token]]\n",
    "\n",
    "def most_similar_to_embedding(input_embedding, embeddings, num_neighbors=10):\n",
    "    '''Returns embeddings closest to given embedding measured by cosine similarity.'''\n",
    "    \n",
    "    distances = cosine_similarity(embeddings, input_embedding.reshape(1, -1)).reshape(-1)\n",
    "    neighbor_indices = np.argpartition(distances, -num_neighbors-1)[-num_neighbors-1:]\n",
    "    sorted_neighbor_indices = list(reversed(neighbor_indices[np.argsort(distances[neighbor_indices])]))\n",
    "    return [id2token[idx] for idx in sorted_neighbor_indices[1:]]\n",
    "\n",
    "def most_similar_to_token(token, embeddings, num_neighbors=10):\n",
    "    '''Returns embeddings closest to embedding of given token measured by cosine similarity.'''\n",
    "    \n",
    "    return  most_similar_to_embedding(get_embedding(token), embeddings, num_neighbors)\n"
   ]
  },
  {
   "cell_type": "markdown",
   "metadata": {},
   "source": [
    "Найдем самые близкие по косинусному расстоянию между эмбеддингами слова для слов fly, car, earth, computer, machine."
   ]
  },
  {
   "cell_type": "code",
   "execution_count": 19,
   "metadata": {},
   "outputs": [
    {
     "data": {
      "text/plain": [
       "['airplane',\n",
       " 'pilots',\n",
       " 'flight',\n",
       " 'misses',\n",
       " 'gliders',\n",
       " 'flying',\n",
       " 'safely',\n",
       " 'flew',\n",
       " 'pilot',\n",
       " 'flies']"
      ]
     },
     "execution_count": 19,
     "metadata": {},
     "output_type": "execute_result"
    }
   ],
   "source": [
    "most_similar_to_token('fly', embeddings)"
   ]
  },
  {
   "cell_type": "code",
   "execution_count": 20,
   "metadata": {},
   "outputs": [
    {
     "data": {
      "text/plain": [
       "['driver',\n",
       " 'racer',\n",
       " 'cars',\n",
       " 'racing',\n",
       " 'motorcycle',\n",
       " 'automobile',\n",
       " 'nascar',\n",
       " 'truck',\n",
       " 'raced',\n",
       " 'porsche']"
      ]
     },
     "execution_count": 20,
     "metadata": {},
     "output_type": "execute_result"
    }
   ],
   "source": [
    "most_similar_to_token('car', embeddings)"
   ]
  },
  {
   "cell_type": "code",
   "execution_count": 21,
   "metadata": {},
   "outputs": [
    {
     "data": {
      "text/plain": [
       "['planet',\n",
       " 'moon',\n",
       " 'orbit',\n",
       " 'planets',\n",
       " 'jupiter',\n",
       " 'magnetosphere',\n",
       " 'jovian',\n",
       " 'surface',\n",
       " 'sun',\n",
       " 'habitable']"
      ]
     },
     "execution_count": 21,
     "metadata": {},
     "output_type": "execute_result"
    }
   ],
   "source": [
    "most_similar_to_token('earth', embeddings)"
   ]
  },
  {
   "cell_type": "code",
   "execution_count": 22,
   "metadata": {},
   "outputs": [
    {
     "data": {
      "text/plain": [
       "['computers',\n",
       " 'computing',\n",
       " 'hardware',\n",
       " 'microcomputer',\n",
       " 'supercomputer',\n",
       " 'scanners',\n",
       " 'peripherals',\n",
       " 'laptop',\n",
       " 'simulation',\n",
       " 'computerized']"
      ]
     },
     "execution_count": 22,
     "metadata": {},
     "output_type": "execute_result"
    }
   ],
   "source": [
    "most_similar_to_token('computer', embeddings)"
   ]
  },
  {
   "cell_type": "code",
   "execution_count": 23,
   "metadata": {},
   "outputs": [
    {
     "data": {
      "text/plain": [
       "['machines',\n",
       " 'automatic',\n",
       " 'bootstrap',\n",
       " 'optimized',\n",
       " 'microprogram',\n",
       " 'submachine',\n",
       " 'bytecode',\n",
       " 'enigma',\n",
       " 'cisc',\n",
       " 'assemblers']"
      ]
     },
     "execution_count": 23,
     "metadata": {},
     "output_type": "execute_result"
    }
   ],
   "source": [
    "most_similar_to_token('machine', embeddings)"
   ]
  },
  {
   "cell_type": "markdown",
   "metadata": {},
   "source": [
    "Почти все полученные ближайшие соседи являются адекватными по смыслу."
   ]
  },
  {
   "cell_type": "markdown",
   "metadata": {},
   "source": [
    "Теперь попробуем получить корректные аналогии."
   ]
  },
  {
   "cell_type": "code",
   "execution_count": 24,
   "metadata": {},
   "outputs": [
    {
     "data": {
      "text/plain": [
       "['daughter',\n",
       " 'son',\n",
       " 'childless',\n",
       " 'matilda',\n",
       " 'wife',\n",
       " 'wed',\n",
       " 'brother',\n",
       " 'reigned',\n",
       " 'marries',\n",
       " 'marrying']"
      ]
     },
     "execution_count": 24,
     "metadata": {},
     "output_type": "execute_result"
    }
   ],
   "source": [
    "input_embedding = get_embedding('king') - get_embedding('man') + get_embedding('woman')\n",
    "most_similar_to_embedding(input_embedding, embeddings)"
   ]
  },
  {
   "cell_type": "markdown",
   "metadata": {},
   "source": [
    "Классический пример с king - man + woman не сработал. Ничего похожего на queen среди ближайших соседей нет.\n",
    "\n",
    "Однако, неокторые другие аналогии работают:"
   ]
  },
  {
   "cell_type": "code",
   "execution_count": 25,
   "metadata": {},
   "outputs": [
    {
     "data": {
      "text/plain": [
       "['car',\n",
       " 'nascar',\n",
       " 'race',\n",
       " 'automobile',\n",
       " 'racing',\n",
       " 'bike',\n",
       " 'racer',\n",
       " 'cars',\n",
       " 'racers',\n",
       " 'motorcycle']"
      ]
     },
     "execution_count": 25,
     "metadata": {},
     "output_type": "execute_result"
    }
   ],
   "source": [
    "input_embedding = get_embedding('airplane') - get_embedding('pilot') + get_embedding('driver')\n",
    "most_similar_to_embedding(input_embedding, embeddings)"
   ]
  },
  {
   "cell_type": "markdown",
   "metadata": {},
   "source": [
    "airplane - pilot + driver = car"
   ]
  },
  {
   "cell_type": "code",
   "execution_count": 26,
   "metadata": {},
   "outputs": [
    {
     "data": {
      "text/plain": [
       "['yacht',\n",
       " 'kidd',\n",
       " 'charley',\n",
       " 'earle',\n",
       " 'patsy',\n",
       " 'holden',\n",
       " 'steamer',\n",
       " 'toured',\n",
       " 'scouts',\n",
       " 'pontiac']"
      ]
     },
     "execution_count": 26,
     "metadata": {},
     "output_type": "execute_result"
    }
   ],
   "source": [
    "input_embedding = get_embedding('airplane') - get_embedding('pilot') + get_embedding('captain')\n",
    "most_similar_to_embedding(input_embedding, embeddings)"
   ]
  },
  {
   "cell_type": "markdown",
   "metadata": {},
   "source": [
    "airplane - pilot + captain = yacht"
   ]
  },
  {
   "cell_type": "code",
   "execution_count": 27,
   "metadata": {},
   "outputs": [
    {
     "data": {
      "text/plain": [
       "['puck',\n",
       " 'cue',\n",
       " 'skates',\n",
       " 'tee',\n",
       " 'stick',\n",
       " 'balls',\n",
       " 'drilled',\n",
       " 'hitting',\n",
       " 'outfield',\n",
       " 'thrower']"
      ]
     },
     "execution_count": 27,
     "metadata": {},
     "output_type": "execute_result"
    }
   ],
   "source": [
    "input_embedding = get_embedding('ball') - get_embedding('football') + get_embedding('hockey')\n",
    "most_similar_to_embedding(input_embedding, embeddings)"
   ]
  },
  {
   "cell_type": "markdown",
   "metadata": {},
   "source": [
    "ball - football + hockey = puck"
   ]
  },
  {
   "cell_type": "code",
   "execution_count": 28,
   "metadata": {},
   "outputs": [
    {
     "data": {
      "text/plain": [
       "['basketball',\n",
       " 'soccer',\n",
       " 'team',\n",
       " 'baseball',\n",
       " 'golfer',\n",
       " 'hockey',\n",
       " 'rugby',\n",
       " 'club',\n",
       " 'softball',\n",
       " 'footy']"
      ]
     },
     "execution_count": 28,
     "metadata": {},
     "output_type": "execute_result"
    }
   ],
   "source": [
    "input_embedding = get_embedding('football') - get_embedding('europe') + get_embedding('america')\n",
    "most_similar_to_embedding(input_embedding, embeddings)"
   ]
  },
  {
   "cell_type": "markdown",
   "metadata": {},
   "source": [
    "И даже для football - europe + america вторым результатом получаем soccer."
   ]
  },
  {
   "cell_type": "markdown",
   "metadata": {},
   "source": [
    "Теперь выберем побольше слов и визуализируем их векторные представления с помощью t-SNE."
   ]
  },
  {
   "cell_type": "code",
   "execution_count": 30,
   "metadata": {
    "collapsed": true
   },
   "outputs": [],
   "source": [
    "test_words = ['one', 'two', 'three', 'four', 'five', \n",
    "              'russia', 'germany', 'france', 'england', 'scotland', 'britain', 'china', 'japan', 'korea', 'india', \n",
    "              'moscow', 'berlin', 'paris', 'london', 'edinburgh',\n",
    "              'car', 'truck', 'bus', 'train', 'airplane', 'plane', 'ship', 'yacht', \n",
    "              'human', 'man', 'woman', 'husband', 'wife', 'parents', 'son', 'daughter', \n",
    "              'good', 'great', 'fantastic', 'bad', 'awful', \n",
    "              'walk', 'run', 'swim', 'fly', \n",
    "              'game', 'sport', 'soccer', 'football', 'basketball', 'hockey', 'tennis', \n",
    "              'music', 'song', 'guitar', 'guitarist', 'drums', 'drummer', 'singer', 'vocalist', \n",
    "              'rock', 'metal', 'punk', 'rap', 'jazz', 'blues', 'pop', \n",
    "              'north', 'south', 'east', 'west']\n",
    "\n",
    "test_word_embeddings = np.array([get_embedding(word) for word in test_words])\n",
    "distance_matrix = 1 - np.round(cosine_similarity(test_word_embeddings), decimals=4)"
   ]
  },
  {
   "cell_type": "code",
   "execution_count": 31,
   "metadata": {},
   "outputs": [
    {
     "data": {
      "image/png": "[encoded data removed]",
      "text/plain": [
       "<Figure size 1008x1008 with 1 Axes>"
      ]
     },
     "metadata": {},
     "output_type": "display_data"
    }
   ],
   "source": [
    "tsne = TSNE(perplexity=10,  # Multicore TSNE can be used\n",
    "            early_exaggeration=10, \n",
    "            learning_rate=20, \n",
    "            n_iter=2000, \n",
    "            metric='precomputed', \n",
    "            method='exact', \n",
    "            random_state=15)\n",
    "\n",
    "points = tsne.fit_transform(distance_matrix)\n",
    "\n",
    "plt.figure(figsize=[14, 14])\n",
    "plt.scatter(points[:, 0], points[:, 1], color='red', s=100)\n",
    "\n",
    "indent = 0.25\n",
    "for i in range(len(test_words)):\n",
    "    coords = (points[i, 0] + indent, points[i, 1] + indent)\n",
    "    plt.annotate(test_words[i], coords)\n",
    "\n",
    "plt.show()"
   ]
  },
  {
   "cell_type": "markdown",
   "metadata": {},
   "source": [
    "На визуализации слова разделились на ярко выраженные кластеры близких по смыслу слов: музыка, спорт, числа, страны и столицы...\n",
    "Можно обратить внимание, что отношение страна-столица визуально получилось почти одинаковым для всех рассмотренных пар.\n",
    "\n",
    "В целом, можно сделать вывод, что полученные векторные представления действительно содержат семантическую и синтаксическую информацию о словах."
   ]
  },
  {
   "cell_type": "code",
   "execution_count": 33,
   "metadata": {
    "collapsed": true
   },
   "outputs": [],
   "source": [
    "with open('embeddings_task3.pickle', 'wb') as handle:\n",
    "    pickle.dump(embeddings, handle)"
   ]
  },
  {
   "cell_type": "code",
   "execution_count": null,
   "metadata": {
    "collapsed": true
   },
   "outputs": [],
   "source": []
  }
 ],
 "metadata": {
  "kernelspec": {
   "display_name": "Python 3",
   "language": "python",
   "name": "python3"
  },
  "language_info": {
   "codemirror_mode": {
    "name": "ipython",
    "version": 3
   },
   "file_extension": ".py",
   "mimetype": "text/x-python",
   "name": "python",
   "nbconvert_exporter": "python",
   "pygments_lexer": "ipython3",
   "version": "3.6.6"
  }
 },
 "nbformat": 4,
 "nbformat_minor": 2
}
