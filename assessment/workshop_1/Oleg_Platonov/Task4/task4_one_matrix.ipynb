{
 "cells": [
  {
   "cell_type": "markdown",
   "metadata": {},
   "source": [
    "# Word2vec only with one matrix\n",
    "\n",
    "Choose CBOW/Skip-Gram again. Implement it, but now without second `h_dim x vocab_size` matrix. Remember what was the loss function in Stanford lecture.\n",
    "\n",
    "$$ L = - \\frac{1}{T} \\sum_{t=1}^T \\sum_{-m <= j <= m, j \\ne 0} log P(w_{t+j}|w_{t+j-m})$$\n",
    "\n",
    "\n",
    "$$ P(w_h | w_i) = \\frac{exp(s(v_i, v_h))}{\\sum exp(s(v_i, v_w))}$$\n",
    "\n",
    "Where $s(x, y)$ is a similarity function. It is common to use dot-product here $s(x, y) = s^Ty$. The sum in the denominator is across all vocabulary for $P$ to be a probability distribution.\n",
    "\n",
    "Look to this formula closer. There is no projection back to vocabulary dimension in the loss! So, we can reduce the number of parameters by the factor of two by not using the second matrix $W'$. Your new task is to code CBOW / SkipGram with this loss.\n",
    "\n",
    "**Main idea:**\n",
    "\n",
    "We project word vectors to some space. Next, we work with the space itself. We update projection matrix weights so that similar (in the terms of Distributional semantics) words have similar vectors in that space. We don't need to solve classification task explicitly here.\n",
    "\n",
    "**Tip:**\n",
    "\n",
    "Work with matrix operations and not with nn.layers / keras.layers.\n",
    "\n",
    "**Results of this task** (the very same as in task 3):\n",
    " * trained word vectors (mention somewhere, how long it took to train)\n",
    " * plotted loss (so we can see that it has converged)\n",
    " * function to map token to corresponding word vector\n",
    " * beautiful visualizations (PCE, T-SNE), you can use TensorBoard and play with your vectors in 3D (don't forget to add screenshots to the task)\n",
    " * qualitative evaluations of word vectors: nearest neighbors, word analogies\n",
    "\n",
    "\n",
    "**Extra:**\n",
    " * quantitative evaluation:\n",
    "   * for intrinsic evaluation you can find datasets [here](https://aclweb.org/aclwiki/Analogy_(State_of_the_art))\n",
    "   * for extrincis evaluation you can use [these](https://medium.com/@dataturks/rare-text-classification-open-datasets-9d340c8c508e)\n",
    "\n",
    "\n",
    "\n",
    "Supplementary materials:\n",
    "  * [cs224n winter 2017 lecture 2 video](https://www.youtube.com/watch?v=ERibwqs9p38&list=PL3FW7Lu3i5Jsnh1rnUwq_TcylNr7EkRe6&index=2)\n",
    "  * [cs224n winter 2019 lecture 1 slides](http://web.stanford.edu/class/cs224n/slides/cs224n-2019-lecture01-wordvecs1.pdf)"
   ]
  },
  {
   "cell_type": "code",
   "execution_count": 1,
   "metadata": {
    "collapsed": true
   },
   "outputs": [],
   "source": [
    "import numpy as np\n",
    "import tensorflow as tf\n",
    "from sklearn.metrics.pairwise import cosine_similarity\n",
    "from sklearn.manifold import TSNE\n",
    "import pickle\n",
    "import matplotlib.pyplot as plt\n",
    "%matplotlib inline"
   ]
  },
  {
   "cell_type": "markdown",
   "metadata": {},
   "source": [
    "### Подготовка данных"
   ]
  },
  {
   "cell_type": "markdown",
   "metadata": {},
   "source": [
    "Будем использовать дефолтный текст ('text8'). Повторим простую предобработку текста из задания 2: удалим из текста стопслова и слишком редкие слова (встречающиеся менее 25 раз).\n",
    "Также создадим батчер для SkipGram модели. Он генерирует батчи, состоящие из n пар слов (x, y), где x - центрально еслово, y - некоторое слово из окна вокруг центрального слова."
   ]
  },
  {
   "cell_type": "code",
   "execution_count": 2,
   "metadata": {},
   "outputs": [
    {
     "name": "stdout",
     "output_type": "stream",
     "text": [
      "Vocab size: 27790\n"
     ]
    }
   ],
   "source": [
    "from preprocessing import prepare_data\n",
    "frequent_words, token2id, id2token, batcher = prepare_data(min_count=25, shuffle=False)\n",
    "print(f'Vocab size: {len(token2id)}')"
   ]
  },
  {
   "cell_type": "markdown",
   "metadata": {},
   "source": [
    "### Модель"
   ]
  },
  {
   "cell_type": "markdown",
   "metadata": {},
   "source": [
    "Почти то же самое, что и в задании 3, но здесь используем только одну матрицу, содержащиеся в которой вектора теперь, по сути, являются одновременно и эмбеддингами, и весами софтмакса, что в два раза уменьшает количество обучаемых параметров."
   ]
  },
  {
   "cell_type": "code",
   "execution_count": 3,
   "metadata": {
    "collapsed": true
   },
   "outputs": [],
   "source": [
    "class Word2VecOneMatrixModel():\n",
    "    def __init__(self, params):\n",
    "        self.embeddings = tf.get_variable(name='embedding_matrix', \n",
    "                                          shape=[params['vocab_size'], params['embedding_dim']], \n",
    "                                          dtype=tf.float32, \n",
    "                                          trainable=True)\n",
    "        \n",
    "        self.inputs = tf.placeholder(shape=(None), dtype=tf.int32, name='inputs')\n",
    "        self.targets = tf.placeholder(shape=(None), dtype=tf.int32, name='targets')\n",
    "        self.learning_rate = tf.placeholder(shape=[], dtype=tf.float32, name='learning_rate')\n",
    "        \n",
    "        self.inputs_embedded = tf.nn.embedding_lookup(self.embeddings, self.inputs)\n",
    "        self.logits = self.inputs_embedded @ tf.transpose(self.embeddings, perm=[1, 0])\n",
    "        self.loss = tf.reduce_mean(tf.nn.sparse_softmax_cross_entropy_with_logits(labels=self.targets, logits=self.logits))\n",
    "        \n",
    "        self.optimizer = tf.train.AdamOptimizer(learning_rate=self.learning_rate)\n",
    "        self.train_op = self.optimizer.minimize(self.loss, global_step=tf.train.get_global_step())\n",
    "        \n",
    "        self.loss_history = []\n",
    "    \n",
    "    def train(self, session, inputs, targets, learning_rate):\n",
    "        feed_dict = {\n",
    "            self.inputs: inputs, \n",
    "            self.targets: targets,\n",
    "            self.learning_rate: learning_rate,\n",
    "        }\n",
    "    \n",
    "        loss, _ = session.run([self.loss, self.train_op], feed_dict=feed_dict)\n",
    "        \n",
    "        return loss\n"
   ]
  },
  {
   "cell_type": "code",
   "execution_count": 4,
   "metadata": {
    "collapsed": true
   },
   "outputs": [],
   "source": [
    "def train_model(model, session, batcher, batch_size, num_epochs, learning_rate, loss_history, print_every=100):\n",
    "    train_iter = int(np.ceil(len(batcher.data) / batch_size))\n",
    "    print('Start training... \\n')\n",
    "    \n",
    "    for epoch in range(1, num_epochs + 1):\n",
    "        batcher.shuffle()\n",
    "        \n",
    "        print(f'Epoch {epoch}/{num_epochs}:')        \n",
    "        epoch_loss = 0\n",
    "        intermediate_loss = 0\n",
    "        \n",
    "        for i, (inputs, targets) in enumerate(batcher.generate_batches(batch_size=batch_size), 1):\n",
    "            current_loss = model.train(session=session, \n",
    "                                        inputs=inputs, \n",
    "                                        targets=targets, \n",
    "                                        learning_rate=learning_rate)\n",
    "            \n",
    "            epoch_loss += current_loss\n",
    "            intermediate_loss += current_loss\n",
    "            loss_history.append(current_loss)\n",
    "            \n",
    "            if i % print_every == 0 or (i == 1 and epoch == 1) or i == train_iter:\n",
    "                if i == 1:\n",
    "                    div = 1\n",
    "                elif i == train_iter:\n",
    "                    div = train_iter % print_every\n",
    "                else:\n",
    "                    div = print_every\n",
    "                print(f'Epoch: [{epoch}/{num_epochs}], step: [{i}/{train_iter}], mean loss: {intermediate_loss / div}')\n",
    "                if i != 1:\n",
    "                    intermediate_loss = 0\n",
    "        \n",
    "        print(f'Epoch {epoch} finished, mean loss during epoch {epoch}: {epoch_loss / train_iter} \\n')\n",
    "    \n",
    "    print('...training finished.')"
   ]
  },
  {
   "cell_type": "code",
   "execution_count": 5,
   "metadata": {
    "collapsed": true
   },
   "outputs": [],
   "source": [
    "def plot_loss(losses, average_over_batches=1, upper_bound=None):\n",
    "    average_losses = [np.mean(losses[i:i+average_over_batches+1]) for i in range(0, len(losses), average_over_batches)]\n",
    "    indices = list(range(average_over_batches, len(losses), average_over_batches)) + [len(losses)]\n",
    "    plt.plot(indices, average_losses, '-')\n",
    "    plt.grid(True)\n",
    "    plt.title('Training loss')\n",
    "    plt.xlabel('iteration')\n",
    "    plt.ylabel('loss')\n",
    "    if upper_bound is not None:\n",
    "        plt.ylim(top=upper_bound)\n",
    "    plt.show()"
   ]
  },
  {
   "cell_type": "markdown",
   "metadata": {},
   "source": [
    "### Обучение"
   ]
  },
  {
   "cell_type": "markdown",
   "metadata": {},
   "source": [
    "Обучим word2vewc модель с эмбеддингами размерности 50."
   ]
  },
  {
   "cell_type": "code",
   "execution_count": 6,
   "metadata": {
    "collapsed": true
   },
   "outputs": [],
   "source": [
    "params = {\n",
    "    'embedding_dim': 50, \n",
    "    'vocab_size': len(token2id)\n",
    "}"
   ]
  },
  {
   "cell_type": "code",
   "execution_count": 7,
   "metadata": {
    "collapsed": true
   },
   "outputs": [],
   "source": [
    "tf.reset_default_graph()\n",
    "np.random.seed(111)\n",
    "tf.set_random_seed(111)"
   ]
  },
  {
   "cell_type": "code",
   "execution_count": 8,
   "metadata": {
    "collapsed": true
   },
   "outputs": [],
   "source": [
    "model = Word2VecOneMatrixModel(params)"
   ]
  },
  {
   "cell_type": "code",
   "execution_count": 9,
   "metadata": {},
   "outputs": [
    {
     "name": "stdout",
     "output_type": "stream",
     "text": [
      "Start training... \n",
      "\n",
      "Epoch 1/3:\n",
      "Epoch: [1/3], step: [1/29334], mean loss: 10.2323637008667\n",
      "Epoch: [1/3], step: [3000/29334], mean loss: 8.5521854651769\n",
      "Epoch: [1/3], step: [6000/29334], mean loss: 8.145368762334188\n",
      "Epoch: [1/3], step: [9000/29334], mean loss: 7.987194353898366\n",
      "Epoch: [1/3], step: [12000/29334], mean loss: 7.896067735513052\n",
      "Epoch: [1/3], step: [15000/29334], mean loss: 7.838114939371745\n",
      "Epoch: [1/3], step: [18000/29334], mean loss: 7.799350554784139\n",
      "Epoch: [1/3], step: [21000/29334], mean loss: 7.769369471391042\n",
      "Epoch: [1/3], step: [24000/29334], mean loss: 7.747208862622579\n",
      "Epoch: [1/3], step: [27000/29334], mean loss: 7.729189150333404\n",
      "Epoch: [1/3], step: [29334/29334], mean loss: 7.718738039845366\n",
      "Epoch 1 finished, mean loss during epoch 1: 7.922809111313675 \n",
      "\n",
      "Epoch 2/3:\n",
      "Epoch: [2/3], step: [3000/29334], mean loss: 7.697992171128591\n",
      "Epoch: [2/3], step: [6000/29334], mean loss: 7.6918893791834515\n",
      "Epoch: [2/3], step: [9000/29334], mean loss: 7.686724006493886\n",
      "Epoch: [2/3], step: [12000/29334], mean loss: 7.680040796756744\n",
      "Epoch: [2/3], step: [15000/29334], mean loss: 7.6765840600331625\n",
      "Epoch: [2/3], step: [18000/29334], mean loss: 7.672490962028504\n",
      "Epoch: [2/3], step: [21000/29334], mean loss: 7.667717256863912\n",
      "Epoch: [2/3], step: [24000/29334], mean loss: 7.666058867931366\n",
      "Epoch: [2/3], step: [27000/29334], mean loss: 7.663899315039317\n",
      "Epoch: [2/3], step: [29334/29334], mean loss: 7.660639232105951\n",
      "Epoch 2 finished, mean loss during epoch 2: 7.676761519537468 \n",
      "\n",
      "Epoch 3/3:\n",
      "Epoch: [3/3], step: [3000/29334], mean loss: 7.648891049226125\n",
      "Epoch: [3/3], step: [6000/29334], mean loss: 7.650020170370738\n",
      "Epoch: [3/3], step: [9000/29334], mean loss: 7.64839394791921\n",
      "Epoch: [3/3], step: [12000/29334], mean loss: 7.651986571788788\n",
      "Epoch: [3/3], step: [15000/29334], mean loss: 7.6475636669794715\n",
      "Epoch: [3/3], step: [18000/29334], mean loss: 7.646747473716736\n",
      "Epoch: [3/3], step: [21000/29334], mean loss: 7.646094375769297\n",
      "Epoch: [3/3], step: [24000/29334], mean loss: 7.64700932486852\n",
      "Epoch: [3/3], step: [27000/29334], mean loss: 7.6482655687332155\n",
      "Epoch: [3/3], step: [29334/29334], mean loss: 7.64374153493507\n",
      "Epoch 3 finished, mean loss during epoch 3: 7.6479651322920414 \n",
      "\n",
      "...training finished.\n",
      "Wall time: 1h 8min 53s\n"
     ]
    }
   ],
   "source": [
    "%%time\n",
    "\n",
    "session = tf.Session()\n",
    "session.run(tf.global_variables_initializer())\n",
    "\n",
    "train_model(model=model, \n",
    "            session=session, \n",
    "            batcher=batcher, \n",
    "            num_epochs=3, \n",
    "            batch_size=2048, \n",
    "            learning_rate=1e-3, \n",
    "            loss_history=model.loss_history, \n",
    "            print_every=3000)"
   ]
  },
  {
   "cell_type": "markdown",
   "metadata": {},
   "source": [
    "Обучение в течение трех эпох заняло чуть больше часа на GTX 1050 Ti. Столько же времени заняло обучение модели из предыдущего задания. Динамика лосса тоже приблизительно такая же, как и в предыдущем задании."
   ]
  },
  {
   "cell_type": "code",
   "execution_count": 10,
   "metadata": {},
   "outputs": [
    {
     "data": {
      "image/png": "[encoded data removed]",
      "text/plain": [
       "<Figure size 432x288 with 1 Axes>"
      ]
     },
     "metadata": {},
     "output_type": "display_data"
    }
   ],
   "source": [
    "plot_loss(model.loss_history, average_over_batches=300, upper_bound=8.2)"
   ]
  },
  {
   "cell_type": "code",
   "execution_count": 12,
   "metadata": {
    "collapsed": true
   },
   "outputs": [],
   "source": [
    "embeddings = session.run(model.embeddings)\n",
    "session.close()"
   ]
  },
  {
   "cell_type": "markdown",
   "metadata": {},
   "source": [
    "### Оценка качества эмбеддингов"
   ]
  },
  {
   "cell_type": "code",
   "execution_count": 15,
   "metadata": {
    "collapsed": true
   },
   "outputs": [],
   "source": [
    "def get_embedding(token):\n",
    "    '''Returns embedding for given token.'''\n",
    "    \n",
    "    return embeddings[token2id[token]]\n",
    "\n",
    "def most_similar_to_embedding(input_embedding, embeddings, num_neighbors=10):\n",
    "    '''Returns embeddings closest to given embedding measured by cosine similarity.'''\n",
    "    \n",
    "    distances = cosine_similarity(embeddings, input_embedding.reshape(1, -1)).reshape(-1)\n",
    "    neighbor_indices = np.argpartition(distances, -num_neighbors-1)[-num_neighbors-1:]\n",
    "    sorted_neighbor_indices = list(reversed(neighbor_indices[np.argsort(distances[neighbor_indices])]))\n",
    "    return [id2token[idx] for idx in sorted_neighbor_indices[1:]]\n",
    "\n",
    "def most_similar_to_token(token, embeddings, num_neighbors=10):\n",
    "    '''Returns embeddings closest to embedding of given token measured by cosine similarity.'''\n",
    "    \n",
    "    return  most_similar_to_embedding(get_embedding(token), embeddings, num_neighbors)\n"
   ]
  },
  {
   "cell_type": "markdown",
   "metadata": {},
   "source": [
    "Найдем самые близкие по косинусному расстоянию между эмбеддингами слова для слов fly, car, earth, computer, machine."
   ]
  },
  {
   "cell_type": "code",
   "execution_count": 16,
   "metadata": {},
   "outputs": [
    {
     "data": {
      "text/plain": [
       "['airplane',\n",
       " 'flying',\n",
       " 'pilots',\n",
       " 'flight',\n",
       " 'pilot',\n",
       " 'crew',\n",
       " 'ground',\n",
       " 'catch',\n",
       " 'safely',\n",
       " 'flies']"
      ]
     },
     "execution_count": 16,
     "metadata": {},
     "output_type": "execute_result"
    }
   ],
   "source": [
    "most_similar_to_token('fly', embeddings)"
   ]
  },
  {
   "cell_type": "code",
   "execution_count": 17,
   "metadata": {},
   "outputs": [
    {
     "data": {
      "text/plain": [
       "['driver',\n",
       " 'cars',\n",
       " 'truck',\n",
       " 'racing',\n",
       " 'crash',\n",
       " 'race',\n",
       " 'raced',\n",
       " 'motorcycle',\n",
       " 'accident',\n",
       " 'automobile']"
      ]
     },
     "execution_count": 17,
     "metadata": {},
     "output_type": "execute_result"
    }
   ],
   "source": [
    "most_similar_to_token('car', embeddings)"
   ]
  },
  {
   "cell_type": "code",
   "execution_count": 18,
   "metadata": {},
   "outputs": [
    {
     "data": {
      "text/plain": [
       "['moon',\n",
       " 'planet',\n",
       " 'orbit',\n",
       " 'sun',\n",
       " 'surface',\n",
       " 'planets',\n",
       " 'atmosphere',\n",
       " 'shadow',\n",
       " 'explained',\n",
       " 'observing']"
      ]
     },
     "execution_count": 18,
     "metadata": {},
     "output_type": "execute_result"
    }
   ],
   "source": [
    "most_similar_to_token('earth', embeddings)"
   ]
  },
  {
   "cell_type": "code",
   "execution_count": 20,
   "metadata": {},
   "outputs": [
    {
     "data": {
      "text/plain": [
       "['computers',\n",
       " 'hardware',\n",
       " 'computing',\n",
       " 'systems',\n",
       " 'software',\n",
       " 'machines',\n",
       " 'devices',\n",
       " 'technology',\n",
       " 'graphics',\n",
       " 'programs']"
      ]
     },
     "execution_count": 20,
     "metadata": {},
     "output_type": "execute_result"
    }
   ],
   "source": [
    "most_similar_to_token('computer', embeddings)"
   ]
  },
  {
   "cell_type": "code",
   "execution_count": 21,
   "metadata": {},
   "outputs": [
    {
     "data": {
      "text/plain": [
       "['machines',\n",
       " 'gun',\n",
       " 'turing',\n",
       " 'guns',\n",
       " 'using',\n",
       " 'designed',\n",
       " 'internally',\n",
       " 'virtual',\n",
       " 'computer',\n",
       " 'automatic']"
      ]
     },
     "execution_count": 21,
     "metadata": {},
     "output_type": "execute_result"
    }
   ],
   "source": [
    "most_similar_to_token('machine', embeddings)"
   ]
  },
  {
   "cell_type": "markdown",
   "metadata": {},
   "source": [
    "Почти все полученные ближайшие соседи являются адекватными по смыслу."
   ]
  },
  {
   "cell_type": "markdown",
   "metadata": {},
   "source": [
    "Теперь попробуем получить корректные аналогии."
   ]
  },
  {
   "cell_type": "code",
   "execution_count": 27,
   "metadata": {},
   "outputs": [
    {
     "data": {
      "text/plain": [
       "['daughter',\n",
       " 'wife',\n",
       " 'son',\n",
       " 'henry',\n",
       " 'marries',\n",
       " 'married',\n",
       " 'vii',\n",
       " 'iii',\n",
       " 'husband',\n",
       " 'wed']"
      ]
     },
     "execution_count": 27,
     "metadata": {},
     "output_type": "execute_result"
    }
   ],
   "source": [
    "input_embedding = get_embedding('king') - get_embedding('man') + get_embedding('woman')\n",
    "most_similar_to_embedding(input_embedding, embeddings)"
   ]
  },
  {
   "cell_type": "markdown",
   "metadata": {},
   "source": [
    "Классический пример с king - man + woman не сработал. Ничего похожего на queen среди ближайших соседей нет.\n",
    "\n",
    "Однако, неокторые другие аналогии работают:"
   ]
  },
  {
   "cell_type": "code",
   "execution_count": 28,
   "metadata": {},
   "outputs": [
    {
     "data": {
      "text/plain": [
       "['car',\n",
       " 'race',\n",
       " 'motorcycle',\n",
       " 'cars',\n",
       " 'bicycle',\n",
       " 'cyclist',\n",
       " 'automobile',\n",
       " 'taxi',\n",
       " 'racer',\n",
       " 'drivers']"
      ]
     },
     "execution_count": 28,
     "metadata": {},
     "output_type": "execute_result"
    }
   ],
   "source": [
    "input_embedding = get_embedding('airplane') - get_embedding('pilot') + get_embedding('driver')\n",
    "most_similar_to_embedding(input_embedding, embeddings)"
   ]
  },
  {
   "cell_type": "markdown",
   "metadata": {},
   "source": [
    "airplane - pilot + driver = car"
   ]
  },
  {
   "cell_type": "code",
   "execution_count": 31,
   "metadata": {},
   "outputs": [
    {
     "data": {
      "text/plain": [
       "['stick',\n",
       " 'puck',\n",
       " 'cue',\n",
       " 'ice',\n",
       " 'balls',\n",
       " 'rink',\n",
       " 'catching',\n",
       " 'throwing',\n",
       " 'sticks',\n",
       " 'thrown']"
      ]
     },
     "execution_count": 31,
     "metadata": {},
     "output_type": "execute_result"
    }
   ],
   "source": [
    "input_embedding = get_embedding('ball') - get_embedding('football') + get_embedding('hockey')\n",
    "most_similar_to_embedding(input_embedding, embeddings)"
   ]
  },
  {
   "cell_type": "markdown",
   "metadata": {},
   "source": [
    "ball - football + hockey = stick & puck"
   ]
  },
  {
   "cell_type": "code",
   "execution_count": 32,
   "metadata": {},
   "outputs": [
    {
     "data": {
      "text/plain": [
       "['soccer',\n",
       " 'basketball',\n",
       " 'club',\n",
       " 'rugby',\n",
       " 'team',\n",
       " 'baseball',\n",
       " 'league',\n",
       " 'player',\n",
       " 'association',\n",
       " 'canadian']"
      ]
     },
     "execution_count": 32,
     "metadata": {},
     "output_type": "execute_result"
    }
   ],
   "source": [
    "input_embedding = get_embedding('football') - get_embedding('europe') + get_embedding('america')\n",
    "most_similar_to_embedding(input_embedding, embeddings)"
   ]
  },
  {
   "cell_type": "markdown",
   "metadata": {},
   "source": [
    "football - europe + america = soccer"
   ]
  },
  {
   "cell_type": "markdown",
   "metadata": {},
   "source": [
    "Теперь выберем побольше слов и визуализируем их векторные представления с помощью t-SNE."
   ]
  },
  {
   "cell_type": "code",
   "execution_count": 44,
   "metadata": {
    "collapsed": true
   },
   "outputs": [],
   "source": [
    "test_words = ['one', 'two', 'three', 'four', 'five', \n",
    "              'russia', 'germany', 'france', 'england', 'scotland', 'britain', 'china', 'japan', 'korea', 'india', \n",
    "              'moscow', 'berlin', 'paris', 'london', 'edinburgh',\n",
    "              'car', 'truck', 'bus', 'train', 'airplane', 'plane', 'ship', 'yacht', \n",
    "              'human', 'man', 'woman', 'husband', 'wife', 'parents', 'son', 'daughter', \n",
    "              'good', 'great', 'fantastic', 'bad', 'awful', \n",
    "              'walk', 'run', 'swim', 'fly', \n",
    "              'game', 'sport', 'soccer', 'football', 'basketball', 'hockey', 'tennis', \n",
    "              'music', 'song', 'guitar', 'guitarist', 'drums', 'drummer', 'singer', 'vocalist', \n",
    "              'rock', 'metal', 'punk', 'rap', 'jazz', 'blues', 'pop', \n",
    "              'north', 'south', 'east', 'west']\n",
    "\n",
    "test_word_embeddings = np.array([get_embedding(word) for word in test_words])\n",
    "distance_matrix = 1 - np.round(cosine_similarity(test_word_embeddings), decimals=4)"
   ]
  },
  {
   "cell_type": "code",
   "execution_count": 45,
   "metadata": {},
   "outputs": [
    {
     "data": {
      "image/png": "[encoded data removed]",
      "text/plain": [
       "<Figure size 1008x1008 with 1 Axes>"
      ]
     },
     "metadata": {},
     "output_type": "display_data"
    }
   ],
   "source": [
    "tsne = TSNE(perplexity=10, \n",
    "            early_exaggeration=10, \n",
    "            learning_rate=20, \n",
    "            n_iter=2000, \n",
    "            metric='precomputed', \n",
    "            method='exact', \n",
    "            random_state=100)\n",
    "\n",
    "points = tsne.fit_transform(distance_matrix)\n",
    "\n",
    "plt.figure(figsize=[14, 14])\n",
    "plt.scatter(points[:, 0], points[:, 1], color='red', s=100)\n",
    "\n",
    "indent = 0.25\n",
    "for i in range(len(test_words)):\n",
    "    coords = (points[i, 0] + indent, points[i, 1] + indent)\n",
    "    plt.annotate(test_words[i], coords)\n",
    "\n",
    "plt.show()"
   ]
  },
  {
   "cell_type": "markdown",
   "metadata": {},
   "source": [
    "На визуализации слова разделились на ярко выраженные кластеры близких по смыслу слов: музыка, спорт, числа, страны и столицы...\n",
    "\n",
    "В целом, можно сделать вывод, что полученные векторные представления действительно содержат семантическую и синтаксическую информацию о словах. Полученные результаты также довольно близки к результатам из предыдущего задания."
   ]
  },
  {
   "cell_type": "code",
   "execution_count": 46,
   "metadata": {
    "collapsed": true
   },
   "outputs": [],
   "source": [
    "with open('embeddings_task4.pickle', 'wb') as handle:\n",
    "    pickle.dump(embeddings, handle)"
   ]
  },
  {
   "cell_type": "code",
   "execution_count": null,
   "metadata": {
    "collapsed": true
   },
   "outputs": [],
   "source": []
  }
 ],
 "metadata": {
  "kernelspec": {
   "display_name": "Python 3",
   "language": "python",
   "name": "python3"
  },
  "language_info": {
   "codemirror_mode": {
    "name": "ipython",
    "version": 3
   },
   "file_extension": ".py",
   "mimetype": "text/x-python",
   "name": "python",
   "nbconvert_exporter": "python",
   "pygments_lexer": "ipython3",
   "version": "3.6.6"
  }
 },
 "nbformat": 4,
 "nbformat_minor": 2
}
