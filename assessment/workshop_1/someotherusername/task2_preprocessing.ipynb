{
 "cells": [
  {
   "cell_type": "markdown",
   "metadata": {},
   "source": [
    "# Word2vec preprocessing"
   ]
  },
  {
   "cell_type": "markdown",
   "metadata": {},
   "source": [
    "Preprocessing is not the most exciting part of NLP, but it is still one of the most important ones. Your task is to preprocess raw text (you can use your own, or [this one](http://mattmahoney.net/dc/text8.zip). For this task text preprocessing mostly consists of:\n",
    "\n",
    "1. cleaning (mostly, if your dataset is from social media or parsed from the internet)\n",
    "1. tokenization\n",
    "1. building the vocabulary and choosing its size. Use only high-frequency words, change all other words to UNK or handle it in your own manner. You can use `collections.Counter` for that.\n",
    "1. assigning each token a number (numericalization). In other words, make word2index и index2word objects.\n",
    "1. data structuring and batching - make X and y matrices generator for word2vec (explained in more details below)\n",
    "\n",
    "**ATTN!:** If you use your own data, please, attach a download link. \n",
    "\n",
    "Your goal is to make SkipGramBatcher class which returns two numpy tensors with word indices. It should be possible to use one for word2vec training. You can implement batcher for Skip-Gram or CBOW architecture, the picture below can be helpful to remember the difference.\n",
    "\n",
    "![text](https://raw.githubusercontent.com/deepmipt/deep-nlp-seminars/651804899d05b96fc72b9474404fab330365ca09/seminar_02/pics/architecture.png)\n",
    "\n",
    "There are several ways to do it right. Shapes could be `x_batch.shape = (batch_size, 2*window_size)`, `y_batch.shape = (batch_size,)` for CBOW or `(batch_size,)`, `(batch_size,)` for Skip-Gram. You should **not** do negative sampling here.\n",
    "\n",
    "They should be adequately parametrized: CBOW(window_size, ...), SkipGram(window_size, ...). You should implement only one batcher in this task; and it's up to you which one to chose.\n",
    "\n",
    "Useful links:\n",
    "1. [Word2Vec Tutorial - The Skip-Gram Model](http://mccormickml.com/2016/04/19/word2vec-tutorial-the-skip-gram-model/)\n",
    "1. [Efficient Estimation of Word Representations in Vector Space](https://arxiv.org/pdf/1301.3781.pdf)\n",
    "1. [Distributed Representations of Words and Phrases and their Compositionality](http://papers.nips.cc/paper/5021-distributed-representations-of-words-and-phrases-and-their-compositionality.pdf)\n",
    "\n",
    "You can write the code in this notebook, or in a separate file. It can be reused for the next task. The result of your work should represent that your batch has a proper structure (right shapes) and content (words should be from one context, not some random indices). To show that, translate indices back to words and print them to show something like this:\n",
    "\n",
    "```\n",
    "text = ['first', 'used', 'against', 'early', 'working', 'class', 'radicals', 'including']\n",
    "\n",
    "window_size = 2\n",
    "\n",
    "# CBOW:\n",
    "indices_to_words(x_batch) = \\\n",
    "        [['first', 'used', 'early', 'working'],\n",
    "        ['used', 'against', 'working', 'class'],\n",
    "        ['against', 'early', 'class', 'radicals'],\n",
    "        ['early', 'working', 'radicals', 'including']]\n",
    "\n",
    "indices_to_words(labels_batch) = ['against', 'early', 'working', 'class']\n",
    "\n",
    "# Skip-Gram\n",
    "\n",
    "indices_to_words(x_batch) = ['against', 'early', 'working', 'class']\n",
    "\n",
    "indices_to_words(labels_batch) = ['used', 'working', 'early', 'radicals']]\n",
    "\n",
    "```\n",
    "\n",
    "If you struggle with something, ask your neighbor. If it is not obvious for you, probably someone else is looking for the answer too. And in contrast, if you see that you can help someone - do it! Good luck!"
   ]
  },
  {
   "cell_type": "code",
   "execution_count": 3,
   "metadata": {},
   "outputs": [],
   "source": [
    "# utils.py\n",
    "\n",
    "import random \n",
    "import re\n",
    "from collections import Counter\n",
    "from typing import Iterable, List, Tuple, Any\n",
    "\n",
    "tokenizer_regex = re.compile(\"\\w+\")\n",
    "\n",
    "def preprocess(text: str) -> List[str]:\n",
    "    return tokenizer_regex.findall(text.lower())\n",
    "\n",
    "class Vocab:\n",
    "    \"\"\"\n",
    "    A utility to convert tokens to indices and vice versa.\n",
    "    Notation is loosely based on fast.ai that I spent a lot of time\n",
    "    studying recently.\n",
    "    \"\"\"\n",
    "    def __init__(self, vocab_size: int) -> None:\n",
    "        \"\"\"\n",
    "        Initialize a vocab of size `vocab_size`. Actual size will be\n",
    "        `vocab_size` + 1 to account for the unknown token.\n",
    "        \"\"\"\n",
    "        self.vocab_size = vocab_size\n",
    "        self.unk_s = \"xxunk\"\n",
    "        self.size = vocab_size\n",
    "        self.stoi = dict() # map string to index\n",
    "        self.itos = list() # map index to string\n",
    "        self.freqs = Counter()\n",
    "   \n",
    "    def build(self, texts: Iterable[Iterable[str]]) -> None:\n",
    "        \"\"\"\n",
    "        Process an iterable of iterables to create a vocab.\n",
    "        After counting the tokens, the vocab is trimmed to `vocab_size` \n",
    "        according to tokens' frequency.\n",
    "        \"\"\"\n",
    "        for text in texts:\n",
    "            self.freqs.update(text)\n",
    "        \n",
    "        words, _ = zip(*self.freqs.most_common(self.vocab_size))\n",
    "        words = list(words)\n",
    "        words.append(self.unk_s)\n",
    "        self.itos = words\n",
    "        self.stoi = {s: i for i,s in enumerate(words)}\n",
    "        \n",
    "    def numericalize(self, tokens: Iterable[str]) -> List[int]:\n",
    "        \"\"\"\n",
    "        Convert tokens into ids\n",
    "        \"\"\"\n",
    "        return [self.stoi[t] if t in self.stoi \n",
    "                else self.stoi[self.unk_s] \n",
    "                for t in tokens]\n",
    "    \n",
    "    def textify(self, ids: Iterable[int]) -> List[str]:\n",
    "        \"\"\"\n",
    "        Convert ids back into tokens\n",
    "        \"\"\"\n",
    "        return [self.itos[i] for i in ids]\n",
    "    \n",
    "    def __repr__(self):\n",
    "        return f\"Vocab of size {len(self.itos)}\"\n",
    "        \n",
    "\n",
    "class SkipGramDataGen:\n",
    "    \"\"\"\n",
    "    Generate data for skip-gram algorithm.\n",
    "    \"\"\"\n",
    "    def __init__(self, texts: Iterable[List], window_size: int):\n",
    "        \"\"\"\n",
    "        Initialize a dataset to get SkipGram batches.\n",
    "        :param texts: an iterable of lists of (maybe numericalized) tokens\n",
    "        \"\"\"\n",
    "        self.texts = texts\n",
    "        self.ws = window_size\n",
    "        \n",
    "    def iter_line(self) -> Tuple[Any, Any]:\n",
    "        \"\"\"\n",
    "        Draw a pair of (center_word, context_word) from the dataset.\n",
    "        \"\"\"\n",
    "        for text in self.texts:\n",
    "            # skip the first two words, leave two in the end\n",
    "            # so that not to overflow indices\n",
    "            for i in range(self.ws, len(text) - self.ws):\n",
    "                center_word = text[i]\n",
    "                context_indices = [i-1-n for n in range(self.ws)] + [i+1+n for n in range(self.ws)]\n",
    "                context_word = text[random.choice(context_indices)]\n",
    "                yield (center_word, context_word)\n",
    "                \n",
    "    def iter_batch(self, bs: int) -> Tuple[List, List]:\n",
    "        batch = list()\n",
    "        i = 0\n",
    "        \n",
    "        for word_pair in self.iter_line():\n",
    "            batch.append(word_pair)\n",
    "            i += 1\n",
    "            if i == bs:\n",
    "                yield zip(*batch)\n",
    "                i = 0\n",
    "                batch = list()\n",
    "        else:\n",
    "            if batch:\n",
    "                yield zip(*batch)"
   ]
  },
  {
   "cell_type": "markdown",
   "metadata": {},
   "source": [
    "Let's create the vocab and the batcher:"
   ]
  },
  {
   "cell_type": "code",
   "execution_count": 4,
   "metadata": {},
   "outputs": [],
   "source": [
    "with open(\"text8/text8\", encoding=\"utf-8\") as f:\n",
    "    text8 = f.read()"
   ]
  },
  {
   "cell_type": "code",
   "execution_count": 5,
   "metadata": {},
   "outputs": [],
   "source": [
    "text8_tokenized = preprocess(text8)"
   ]
  },
  {
   "cell_type": "code",
   "execution_count": 13,
   "metadata": {},
   "outputs": [
    {
     "data": {
      "text/plain": [
       "17005207"
      ]
     },
     "execution_count": 13,
     "metadata": {},
     "output_type": "execute_result"
    }
   ],
   "source": [
    "len(text8_tokenized)"
   ]
  },
  {
   "cell_type": "code",
   "execution_count": 6,
   "metadata": {},
   "outputs": [],
   "source": [
    "vocab = Vocab(50000)\n",
    "vocab.build([text8_tokenized])"
   ]
  },
  {
   "cell_type": "code",
   "execution_count": 7,
   "metadata": {},
   "outputs": [
    {
     "data": {
      "text/plain": [
       "['the',\n",
       " 'of',\n",
       " 'and',\n",
       " 'one',\n",
       " 'in',\n",
       " 'a',\n",
       " 'to',\n",
       " 'zero',\n",
       " 'nine',\n",
       " 'two',\n",
       " 'is',\n",
       " 'as',\n",
       " 'eight',\n",
       " 'for',\n",
       " 's',\n",
       " 'five',\n",
       " 'three',\n",
       " 'was',\n",
       " 'by',\n",
       " 'that']"
      ]
     },
     "execution_count": 7,
     "metadata": {},
     "output_type": "execute_result"
    }
   ],
   "source": [
    "# 20 most common word in the vocab:\n",
    "vocab.itos[:20]"
   ]
  },
  {
   "cell_type": "markdown",
   "metadata": {},
   "source": [
    "The datagen was meant to handle multiple texts, but this file contains only one, so we have to wrap it in a list:"
   ]
  },
  {
   "cell_type": "code",
   "execution_count": 8,
   "metadata": {},
   "outputs": [],
   "source": [
    "ds = SkipGramDataGen([vocab.numericalize(text8_tokenized)], window_size=2)"
   ]
  },
  {
   "cell_type": "code",
   "execution_count": 9,
   "metadata": {},
   "outputs": [
    {
     "data": {
      "text/plain": [
       "['anarchism', 'originated', 'as', 'a', 'term', 'of', 'abuse', 'first']"
      ]
     },
     "execution_count": 9,
     "metadata": {},
     "output_type": "execute_result"
    }
   ],
   "source": [
    "text8_tokenized[:8]"
   ]
  },
  {
   "cell_type": "code",
   "execution_count": 139,
   "metadata": {},
   "outputs": [
    {
     "name": "stdout",
     "output_type": "stream",
     "text": [
      "(11, 5, 194, 1)\n",
      "(194, 11, 3133, 194)\n"
     ]
    }
   ],
   "source": [
    "for center, context in ds.iter_batch(4):\n",
    "    print(center)\n",
    "    print(context)\n",
    "    break"
   ]
  },
  {
   "cell_type": "code",
   "execution_count": 140,
   "metadata": {},
   "outputs": [
    {
     "name": "stdout",
     "output_type": "stream",
     "text": [
      "['as', 'a', 'term', 'of']\n",
      "['a', 'term', 'a', 'abuse']\n"
     ]
    }
   ],
   "source": [
    "for center, context in ds.iter_batch(4):\n",
    "    print(vocab.textify(center))\n",
    "    print(vocab.textify(context))\n",
    "    break"
   ]
  }
 ],
 "metadata": {
  "kernelspec": {
   "display_name": "Python 3",
   "language": "python",
   "name": "python3"
  },
  "language_info": {
   "codemirror_mode": {
    "name": "ipython",
    "version": 3
   },
   "file_extension": ".py",
   "mimetype": "text/x-python",
   "name": "python",
   "nbconvert_exporter": "python",
   "pygments_lexer": "ipython3",
   "version": "3.6.6"
  }
 },
 "nbformat": 4,
 "nbformat_minor": 2
}
