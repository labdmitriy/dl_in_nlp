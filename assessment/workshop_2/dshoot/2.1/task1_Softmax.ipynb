{
 "cells": [
  {
   "cell_type": "markdown",
   "metadata": {},
   "source": [
    "# Softmax exercise\n",
    "\n",
    "In this exercise you will:\n",
    "\n",
    "- implement a fully-vectorized **loss function** for the Softmax classifier\n",
    "- implement the fully-vectorized expression for its **analytic gradient**\n",
    "- **check your implementation** with numerical gradient\n",
    "- use a validation set to **tune the learning rate and regularization** strength\n",
    "- **optimize** the loss function with **SGD**\n",
    "- **visualize** the final learned weights\n",
    "\n",
    "Credit: [cs231n.stanford.edu](http://cs231n.stanford.edu)"
   ]
  },
  {
   "cell_type": "code",
   "execution_count": 1,
   "metadata": {},
   "outputs": [],
   "source": [
    "import random\n",
    "import numpy as np\n",
    "from cs231n.data_utils import load_CIFAR10\n",
    "import matplotlib.pyplot as plt\n",
    "\n",
    "%matplotlib inline\n",
    "plt.rcParams['figure.figsize'] = (10.0, 8.0) # set default size of plots\n",
    "plt.rcParams['image.interpolation'] = 'nearest'\n",
    "plt.rcParams['image.cmap'] = 'gray'\n",
    "\n",
    "# for auto-reloading extenrnal modules\n",
    "# see http://stackoverflow.com/questions/1907993/autoreload-of-modules-in-ipython\n",
    "%load_ext autoreload\n",
    "%autoreload 2"
   ]
  },
  {
   "cell_type": "code",
   "execution_count": 2,
   "metadata": {},
   "outputs": [
    {
     "name": "stdout",
     "output_type": "stream",
     "text": [
      "Train data shape:  (49000, 3073)\n",
      "Train labels shape:  (49000,)\n",
      "Validation data shape:  (1000, 3073)\n",
      "Validation labels shape:  (1000,)\n",
      "Test data shape:  (1000, 3073)\n",
      "Test labels shape:  (1000,)\n",
      "dev data shape:  (500, 3073)\n",
      "dev labels shape:  (500,)\n"
     ]
    }
   ],
   "source": [
    "def get_CIFAR10_data(num_training=49000, num_validation=1000, num_test=1000, num_dev=500):\n",
    "    \"\"\"\n",
    "    Load the CIFAR-10 dataset from disk and perform preprocessing to prepare\n",
    "    it for the linear classifier.\n",
    "    \"\"\"\n",
    "    # Load the raw CIFAR-10 data\n",
    "    cifar10_dir = 'cs231n/datasets/cifar-10-batches-py'\n",
    "    \n",
    "    X_train, y_train, X_test, y_test = load_CIFAR10(cifar10_dir)\n",
    "    \n",
    "    # subsample the data\n",
    "    mask = list(range(num_training, num_training + num_validation))\n",
    "    X_val = X_train[mask]\n",
    "    y_val = y_train[mask]\n",
    "    mask = list(range(num_training))\n",
    "    X_train = X_train[mask]\n",
    "    y_train = y_train[mask]\n",
    "    mask = list(range(num_test))\n",
    "    X_test = X_test[mask]\n",
    "    y_test = y_test[mask]\n",
    "    mask = np.random.choice(num_training, num_dev, replace=False)\n",
    "    X_dev = X_train[mask]\n",
    "    y_dev = y_train[mask]\n",
    "    \n",
    "    # Preprocessing: reshape the image data into rows\n",
    "    X_train = np.reshape(X_train, (X_train.shape[0], -1))\n",
    "    X_val = np.reshape(X_val, (X_val.shape[0], -1))\n",
    "    X_test = np.reshape(X_test, (X_test.shape[0], -1))\n",
    "    X_dev = np.reshape(X_dev, (X_dev.shape[0], -1))\n",
    "    \n",
    "    # Normalize the data: subtract the mean image\n",
    "    mean_image = np.mean(X_train, axis = 0)\n",
    "    X_train -= mean_image\n",
    "    X_val -= mean_image\n",
    "    X_test -= mean_image\n",
    "    X_dev -= mean_image\n",
    "    \n",
    "    # add bias dimension and transform into columns\n",
    "    X_train = np.hstack([X_train, np.ones((X_train.shape[0], 1))])\n",
    "    X_val = np.hstack([X_val, np.ones((X_val.shape[0], 1))])\n",
    "    X_test = np.hstack([X_test, np.ones((X_test.shape[0], 1))])\n",
    "    X_dev = np.hstack([X_dev, np.ones((X_dev.shape[0], 1))])\n",
    "    \n",
    "    return X_train, y_train, X_val, y_val, X_test, y_test, X_dev, y_dev\n",
    "\n",
    "\n",
    "# Cleaning up variables to prevent loading data multiple times (which may cause memory issue)\n",
    "try:\n",
    "    del X_train, y_train\n",
    "    del X_test, y_test\n",
    "    print('Clear previously loaded data.')\n",
    "except:\n",
    "    pass\n",
    "\n",
    "# Invoke the above function to get our data.\n",
    "X_train, y_train, X_val, y_val, X_test, y_test, X_dev, y_dev = get_CIFAR10_data()\n",
    "print('Train data shape: ', X_train.shape)\n",
    "print('Train labels shape: ', y_train.shape)\n",
    "print('Validation data shape: ', X_val.shape)\n",
    "print('Validation labels shape: ', y_val.shape)\n",
    "print('Test data shape: ', X_test.shape)\n",
    "print('Test labels shape: ', y_test.shape)\n",
    "print('dev data shape: ', X_dev.shape)\n",
    "print('dev labels shape: ', y_dev.shape)"
   ]
  },
  {
   "cell_type": "markdown",
   "metadata": {},
   "source": [
    "## Softmax Classifier\n",
    "\n",
    "Your code for this section will all be written inside **cs231n/classifiers/softmax.py** and **cs231n/classifiers/linear_classifier.py**\n",
    "\n",
    "### Subtask 1\n",
    "First implement the naive softmax loss function with nested loops.\n",
    "Open the file cs231n/classifiers/softmax.py and implement the\n",
    "softmax_loss_naive function."
   ]
  },
  {
   "cell_type": "code",
   "execution_count": 4,
   "metadata": {},
   "outputs": [
    {
     "name": "stdout",
     "output_type": "stream",
     "text": [
      "loss: 2.321141\n",
      "sanity check: 2.302585\n"
     ]
    }
   ],
   "source": [
    "from cs231n.classifiers.softmax import softmax_loss_naive\n",
    "import time\n",
    "\n",
    "# Generate a random softmax weight matrix and use it to compute the loss.\n",
    "W = np.random.randn(3073, 10) * 0.0001\n",
    "loss, grad = softmax_loss_naive(W, X_dev, y_dev, 0.0)\n",
    "\n",
    "# As a rough sanity check, our loss should be something close to -log(0.1).\n",
    "print('loss: %f' % loss)\n",
    "print('sanity check: %f' % (-np.log(0.1)))"
   ]
  },
  {
   "cell_type": "markdown",
   "metadata": {},
   "source": [
    "**Inline Question (1 point)**:\n",
    "Why do we expect our loss to be close to -log(0.1)? Explain briefly.\n",
    "\n",
    "**Loss состоит из 2ух слогаемых - softmax loss-а и регуляризации. В данном случае мы не используем регуляризацию, т.е. выбрали значение параметра регуляризации равным 0. Значит в наш loss вклад вносит только softmax. Так как модель не обучена (ее параметры лишь случайно инициализированы), то она \"классифицирует\" входные векторы случайно с равномерным распределением score-ов классов на выходе модели. Соответственно все классы получают примерно одинаковый score, а softmax лишь нормализует эти score-ы таким образом, что мы получаем оценку вероятности входа принадлежать одному из классов. Так как классы равновероятны, мы получим p = 1/количество_классов. И сответсвенно loss будет -log(softmax). Так как классов у нас 10, то получим значение loss-а близкое к -log(1/10).**\n",
    "\n",
    "\n",
    "### Subtask 2 (1 point)\n",
    "Complete the implementation of softmax_loss_naive and implement a (naive)\n",
    "version of the gradient that _uses nested loops_.\n",
    "\n"
   ]
  },
  {
   "cell_type": "code",
   "execution_count": 5,
   "metadata": {},
   "outputs": [
    {
     "name": "stdout",
     "output_type": "stream",
     "text": [
      "numerical: -1.042510 analytic: -1.042510, relative error: 2.173990e-08\n",
      "numerical: -0.384451 analytic: -0.384451, relative error: 7.949815e-08\n",
      "numerical: -1.149852 analytic: -1.149852, relative error: 7.949786e-09\n",
      "numerical: 0.825358 analytic: 0.825358, relative error: 3.510960e-09\n",
      "numerical: 2.823017 analytic: 2.823017, relative error: 1.490528e-08\n",
      "numerical: -0.292310 analytic: -0.292310, relative error: 9.358724e-08\n",
      "numerical: 0.270511 analytic: 0.270511, relative error: 6.476465e-08\n",
      "numerical: -0.627716 analytic: -0.627716, relative error: 9.770915e-09\n",
      "numerical: -1.034504 analytic: -1.034504, relative error: 5.306851e-08\n",
      "numerical: 1.502495 analytic: 1.502495, relative error: 3.318361e-08\n",
      "numerical: -0.132608 analytic: -0.132608, relative error: 1.268711e-08\n",
      "numerical: 1.523611 analytic: 1.523611, relative error: 6.432830e-08\n",
      "numerical: 2.384223 analytic: 2.384223, relative error: 1.546709e-08\n",
      "numerical: -0.671916 analytic: -0.671916, relative error: 3.759943e-08\n",
      "numerical: 0.012990 analytic: 0.012990, relative error: 1.166816e-07\n",
      "numerical: -0.676364 analytic: -0.676364, relative error: 1.021596e-07\n",
      "numerical: 1.201479 analytic: 1.201478, relative error: 2.316894e-08\n",
      "numerical: 1.014616 analytic: 1.014616, relative error: 8.894365e-09\n",
      "numerical: -5.512298 analytic: -5.512298, relative error: 1.278491e-09\n",
      "numerical: 0.949717 analytic: 0.949717, relative error: 1.148968e-08\n"
     ]
    }
   ],
   "source": [
    "loss, grad = softmax_loss_naive(W, X_dev, y_dev, 0.0)\n",
    "\n",
    "# Use numeric gradient checking as a debugging tool.\n",
    "# The numeric gradient should be close to the analytic gradient.\n",
    "from cs231n.gradient_check import grad_check_sparse\n",
    "f = lambda w: softmax_loss_naive(w, X_dev, y_dev, 0.0)[0]\n",
    "grad_numerical = grad_check_sparse(f, W, grad, 10)\n",
    "\n",
    "# Do another gradient check with regularization\n",
    "loss, grad = softmax_loss_naive(W, X_dev, y_dev, 5e1)\n",
    "f = lambda w: softmax_loss_naive(w, X_dev, y_dev, 5e1)[0]\n",
    "grad_numerical = grad_check_sparse(f, W, grad, 10)"
   ]
  },
  {
   "cell_type": "markdown",
   "metadata": {},
   "source": [
    "### Subtask 3 (4 points)\n",
    "\n",
    "Now that we have a naive implementation of the softmax loss function and its gradient,\n",
    "implement a vectorized version in softmax_loss_vectorized.\n",
    "The two versions should compute the same results, but the vectorized version should be\n",
    "much faster."
   ]
  },
  {
   "cell_type": "code",
   "execution_count": 6,
   "metadata": {},
   "outputs": [
    {
     "name": "stdout",
     "output_type": "stream",
     "text": [
      "naive loss: 2.321141e+00 computed in 6.950173s\n",
      "vectorized loss: 2.321141e+00 computed in 0.084692s\n",
      "Loss difference: 0.000000\n",
      "Gradient difference: 0.000000\n"
     ]
    }
   ],
   "source": [
    "tic = time.time()\n",
    "loss_naive, grad_naive = softmax_loss_naive(W, X_dev, y_dev, 0.000005)\n",
    "toc = time.time()\n",
    "print('naive loss: %e computed in %fs' % (loss_naive, toc - tic))\n",
    "\n",
    "from cs231n.classifiers.softmax import softmax_loss_vectorized\n",
    "tic = time.time()\n",
    "loss_vectorized, grad_vectorized = softmax_loss_vectorized(W, X_dev, y_dev, 0.000005)\n",
    "toc = time.time()\n",
    "print('vectorized loss: %e computed in %fs' % (loss_vectorized, toc - tic))\n",
    "\n",
    "# We use the Frobenius norm to compare the two versions\n",
    "# of the gradient.\n",
    "grad_difference = np.linalg.norm(grad_naive - grad_vectorized, ord='fro')\n",
    "print('Loss difference: %f' % np.abs(loss_naive - loss_vectorized))\n",
    "print('Gradient difference: %f' % grad_difference)"
   ]
  },
  {
   "cell_type": "markdown",
   "metadata": {},
   "source": [
    "### Subtask 4 (2 points)\n",
    "\n",
    "We now have vectorized and efficient expressions for the loss, the gradient and our gradient matches the numerical gradient. We are therefore ready to do SGD to minimize the loss."
   ]
  },
  {
   "cell_type": "code",
   "execution_count": 7,
   "metadata": {},
   "outputs": [
    {
     "name": "stdout",
     "output_type": "stream",
     "text": [
      "iteration 0 / 1500: loss 771.339341\n",
      "iteration 100 / 1500: loss 283.533342\n",
      "iteration 200 / 1500: loss 104.968353\n",
      "iteration 300 / 1500: loss 39.812040\n",
      "iteration 400 / 1500: loss 15.828144\n",
      "iteration 500 / 1500: loss 7.105034\n",
      "iteration 600 / 1500: loss 3.925059\n",
      "iteration 700 / 1500: loss 2.767995\n",
      "iteration 800 / 1500: loss 2.343580\n",
      "iteration 900 / 1500: loss 2.244276\n",
      "iteration 1000 / 1500: loss 2.104937\n",
      "iteration 1100 / 1500: loss 2.193952\n",
      "iteration 1200 / 1500: loss 2.106031\n",
      "iteration 1300 / 1500: loss 2.177108\n",
      "iteration 1400 / 1500: loss 2.082238\n",
      "That took 55.634232s\n"
     ]
    }
   ],
   "source": [
    "# In the file linear_classifier.py, implement SGD in the function\n",
    "# LinearClassifier.train() and then run it with the code below.\n",
    "from cs231n.classifiers import Softmax\n",
    "model = Softmax()\n",
    "tic = time.time()\n",
    "loss_hist = model.train(X_train, y_train, learning_rate=1e-7, reg=2.5e4,\n",
    "                        num_iters=1500, verbose=True)\n",
    "toc = time.time()\n",
    "print('That took %fs' % (toc - tic))"
   ]
  },
  {
   "cell_type": "code",
   "execution_count": 8,
   "metadata": {},
   "outputs": [
    {
     "data": {
      "image/png": "[encoded data removed]",
      "text/plain": [
       "<Figure size 432x288 with 1 Axes>"
      ]
     },
     "metadata": {
      "needs_background": "light"
     },
     "output_type": "display_data"
    }
   ],
   "source": [
    "# A useful debugging strategy is to plot the loss as a function of\n",
    "# iteration number:\n",
    "plt.plot(loss_hist)\n",
    "plt.xlabel('Iteration number')\n",
    "plt.ylabel('Loss value')\n",
    "plt.show()"
   ]
  },
  {
   "cell_type": "code",
   "execution_count": 9,
   "metadata": {},
   "outputs": [
    {
     "name": "stdout",
     "output_type": "stream",
     "text": [
      "training accuracy: 0.330061\n",
      "validation accuracy: 0.345000\n"
     ]
    }
   ],
   "source": [
    "# Write the LinearClassifier.predict function and evaluate the performance on both the\n",
    "# training and validation set\n",
    "y_train_pred = model.predict(X_train)\n",
    "print('training accuracy: %f' % (np.mean(y_train == y_train_pred), ))\n",
    "y_val_pred = model.predict(X_val)\n",
    "print('validation accuracy: %f' % (np.mean(y_val == y_val_pred), ))"
   ]
  },
  {
   "cell_type": "markdown",
   "metadata": {},
   "source": [
    "### Subtask 5 (2 points)\n",
    "\n",
    "Use the validation set to tune hyperparameters (regularization strength and\n",
    "learning rate). You should experiment with different ranges for the learning\n",
    "rates and regularization strengths; if you are careful you should be able to\n",
    "get a classification accuracy of over 0.35 on the validation set."
   ]
  },
  {
   "cell_type": "code",
   "execution_count": 10,
   "metadata": {},
   "outputs": [
    {
     "name": "stdout",
     "output_type": "stream",
     "text": [
      "Training with rate=1.00E-07, reg=25000 took 59.672s\n",
      "Training with rate=1.00E-07, reg=26621 took 59.057s\n",
      "Training with rate=1.00E-07, reg=37660 took 60.529s\n",
      "Training with rate=1.00E-07, reg=41823 took 61.914s\n",
      "Training with rate=1.00E-07, reg=50000 took 61.976s\n",
      "Training with rate=2.10E-07, reg=25000 took 59.342s\n",
      "Training with rate=2.10E-07, reg=26621 took 61.373s\n",
      "Training with rate=2.10E-07, reg=37660 took 66.317s\n",
      "Training with rate=2.10E-07, reg=41823 took 62.557s\n",
      "Training with rate=2.10E-07, reg=50000 took 61.995s\n",
      "Training with rate=4.29E-07, reg=25000 took 61.972s\n",
      "Training with rate=4.29E-07, reg=26621 took 60.275s\n",
      "Training with rate=4.29E-07, reg=37660 took 62.241s\n",
      "Training with rate=4.29E-07, reg=41823 took 63.301s\n",
      "Training with rate=4.29E-07, reg=50000 took 64.160s\n",
      "Training with rate=4.64E-07, reg=25000 took 62.201s\n",
      "Training with rate=4.64E-07, reg=26621 took 61.017s\n",
      "Training with rate=4.64E-07, reg=37660 took 61.732s\n",
      "Training with rate=4.64E-07, reg=41823 took 61.869s\n",
      "Training with rate=4.64E-07, reg=50000 took 59.304s\n",
      "Training with rate=5.00E-07, reg=25000 took 59.163s\n",
      "Training with rate=5.00E-07, reg=26621 took 60.019s\n",
      "Training with rate=5.00E-07, reg=37660 took 60.648s\n",
      "Training with rate=5.00E-07, reg=41823 took 62.784s\n",
      "Training with rate=5.00E-07, reg=50000 took 59.403s\n",
      "lr 1.000000e-07 reg 2.500000e+04 train accuracy: 0.327959 val accuracy: 0.339000\n",
      "lr 1.000000e-07 reg 2.662177e+04 train accuracy: 0.331020 val accuracy: 0.343000\n",
      "lr 1.000000e-07 reg 3.766008e+04 train accuracy: 0.310347 val accuracy: 0.316000\n",
      "lr 1.000000e-07 reg 4.182368e+04 train accuracy: 0.310245 val accuracy: 0.327000\n",
      "lr 1.000000e-07 reg 5.000000e+04 train accuracy: 0.308755 val accuracy: 0.329000\n",
      "lr 2.097507e-07 reg 2.500000e+04 train accuracy: 0.330000 val accuracy: 0.342000\n",
      "lr 2.097507e-07 reg 2.662177e+04 train accuracy: 0.325755 val accuracy: 0.345000\n",
      "lr 2.097507e-07 reg 3.766008e+04 train accuracy: 0.312918 val accuracy: 0.334000\n",
      "lr 2.097507e-07 reg 4.182368e+04 train accuracy: 0.318082 val accuracy: 0.331000\n",
      "lr 2.097507e-07 reg 5.000000e+04 train accuracy: 0.296041 val accuracy: 0.313000\n",
      "lr 4.288214e-07 reg 2.500000e+04 train accuracy: 0.325571 val accuracy: 0.335000\n",
      "lr 4.288214e-07 reg 2.662177e+04 train accuracy: 0.321265 val accuracy: 0.342000\n",
      "lr 4.288214e-07 reg 3.766008e+04 train accuracy: 0.303980 val accuracy: 0.319000\n",
      "lr 4.288214e-07 reg 4.182368e+04 train accuracy: 0.300857 val accuracy: 0.322000\n",
      "lr 4.288214e-07 reg 5.000000e+04 train accuracy: 0.300449 val accuracy: 0.326000\n",
      "lr 4.635591e-07 reg 2.500000e+04 train accuracy: 0.331694 val accuracy: 0.352000\n",
      "lr 4.635591e-07 reg 2.662177e+04 train accuracy: 0.326857 val accuracy: 0.337000\n",
      "lr 4.635591e-07 reg 3.766008e+04 train accuracy: 0.321143 val accuracy: 0.327000\n",
      "lr 4.635591e-07 reg 4.182368e+04 train accuracy: 0.321735 val accuracy: 0.338000\n",
      "lr 4.635591e-07 reg 5.000000e+04 train accuracy: 0.292531 val accuracy: 0.309000\n",
      "lr 5.000000e-07 reg 2.500000e+04 train accuracy: 0.321612 val accuracy: 0.341000\n",
      "lr 5.000000e-07 reg 2.662177e+04 train accuracy: 0.325571 val accuracy: 0.324000\n",
      "lr 5.000000e-07 reg 3.766008e+04 train accuracy: 0.326163 val accuracy: 0.347000\n",
      "lr 5.000000e-07 reg 4.182368e+04 train accuracy: 0.309918 val accuracy: 0.328000\n",
      "lr 5.000000e-07 reg 5.000000e+04 train accuracy: 0.292408 val accuracy: 0.315000\n",
      "best validation accuracy achieved during cross-validation: 0.352000\n"
     ]
    }
   ],
   "source": [
    "learning_rates = [1e-7, 5e-7]\n",
    "regularization_strengths = [2.5e4, 5e4]\n",
    "\n",
    "# results is dictionary mapping tuples of the form\n",
    "# (learning_rate, regularization_strength) to tuples of the form\n",
    "# (training_accuracy, validation_accuracy). The accuracy is simply the fraction\n",
    "# of data points that are correctly classified.\n",
    "results = {}\n",
    "best_val = -1       # The highest validation accuracy that we have seen so far.\n",
    "best_softmax = None # The Softmax object that achieved the highest validation rate.\n",
    "\n",
    "################################################################################\n",
    "# TODO:                                                                        #\n",
    "# Write code that chooses the best hyperparameters by tuning on the validation #\n",
    "# set. For each combination of hyperparameters, train a Softmax clf on the     #\n",
    "# training set, compute its accuracy on the training and validation sets, and  #\n",
    "# store these numbers in the results dictionary. In addition, store the best   #\n",
    "# validation accuracy in best_val and the Softmax object that achieves this    #\n",
    "# accuracy in best_softmax.                                                    #\n",
    "#                                                                              #\n",
    "# Hint: You should use a small value for num_iters as you develop your         #\n",
    "# validation code so that the Softmax don't take much time to train; once you  #\n",
    "# are confident that your validation code works, you should rerun the          #\n",
    "# validation code with a larger value for num_iters.                           #\n",
    "################################################################################\n",
    "# Your code\n",
    "num_rates = 5\n",
    "num_regs = 5\n",
    "num_iters = 1500\n",
    "assert num_rates > 2, \"too few rates\"\n",
    "assert num_regs > 2, \"too few regs\"\n",
    "rates = sorted(np.append(np.random.uniform(learning_rates[0],learning_rates[1],num_rates-2), \\\n",
    "    [learning_rates[0],learning_rates[1]]))\n",
    "regs = sorted(np.append(np.random.uniform(regularization_strengths[0],regularization_strengths[1],num_regs-2), \\\n",
    "    [regularization_strengths[0],regularization_strengths[1]]))\n",
    "for rate in rates:\n",
    "    for reg in regs:\n",
    "        model = Softmax()\n",
    "        tic = time.time()\n",
    "        model.train(X_train, y_train, learning_rate=rate, reg=reg,\n",
    "                                num_iters=num_iters, verbose=False)\n",
    "        toc = time.time()        \n",
    "        print('Training with rate=%.2E, reg=%i took %.3fs' % (rate, reg, (toc - tic)))\n",
    "        y_train_pred = model.predict(X_train)\n",
    "        train_acc = np.mean(y_train == y_train_pred)\n",
    "        y_val_pred = model.predict(X_val)\n",
    "        val_acc = np.mean(y_val == y_val_pred)\n",
    "        results[(rate,reg)] = (train_acc, val_acc)\n",
    "        if val_acc > best_val:\n",
    "            best_val = val_acc\n",
    "            best_softmax = model\n",
    "        else:\n",
    "            del model # free ram\n",
    "################################################################################\n",
    "#                              END OF YOUR CODE                                #\n",
    "################################################################################\n",
    "    \n",
    "# Print out results.\n",
    "for lr, reg in sorted(results):\n",
    "    train_accuracy, val_accuracy = results[(lr, reg)]\n",
    "    print('lr %e reg %e train accuracy: %f val accuracy: %f' % (\n",
    "                lr, reg, train_accuracy, val_accuracy))\n",
    "    \n",
    "print('best validation accuracy achieved during cross-validation: %f' % best_val)"
   ]
  },
  {
   "cell_type": "code",
   "execution_count": 11,
   "metadata": {},
   "outputs": [
    {
     "name": "stdout",
     "output_type": "stream",
     "text": [
      "softmax on raw pixels final test set accuracy: 0.348000\n"
     ]
    }
   ],
   "source": [
    "# evaluate on test set\n",
    "# Evaluate the best softmax on test set\n",
    "y_test_pred = best_softmax.predict(X_test)\n",
    "test_accuracy = np.mean(y_test == y_test_pred)\n",
    "print('softmax on raw pixels final test set accuracy: %f' % (test_accuracy, ))"
   ]
  },
  {
   "cell_type": "code",
   "execution_count": 12,
   "metadata": {},
   "outputs": [
    {
     "data": {
      "image/png": "[encoded data removed]",
      "text/plain": [
       "<Figure size 432x288 with 10 Axes>"
      ]
     },
     "metadata": {
      "needs_background": "light"
     },
     "output_type": "display_data"
    }
   ],
   "source": [
    "# Visualize the learned weights for each class\n",
    "w = best_softmax.W[:-1,:] # strip out the bias\n",
    "w = w.reshape(32, 32, 3, 10)\n",
    "\n",
    "w_min, w_max = np.min(w), np.max(w)\n",
    "\n",
    "classes = ['plane', 'car', 'bird', 'cat', 'deer', 'dog', 'frog', 'horse', 'ship', 'truck']\n",
    "for i in range(10):\n",
    "    plt.subplot(2, 5, i + 1)\n",
    "    \n",
    "    # Rescale the weights to be between 0 and 255\n",
    "    wimg = 255.0 * (w[:, :, :, i].squeeze() - w_min) / (w_max - w_min)\n",
    "    plt.imshow(wimg.astype('uint8'))\n",
    "    plt.axis('off')\n",
    "    plt.title(classes[i])"
   ]
  },
  {
   "cell_type": "markdown",
   "metadata": {},
   "source": [
    "#### Max score: 10 points"
   ]
  }
 ],
 "metadata": {
  "kernelspec": {
   "display_name": "Python 3",
   "language": "python",
   "name": "python3"
  },
  "language_info": {
   "codemirror_mode": {
    "name": "ipython",
    "version": 3
   },
   "file_extension": ".py",
   "mimetype": "text/x-python",
   "name": "python",
   "nbconvert_exporter": "python",
   "pygments_lexer": "ipython3",
   "version": "3.6.8"
  }
 },
 "nbformat": 4,
 "nbformat_minor": 2
}
