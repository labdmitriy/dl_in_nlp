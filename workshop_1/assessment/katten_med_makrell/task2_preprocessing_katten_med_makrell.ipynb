{
 "cells": [
  {
   "cell_type": "markdown",
   "metadata": {},
   "source": [
    "# Word2vec preprocessing"
   ]
  },
  {
   "cell_type": "markdown",
   "metadata": {},
   "source": [
    "Preprocessing is not the most exciting part of NLP, but it is still one of the most important ones. Your task is to preprocess raw text (you can use your own, or [this one](http://mattmahoney.net/dc/text8.zip). For this task text preprocessing mostly consists of:\n",
    "\n",
    "1. cleaning (mostly, if your dataset is from social media or parsed from the internet)\n",
    "1. tokenization\n",
    "1. building the vocabulary and choosing its size. Use only high-frequency words, change all other words to UNK or handle it in your own manner. You can use `collections.Counter` for that.\n",
    "1. assigning each token a number (numericalization). In other words, make word2index и index2word objects.\n",
    "1. data structuring and batching - make X and y matrices generator for word2vec (explained in more details below)\n",
    "\n",
    "**ATTN!:** If you use your own data, please, attach a download link. \n",
    "\n",
    "Your goal is to make SkipGramBatcher class which returns two numpy tensors with word indices. It should be possible to use one for word2vec training. You can implement batcher for Skip-Gram or CBOW architecture, the picture below can be helpful to remember the difference.\n",
    "\n",
    "![text](https://raw.githubusercontent.com/deepmipt/deep-nlp-seminars/651804899d05b96fc72b9474404fab330365ca09/seminar_02/pics/architecture.png)\n",
    "\n",
    "There are several ways to do it right. Shapes could be `x_batch.shape = (batch_size, 2*window_size)`, `y_batch.shape = (batch_size,)` for CBOW or `(batch_size,)`, `(batch_size,)` for Skip-Gram. You should **not** do negative sampling here.\n",
    "\n",
    "They should be adequately parametrized: CBOW(window_size, ...), SkipGram(window_size, ...). You should implement only one batcher in this task; and it's up to you which one to chose.\n",
    "\n",
    "Useful links:\n",
    "1. [Word2Vec Tutorial - The Skip-Gram Model](http://mccormickml.com/2016/04/19/word2vec-tutorial-the-skip-gram-model/)\n",
    "1. [Efficient Estimation of Word Representations in Vector Space](https://arxiv.org/pdf/1301.3781.pdf)\n",
    "1. [Distributed Representations of Words and Phrases and their Compositionality](http://papers.nips.cc/paper/5021-distributed-representations-of-words-and-phrases-and-their-compositionality.pdf)\n",
    "\n",
    "You can write the code in this notebook, or in a separate file. It can be reused for the next task. The result of your work should represent that your batch has a proper structure (right shapes) and content (words should be from one context, not some random indices). To show that, translate indices back to words and print them to show something like this:\n",
    "\n",
    "```\n",
    "text = ['first', 'used', 'against', 'early', 'working', 'class', 'radicals', 'including']\n",
    "\n",
    "window_size = 2\n",
    "\n",
    "# CBOW:\n",
    "indices_to_words(x_batch) = \\\n",
    "        [['first', 'used', 'early', 'working'],\n",
    "        ['used', 'against', 'working', 'class'],\n",
    "        ['against', 'early', 'class', 'radicals'],\n",
    "        ['early', 'working', 'radicals', 'including']]\n",
    "\n",
    "indices_to_words(labels_batch) = ['against', 'early', 'working', 'class']\n",
    "\n",
    "# Skip-Gram\n",
    "\n",
    "indices_to_words(x_batch) = ['against', 'early', 'working', 'class']\n",
    "\n",
    "indices_to_words(labels_batch) = ['used', 'working', 'early', 'radicals']]\n",
    "\n",
    "```\n",
    "\n",
    "If you struggle with something, ask your neighbor. If it is not obvious for you, probably someone else is looking for the answer too. And in contrast, if you see that you can help someone - do it! Good luck!"
   ]
  },
  {
   "cell_type": "code",
   "execution_count": 1,
   "metadata": {},
   "outputs": [],
   "source": [
    "from collections import Counter\n",
    "from nltk.tokenize import word_tokenize\n",
    "from nltk.corpus import stopwords\n",
    "from operator import itemgetter\n",
    "import numpy as np"
   ]
  },
  {
   "cell_type": "code",
   "execution_count": 2,
   "metadata": {},
   "outputs": [
    {
     "name": "stdout",
     "output_type": "stream",
     "text": [
      " anarchism originate\n"
     ]
    }
   ],
   "source": [
    "with open('text8','r',encoding='utf8') as f:\n",
    "    data = f.read()\n",
    "print(data[:20])"
   ]
  },
  {
   "cell_type": "code",
   "execution_count": 3,
   "metadata": {},
   "outputs": [
    {
     "name": "stdout",
     "output_type": "stream",
     "text": [
      "['anarchism', 'originated', 'as', 'a', 'term', 'of', 'abuse', 'first', 'used', 'against', 'early', 'working', 'class', 'radicals', 'including', 'the', 'diggers', 'of', 'the', 'english']\n"
     ]
    }
   ],
   "source": [
    "words = word_tokenize(data)\n",
    "print(words[:20])"
   ]
  },
  {
   "cell_type": "code",
   "execution_count": 4,
   "metadata": {},
   "outputs": [],
   "source": [
    "counted = Counter(words)"
   ]
  },
  {
   "cell_type": "code",
   "execution_count": 5,
   "metadata": {},
   "outputs": [
    {
     "name": "stdout",
     "output_type": "stream",
     "text": [
      "[('the', 1061396), ('of', 593677), ('and', 416629), ('one', 411764), ('in', 372201), ('a', 325873), ('to', 316376), ('zero', 264975), ('nine', 250430), ('two', 192644)]\n"
     ]
    }
   ],
   "source": [
    "print(counted.most_common(10))"
   ]
  },
  {
   "cell_type": "code",
   "execution_count": 6,
   "metadata": {},
   "outputs": [
    {
     "name": "stdout",
     "output_type": "stream",
     "text": [
      "[('brau', 4), ('buryats', 4), ('eshira', 4), ('gruzim', 4), ('italkim', 4), ('koyukon', 4), ('mentawai', 4), ('minangkabau', 4), ('myene', 4), ('parsi', 4), ('rappahannock', 4), ('shangaan', 4), ('yakut', 4), ('lfur', 4), ('jealousies', 4), ('steim', 4), ('shamela', 4), ('brust', 4), ('ewds', 4), ('photocopied', 4), ('waukegan', 4), ('clenching', 4), ('empathogen', 4), ('oma', 4), ('fotw', 4), ('redoubtable', 4), ('dateformat', 4), ('spiele', 4), ('lumbricus', 4), ('lumbricidae', 4), ('megascolecidae', 4), ('waterlogged', 4), ('basswood', 4), ('dusts', 4), ('sovereignties', 4), ('canandaigua', 4), ('chemung', 4), ('chenango', 4), ('xylose', 4), ('slowhand', 4), ('surbiton', 4), ('bluesbreakers', 4), ('engrish', 4), ('nmci', 4), ('bethnal', 4), ('missives', 4), ('quam', 4), ('oenoanda', 4), ('philodemus', 4), ('kohima', 4)]\n"
     ]
    }
   ],
   "source": [
    "print(sorted(counted.items(), key=itemgetter(1), reverse=False)[180000:180050])"
   ]
  },
  {
   "cell_type": "code",
   "execution_count": 7,
   "metadata": {},
   "outputs": [],
   "source": [
    "stop_words = set(stopwords.words('english'))"
   ]
  },
  {
   "cell_type": "code",
   "execution_count": 8,
   "metadata": {},
   "outputs": [],
   "source": [
    "vocab = [word[0] for word in counted.items() if word[0] not in stop_words and word[1]>1]"
   ]
  },
  {
   "cell_type": "code",
   "execution_count": 9,
   "metadata": {},
   "outputs": [
    {
     "name": "stdout",
     "output_type": "stream",
     "text": [
      "135179\n",
      "['anarchism', 'originated', 'term', 'abuse', 'first', 'used', 'early', 'working', 'class', 'radicals', 'including', 'diggers', 'english', 'revolution', 'sans', 'culottes', 'french', 'whilst', 'still', 'pejorative', 'way', 'describe', 'act', 'violent', 'means', 'destroy', 'organization', 'society', 'also', 'taken', 'positive', 'label', 'self', 'defined', 'anarchists', 'word', 'derived', 'greek', 'without', 'archons', 'ruler', 'chief', 'king', 'political', 'philosophy', 'belief', 'rulers', 'unnecessary', 'abolished', 'although']\n"
     ]
    }
   ],
   "source": [
    "print(len(vocab))\n",
    "print(vocab[:50])"
   ]
  },
  {
   "cell_type": "code",
   "execution_count": 10,
   "metadata": {},
   "outputs": [],
   "source": [
    "word2index = { word : i for i, word in enumerate(vocab)}\n",
    "index2word = { i : word for i, word in enumerate(vocab)}"
   ]
  },
  {
   "cell_type": "code",
   "execution_count": 11,
   "metadata": {},
   "outputs": [
    {
     "name": "stdout",
     "output_type": "stream",
     "text": [
      "0\n"
     ]
    }
   ],
   "source": [
    "print(word2index['anarchism'])"
   ]
  },
  {
   "cell_type": "code",
   "execution_count": 12,
   "metadata": {},
   "outputs": [
    {
     "name": "stdout",
     "output_type": "stream",
     "text": [
      "anarchism\n"
     ]
    }
   ],
   "source": [
    "print(index2word[0])"
   ]
  },
  {
   "cell_type": "code",
   "execution_count": 13,
   "metadata": {},
   "outputs": [],
   "source": [
    "class CBOWBatcher():\n",
    "    def __init__(self,vocab,batch_size=4,window_size=2):\n",
    "        self.batch_size=batch_size\n",
    "        self.window_size=window_size\n",
    "        self.word2index = { word : i for i, word in enumerate(vocab)}\n",
    "        self.index2word = { i : word for i, word in enumerate(vocab)} \n",
    "        \n",
    "    def make_batches(self,text):\n",
    "        x_batches, y_batches = [],[]\n",
    "        x_batch, y_batch = [], []\n",
    "        for i, word in enumerate(text):\n",
    "            if i<self.window_size:\n",
    "                words_left = ['START' for i in range(self.window_size-i)]+text[:i]\n",
    "            else:\n",
    "                words_left = text[i-self.window_size:i]\n",
    "            words_right = text[i+1:i+self.window_size+1]\n",
    "            if len(words_right) < self.window_size:\n",
    "                words_right = words_right + ['END' for i in range(self.window_size-len(words_right))]\n",
    "            x_indexed = [self.word2index.get(word_in_window,-1) for word_in_window in words_left+words_right]\n",
    "            if len(x_batch)==self.batch_size:\n",
    "                x_batches.append(np.array(x_batch))\n",
    "                y_batches.append(np.array(y_batch))\n",
    "                x_batch, y_batch = [], []\n",
    "            x_batch.append(x_indexed)\n",
    "            y_batch.append(self.word2index.get(word,-1))   \n",
    "        x_batches.append(np.array(x_batch))\n",
    "        y_batches.append(np.array(y_batch))\n",
    "        return x_batches, y_batches\n",
    "    \n",
    "    def indices_to_words(self,batch):\n",
    "        batch_ndim = batch.ndim\n",
    "        if batch_ndim == 1: # y_batch\n",
    "            return [self.index2word.get(y,'UNK') for y in batch]\n",
    "        else:\n",
    "            if batch_ndim == 2: # x_batch\n",
    "                out_batch = []\n",
    "                for window in batch:\n",
    "                    out_window = []\n",
    "                    for x in window:\n",
    "                        out_window.append(self.index2word.get(x,'UNK'))\n",
    "                    out_batch.append(out_window)\n",
    "                return out_batch\n",
    "            else:\n",
    "                raise ValueError(\"Wrong dimension\")"
   ]
  },
  {
   "cell_type": "code",
   "execution_count": 14,
   "metadata": {},
   "outputs": [
    {
     "name": "stdout",
     "output_type": "stream",
     "text": [
      "[['UNK', 'UNK', 'used', 'UNK'], ['UNK', 'first', 'UNK', 'early'], ['first', 'used', 'early', 'working'], ['used', 'UNK', 'working', 'class']]\n",
      "['first', 'used', 'UNK', 'early']\n",
      "[['UNK', 'early', 'class', 'radicals'], ['early', 'working', 'radicals', 'including'], ['working', 'class', 'including', 'UNK'], ['class', 'radicals', 'UNK', 'UNK']]\n",
      "['working', 'class', 'radicals', 'including']\n"
     ]
    }
   ],
   "source": [
    "batcher = CBOWBatcher(vocab)\n",
    "tokenized_text = ['first', 'used', 'against', 'early',\n",
    "                  'working', 'class', 'radicals', 'including'] \n",
    "x_batches, y_batches = batcher.make_batches(tokenized_text)\n",
    "\n",
    "for x_batch, y_batch in zip(x_batches, y_batches):\n",
    "    print(batcher.indices_to_words(x_batch))\n",
    "    print(batcher.indices_to_words(y_batch))\n"
   ]
  }
 ],
 "metadata": {
  "kernelspec": {
   "display_name": "Python 3",
   "language": "python",
   "name": "python3"
  },
  "language_info": {
   "codemirror_mode": {
    "name": "ipython",
    "version": 3
   },
   "file_extension": ".py",
   "mimetype": "text/x-python",
   "name": "python",
   "nbconvert_exporter": "python",
   "pygments_lexer": "ipython3",
   "version": "3.6.4"
  }
 },
 "nbformat": 4,
 "nbformat_minor": 2
}
