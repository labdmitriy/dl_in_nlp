{
 "cells": [
  {
   "cell_type": "markdown",
   "metadata": {},
   "source": [
    "# Naive word2vec\n",
    "\n",
    "This task can be formulated very simply. Follow this [paper](https://arxiv.org/pdf/1411.2738.pdf) and implement word2vec like a two-layer neural network with matrices $W$ and $W'$. One matrix projects words to low-dimensional 'hidden' space and the other - back to high-dimensional vocabulary space.\n",
    "\n",
    "![word2vec](https://i.stack.imgur.com/6eVXZ.jpg)\n",
    "\n",
    "You can use TensorFlow/PyTorch (numpy too, if you love to calculate gradients on your own and want some extra points, but don't forget to numerically check your gradients) and code from your previous task. Again: you don't have to implement negative sampling (you may reduce your vocabulary size for faster computation).\n",
    "\n",
    "**Results of this task**:\n",
    " * trained word vectors (mention somewhere, how long it took to train)\n",
    " * plotted loss (so we can see that it has converged)\n",
    " * function to map token to corresponding word vector\n",
    " * beautiful visualizations (PCE, T-SNE), you can use TensorBoard and play with your vectors in 3D (don't forget to add screenshots to the task)\n",
    " * qualitative evaluations of word vectors: nearest neighbors, word analogies\n",
    "\n",
    "**Extra:**\n",
    " * quantitative evaluation:\n",
    "   * for intrinsic evaluation you can find datasets [here](https://aclweb.org/aclwiki/Analogy_(State_of_the_art))\n",
    "   * for extrincis evaluation you can use [these](https://medium.com/@dataturks/rare-text-classification-open-datasets-9d340c8c508e)\n",
    "\n",
    "Also, you can find any other datasets for quantitative evaluation. If you chose to do this, please use the same datasets across tasks 3, 4, 5 and 6.\n",
    "\n",
    "Again. It is **highly recommended** to read this [paper](https://arxiv.org/pdf/1411.2738.pdf)\n",
    "\n",
    "Example of visualization in tensorboard:\n",
    "https://projector.tensorflow.org\n",
    "\n",
    "Example of 2D visualisation:\n",
    "\n",
    "![2dword2vec](https://www.tensorflow.org/images/tsne.png)\n",
    "\n",
    "If you struggle with something, ask your neighbor. If it is not obvious for you, probably someone else is looking for the answer too. And in contrast, if you see that you can help someone - do it! Good luck!"
   ]
  },
  {
   "cell_type": "code",
   "execution_count": 4,
   "metadata": {},
   "outputs": [],
   "source": [
    "import torch\n",
    "import numpy as np\n",
    "from torch import nn\n",
    "\n",
    "from tqdm import tqdm_notebook as tqdm  # because I love progress bars\n",
    "import time\n",
    "from typing import List, Iterable, Tuple\n",
    "\n",
    "from utils import SkipGramDataGen, Vocab, preprocess\n",
    "\n",
    "import matplotlib.pyplot as plt\n",
    "import seaborn as sns\n",
    "\n",
    "%matplotlib inline"
   ]
  },
  {
   "cell_type": "code",
   "execution_count": 2,
   "metadata": {},
   "outputs": [],
   "source": [
    "class SkipGram(nn.Module):\n",
    "    \"\"\"\n",
    "    Implementing naive skip-gram with naive softmax and all that.\n",
    "    \"\"\"\n",
    "    def __init__(self, vocab_size: int, emb_size: int):\n",
    "        super(SkipGram, self).__init__()\n",
    "        self.emb = nn.Linear(vocab_size + 1, emb_size)\n",
    "        self.out = nn.Linear(emb_size, vocab_size + 1)\n",
    "        self.loss_fn = nn.CrossEntropyLoss()\n",
    "        \n",
    "    def forward(self, x, y):\n",
    "        logits = self.out(self.emb(x))\n",
    "        loss = self.loss_fn(logits, y)\n",
    "        return loss"
   ]
  },
  {
   "cell_type": "code",
   "execution_count": 3,
   "metadata": {},
   "outputs": [],
   "source": [
    "with open(\"text8/text8\", encoding=\"utf-8\") as f:\n",
    "    tokens = preprocess(f.read())"
   ]
  },
  {
   "cell_type": "code",
   "execution_count": 4,
   "metadata": {},
   "outputs": [],
   "source": [
    "# training parameters go here\n",
    "vocab_size = 30000\n",
    "window_size = 5\n",
    "emb_size = 150\n",
    "batch_size = 256\n",
    "n_epochs = 3\n",
    "\n",
    "lr = 3e-4"
   ]
  },
  {
   "cell_type": "code",
   "execution_count": 5,
   "metadata": {},
   "outputs": [],
   "source": [
    "vocab = Vocab(vocab_size)"
   ]
  },
  {
   "cell_type": "code",
   "execution_count": 6,
   "metadata": {},
   "outputs": [],
   "source": [
    "vocab.build([tokens])"
   ]
  },
  {
   "cell_type": "code",
   "execution_count": 7,
   "metadata": {},
   "outputs": [],
   "source": [
    "data = SkipGramDataGen([vocab.numericalize(tokens)], window_size)"
   ]
  },
  {
   "cell_type": "markdown",
   "metadata": {},
   "source": [
    "These results are obtained on a GTX 1050Ti with 4Gb of video RAM."
   ]
  },
  {
   "cell_type": "code",
   "execution_count": 8,
   "metadata": {},
   "outputs": [],
   "source": [
    "device = torch.device(\"cuda\")"
   ]
  },
  {
   "cell_type": "code",
   "execution_count": 9,
   "metadata": {},
   "outputs": [],
   "source": [
    "model = SkipGram(vocab_size, emb_size)"
   ]
  },
  {
   "cell_type": "code",
   "execution_count": 10,
   "metadata": {},
   "outputs": [
    {
     "data": {
      "text/plain": [
       "SkipGram(\n",
       "  (emb): Linear(in_features=30001, out_features=150, bias=True)\n",
       "  (out): Linear(in_features=150, out_features=30001, bias=True)\n",
       "  (loss_fn): CrossEntropyLoss()\n",
       ")"
      ]
     },
     "execution_count": 10,
     "metadata": {},
     "output_type": "execute_result"
    }
   ],
   "source": [
    "model.to(device)"
   ]
  },
  {
   "cell_type": "code",
   "execution_count": 11,
   "metadata": {},
   "outputs": [],
   "source": [
    "def epoch(model: nn.Module, \n",
    "          data: SkipGramDataGen, \n",
    "          loss_history: List, \n",
    "          optimizer, \n",
    "          device, \n",
    "          bs=128, \n",
    "          report_every=3000):\n",
    "    \"\"\"\n",
    "    Run one epoch of training the `model` on `data`.\n",
    "    Loss values for plotting are saved in `loss_history`.\n",
    "    Average batch loss is printed every `report_every` epochs.\n",
    "    \"\"\"\n",
    "    start = time.time()\n",
    "    running_loss = list()\n",
    "    for i, (x, y) in enumerate(tqdm(data.iter_batch(bs))):\n",
    "        optimizer.zero_grad()\n",
    "        x_onehot = torch.zeros((len(x), vocab_size + 1), dtype=torch.float)\n",
    "        for b_i, x_i in enumerate(x):\n",
    "            x_onehot[b_i, x_i] = 1\n",
    "        x = x_onehot.to(device)\n",
    "        # x = torch.tensor(x, dtype=torch.long).to(device)\n",
    "        y = torch.tensor(y, dtype=torch.long).to(device)\n",
    "        loss = model.forward(x, y)\n",
    "        loss.backward()\n",
    "        optimizer.step()\n",
    "        running_loss.append(loss.detach().item())\n",
    "        if (i + 1) % report_every == 0:\n",
    "            avg_loss = sum(running_loss) / len(running_loss)\n",
    "            print(\"Step {}, loss: {}\".format(i + 1, avg_loss))\n",
    "            loss_history.append(avg_loss)\n",
    "            running_loss = list()\n",
    "    print(\"Done. Time: {}. Loss: {}.\".format(time.time() - start, sum(running_loss) / len(running_loss)))"
   ]
  },
  {
   "cell_type": "code",
   "execution_count": 12,
   "metadata": {},
   "outputs": [],
   "source": [
    "optimizer = torch.optim.Adam(model.parameters(), lr=lr)"
   ]
  },
  {
   "cell_type": "code",
   "execution_count": 13,
   "metadata": {},
   "outputs": [],
   "source": [
    "loss_history = list()"
   ]
  },
  {
   "cell_type": "code",
   "execution_count": 14,
   "metadata": {
    "scrolled": true
   },
   "outputs": [
    {
     "name": "stdout",
     "output_type": "stream",
     "text": [
      "Epoch 0\n"
     ]
    },
    {
     "data": {
      "application/vnd.jupyter.widget-view+json": {
       "model_id": "23c0c3bee4c1427dbc2d81ccf5af53a0",
       "version_major": 2,
       "version_minor": 0
      },
      "text/plain": [
       "HBox(children=(IntProgress(value=1, bar_style='info', max=1), HTML(value='')))"
      ]
     },
     "metadata": {},
     "output_type": "display_data"
    },
    {
     "name": "stdout",
     "output_type": "stream",
     "text": [
      "Step 3000, loss: 7.3875992093086245\n",
      "Step 6000, loss: 6.96267570622762\n",
      "Step 9000, loss: 7.052875632286072\n",
      "Step 12000, loss: 7.0497058819135034\n",
      "Step 15000, loss: 7.0228128088315325\n",
      "Step 18000, loss: 7.077516728242238\n",
      "Step 21000, loss: 7.127617728392283\n",
      "Step 24000, loss: 7.10609037399292\n",
      "Step 27000, loss: 7.021129311482111\n",
      "Step 30000, loss: 7.043087442398071\n",
      "Step 33000, loss: 7.038518836100896\n",
      "Step 36000, loss: 7.027354205528895\n",
      "Step 39000, loss: 7.007112335443496\n",
      "Step 42000, loss: 7.048216515223185\n",
      "Step 45000, loss: 7.029642133792241\n",
      "Step 48000, loss: 7.006302008549373\n",
      "Step 51000, loss: 6.771427016099294\n",
      "Step 54000, loss: 6.91207991528511\n",
      "Step 57000, loss: 7.0006279705365495\n",
      "Step 60000, loss: 7.051611096223195\n",
      "Step 63000, loss: 6.884435428937276\n",
      "Step 66000, loss: 6.958953229824702\n",
      "\n",
      "Done. Time: 3123.1942486763. Loss: 7.16827058010414.\n",
      "Epoch 1\n"
     ]
    },
    {
     "data": {
      "application/vnd.jupyter.widget-view+json": {
       "model_id": "182cdaf085af4d4886d8d3323db7f9d7",
       "version_major": 2,
       "version_minor": 0
      },
      "text/plain": [
       "HBox(children=(IntProgress(value=1, bar_style='info', max=1), HTML(value='')))"
      ]
     },
     "metadata": {},
     "output_type": "display_data"
    },
    {
     "name": "stdout",
     "output_type": "stream",
     "text": [
      "Step 3000, loss: 6.988901832262675\n",
      "Step 6000, loss: 6.872721696853637\n",
      "Step 9000, loss: 6.975963743448258\n",
      "Step 12000, loss: 6.974260469436645\n",
      "Step 15000, loss: 6.966116192499797\n",
      "Step 18000, loss: 6.996663290023804\n",
      "Step 21000, loss: 7.052081636110942\n",
      "Step 24000, loss: 7.038831893444061\n",
      "Step 27000, loss: 6.949404897530874\n",
      "Step 30000, loss: 6.972270074367523\n",
      "Step 33000, loss: 6.967763838132223\n",
      "Step 36000, loss: 6.967416904767354\n",
      "Step 39000, loss: 6.933726919253667\n",
      "Step 42000, loss: 6.970297854185104\n",
      "Step 45000, loss: 6.958287430604299\n",
      "Step 48000, loss: 6.936696256160736\n",
      "Step 51000, loss: 6.700063368479411\n",
      "Step 54000, loss: 6.860762179454167\n",
      "Step 57000, loss: 6.928713483015696\n",
      "Step 60000, loss: 6.9948604563077295\n",
      "Step 63000, loss: 6.814509209314982\n",
      "Step 66000, loss: 6.892656874895096\n",
      "\n",
      "Done. Time: 3983.234877347946. Loss: 7.107855239573351.\n",
      "Epoch 2\n"
     ]
    },
    {
     "data": {
      "application/vnd.jupyter.widget-view+json": {
       "model_id": "ac1d46bf44754906a8ab181ceef67b6b",
       "version_major": 2,
       "version_minor": 0
      },
      "text/plain": [
       "HBox(children=(IntProgress(value=1, bar_style='info', max=1), HTML(value='')))"
      ]
     },
     "metadata": {},
     "output_type": "display_data"
    },
    {
     "name": "stdout",
     "output_type": "stream",
     "text": [
      "Step 3000, loss: 6.922785405000051\n",
      "Step 6000, loss: 6.807762603680293\n",
      "Step 9000, loss: 6.917263747771581\n",
      "Step 12000, loss: 6.903588323752086\n",
      "Step 15000, loss: 6.907381263017655\n",
      "Step 18000, loss: 6.9175908846855165\n",
      "Step 21000, loss: 6.978418636480967\n",
      "Step 24000, loss: 6.991267552057902\n",
      "Step 27000, loss: 6.895314680814743\n",
      "Step 30000, loss: 6.912605131467183\n",
      "Step 33000, loss: 6.915523424069087\n",
      "Step 36000, loss: 6.906367408911387\n",
      "Step 39000, loss: 6.879586743513743\n",
      "Step 42000, loss: 6.923332055091858\n",
      "Step 45000, loss: 6.916536564032237\n",
      "Step 48000, loss: 6.893017053206762\n",
      "Step 51000, loss: 6.659048312028249\n",
      "Step 54000, loss: 6.812969190518062\n",
      "Step 57000, loss: 6.886317849636078\n",
      "Step 60000, loss: 6.945779188632965\n",
      "Step 63000, loss: 6.766832848946254\n",
      "Step 66000, loss: 6.85806586432457\n",
      "\n",
      "Done. Time: 3296.429037094116. Loss: 7.083130708064631.\n"
     ]
    }
   ],
   "source": [
    "for i in range(n_epochs):\n",
    "    print(\"Epoch\", i)\n",
    "    epoch(model, data, loss_history, optimizer, device, bs=batch_size)"
   ]
  },
  {
   "cell_type": "code",
   "execution_count": 22,
   "metadata": {},
   "outputs": [],
   "source": [
    "torch.save(model.state_dict(), \"task_3.pth\")"
   ]
  },
  {
   "cell_type": "code",
   "execution_count": 25,
   "metadata": {},
   "outputs": [],
   "source": [
    "def get_embeddings(model: nn.Module, mode: str=\"first\"):\n",
    "    \"\"\"\n",
    "    Get the embeddings from the model. Supported modes are:\n",
    "    `first`: embeddings from the first layer\n",
    "    `second`: embeddings from the (surprise!) second layer\n",
    "    `average`: embeddings from both the layers, averaged.\n",
    "    \"\"\"\n",
    "    if mode == \"first\":\n",
    "        return model.emb.weight.data.clone().detach().t().cpu().numpy()\n",
    "    if mode == \"second\":\n",
    "        return model.out.weight.data.clone().detach().cpu().numpy()\n",
    "    if mode == \"average\":\n",
    "        return (model.emb.weight.data.clone().detach().t().cpu().numpy() + \\\n",
    "            model.out.weight.data.clone().detach().cpu().numpy()) / 2"
   ]
  },
  {
   "cell_type": "markdown",
   "metadata": {},
   "source": [
    "### 1. Trained word vectors \n",
    "\n",
    "As seen from the logs above, it took almost **three hours** to train!"
   ]
  },
  {
   "cell_type": "code",
   "execution_count": 26,
   "metadata": {},
   "outputs": [],
   "source": [
    "embeddings = get_embeddings(model, \"average\")"
   ]
  },
  {
   "cell_type": "code",
   "execution_count": 27,
   "metadata": {},
   "outputs": [
    {
     "data": {
      "text/plain": [
       "(30001, 150)"
      ]
     },
     "execution_count": 27,
     "metadata": {},
     "output_type": "execute_result"
    }
   ],
   "source": [
    "embeddings.shape"
   ]
  },
  {
   "cell_type": "markdown",
   "metadata": {},
   "source": [
    "Let's save them for later:"
   ]
  },
  {
   "cell_type": "code",
   "execution_count": 42,
   "metadata": {},
   "outputs": [],
   "source": [
    "np.save(\"embeddings.np\", embeddings)"
   ]
  },
  {
   "cell_type": "code",
   "execution_count": 45,
   "metadata": {},
   "outputs": [],
   "source": [
    "import pickle\n",
    "\n",
    "with open(\"vocab.pkl\", \"wb\") as f:\n",
    "    pickle.dump(vocab.itos, f)"
   ]
  },
  {
   "cell_type": "markdown",
   "metadata": {},
   "source": [
    "### 2. Plotted loss"
   ]
  },
  {
   "cell_type": "code",
   "execution_count": 140,
   "metadata": {},
   "outputs": [
    {
     "data": {
      "image/png": "[encoded data removed]",
      "text/plain": [
       "<Figure size 576x432 with 1 Axes>"
      ]
     },
     "metadata": {
      "needs_background": "light"
     },
     "output_type": "display_data"
    }
   ],
   "source": [
    "plt.figure(figsize=(8, 6))\n",
    "sns.lineplot(x=[3000*i for i in range(len(loss_history))], y=loss_history)\n",
    "plt.title(\"Train loss\")\n",
    "plt.ylabel(\"Mean batch loss\")\n",
    "plt.xlabel(\"Train step\")\n",
    "plt.show()"
   ]
  },
  {
   "cell_type": "markdown",
   "metadata": {},
   "source": [
    "### 3. Function to map token to corresponding word vector"
   ]
  },
  {
   "cell_type": "code",
   "execution_count": 40,
   "metadata": {},
   "outputs": [],
   "source": [
    "def get_vector(word: str, vocab: Vocab, embeddings: np.array):\n",
    "    assert word in vocab.stoi, \"Word is not in the vocabulary\"\n",
    "    i = vocab.stoi[word]\n",
    "    vec = embeddings[i]\n",
    "    return vec"
   ]
  },
  {
   "cell_type": "code",
   "execution_count": 46,
   "metadata": {},
   "outputs": [
    {
     "data": {
      "text/plain": [
       "(150,)"
      ]
     },
     "execution_count": 46,
     "metadata": {},
     "output_type": "execute_result"
    }
   ],
   "source": [
    "get_vector(\"russia\", vocab, embeddings).shape"
   ]
  },
  {
   "cell_type": "markdown",
   "metadata": {},
   "source": [
    "### 4. Beautiful visualizations (PCE, T-SNE)"
   ]
  },
  {
   "cell_type": "code",
   "execution_count": 18,
   "metadata": {},
   "outputs": [],
   "source": [
    "def most_similar(word: str, vocab: Vocab, embeddings: np.array, n_similar: int) -> List[Tuple[str, int]]:\n",
    "    assert word in vocab.stoi, \"Word is not in the vocabulary\"\n",
    "    i = vocab.stoi[word]\n",
    "    vec = embeddings[i]\n",
    "    # cosine similarity measure:\n",
    "    sims = embeddings @ vec.T \\\n",
    "        / (np.sqrt(np.sum(np.square(embeddings), axis=1)) \\\n",
    "           * np.sqrt(np.sum(np.square(vec)))) \n",
    "    i_to_sim = zip(vocab.itos, sims)\n",
    "    words_by_sim = sorted(i_to_sim, key=lambda x: x[1], reverse=True)\n",
    "    return list(words_by_sim)[:n_similar]"
   ]
  },
  {
   "cell_type": "markdown",
   "metadata": {},
   "source": [
    "T-SNE is a pain to do even on a matrix of this size."
   ]
  },
  {
   "cell_type": "code",
   "execution_count": 52,
   "metadata": {},
   "outputs": [],
   "source": [
    "from sklearn.decomposition import PCA"
   ]
  },
  {
   "cell_type": "code",
   "execution_count": 69,
   "metadata": {},
   "outputs": [
    {
     "data": {
      "text/plain": [
       "PCA(copy=True, iterated_power='auto', n_components=2, random_state=None,\n",
       "  svd_solver='auto', tol=0.0, whiten=False)"
      ]
     },
     "execution_count": 69,
     "metadata": {},
     "output_type": "execute_result"
    }
   ],
   "source": [
    "pca = PCA(2)\n",
    "pca.fit(embeddings)"
   ]
  },
  {
   "cell_type": "code",
   "execution_count": 108,
   "metadata": {},
   "outputs": [],
   "source": [
    "def visualize(embeddings, vocab, words, num_neihgbors, pca):\n",
    "    clusters = list()\n",
    "    for word in words:\n",
    "        clusters.append(most_similar(word, vocab, embeddings, num_neihgbors))\n",
    "\n",
    "    vectors, labels, sims, hues = list(), list(), list(), list()\n",
    "    for i, cluster in enumerate(clusters):\n",
    "        for w, s in cluster:\n",
    "            vectors.append(get_vector(w, vocab, embeddings))\n",
    "            labels.append(w)\n",
    "            sims.append(s)\n",
    "            hues.append(i)\n",
    "\n",
    "    transformed = pca.transform(np.stack(vectors))\n",
    "    \n",
    "    return transformed[:, 0], transformed[:, 1], labels, sims, hues"
   ]
  },
  {
   "cell_type": "code",
   "execution_count": 136,
   "metadata": {},
   "outputs": [],
   "source": [
    "words_to_vis = [\"cat\", \"russia\", \"scientist\"]"
   ]
  },
  {
   "cell_type": "code",
   "execution_count": 137,
   "metadata": {},
   "outputs": [
    {
     "data": {
      "image/png": "[encoded data removed]",
      "text/plain": [
       "<Figure size 648x648 with 1 Axes>"
      ]
     },
     "metadata": {
      "needs_background": "light"
     },
     "output_type": "display_data"
    }
   ],
   "source": [
    "x, y, labels, sims, hues = visualize(embeddings, vocab, words_to_vis, 10, pca)\n",
    "\n",
    "plt.figure(figsize=(9, 9))\n",
    "plt_colors = ['b', 'g', 'r', 'c', 'm', 'y', 'k']  # this is how many clusters you can get\n",
    "offs = 0.02\n",
    "\n",
    "for i in range(len(labels)):\n",
    "    plt.scatter(x[i], y[i], c=plt_colors[hues[i]])\n",
    "    plt.text(x[i] + offs, y[i] + offs, labels[i], fontsize=9)\n",
    "\n",
    "plt.title(f\"Neighbour cluster for words: {', '.join(words_to_vis)}\")\n",
    "plt.show()"
   ]
  },
  {
   "cell_type": "markdown",
   "metadata": {},
   "source": [
    "Apart from restaurant somehow being similar to cat, looks fine!"
   ]
  },
  {
   "cell_type": "markdown",
   "metadata": {},
   "source": [
    "### 5. Qualitative evaluations of word vectors: nearest neighbors, word analogies"
   ]
  },
  {
   "cell_type": "code",
   "execution_count": 16,
   "metadata": {},
   "outputs": [],
   "source": [
    "def most_similar_to_vec(vec, vocab, embeddings, n_similar):\n",
    "    sims = embeddings @ vec.T \\\n",
    "        / (np.sqrt(np.sum(np.square(embeddings), axis=1)) \\\n",
    "           * np.sqrt(np.sum(np.square(vec)))) \n",
    "    i_to_sim = zip(vocab.itos, sims)\n",
    "    words_by_sim = sorted(i_to_sim, key=lambda x: x[1], reverse=True)\n",
    "    return list(words_by_sim)[:n_similar]\n",
    "\n",
    "def solve_analogy(embeddings: np.ndarray, vocab: Vocab, task: List[str]) -> Tuple[str, float]:\n",
    "    \"\"\"\n",
    "    Return the word d from `a to b is like c to d`, given a, b, c in the task list\n",
    "    \"\"\"\n",
    "    indices = [vocab.stoi[w] for w in task]\n",
    "    vectors = embeddings[indices]\n",
    "    query = vectors[1] - vectors[0] + vectors [2]\n",
    "    closest = most_similar_to_vec(query, vocab, embeddings, 4)\n",
    "    for c in closest:\n",
    "        if c[0] not in task:\n",
    "            return c"
   ]
  },
  {
   "cell_type": "markdown",
   "metadata": {},
   "source": [
    "#### Nearest neighbours "
   ]
  },
  {
   "cell_type": "code",
   "execution_count": 202,
   "metadata": {},
   "outputs": [
    {
     "data": {
      "text/plain": [
       "[('russia', 1.0),\n",
       " ('poland', 0.9163953),\n",
       " ('turkey', 0.90022814),\n",
       " ('hungary', 0.89238894),\n",
       " ('ukraine', 0.890954),\n",
       " ('italy', 0.8897804),\n",
       " ('switzerland', 0.88882756),\n",
       " ('netherlands', 0.88637286),\n",
       " ('norway', 0.8860279),\n",
       " ('sweden', 0.88526994)]"
      ]
     },
     "execution_count": 202,
     "metadata": {},
     "output_type": "execute_result"
    }
   ],
   "source": [
    "most_similar(\"russia\", vocab, embeddings, 10)"
   ]
  },
  {
   "cell_type": "markdown",
   "metadata": {},
   "source": [
    "Word2vec is always good at countries."
   ]
  },
  {
   "cell_type": "code",
   "execution_count": 203,
   "metadata": {},
   "outputs": [
    {
     "data": {
      "text/plain": [
       "[('table', 1.0000001),\n",
       " ('periodic', 0.91867024),\n",
       " ('sequence', 0.904523),\n",
       " ('diagram', 0.9040695),\n",
       " ('graph', 0.8997405),\n",
       " ('sample', 0.8967556),\n",
       " ('continuous', 0.8954403),\n",
       " ('corresponding', 0.8946259),\n",
       " ('dimension', 0.89257026),\n",
       " ('binary', 0.8907469)]"
      ]
     },
     "execution_count": 203,
     "metadata": {},
     "output_type": "execute_result"
    }
   ],
   "source": [
    "most_similar(\"table\", vocab, embeddings, 10)"
   ]
  },
  {
   "cell_type": "markdown",
   "metadata": {},
   "source": [
    "Here we see that the embeddings are trained on Wikipedia - table is rows and columns, not what you eat at :)"
   ]
  },
  {
   "cell_type": "code",
   "execution_count": 204,
   "metadata": {},
   "outputs": [
    {
     "data": {
      "text/plain": [
       "[('mars', 0.99999994),\n",
       " ('venus', 0.9636722),\n",
       " ('saturn', 0.9518058),\n",
       " ('mercury', 0.9496955),\n",
       " ('mirror', 0.94619775),\n",
       " ('planet', 0.9459914),\n",
       " ('orbital', 0.9414874),\n",
       " ('belt', 0.9409709),\n",
       " ('photograph', 0.93988013),\n",
       " ('replica', 0.93963087)]"
      ]
     },
     "execution_count": 204,
     "metadata": {},
     "output_type": "execute_result"
    }
   ],
   "source": [
    "most_similar(\"mars\", vocab, embeddings, 10)"
   ]
  },
  {
   "cell_type": "markdown",
   "metadata": {},
   "source": [
    "Not bad."
   ]
  },
  {
   "cell_type": "code",
   "execution_count": 205,
   "metadata": {},
   "outputs": [
    {
     "data": {
      "text/plain": [
       "[('screen', 1.0000001),\n",
       " ('camera', 0.9480102),\n",
       " ('window', 0.94738644),\n",
       " ('tape', 0.9471782),\n",
       " ('drawing', 0.9394611),\n",
       " ('display', 0.9379703),\n",
       " ('keyboard', 0.937527),\n",
       " ('drives', 0.9371675),\n",
       " ('box', 0.93697983),\n",
       " ('wheel', 0.9359227)]"
      ]
     },
     "execution_count": 205,
     "metadata": {},
     "output_type": "execute_result"
    }
   ],
   "source": [
    "most_similar(\"screen\", vocab, embeddings, 10)"
   ]
  },
  {
   "cell_type": "markdown",
   "metadata": {},
   "source": [
    "Screen is a an electronic part, but also it is wind screen, that is the front window in the car, and also sun screen, so there are a lot of meanings captured here."
   ]
  },
  {
   "cell_type": "markdown",
   "metadata": {},
   "source": [
    "#### Word analogies "
   ]
  },
  {
   "cell_type": "code",
   "execution_count": 206,
   "metadata": {},
   "outputs": [
    {
     "data": {
      "text/plain": [
       "('sister', 0.9669646)"
      ]
     },
     "execution_count": 206,
     "metadata": {},
     "output_type": "execute_result"
    }
   ],
   "source": [
    "task = [\"son\", \"brother\", \"daughter\"]\n",
    "solve_analogy(embeddings, vocab, task)"
   ]
  },
  {
   "cell_type": "markdown",
   "metadata": {},
   "source": [
    "Did 10 attempts before I cherry-picked this one."
   ]
  },
  {
   "cell_type": "code",
   "execution_count": 207,
   "metadata": {},
   "outputs": [
    {
     "data": {
      "text/plain": [
       "('russia', 0.9011416)"
      ]
     },
     "execution_count": 207,
     "metadata": {},
     "output_type": "execute_result"
    }
   ],
   "source": [
    "task = [\"paris\", \"france\", \"moscow\"]\n",
    "solve_analogy(embeddings, vocab, task)"
   ]
  },
  {
   "cell_type": "markdown",
   "metadata": {},
   "source": [
    "About ten attempts too :)"
   ]
  },
  {
   "cell_type": "markdown",
   "metadata": {},
   "source": [
    "### Extra: intrinsic evaluation with Google analogies "
   ]
  },
  {
   "cell_type": "code",
   "execution_count": 13,
   "metadata": {},
   "outputs": [],
   "source": [
    "with open(\"questions-words.txt\", encoding=\"utf-8\") as f:\n",
    "    pairs = f.read().strip().lower().split(\"\\n\")"
   ]
  },
  {
   "cell_type": "code",
   "execution_count": 14,
   "metadata": {},
   "outputs": [],
   "source": [
    "from collections import defaultdict\n",
    "tasks = defaultdict(list)\n",
    "\n",
    "current_task = \"\"\n",
    "for line in pairs:\n",
    "    line = line.strip()\n",
    "    if line.startswith(\":\"):\n",
    "        current_task = line\n",
    "    else:\n",
    "        tasks[current_task].append(line.split(\" \"))"
   ]
  },
  {
   "cell_type": "code",
   "execution_count": 17,
   "metadata": {},
   "outputs": [],
   "source": [
    "stats = dict()\n",
    "for task in tasks:\n",
    "    stats[task] = {\"total\": len(tasks[task]), \"done\": 0, \"not_found\": 0}\n",
    "    for t in tasks[task]:\n",
    "        try:\n",
    "            res, _ = solve_analogy(embeddings, vocab, t[:3])\n",
    "            if res == t[3]:\n",
    "                stats[task][\"done\"] += 1\n",
    "        except KeyError as e:\n",
    "            stats[task][\"not_found\"] += 1# some of the words are not found in the vocab, so we don't get a point"
   ]
  },
  {
   "cell_type": "code",
   "execution_count": 18,
   "metadata": {},
   "outputs": [
    {
     "data": {
      "text/plain": [
       "{': capital-common-countries': {'total': 506, 'done': 57, 'not_found': 0},\n",
       " ': capital-world': {'total': 4524, 'done': 86, 'not_found': 3072},\n",
       " ': currency': {'total': 866, 'done': 0, 'not_found': 377},\n",
       " ': city-in-state': {'total': 2467, 'done': 70, 'not_found': 896},\n",
       " ': family': {'total': 506, 'done': 80, 'not_found': 164},\n",
       " ': gram1-adjective-to-adverb': {'total': 992, 'done': 21, 'not_found': 124},\n",
       " ': gram2-opposite': {'total': 812, 'done': 5, 'not_found': 326},\n",
       " ': gram3-comparative': {'total': 1332, 'done': 134, 'not_found': 36},\n",
       " ': gram4-superlative': {'total': 1122, 'done': 32, 'not_found': 386},\n",
       " ': gram5-present-participle': {'total': 1056, 'done': 57, 'not_found': 32},\n",
       " ': gram6-nationality-adjective': {'total': 1599,\n",
       "  'done': 325,\n",
       "  'not_found': 117},\n",
       " ': gram7-past-tense': {'total': 1560, 'done': 74, 'not_found': 117},\n",
       " ': gram8-plural': {'total': 1332, 'done': 129, 'not_found': 244},\n",
       " ': gram9-plural-verbs': {'total': 870, 'done': 34, 'not_found': 116}}"
      ]
     },
     "execution_count": 18,
     "metadata": {},
     "output_type": "execute_result"
    }
   ],
   "source": [
    "stats"
   ]
  },
  {
   "cell_type": "code",
   "execution_count": 29,
   "metadata": {},
   "outputs": [
    {
     "name": "stdout",
     "output_type": "stream",
     "text": [
      ": capital-common-countries:  11.26%\n",
      ": capital-world:  1.90%\n",
      ": currency:  0.00%\n",
      ": city-in-state:  2.84%\n",
      ": family:  15.81%\n",
      ": gram1-adjective-to-adverb:  2.12%\n",
      ": gram2-opposite:  0.62%\n",
      ": gram3-comparative:  10.06%\n",
      ": gram4-superlative:  2.85%\n",
      ": gram5-present-participle:  5.40%\n",
      ": gram6-nationality-adjective:  20.33%\n",
      ": gram7-past-tense:  4.74%\n",
      ": gram8-plural:  9.68%\n",
      ": gram9-plural-verbs:  3.91%\n",
      "Total:  5.65%\n"
     ]
    }
   ],
   "source": [
    "done = 0\n",
    "total = 0\n",
    "for stat in stats:\n",
    "    name = stat\n",
    "    stat = stats[name]\n",
    "    acc = stat[\"done\"] / stat[\"total\"]\n",
    "    done += stat[\"done\"]\n",
    "    total += stat[\"total\"]\n",
    "    print(f\"{name}: {acc: .2%}\")\n",
    "print(f\"Total: {done/total: .2%}\")"
   ]
  }
 ],
 "metadata": {
  "kernelspec": {
   "display_name": "Python 3",
   "language": "python",
   "name": "python3"
  },
  "language_info": {
   "codemirror_mode": {
    "name": "ipython",
    "version": 3
   },
   "file_extension": ".py",
   "mimetype": "text/x-python",
   "name": "python",
   "nbconvert_exporter": "python",
   "pygments_lexer": "ipython3",
   "version": "3.6.6"
  }
 },
 "nbformat": 4,
 "nbformat_minor": 2
}
