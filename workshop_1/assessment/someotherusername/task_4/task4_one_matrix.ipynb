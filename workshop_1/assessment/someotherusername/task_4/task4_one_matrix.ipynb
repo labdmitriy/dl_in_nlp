{
 "cells": [
  {
   "cell_type": "markdown",
   "metadata": {},
   "source": [
    "# Word2vec only with one matrix\n",
    "\n",
    "Choose CBOW/Skip-Gram again. Implement it, but now without second `h_dim x vocab_size` matrix. Remember what was the loss function in Stanford lecture.\n",
    "\n",
    "$$ L = - \\frac{1}{T} \\sum_{t=1}^T \\sum_{-m <= j <= m, j \\ne 0} log P(w_{t+j}|w_{t+j-m})$$\n",
    "\n",
    "\n",
    "$$ P(w_h | w_i) = \\frac{exp(s(v_i, v_h))}{\\sum exp(s(v_i, v_w))}$$\n",
    "\n",
    "Where $s(x, y)$ is a similarity function. It is common to use dot-product here $s(x, y) = s^Ty$. The sum in the denominator is across all vocabulary for $P$ to be a probability distribution.\n",
    "\n",
    "Look to this formula closer. There is no projection back to vocabulary dimension in the loss! So, we can reduce the number of parameters by the factor of two by not using the second matrix $W'$. Your new task is to code CBOW / SkipGram with this loss.\n",
    "\n",
    "**Main idea:**\n",
    "\n",
    "We project word vectors to some space. Next, we work with the space itself. We update projection matrix weights so that similar (in the terms of Distributional semantics) words have similar vectors in that space. We don't need to solve classification task explicitly here.\n",
    "\n",
    "**Tip:**\n",
    "\n",
    "Work with matrix operations and not with nn.layers / keras.layers.\n",
    "\n",
    "**Results of this task** (the very same as in task 3):\n",
    " * trained word vectors (mention somewhere, how long it took to train)\n",
    " * plotted loss (so we can see that it has converged)\n",
    " * function to map token to corresponding word vector\n",
    " * beautiful visualizations (PCE, T-SNE), you can use TensorBoard and play with your vectors in 3D (don't forget to add screenshots to the task)\n",
    " * qualitative evaluations of word vectors: nearest neighbors, word analogies\n",
    "\n",
    "\n",
    "**Extra:**\n",
    " * quantitative evaluation:\n",
    "   * for intrinsic evaluation you can find datasets [here](https://aclweb.org/aclwiki/Analogy_(State_of_the_art))\n",
    "   * for extrincis evaluation you can use [these](https://medium.com/@dataturks/rare-text-classification-open-datasets-9d340c8c508e)\n",
    "\n",
    "\n",
    "\n",
    "Supplementary materials:\n",
    "  * [cs224n winter 2017 lecture 2 video](https://www.youtube.com/watch?v=ERibwqs9p38&list=PL3FW7Lu3i5Jsnh1rnUwq_TcylNr7EkRe6&index=2)\n",
    "  * [cs224n winter 2019 lecture 1 slides](http://web.stanford.edu/class/cs224n/slides/cs224n-2019-lecture01-wordvecs1.pdf)"
   ]
  },
  {
   "cell_type": "code",
   "execution_count": 1,
   "metadata": {},
   "outputs": [],
   "source": [
    "import torch\n",
    "import numpy as np\n",
    "from torch import nn\n",
    "import torch.autograd\n",
    "\n",
    "from tqdm import tqdm_notebook as tqdm  # because I love progress bars\n",
    "import time\n",
    "from typing import List, Iterable, Tuple\n",
    "\n",
    "from utils import SkipGramDataGen, Vocab, preprocess\n",
    "\n",
    "import matplotlib.pyplot as plt\n",
    "import seaborn as sns\n",
    "\n",
    "%matplotlib inline"
   ]
  },
  {
   "cell_type": "code",
   "execution_count": 2,
   "metadata": {},
   "outputs": [],
   "source": [
    "device = torch.device(\"cuda\")"
   ]
  },
  {
   "cell_type": "code",
   "execution_count": 3,
   "metadata": {},
   "outputs": [],
   "source": [
    "def batch_dot(a, b):\n",
    "    \"\"\"\n",
    "    Calculate dot product between vectors in a batch\n",
    "    \"\"\"\n",
    "    return torch.sum(a * b, dim=1)\n",
    "\n",
    "class SkipGramOneMatrix(nn.Module):\n",
    "    \"\"\"\n",
    "    Implementing naive skip-gram with only one weight matrix and some\n",
    "    monstruous functions.\n",
    "    \"\"\"\n",
    "    def __init__(self, vocab_size: int, emb_size: int):\n",
    "        super(SkipGramOneMatrix, self).__init__()\n",
    "        self.emb = torch.empty((vocab_size + 1, emb_size), dtype=torch.float, requires_grad=True, device=device)\n",
    "        nn.init.xavier_normal_(self.emb)\n",
    "    \n",
    "    def forward(self, x, y):\n",
    "        word_vec = self.emb[[x]]\n",
    "        context_vec = self.emb[[y]]\n",
    "        sims = torch.exp(batch_dot(word_vec, context_vec))\n",
    "        all_sims = torch.sum(torch.exp(self.emb @ word_vec.t()), dim=0)\n",
    "        # we could use mean, but let's use sum just for a change\n",
    "        loss = -torch.sum(torch.log(sims / all_sims))\n",
    "        return loss"
   ]
  },
  {
   "cell_type": "code",
   "execution_count": 4,
   "metadata": {},
   "outputs": [],
   "source": [
    "with open(\"text8/text8\", encoding=\"utf-8\") as f:\n",
    "    tokens = preprocess(f.read())"
   ]
  },
  {
   "cell_type": "code",
   "execution_count": 5,
   "metadata": {},
   "outputs": [],
   "source": [
    "# training parameters go here\n",
    "vocab_size = 30000\n",
    "window_size = 5\n",
    "emb_size = 150\n",
    "batch_size = 256\n",
    "n_epochs = 3\n",
    "\n",
    "lr = 3e-4"
   ]
  },
  {
   "cell_type": "code",
   "execution_count": 6,
   "metadata": {},
   "outputs": [],
   "source": [
    "vocab = Vocab(vocab_size)"
   ]
  },
  {
   "cell_type": "code",
   "execution_count": 7,
   "metadata": {},
   "outputs": [],
   "source": [
    "vocab.build([tokens])"
   ]
  },
  {
   "cell_type": "code",
   "execution_count": 8,
   "metadata": {},
   "outputs": [],
   "source": [
    "data = SkipGramDataGen([vocab.numericalize(tokens)], window_size)"
   ]
  },
  {
   "cell_type": "code",
   "execution_count": 9,
   "metadata": {},
   "outputs": [],
   "source": [
    "model = SkipGramOneMatrix(vocab_size, emb_size)"
   ]
  },
  {
   "cell_type": "code",
   "execution_count": 10,
   "metadata": {},
   "outputs": [
    {
     "data": {
      "text/plain": [
       "SkipGramOneMatrix()"
      ]
     },
     "execution_count": 10,
     "metadata": {},
     "output_type": "execute_result"
    }
   ],
   "source": [
    "model.to(device)"
   ]
  },
  {
   "cell_type": "code",
   "execution_count": 11,
   "metadata": {},
   "outputs": [],
   "source": [
    "def epoch(model: nn.Module, \n",
    "          data: SkipGramDataGen, \n",
    "          loss_history: List, \n",
    "          optimizer, \n",
    "          device, \n",
    "          bs=128, \n",
    "          report_every=3000):\n",
    "    \"\"\"\n",
    "    Run one epoch of training the `model` on `data`.\n",
    "    Loss values for plotting are saved in `loss_history`.\n",
    "    Average batch loss is printed every `report_every` epochs.\n",
    "    \"\"\"\n",
    "    start = time.time()\n",
    "    running_loss = list()\n",
    "    for i, (x, y) in enumerate(tqdm(data.iter_batch(bs))):\n",
    "        optimizer.zero_grad()\n",
    "\n",
    "        x = torch.tensor(x, dtype=torch.long).to(device)\n",
    "        y = torch.tensor(y, dtype=torch.long).to(device)\n",
    "        loss = model.forward(x, y)\n",
    "        loss.backward()\n",
    "        optimizer.step()\n",
    "        running_loss.append(loss.detach().item())\n",
    "        if (i + 1) % report_every == 0:\n",
    "            avg_loss = sum(running_loss) / len(running_loss)\n",
    "            print(\"Step {}, loss: {}\".format(i + 1, avg_loss))\n",
    "            loss_history.append(avg_loss)\n",
    "            running_loss = list()\n",
    "    print(\"Done. Time: {}. Loss: {}.\".format(time.time() - start, sum(running_loss) / len(running_loss)))"
   ]
  },
  {
   "cell_type": "code",
   "execution_count": 12,
   "metadata": {},
   "outputs": [],
   "source": [
    "optimizer = torch.optim.Adam([model.emb], lr=lr)"
   ]
  },
  {
   "cell_type": "code",
   "execution_count": 13,
   "metadata": {},
   "outputs": [],
   "source": [
    "loss_history = list()"
   ]
  },
  {
   "cell_type": "code",
   "execution_count": 14,
   "metadata": {},
   "outputs": [
    {
     "name": "stdout",
     "output_type": "stream",
     "text": [
      "Epoch 0\n"
     ]
    },
    {
     "data": {
      "application/vnd.jupyter.widget-view+json": {
       "model_id": "0f02c2dfc16f4d0c80523c5a9bb74aa1",
       "version_major": 2,
       "version_minor": 0
      },
      "text/plain": [
       "HBox(children=(IntProgress(value=1, bar_style='info', max=1), HTML(value='')))"
      ]
     },
     "metadata": {},
     "output_type": "display_data"
    },
    {
     "name": "stdout",
     "output_type": "stream",
     "text": [
      "Step 3000, loss: 2325.173334513346\n",
      "Step 6000, loss: 2148.6599114176433\n",
      "Step 9000, loss: 2116.863825032552\n",
      "Step 12000, loss: 2075.8498862304687\n",
      "Step 15000, loss: 2044.8669871012369\n",
      "Step 18000, loss: 2033.2776995849608\n",
      "Step 21000, loss: 2042.966075439453\n",
      "Step 24000, loss: 2026.5704173177082\n",
      "Step 27000, loss: 1997.3315909220378\n",
      "Step 30000, loss: 1993.380203857422\n",
      "Step 33000, loss: 1989.216983601888\n",
      "Step 36000, loss: 1982.9000609537761\n",
      "Step 39000, loss: 1969.5830196329753\n",
      "Step 42000, loss: 1980.1956293131511\n",
      "Step 45000, loss: 1975.1466612955728\n",
      "Step 48000, loss: 1958.3181770629883\n",
      "Step 51000, loss: 1904.287537068685\n",
      "Step 54000, loss: 1941.3483610026042\n",
      "Step 57000, loss: 1961.3153204752605\n",
      "Step 60000, loss: 1978.7149431559244\n",
      "Step 63000, loss: 1926.7557246704102\n",
      "Step 66000, loss: 1950.6998070882162\n",
      "\n",
      "Done. Time: 1185.771110534668. Loss: 2002.340636778213.\n",
      "Epoch 1\n"
     ]
    },
    {
     "data": {
      "application/vnd.jupyter.widget-view+json": {
       "model_id": "7202ad18bac3416a84fa9f3f8f462a05",
       "version_major": 2,
       "version_minor": 0
      },
      "text/plain": [
       "HBox(children=(IntProgress(value=1, bar_style='info', max=1), HTML(value='')))"
      ]
     },
     "metadata": {},
     "output_type": "display_data"
    },
    {
     "name": "stdout",
     "output_type": "stream",
     "text": [
      "Step 3000, loss: 1955.8210080566407\n",
      "Step 6000, loss: 1926.8565861002605\n",
      "Step 9000, loss: 1954.214504760742\n",
      "Step 12000, loss: 1952.8330803629558\n",
      "Step 15000, loss: 1950.9229235839844\n",
      "Step 18000, loss: 1953.6765803629557\n",
      "Step 21000, loss: 1977.9598466389973\n",
      "Step 24000, loss: 1975.1037774251301\n",
      "Step 27000, loss: 1951.8381572062174\n",
      "Step 30000, loss: 1951.895658162435\n",
      "Step 33000, loss: 1955.86231254069\n",
      "Step 36000, loss: 1952.6009936116536\n",
      "Step 39000, loss: 1942.472789001465\n",
      "Step 42000, loss: 1958.4637911376954\n",
      "Step 45000, loss: 1956.2781853637696\n",
      "Step 48000, loss: 1942.8809385986328\n",
      "Step 51000, loss: 1888.7258759155272\n",
      "Step 54000, loss: 1928.4073980305989\n",
      "Step 57000, loss: 1947.002980061849\n",
      "Step 60000, loss: 1966.51071870931\n",
      "Step 63000, loss: 1915.0815887451172\n",
      "Step 66000, loss: 1940.2315896402995\n",
      "\n",
      "Done. Time: 1161.3639965057373. Loss: 1989.9780670809243.\n",
      "Epoch 2\n"
     ]
    },
    {
     "data": {
      "application/vnd.jupyter.widget-view+json": {
       "model_id": "68a8e6e38f84413d9764b2c05511f317",
       "version_major": 2,
       "version_minor": 0
      },
      "text/plain": [
       "HBox(children=(IntProgress(value=1, bar_style='info', max=1), HTML(value='')))"
      ]
     },
     "metadata": {},
     "output_type": "display_data"
    },
    {
     "name": "stdout",
     "output_type": "stream",
     "text": [
      "Step 3000, loss: 1948.3315279947917\n",
      "Step 6000, loss: 1918.046971110026\n",
      "Step 9000, loss: 1947.1770353597005\n",
      "Step 12000, loss: 1945.5101733805338\n",
      "Step 15000, loss: 1945.1744446411133\n",
      "Step 18000, loss: 1945.9693068033855\n",
      "Step 21000, loss: 1969.4101606852214\n",
      "Step 24000, loss: 1966.7991874186198\n",
      "Step 27000, loss: 1944.6560102132162\n",
      "Step 30000, loss: 1945.2475254313151\n",
      "Step 33000, loss: 1948.4071530354818\n",
      "Step 36000, loss: 1947.5697858479818\n",
      "Step 39000, loss: 1938.860860188802\n",
      "Step 42000, loss: 1954.2034253743489\n",
      "Step 45000, loss: 1951.337952006022\n",
      "Step 48000, loss: 1938.7610219930013\n",
      "Step 51000, loss: 1882.2557262369792\n",
      "Step 54000, loss: 1923.1968141682942\n",
      "Step 57000, loss: 1943.023236735026\n",
      "Step 60000, loss: 1962.1918896484376\n",
      "Step 63000, loss: 1911.735500854492\n",
      "Step 66000, loss: 1937.3858123372395\n",
      "\n",
      "Done. Time: 1164.2975225448608. Loss: 1982.1739510529494.\n"
     ]
    }
   ],
   "source": [
    "for i in range(n_epochs):\n",
    "    print(\"Epoch\", i)\n",
    "    epoch(model, data, loss_history, optimizer, device, bs=batch_size)"
   ]
  },
  {
   "cell_type": "markdown",
   "metadata": {},
   "source": [
    "### 1. Trained word vectors \n",
    "\n",
    "This algorithm was trained in less than an hour - probably because there were no one-hot vectors involved, and the number of parameters was half the previous model."
   ]
  },
  {
   "cell_type": "code",
   "execution_count": 15,
   "metadata": {},
   "outputs": [],
   "source": [
    "embs = model.emb.detach().cpu().numpy()"
   ]
  },
  {
   "cell_type": "code",
   "execution_count": 60,
   "metadata": {},
   "outputs": [
    {
     "data": {
      "text/plain": [
       "(30001, 150)"
      ]
     },
     "execution_count": 60,
     "metadata": {},
     "output_type": "execute_result"
    }
   ],
   "source": [
    "embs.shape"
   ]
  },
  {
   "cell_type": "code",
   "execution_count": 21,
   "metadata": {},
   "outputs": [],
   "source": [
    "np.save(\"embeddings_one_matrix.np\", embs)"
   ]
  },
  {
   "cell_type": "code",
   "execution_count": 22,
   "metadata": {},
   "outputs": [],
   "source": [
    "import pickle\n",
    "\n",
    "with open(\"vocab_one_matrix.pkl\", \"wb\") as f:\n",
    "    pickle.dump(vocab.itos, f)"
   ]
  },
  {
   "cell_type": "markdown",
   "metadata": {},
   "source": [
    "### 2. Plotted loss"
   ]
  },
  {
   "cell_type": "code",
   "execution_count": 23,
   "metadata": {
    "scrolled": false
   },
   "outputs": [
    {
     "data": {
      "image/png": "[encoded data removed]",
      "text/plain": [
       "<Figure size 576x432 with 1 Axes>"
      ]
     },
     "metadata": {
      "needs_background": "light"
     },
     "output_type": "display_data"
    }
   ],
   "source": [
    "plt.figure(figsize=(8, 6))\n",
    "sns.lineplot(x=[3000*i for i in range(len(loss_history))], y=loss_history)\n",
    "plt.title(\"Train loss\")\n",
    "plt.ylabel(\"Mean batch loss\")\n",
    "plt.xlabel(\"Train step\")\n",
    "plt.show()"
   ]
  },
  {
   "cell_type": "markdown",
   "metadata": {},
   "source": [
    "### 3. Function to map token to corresponding word vector"
   ]
  },
  {
   "cell_type": "code",
   "execution_count": 24,
   "metadata": {},
   "outputs": [],
   "source": [
    "def get_vector(word: str, vocab: Vocab, embeddings: np.array):\n",
    "    assert word in vocab.stoi, \"Word is not in the vocabulary\"\n",
    "    i = vocab.stoi[word]\n",
    "    vec = embeddings[i]\n",
    "    return vec"
   ]
  },
  {
   "cell_type": "code",
   "execution_count": 25,
   "metadata": {},
   "outputs": [
    {
     "data": {
      "text/plain": [
       "(150,)"
      ]
     },
     "execution_count": 25,
     "metadata": {},
     "output_type": "execute_result"
    }
   ],
   "source": [
    "get_vector(\"russia\", vocab, embs).shape"
   ]
  },
  {
   "cell_type": "markdown",
   "metadata": {},
   "source": [
    "### 4. Beautiful visualizations (PCE, T-SNE)"
   ]
  },
  {
   "cell_type": "code",
   "execution_count": 16,
   "metadata": {},
   "outputs": [],
   "source": [
    "def most_similar(word: str, vocab: Vocab, embeddings: np.ndarray, n_similar: int) -> List[Tuple[str, int]]:\n",
    "    assert word in vocab.stoi, \"Word is not in the vocabulary\"\n",
    "    i = vocab.stoi[word]\n",
    "    vec = embeddings[i]\n",
    "    # cosine similarity measure:\n",
    "    sims = embeddings @ vec.T \\\n",
    "        / (np.sqrt(np.sum(np.square(embeddings), axis=1)) \\\n",
    "           * np.sqrt(np.sum(np.square(vec)))) \n",
    "    i_to_sim = zip(vocab.itos, sims)\n",
    "    words_by_sim = sorted(i_to_sim, key=lambda x: x[1], reverse=True)\n",
    "    return list(words_by_sim)[:n_similar]"
   ]
  },
  {
   "cell_type": "code",
   "execution_count": 26,
   "metadata": {},
   "outputs": [],
   "source": [
    "from sklearn.decomposition import PCA"
   ]
  },
  {
   "cell_type": "code",
   "execution_count": 28,
   "metadata": {},
   "outputs": [
    {
     "data": {
      "text/plain": [
       "PCA(copy=True, iterated_power='auto', n_components=2, random_state=None,\n",
       "  svd_solver='auto', tol=0.0, whiten=False)"
      ]
     },
     "execution_count": 28,
     "metadata": {},
     "output_type": "execute_result"
    }
   ],
   "source": [
    "pca = PCA(2)\n",
    "pca.fit(embs)"
   ]
  },
  {
   "cell_type": "code",
   "execution_count": 29,
   "metadata": {},
   "outputs": [],
   "source": [
    "def visualize(embeddings, vocab, words, num_neihgbors, pca):\n",
    "    clusters = list()\n",
    "    for word in words:\n",
    "        clusters.append(most_similar(word, vocab, embeddings, num_neihgbors))\n",
    "\n",
    "    vectors, labels, sims, hues = list(), list(), list(), list()\n",
    "    for i, cluster in enumerate(clusters):\n",
    "        for w, s in cluster:\n",
    "            vectors.append(get_vector(w, vocab, embeddings))\n",
    "            labels.append(w)\n",
    "            sims.append(s)\n",
    "            hues.append(i)\n",
    "\n",
    "    transformed = pca.transform(np.stack(vectors))\n",
    "    \n",
    "    return transformed[:, 0], transformed[:, 1], labels, sims, hues"
   ]
  },
  {
   "cell_type": "markdown",
   "metadata": {},
   "source": [
    "Let's look at some different clusters:"
   ]
  },
  {
   "cell_type": "code",
   "execution_count": 36,
   "metadata": {},
   "outputs": [],
   "source": [
    "words_to_vis = [\"capitalism\", \"father\", \"law\"]"
   ]
  },
  {
   "cell_type": "code",
   "execution_count": 37,
   "metadata": {},
   "outputs": [
    {
     "data": {
      "image/png": "[encoded data removed]",
      "text/plain": [
       "<Figure size 648x648 with 1 Axes>"
      ]
     },
     "metadata": {
      "needs_background": "light"
     },
     "output_type": "display_data"
    }
   ],
   "source": [
    "x, y, labels, sims, hues = visualize(embs, vocab, words_to_vis, 10, pca)\n",
    "\n",
    "plt.figure(figsize=(9, 9))\n",
    "plt_colors = ['b', 'g', 'r', 'c', 'm', 'y', 'k']  # this is how many clusters you can get\n",
    "offs = 0.02\n",
    "\n",
    "for i in range(len(labels)):\n",
    "    plt.scatter(x[i], y[i], c=plt_colors[hues[i]])\n",
    "    plt.text(x[i] + offs, y[i] + offs, labels[i], fontsize=9)\n",
    "\n",
    "plt.title(f\"Neighbour cluster for words: {', '.join(words_to_vis)}\")\n",
    "plt.show()"
   ]
  },
  {
   "cell_type": "markdown",
   "metadata": {},
   "source": [
    "### 5. Qualitative evaluations of word vectors: nearest neighbors, word analogies"
   ]
  },
  {
   "cell_type": "code",
   "execution_count": 38,
   "metadata": {},
   "outputs": [],
   "source": [
    "def most_similar_to_vec(vec, vocab, embeddings, n_similar):\n",
    "    sims = embeddings @ vec.T \\\n",
    "        / (np.sqrt(np.sum(np.square(embeddings), axis=1)) \\\n",
    "           * np.sqrt(np.sum(np.square(vec)))) \n",
    "    i_to_sim = zip(vocab.itos, sims)\n",
    "    words_by_sim = sorted(i_to_sim, key=lambda x: x[1], reverse=True)\n",
    "    return list(words_by_sim)[:n_similar]\n",
    "\n",
    "def solve_analogy(embeddings: np.ndarray, vocab: Vocab, task: List[str]) -> Tuple[str, float]:\n",
    "    \"\"\"\n",
    "    Return the word d from `a to b is like c to d`, given a, b, c in the task list\n",
    "    \"\"\"\n",
    "    indices = [vocab.stoi[w] for w in task]\n",
    "    vectors = embeddings[indices]\n",
    "    query = vectors[1] - vectors[0] + vectors [2]\n",
    "    closest = most_similar_to_vec(query, vocab, embeddings, 4)\n",
    "    for c in closest:\n",
    "        if c[0] not in task:\n",
    "            return c"
   ]
  },
  {
   "cell_type": "markdown",
   "metadata": {},
   "source": [
    "#### Nearest neighbours "
   ]
  },
  {
   "cell_type": "code",
   "execution_count": 17,
   "metadata": {},
   "outputs": [
    {
     "data": {
      "text/plain": [
       "[('russia', 0.9999999),\n",
       " ('poland', 0.95411754),\n",
       " ('germany', 0.93996793),\n",
       " ('romania', 0.9370792),\n",
       " ('france', 0.9361911),\n",
       " ('hungary', 0.9359765),\n",
       " ('finland', 0.93475527),\n",
       " ('portugal', 0.93452734),\n",
       " ('spain', 0.9325839),\n",
       " ('turkey', 0.9162919)]"
      ]
     },
     "execution_count": 17,
     "metadata": {},
     "output_type": "execute_result"
    }
   ],
   "source": [
    "most_similar(\"russia\", vocab, embs, 10)"
   ]
  },
  {
   "cell_type": "code",
   "execution_count": 18,
   "metadata": {},
   "outputs": [
    {
     "data": {
      "text/plain": [
       "[('mother', 0.99999994),\n",
       " ('father', 0.9687309),\n",
       " ('sister', 0.9451929),\n",
       " ('wife', 0.94455624),\n",
       " ('daughter', 0.93401986),\n",
       " ('her', 0.928826),\n",
       " ('brother', 0.9272099),\n",
       " ('son', 0.92089665),\n",
       " ('his', 0.9118751),\n",
       " ('uncle', 0.9100779)]"
      ]
     },
     "execution_count": 18,
     "metadata": {},
     "output_type": "execute_result"
    }
   ],
   "source": [
    "most_similar(\"mother\", vocab, embs, 10)"
   ]
  },
  {
   "cell_type": "code",
   "execution_count": 20,
   "metadata": {},
   "outputs": [
    {
     "data": {
      "text/plain": [
       "[('she', 1.0),\n",
       " ('her', 0.9417131),\n",
       " ('he', 0.91102064),\n",
       " ('caught', 0.9012594),\n",
       " ('herself', 0.89947015),\n",
       " ('child', 0.8992324),\n",
       " ('victim', 0.8915219),\n",
       " ('reportedly', 0.887525),\n",
       " ('baby', 0.8866162),\n",
       " ('woman', 0.87685895)]"
      ]
     },
     "execution_count": 20,
     "metadata": {},
     "output_type": "execute_result"
    }
   ],
   "source": [
    "most_similar(\"she\", vocab, embs, 10)"
   ]
  },
  {
   "cell_type": "markdown",
   "metadata": {},
   "source": [
    "Replicate the ones from Task 3:"
   ]
  },
  {
   "cell_type": "code",
   "execution_count": 40,
   "metadata": {},
   "outputs": [
    {
     "data": {
      "text/plain": [
       "('sister', 0.9068825)"
      ]
     },
     "execution_count": 40,
     "metadata": {},
     "output_type": "execute_result"
    }
   ],
   "source": [
    "task = [\"son\", \"brother\", \"daughter\"]\n",
    "solve_analogy(embs, vocab, task)"
   ]
  },
  {
   "cell_type": "code",
   "execution_count": 42,
   "metadata": {},
   "outputs": [
    {
     "data": {
      "text/plain": [
       "('russia', 0.93941396)"
      ]
     },
     "execution_count": 42,
     "metadata": {},
     "output_type": "execute_result"
    }
   ],
   "source": [
    "task = [\"paris\", \"france\", \"moscow\"]\n",
    "solve_analogy(embs, vocab, task)"
   ]
  },
  {
   "cell_type": "markdown",
   "metadata": {},
   "source": [
    "This one is beautiful:"
   ]
  },
  {
   "cell_type": "code",
   "execution_count": 54,
   "metadata": {},
   "outputs": [
    {
     "data": {
      "text/plain": [
       "('summer', 0.8790044)"
      ]
     },
     "execution_count": 54,
     "metadata": {},
     "output_type": "execute_result"
    }
   ],
   "source": [
    "task = [\"snow\", \"winter\", \"rain\"]\n",
    "solve_analogy(embs, vocab, task)"
   ]
  },
  {
   "cell_type": "markdown",
   "metadata": {},
   "source": [
    "### Extra: intrinsic evaluation with Google analogies "
   ]
  },
  {
   "cell_type": "code",
   "execution_count": 55,
   "metadata": {},
   "outputs": [],
   "source": [
    "with open(\"questions-words.txt\", encoding=\"utf-8\") as f:\n",
    "    pairs = f.read().strip().lower().split(\"\\n\")"
   ]
  },
  {
   "cell_type": "code",
   "execution_count": 56,
   "metadata": {},
   "outputs": [],
   "source": [
    "from collections import defaultdict\n",
    "tasks = defaultdict(list)\n",
    "\n",
    "current_task = \"\"\n",
    "for line in pairs:\n",
    "    line = line.strip()\n",
    "    if line.startswith(\":\"):\n",
    "        current_task = line\n",
    "    else:\n",
    "        tasks[current_task].append(line.split(\" \"))"
   ]
  },
  {
   "cell_type": "code",
   "execution_count": 66,
   "metadata": {},
   "outputs": [],
   "source": [
    "stats = dict()\n",
    "for task in tasks:\n",
    "    stats[task] = {\"total\": len(tasks[task]), \"done\": 0, \"not_found\": 0}\n",
    "    for t in tasks[task]:\n",
    "        try:\n",
    "            res, _ = solve_analogy(embs, vocab, t[:3])\n",
    "            if res == t[3]:\n",
    "                stats[task][\"done\"] += 1\n",
    "        except KeyError as e:\n",
    "            stats[task][\"not_found\"] += 1# some of the words are not found in the vocab, so we don't get a point"
   ]
  },
  {
   "cell_type": "code",
   "execution_count": 67,
   "metadata": {},
   "outputs": [
    {
     "data": {
      "text/plain": [
       "{': capital-common-countries': {'total': 506, 'done': 49, 'not_found': 0},\n",
       " ': capital-world': {'total': 4524, 'done': 68, 'not_found': 3072},\n",
       " ': currency': {'total': 866, 'done': 0, 'not_found': 377},\n",
       " ': city-in-state': {'total': 2467, 'done': 120, 'not_found': 896},\n",
       " ': family': {'total': 506, 'done': 92, 'not_found': 164},\n",
       " ': gram1-adjective-to-adverb': {'total': 992, 'done': 21, 'not_found': 124},\n",
       " ': gram2-opposite': {'total': 812, 'done': 8, 'not_found': 326},\n",
       " ': gram3-comparative': {'total': 1332, 'done': 168, 'not_found': 36},\n",
       " ': gram4-superlative': {'total': 1122, 'done': 17, 'not_found': 386},\n",
       " ': gram5-present-participle': {'total': 1056, 'done': 108, 'not_found': 32},\n",
       " ': gram6-nationality-adjective': {'total': 1599,\n",
       "  'done': 230,\n",
       "  'not_found': 117},\n",
       " ': gram7-past-tense': {'total': 1560, 'done': 80, 'not_found': 117},\n",
       " ': gram8-plural': {'total': 1332, 'done': 99, 'not_found': 244},\n",
       " ': gram9-plural-verbs': {'total': 870, 'done': 31, 'not_found': 116}}"
      ]
     },
     "execution_count": 67,
     "metadata": {},
     "output_type": "execute_result"
    }
   ],
   "source": [
    "stats"
   ]
  },
  {
   "cell_type": "code",
   "execution_count": 68,
   "metadata": {},
   "outputs": [
    {
     "name": "stdout",
     "output_type": "stream",
     "text": [
      ": capital-common-countries:  9.68%\n",
      ": capital-world:  1.50%\n",
      ": currency:  0.00%\n",
      ": city-in-state:  4.86%\n",
      ": family:  18.18%\n",
      ": gram1-adjective-to-adverb:  2.12%\n",
      ": gram2-opposite:  0.99%\n",
      ": gram3-comparative:  12.61%\n",
      ": gram4-superlative:  1.52%\n",
      ": gram5-present-participle:  10.23%\n",
      ": gram6-nationality-adjective:  14.38%\n",
      ": gram7-past-tense:  5.13%\n",
      ": gram8-plural:  7.43%\n",
      ": gram9-plural-verbs:  3.56%\n",
      "Total:  5.58%\n"
     ]
    }
   ],
   "source": [
    "done = 0\n",
    "total = 0\n",
    "for stat in stats:\n",
    "    name = stat\n",
    "    stat = stats[name]\n",
    "    acc = stat[\"done\"] / stat[\"total\"]\n",
    "    done += stat[\"done\"]\n",
    "    total += stat[\"total\"]\n",
    "    print(f\"{name}: {acc: .2%}\")\n",
    "print(f\"Total: {done/total: .2%}\")"
   ]
  }
 ],
 "metadata": {
  "kernelspec": {
   "display_name": "Python 3",
   "language": "python",
   "name": "python3"
  },
  "language_info": {
   "codemirror_mode": {
    "name": "ipython",
    "version": 3
   },
   "file_extension": ".py",
   "mimetype": "text/x-python",
   "name": "python",
   "nbconvert_exporter": "python",
   "pygments_lexer": "ipython3",
   "version": "3.6.6"
  }
 },
 "nbformat": 4,
 "nbformat_minor": 2
}
