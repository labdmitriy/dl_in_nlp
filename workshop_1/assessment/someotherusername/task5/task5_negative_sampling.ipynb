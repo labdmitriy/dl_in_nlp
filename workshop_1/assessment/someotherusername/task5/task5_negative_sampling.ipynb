{
 "cells": [
  {
   "cell_type": "markdown",
   "metadata": {},
   "source": [
    "# Negative sampling\n",
    "\n",
    "You may have noticed that word2vec is really slow to train. Especially with big (> 50 000) vocabularies. Negative sampling is the solution.\n",
    "\n",
    "The task is to implement word2vec with negative sampling. In more detail: you should implement two ways of negative sampling.\n",
    "\n",
    "## Vanilla negative sampling\n",
    "\n",
    "This is what was discussed in Stanford lecture. The main idea is in the formula:\n",
    "\n",
    "$$ L = \\log\\sigma(u^T_o u_c) + \\sum^k_{i=1} \\mathbb{E}_{j \\sim P(w)}[\\log\\sigma(-u^T_j, u_c)]$$\n",
    "\n",
    "Where $\\sigma$ - sigmoid function, $u_c$ - central word vector, $u_o$ - context (outside of the window) word vector, $u_j$ - vector or word with index $j$.\n",
    "\n",
    "The first term calculates the similarity between positive examples (word from one window)\n",
    "\n",
    "The second term is responsible for negative samples. $k$ is a hyperparameter - the number of negatives to sample.\n",
    "$\\mathbb{E}_{j \\sim P(w)}$\n",
    "means that $j$ is distributed accordingly to unigram distribution, but it is better to use $P^{3/4}(w)$ (empirical results) and you can experiment with some other approaches (for example, try to use uniform distribution).\n",
    "\n",
    "Thus, it is only required to calculate the similarity between positive samples and some other negatives. Not across all the vocabulary.\n",
    "\n",
    "Useful links:\n",
    "1. [Efficient Estimation of Word Representations in Vector Space](https://arxiv.org/pdf/1301.3781.pdf)\n",
    "1. [Distributed Representations of Words and Phrases and their Compositionality](http://papers.nips.cc/paper/5021-distributed-representations-of-words-and-phrases-and-their-compositionality.pdf)\n",
    "\n",
    "## Batch-transpose trick for negative sampling\n",
    "\n",
    "But we can do better. Maybe we don't need to compute vectors for negative samples at all, because we already have a batch of training data and (hopefully) examples in the batch are highly decorrelated.\n",
    "\n",
    "Let's assume we work with Skip-gram model.\n",
    "\n",
    "Let $S$ be a batch of _L2-normalized_ word vectors `(batch_size, 2*window_size + 1, word_vector_dim)`.\n",
    "\n",
    "```python\n",
    "x = 0.0\n",
    "for batch_idx in range(batch):\n",
    "    w = S[batch_idx, :, :]\n",
    "    x += np.sum(w.T @ w - 1.)\n",
    "\n",
    "y = 0.0\n",
    "for window_idx in range(window):\n",
    "    b = S[:, window_idx, :]\n",
    "    y += np.sum(b.T @ b)\n",
    "\n",
    "loss = -x + y```\n",
    "\n",
    "Think about this loss and compare it to vanilla negative sampling.\n",
    "\n",
    "Implement word2vec with batch-transpose trick. Modify the formula, if needed.\n",
    "\n",
    "If you are interested: [more info](https://www.tensorflow.org/extras/candidate_sampling.pdf) on other methods of candidate sampling.\n",
    "\n",
    "**Results of this task** are the very same as in task 3, **plus**:\n",
    " * implement two models (one with vanilla negative sampling and the other with batch-transpose trick)\n",
    " * compare all of the models from tasks 3-5. In terms of time and number of iterations until convergence and the quality of the resulting vectors.\n",
    " * answer the questions\n",
    "\n",
    "### Questions:\n",
    "1. Explain the batch-transpose trick formula in your own words. How would you name x, y, w and b?\n",
    "1. Should it be modified to serve as a word2vec loss? If yes, how?\n",
    "1. Is it possible to do the same trick with CBOW model? If yes, how?\n",
    "1. Does it matter how the batch is made in the case of batch-transpose trick? In the case of vanilla negative sampling?\n",
    "\n",
    "\n"
   ]
  },
  {
   "cell_type": "markdown",
   "metadata": {},
   "source": [
    "## Answers:\n",
    "  1. The formula suggests that we compute similarity for all words in one window (w), and sum them, repeating for \n",
    "  each this for each window in the batch (first loop). The result (x) is how well our model describes similarity\n",
    "  between cooccuring words. The second loop computes similarity between words from different windows (b). This\n",
    "  part of loss (y) serves as replacement for negative samples.\n",
    "  2. We could also compute the similarity not between all the words in the window, but only between the center word\n",
    "  and the surrounding words. Probably, this would yield more word2vec-like results.\n",
    "  1. Probably yes - we just need to compute similarity between the center word and the sum of the words around it.\n",
    "  The y term would be used to replace the negative sampling approximation of softmax.\n",
    "  1. Yes, it does. For batch-transpose the center word should be sampled randomly, while for the vanilla negative\n",
    "  sampling it is not strictly required. "
   ]
  },
  {
   "cell_type": "markdown",
   "metadata": {},
   "source": [
    "## Vanilla negative sampling "
   ]
  },
  {
   "cell_type": "code",
   "execution_count": 1,
   "metadata": {},
   "outputs": [],
   "source": [
    "import torch\n",
    "import numpy as np\n",
    "from torch import nn\n",
    "import torch.autograd\n",
    "\n",
    "from tqdm import tqdm_notebook as tqdm  # because I love progress bars\n",
    "import time\n",
    "from typing import List, Iterable, Tuple\n",
    "\n",
    "from utils import SkipGramNSDataGen, Vocab, preprocess\n",
    "\n",
    "import matplotlib.pyplot as plt\n",
    "import seaborn as sns\n",
    "\n",
    "%matplotlib inline"
   ]
  },
  {
   "cell_type": "code",
   "execution_count": 2,
   "metadata": {},
   "outputs": [],
   "source": [
    "device = torch.device(\"cuda\")"
   ]
  },
  {
   "cell_type": "code",
   "execution_count": 3,
   "metadata": {},
   "outputs": [],
   "source": [
    "with open(\"text8/text8\", encoding=\"utf-8\") as f:\n",
    "    tokens = preprocess(f.read())"
   ]
  },
  {
   "cell_type": "code",
   "execution_count": 4,
   "metadata": {},
   "outputs": [],
   "source": [
    "# training parameters go here\n",
    "vocab_size = 30000\n",
    "window_size = 5\n",
    "emb_size = 150\n",
    "batch_size = 256\n",
    "n_epochs = 3\n",
    "ns = 5\n",
    "constant = 3/4\n",
    "\n",
    "lr = 3e-4"
   ]
  },
  {
   "cell_type": "code",
   "execution_count": 5,
   "metadata": {},
   "outputs": [],
   "source": [
    "vocab = Vocab(vocab_size, constant)"
   ]
  },
  {
   "cell_type": "code",
   "execution_count": 6,
   "metadata": {},
   "outputs": [],
   "source": [
    "vocab.build([tokens])"
   ]
  },
  {
   "cell_type": "code",
   "execution_count": 7,
   "metadata": {},
   "outputs": [],
   "source": [
    "class SGNS(nn.Module):\n",
    "    \"\"\"\n",
    "    Implementing skipgram with negative sampling\n",
    "    \"\"\"\n",
    "    def __init__(self, vocab_size: int, emb_size: int, device):\n",
    "        super(SGNS, self).__init__()\n",
    "        self.emb = nn.Linear(vocab_size + 1, emb_size)\n",
    "        self.out = nn.Linear(emb_size, vocab_size + 1)\n",
    "#         self.loss = nn.CrossEntropyLoss()\n",
    "        self.sigmoid = nn.Sigmoid()\n",
    "        self.device = device\n",
    "    \n",
    "    def forward(self, center, contandneg):\n",
    "        # words predicted by center word\n",
    "        center_pred = self.out(self.emb(center))\n",
    "        # follow along the batch axis and get logits at contandneg positions\n",
    "        to_update = torch.gather(center_pred, 1, contandneg)\n",
    "        # the context word always have the index zero in `contandneg`\n",
    "        # y = torch.zeros(contandneg.size(0), dtype=torch.long).to(self.device)\n",
    "        # loss = self.loss(to_update, y)\n",
    "        to_update = self.sigmoid(to_update)\n",
    "        #      first term                   second term        1-sig(x) = sig(-x)       omitting dim leads to silent \n",
    "        #                                                                               errors due to broadcasting\n",
    "        loss = torch.log(to_update[:, 0]) + torch.sum(torch.log(-to_update[:, 1:] + 1), dim=1)\n",
    "        return -torch.mean(loss)"
   ]
  },
  {
   "cell_type": "code",
   "execution_count": 8,
   "metadata": {},
   "outputs": [],
   "source": [
    "data = SkipGramNSDataGen([vocab.numericalize(tokens)], window_size, vocab.normalized_counts, ns)"
   ]
  },
  {
   "cell_type": "code",
   "execution_count": 9,
   "metadata": {},
   "outputs": [],
   "source": [
    "model = SGNS(vocab_size, 150, device)"
   ]
  },
  {
   "cell_type": "code",
   "execution_count": 10,
   "metadata": {},
   "outputs": [
    {
     "data": {
      "text/plain": [
       "SGNS(\n",
       "  (emb): Linear(in_features=30001, out_features=150, bias=True)\n",
       "  (out): Linear(in_features=150, out_features=30001, bias=True)\n",
       "  (sigmoid): Sigmoid()\n",
       ")"
      ]
     },
     "execution_count": 10,
     "metadata": {},
     "output_type": "execute_result"
    }
   ],
   "source": [
    "model.to(device)"
   ]
  },
  {
   "cell_type": "code",
   "execution_count": 25,
   "metadata": {},
   "outputs": [],
   "source": [
    "def epoch(model: nn.Module, \n",
    "          data: SkipGramNSDataGen, \n",
    "          loss_history: List, \n",
    "          optimizer, \n",
    "          device, \n",
    "          bs=128, \n",
    "          report_every=3000):\n",
    "    \"\"\"\n",
    "    Run one epoch of training the `model` on `data`.\n",
    "    Loss values for plotting are saved in `loss_history`.\n",
    "    Average batch loss is printed every `report_every` epochs.\n",
    "    \"\"\"\n",
    "    start = time.time()\n",
    "    running_loss = list()\n",
    "    for i, (x, y) in enumerate(tqdm(data.iter_batch(bs))):\n",
    "        optimizer.zero_grad()\n",
    "        x_onehot = torch.zeros((len(x), vocab_size + 1), dtype=torch.float)\n",
    "        for b_i, x_i in enumerate(x):\n",
    "            x_onehot[b_i, x_i] = 1\n",
    "        x = x_onehot.to(device)\n",
    "        y = torch.tensor(y, dtype=torch.long).to(device)\n",
    "        loss = model.forward(x, y)\n",
    "        loss.backward()\n",
    "        optimizer.step()\n",
    "        running_loss.append(loss.detach().item())\n",
    "        if (i + 1) % report_every == 0:\n",
    "            avg_loss = sum(running_loss) / len(running_loss)\n",
    "            print(\"Step {}, loss: {}\".format(i + 1, avg_loss))\n",
    "            loss_history.append(avg_loss)\n",
    "            running_loss = list()\n",
    "    print(\"Done. Time: {}. Loss: {}.\".format(time.time() - start, sum(running_loss) / len(running_loss)))"
   ]
  },
  {
   "cell_type": "code",
   "execution_count": 12,
   "metadata": {},
   "outputs": [],
   "source": [
    "optimizer = torch.optim.Adam(model.parameters(), lr=lr)"
   ]
  },
  {
   "cell_type": "code",
   "execution_count": 13,
   "metadata": {},
   "outputs": [],
   "source": [
    "loss_history = list()"
   ]
  },
  {
   "cell_type": "code",
   "execution_count": 14,
   "metadata": {},
   "outputs": [
    {
     "name": "stdout",
     "output_type": "stream",
     "text": [
      "Epoch 0\n"
     ]
    },
    {
     "data": {
      "application/vnd.jupyter.widget-view+json": {
       "model_id": "d655fdf429204019861a5b87e582b1b2",
       "version_major": 2,
       "version_minor": 0
      },
      "text/plain": [
       "HBox(children=(IntProgress(value=1, bar_style='info', max=1), HTML(value='')))"
      ]
     },
     "metadata": {},
     "output_type": "display_data"
    },
    {
     "name": "stdout",
     "output_type": "stream",
     "text": [
      "Step 2000, loss: 2.7915591760873792\n",
      "Step 4000, loss: 2.4108881875276564\n",
      "Step 6000, loss: 2.3949430482387544\n",
      "Step 8000, loss: 2.3892552652359007\n",
      "Step 10000, loss: 2.3833437558412554\n",
      "Step 12000, loss: 2.380354591012001\n",
      "Step 14000, loss: 2.3745902700424195\n",
      "Step 16000, loss: 2.370616886973381\n",
      "Step 18000, loss: 2.3652150166034698\n",
      "Step 20000, loss: 2.3617140822410585\n",
      "Step 22000, loss: 2.35632006752491\n",
      "Step 24000, loss: 2.3538295525312423\n",
      "Step 26000, loss: 2.3493160510063174\n",
      "Step 28000, loss: 2.345530328154564\n",
      "Step 30000, loss: 2.342065575480461\n",
      "Step 32000, loss: 2.336697664856911\n",
      "Step 34000, loss: 2.3339280585050584\n",
      "Step 36000, loss: 2.3299355165958406\n",
      "Step 38000, loss: 2.33029128241539\n",
      "Step 40000, loss: 2.3250407695770265\n",
      "Step 42000, loss: 2.3221449429988863\n",
      "Step 44000, loss: 2.321032302618027\n",
      "Step 46000, loss: 2.3198576530218125\n",
      "Step 48000, loss: 2.316960144519806\n",
      "Step 50000, loss: 2.3132029284238813\n",
      "Step 52000, loss: 2.3111283715963364\n",
      "Step 54000, loss: 2.3089063767194746\n",
      "Step 56000, loss: 2.305987721681595\n",
      "Step 58000, loss: 2.305888872504234\n",
      "Step 60000, loss: 2.302354051589966\n",
      "Step 62000, loss: 2.300938779115677\n",
      "Step 64000, loss: 2.3021889935731887\n",
      "Step 66000, loss: 2.297306776881218\n",
      "\n",
      "Done. Time: 4609.059659719467. Loss: 2.2977612817036186.\n",
      "Epoch 1\n"
     ]
    },
    {
     "data": {
      "application/vnd.jupyter.widget-view+json": {
       "model_id": "0fe418f270484746b2b24c4c5b72d52c",
       "version_major": 2,
       "version_minor": 0
      },
      "text/plain": [
       "HBox(children=(IntProgress(value=1, bar_style='info', max=1), HTML(value='')))"
      ]
     },
     "metadata": {},
     "output_type": "display_data"
    },
    {
     "name": "stdout",
     "output_type": "stream",
     "text": [
      "Step 2000, loss: 2.290913743853569\n",
      "Step 4000, loss: 2.29030904173851\n",
      "Step 6000, loss: 2.2898969995975493\n",
      "Step 8000, loss: 2.2883396252393724\n",
      "Step 10000, loss: 2.28869812977314\n",
      "Step 12000, loss: 2.2856625725030897\n",
      "Step 14000, loss: 2.284964625597\n",
      "Step 16000, loss: 2.284331787109375\n",
      "Step 18000, loss: 2.282239538192749\n",
      "Step 20000, loss: 2.280949021935463\n",
      "Step 22000, loss: 2.278829752802849\n",
      "Step 24000, loss: 2.278508037447929\n",
      "Step 26000, loss: 2.2768294900655746\n",
      "Step 28000, loss: 2.278568935751915\n",
      "Step 30000, loss: 2.276690973997116\n",
      "Step 32000, loss: 2.2766688262224197\n",
      "Step 34000, loss: 2.2744799351692198\n",
      "Step 36000, loss: 2.2729126719236374\n",
      "Step 38000, loss: 2.2704993832111358\n",
      "Step 40000, loss: 2.26982146859169\n",
      "Step 42000, loss: 2.2719340145587923\n",
      "Step 44000, loss: 2.269513376235962\n",
      "Step 46000, loss: 2.2668418447971344\n",
      "Step 48000, loss: 2.2665688219070437\n",
      "Step 50000, loss: 2.2679841047525406\n",
      "Step 52000, loss: 2.265223569393158\n",
      "Step 54000, loss: 2.2662303686141967\n",
      "Step 56000, loss: 2.26325190615654\n",
      "Step 58000, loss: 2.2649833872318266\n",
      "Step 60000, loss: 2.2626721198558806\n",
      "Step 62000, loss: 2.263702531337738\n",
      "Step 64000, loss: 2.2618653866052627\n",
      "Step 66000, loss: 2.2641801269054413\n",
      "\n",
      "Done. Time: 4435.206001281738. Loss: 2.257914637514244.\n",
      "Epoch 2\n"
     ]
    },
    {
     "data": {
      "application/vnd.jupyter.widget-view+json": {
       "model_id": "5086823f45ef4e18a041278491903cb5",
       "version_major": 2,
       "version_minor": 0
      },
      "text/plain": [
       "HBox(children=(IntProgress(value=1, bar_style='info', max=1), HTML(value='')))"
      ]
     },
     "metadata": {},
     "output_type": "display_data"
    },
    {
     "name": "stdout",
     "output_type": "stream",
     "text": [
      "Step 2000, loss: 2.257563637971878\n",
      "Step 4000, loss: 2.2550675698518754\n",
      "Step 6000, loss: 2.2543548448085784\n",
      "Step 8000, loss: 2.2562629623413084\n",
      "Step 10000, loss: 2.2550879188776016\n",
      "Step 12000, loss: 2.2549125769138336\n",
      "Step 14000, loss: 2.2553622891902925\n",
      "Step 16000, loss: 2.253268372416496\n",
      "Step 18000, loss: 2.2528255429267885\n",
      "Step 20000, loss: 2.2523121987581254\n",
      "Step 22000, loss: 2.2539160619974137\n",
      "Step 24000, loss: 2.2502637412548063\n",
      "Step 26000, loss: 2.2508068500757217\n",
      "Step 28000, loss: 2.2522060800790786\n",
      "Step 30000, loss: 2.2499312143325807\n",
      "Step 32000, loss: 2.248297651171684\n",
      "Step 34000, loss: 2.2506138634681703\n",
      "Step 36000, loss: 2.2512643365859986\n",
      "Step 38000, loss: 2.2470673407316206\n",
      "Step 40000, loss: 2.2483202650547027\n",
      "Step 42000, loss: 2.2492843034267427\n",
      "Step 44000, loss: 2.246729296326637\n",
      "Step 46000, loss: 2.2470721468925476\n",
      "Step 48000, loss: 2.2482539019584658\n",
      "Step 50000, loss: 2.2482523021697998\n",
      "Step 52000, loss: 2.247476205945015\n",
      "Step 54000, loss: 2.246122973442078\n",
      "Step 56000, loss: 2.248338089466095\n",
      "Step 58000, loss: 2.2451394983530046\n",
      "Step 60000, loss: 2.244681097149849\n",
      "Step 62000, loss: 2.245056106686592\n",
      "Step 64000, loss: 2.2448439220190046\n",
      "Step 66000, loss: 2.2449840424060823\n",
      "\n",
      "Done. Time: 4440.29899930954. Loss: 2.241095965025855.\n"
     ]
    }
   ],
   "source": [
    "for i in range(n_epochs):\n",
    "    print(\"Epoch\", i)\n",
    "    epoch(model, data, loss_history, optimizer, device, bs=batch_size, report_every=2000)"
   ]
  },
  {
   "cell_type": "code",
   "execution_count": 32,
   "metadata": {},
   "outputs": [],
   "source": [
    "torch.save(model.state_dict(), \"task_5.pth\")"
   ]
  },
  {
   "cell_type": "markdown",
   "metadata": {},
   "source": [
    "### 1. Trained word vectors \n",
    "\n",
    "With almost 4 hours for three epochs, this one was the longest to train, probably because of one-hot encoding all the vectors."
   ]
  },
  {
   "cell_type": "code",
   "execution_count": 26,
   "metadata": {},
   "outputs": [],
   "source": [
    "def get_embeddings(model: nn.Module, mode: str=\"first\"):\n",
    "    \"\"\"\n",
    "    Get the embeddings from the model. Supported modes are:\n",
    "    `first`: embeddings from the first layer\n",
    "    `second`: embeddings from the (surprise!) second layer\n",
    "    `average`: embeddings from both the layers, averaged.\n",
    "    \"\"\"\n",
    "    if mode == \"first\":\n",
    "        return model.emb.weight.data.clone().detach().t().cpu().numpy()\n",
    "    if mode == \"second\":\n",
    "        return model.out.weight.data.clone().detach().cpu().numpy()\n",
    "    if mode == \"average\":\n",
    "        return (model.emb.weight.data.clone().detach().t().cpu().numpy() + \\\n",
    "            model.out.weight.data.clone().detach().cpu().numpy()) / 2"
   ]
  },
  {
   "cell_type": "code",
   "execution_count": 34,
   "metadata": {},
   "outputs": [],
   "source": [
    "embeddings = get_embeddings(model, \"average\")"
   ]
  },
  {
   "cell_type": "code",
   "execution_count": 35,
   "metadata": {},
   "outputs": [
    {
     "data": {
      "text/plain": [
       "(30001, 150)"
      ]
     },
     "execution_count": 35,
     "metadata": {},
     "output_type": "execute_result"
    }
   ],
   "source": [
    "embeddings.shape"
   ]
  },
  {
   "cell_type": "code",
   "execution_count": 36,
   "metadata": {},
   "outputs": [],
   "source": [
    "import pickle\n",
    "\n",
    "with open(\"vocab_ns.pkl\", \"wb\") as f:\n",
    "    pickle.dump(vocab.itos, f)"
   ]
  },
  {
   "cell_type": "markdown",
   "metadata": {},
   "source": [
    "### 2. Plotted loss"
   ]
  },
  {
   "cell_type": "code",
   "execution_count": 37,
   "metadata": {},
   "outputs": [
    {
     "data": {
      "image/png": "[encoded data removed]",
      "text/plain": [
       "<Figure size 576x432 with 1 Axes>"
      ]
     },
     "metadata": {
      "needs_background": "light"
     },
     "output_type": "display_data"
    }
   ],
   "source": [
    "plt.figure(figsize=(8, 6))\n",
    "sns.lineplot(x=[3000*i for i in range(len(loss_history))], y=loss_history)\n",
    "plt.title(\"Train loss\")\n",
    "plt.ylabel(\"Mean batch loss\")\n",
    "plt.xlabel(\"Train step\")\n",
    "plt.show()"
   ]
  },
  {
   "cell_type": "markdown",
   "metadata": {},
   "source": [
    "### 3. Function to map token to corresponding word vector"
   ]
  },
  {
   "cell_type": "code",
   "execution_count": 42,
   "metadata": {},
   "outputs": [],
   "source": [
    "def get_vector(word: str, vocab: Vocab, embeddings: np.array):\n",
    "    assert word in vocab.stoi, \"Word is not in the vocabulary\"\n",
    "    i = vocab.stoi[word]\n",
    "    vec = embeddings[i]\n",
    "    return vec"
   ]
  },
  {
   "cell_type": "code",
   "execution_count": 39,
   "metadata": {},
   "outputs": [
    {
     "data": {
      "text/plain": [
       "(150,)"
      ]
     },
     "execution_count": 39,
     "metadata": {},
     "output_type": "execute_result"
    }
   ],
   "source": [
    "get_vector(\"russia\", vocab, embeddings).shape"
   ]
  },
  {
   "cell_type": "markdown",
   "metadata": {},
   "source": [
    "### 4. Beautiful visualizations (PCE, T-SNE)"
   ]
  },
  {
   "cell_type": "code",
   "execution_count": 124,
   "metadata": {},
   "outputs": [],
   "source": [
    "def most_similar(word: str, vocab: Vocab, embeddings: np.array, n_similar: int) -> List[Tuple[str, int]]:\n",
    "    assert word in vocab.stoi, \"Word is not in the vocabulary\"\n",
    "    i = vocab.stoi[word]\n",
    "    vec = embeddings[i]\n",
    "    # cosine similarity measure:\n",
    "    sims = embeddings @ vec.T \\\n",
    "        / (np.sqrt(np.sum(np.square(embeddings), axis=1)) \\\n",
    "           * np.sqrt(np.sum(np.square(vec))))\n",
    "    i_to_sim = zip(vocab.itos, sims)\n",
    "    words_by_sim = sorted(i_to_sim, key=lambda x: x[1], reverse=True)\n",
    "    return list(words_by_sim)[:n_similar]"
   ]
  },
  {
   "cell_type": "code",
   "execution_count": 44,
   "metadata": {},
   "outputs": [],
   "source": [
    "from sklearn.decomposition import PCA"
   ]
  },
  {
   "cell_type": "code",
   "execution_count": 42,
   "metadata": {},
   "outputs": [
    {
     "data": {
      "text/plain": [
       "PCA(copy=True, iterated_power='auto', n_components=2, random_state=None,\n",
       "  svd_solver='auto', tol=0.0, whiten=False)"
      ]
     },
     "execution_count": 42,
     "metadata": {},
     "output_type": "execute_result"
    }
   ],
   "source": [
    "pca = PCA(2)\n",
    "pca.fit(embeddings)"
   ]
  },
  {
   "cell_type": "code",
   "execution_count": 45,
   "metadata": {},
   "outputs": [],
   "source": [
    "def visualize(embeddings, vocab, words, num_neihgbors, pca):\n",
    "    clusters = list()\n",
    "    for word in words:\n",
    "        clusters.append(most_similar(word, vocab, embeddings, num_neihgbors))\n",
    "\n",
    "    vectors, labels, sims, hues = list(), list(), list(), list()\n",
    "    for i, cluster in enumerate(clusters):\n",
    "        for w, s in cluster:\n",
    "            vectors.append(get_vector(w, vocab, embeddings))\n",
    "            labels.append(w)\n",
    "            sims.append(s)\n",
    "            hues.append(i)\n",
    "\n",
    "    transformed = pca.transform(np.stack(vectors))\n",
    "    \n",
    "    return transformed[:, 0], transformed[:, 1], labels, sims, hues"
   ]
  },
  {
   "cell_type": "code",
   "execution_count": 50,
   "metadata": {},
   "outputs": [],
   "source": [
    "words_to_vis = [\"cat\", \"russia\", \"scientist\"]"
   ]
  },
  {
   "cell_type": "code",
   "execution_count": 51,
   "metadata": {},
   "outputs": [
    {
     "data": {
      "image/png": "[encoded data removed]",
      "text/plain": [
       "<Figure size 648x648 with 1 Axes>"
      ]
     },
     "metadata": {
      "needs_background": "light"
     },
     "output_type": "display_data"
    }
   ],
   "source": [
    "x, y, labels, sims, hues = visualize(embeddings, vocab, words_to_vis, 10, pca)\n",
    "\n",
    "plt.figure(figsize=(9, 9))\n",
    "plt_colors = ['b', 'g', 'r', 'c', 'm', 'y', 'k']  # this is how many clusters you can get\n",
    "offs = 0.02\n",
    "\n",
    "for i in range(len(labels)):\n",
    "    plt.scatter(x[i], y[i], c=plt_colors[hues[i]])\n",
    "    plt.text(x[i] + offs, y[i] + offs, labels[i], fontsize=9)\n",
    "\n",
    "plt.title(f\"Neighbour cluster for words: {', '.join(words_to_vis)}\")\n",
    "plt.show()"
   ]
  },
  {
   "cell_type": "markdown",
   "metadata": {},
   "source": [
    "We see much better cluster than with naive skip-gram. I hope `ass` is the animal with long ears, not a body part."
   ]
  },
  {
   "cell_type": "markdown",
   "metadata": {},
   "source": [
    "### 5. Qualitative evaluations of word vectors: nearest neighbors, word analogies"
   ]
  },
  {
   "cell_type": "code",
   "execution_count": 46,
   "metadata": {},
   "outputs": [],
   "source": [
    "def most_similar_to_vec(vec, vocab, embeddings, n_similar):\n",
    "    sims = embeddings @ vec.T \\\n",
    "        / (np.sqrt(np.sum(np.square(embeddings), axis=1)) \\\n",
    "           * np.sqrt(np.sum(np.square(vec)))) \n",
    "    i_to_sim = zip(vocab.itos, sims)\n",
    "    words_by_sim = sorted(i_to_sim, key=lambda x: x[1], reverse=True)\n",
    "    return list(words_by_sim)[:n_similar]\n",
    "\n",
    "def solve_analogy(embeddings: np.ndarray, vocab: Vocab, task: List[str]) -> Tuple[str, float]:\n",
    "    \"\"\"\n",
    "    Return the word d from `a to b is like c to d`, given a, b, c in the task list\n",
    "    \"\"\"\n",
    "    indices = [vocab.stoi[w] for w in task]\n",
    "    vectors = embeddings[indices]\n",
    "    query = vectors[1] - vectors[0] + vectors [2]\n",
    "    closest = most_similar_to_vec(query, vocab, embeddings, 4)\n",
    "    for c in closest:\n",
    "        if c[0] not in task:\n",
    "            return c"
   ]
  },
  {
   "cell_type": "markdown",
   "metadata": {},
   "source": [
    "#### Nearest neighbours "
   ]
  },
  {
   "cell_type": "code",
   "execution_count": 54,
   "metadata": {},
   "outputs": [
    {
     "data": {
      "text/plain": [
       "[('russia', 0.99999994),\n",
       " ('ukraine', 0.8789142),\n",
       " ('romania', 0.8767851),\n",
       " ('poland', 0.8694205),\n",
       " ('annexed', 0.84688973),\n",
       " ('hungary', 0.8465466),\n",
       " ('finland', 0.8426758),\n",
       " ('serbia', 0.83980036),\n",
       " ('norway', 0.8376435),\n",
       " ('yugoslavia', 0.83340967)]"
      ]
     },
     "execution_count": 54,
     "metadata": {},
     "output_type": "execute_result"
    }
   ],
   "source": [
    "most_similar(\"russia\", vocab, embeddings, 10)"
   ]
  },
  {
   "cell_type": "code",
   "execution_count": 55,
   "metadata": {},
   "outputs": [
    {
     "data": {
      "text/plain": [
       "[('table', 1.0),\n",
       " ('periodic', 0.83922595),\n",
       " ('hash', 0.779346),\n",
       " ('tables', 0.76496273),\n",
       " ('item', 0.7644561),\n",
       " ('specifies', 0.75572157),\n",
       " ('header', 0.7512016),\n",
       " ('diagram', 0.749897),\n",
       " ('encoded', 0.7468182),\n",
       " ('sorted', 0.74515986)]"
      ]
     },
     "execution_count": 55,
     "metadata": {},
     "output_type": "execute_result"
    }
   ],
   "source": [
    "most_similar(\"table\", vocab, embeddings, 10)"
   ]
  },
  {
   "cell_type": "code",
   "execution_count": 56,
   "metadata": {},
   "outputs": [
    {
     "data": {
      "text/plain": [
       "[('mars', 1.0),\n",
       " ('planet', 0.83834857),\n",
       " ('jupiter', 0.831834),\n",
       " ('venus', 0.82456344),\n",
       " ('spacecraft', 0.78867304),\n",
       " ('moons', 0.7869203),\n",
       " ('probe', 0.78160673),\n",
       " ('saturn', 0.7763427),\n",
       " ('moon', 0.77199817),\n",
       " ('voyager', 0.77055)]"
      ]
     },
     "execution_count": 56,
     "metadata": {},
     "output_type": "execute_result"
    }
   ],
   "source": [
    "most_similar(\"mars\", vocab, embeddings, 10)"
   ]
  },
  {
   "cell_type": "code",
   "execution_count": 57,
   "metadata": {},
   "outputs": [
    {
     "data": {
      "text/plain": [
       "[('screen', 1.0),\n",
       " ('camera', 0.8435133),\n",
       " ('disc', 0.82534087),\n",
       " ('button', 0.8176682),\n",
       " ('punch', 0.8165438),\n",
       " ('buttons', 0.8149779),\n",
       " ('display', 0.8144325),\n",
       " ('dvds', 0.8102629),\n",
       " ('cameras', 0.80853915),\n",
       " ('screens', 0.80549204)]"
      ]
     },
     "execution_count": 57,
     "metadata": {},
     "output_type": "execute_result"
    }
   ],
   "source": [
    "most_similar(\"screen\", vocab, embeddings, 10)"
   ]
  },
  {
   "cell_type": "markdown",
   "metadata": {},
   "source": [
    "#### Word analogies "
   ]
  },
  {
   "cell_type": "code",
   "execution_count": 60,
   "metadata": {},
   "outputs": [
    {
     "data": {
      "text/plain": [
       "('russia', 0.82764703)"
      ]
     },
     "execution_count": 60,
     "metadata": {},
     "output_type": "execute_result"
    }
   ],
   "source": [
    "task = [\"paris\", \"france\", \"moscow\"]\n",
    "solve_analogy(embeddings, vocab, task)"
   ]
  },
  {
   "cell_type": "code",
   "execution_count": 89,
   "metadata": {},
   "outputs": [
    {
     "data": {
      "text/plain": [
       "('worse', 0.80203146)"
      ]
     },
     "execution_count": 89,
     "metadata": {},
     "output_type": "execute_result"
    }
   ],
   "source": [
    "task = [\"good\", \"better\", \"bad\"]\n",
    "solve_analogy(embeddings, vocab, task)"
   ]
  },
  {
   "cell_type": "markdown",
   "metadata": {},
   "source": [
    "### Extra: intrinsic evaluation with Google analogies "
   ]
  },
  {
   "cell_type": "code",
   "execution_count": 47,
   "metadata": {},
   "outputs": [],
   "source": [
    "with open(\"questions-words.txt\", encoding=\"utf-8\") as f:\n",
    "    pairs = f.read().strip().lower().split(\"\\n\")"
   ]
  },
  {
   "cell_type": "code",
   "execution_count": 91,
   "metadata": {},
   "outputs": [],
   "source": [
    "from collections import defaultdict\n",
    "tasks = defaultdict(list)\n",
    "\n",
    "current_task = \"\"\n",
    "for line in pairs:\n",
    "    line = line.strip()\n",
    "    if line.startswith(\":\"):\n",
    "        current_task = line\n",
    "    else:\n",
    "        tasks[current_task].append(line.split(\" \"))"
   ]
  },
  {
   "cell_type": "code",
   "execution_count": 92,
   "metadata": {},
   "outputs": [],
   "source": [
    "stats = dict()\n",
    "for task in tasks:\n",
    "    stats[task] = {\"total\": len(tasks[task]), \"done\": 0, \"not_found\": 0}\n",
    "    for t in tasks[task]:\n",
    "        try:\n",
    "            res, _ = solve_analogy(embeddings, vocab, t[:3])\n",
    "            if res == t[3]:\n",
    "                stats[task][\"done\"] += 1\n",
    "        except KeyError as e:\n",
    "            stats[task][\"not_found\"] += 1# some of the words are not found in the vocab, so we don't get a point"
   ]
  },
  {
   "cell_type": "code",
   "execution_count": 93,
   "metadata": {},
   "outputs": [
    {
     "data": {
      "text/plain": [
       "{': capital-common-countries': {'total': 506, 'done': 86, 'not_found': 0},\n",
       " ': capital-world': {'total': 4524, 'done': 128, 'not_found': 3072},\n",
       " ': currency': {'total': 866, 'done': 11, 'not_found': 377},\n",
       " ': city-in-state': {'total': 2467, 'done': 201, 'not_found': 896},\n",
       " ': family': {'total': 506, 'done': 116, 'not_found': 164},\n",
       " ': gram1-adjective-to-adverb': {'total': 992, 'done': 19, 'not_found': 124},\n",
       " ': gram2-opposite': {'total': 812, 'done': 22, 'not_found': 326},\n",
       " ': gram3-comparative': {'total': 1332, 'done': 231, 'not_found': 36},\n",
       " ': gram4-superlative': {'total': 1122, 'done': 31, 'not_found': 386},\n",
       " ': gram5-present-participle': {'total': 1056, 'done': 106, 'not_found': 32},\n",
       " ': gram6-nationality-adjective': {'total': 1599,\n",
       "  'done': 427,\n",
       "  'not_found': 117},\n",
       " ': gram7-past-tense': {'total': 1560, 'done': 102, 'not_found': 117},\n",
       " ': gram8-plural': {'total': 1332, 'done': 192, 'not_found': 244},\n",
       " ': gram9-plural-verbs': {'total': 870, 'done': 52, 'not_found': 116}}"
      ]
     },
     "execution_count": 93,
     "metadata": {},
     "output_type": "execute_result"
    }
   ],
   "source": [
    "stats"
   ]
  },
  {
   "cell_type": "code",
   "execution_count": 94,
   "metadata": {},
   "outputs": [
    {
     "name": "stdout",
     "output_type": "stream",
     "text": [
      ": capital-common-countries:  17.00%\n",
      ": capital-world:  2.83%\n",
      ": currency:  1.27%\n",
      ": city-in-state:  8.15%\n",
      ": family:  22.92%\n",
      ": gram1-adjective-to-adverb:  1.92%\n",
      ": gram2-opposite:  2.71%\n",
      ": gram3-comparative:  17.34%\n",
      ": gram4-superlative:  2.76%\n",
      ": gram5-present-participle:  10.04%\n",
      ": gram6-nationality-adjective:  26.70%\n",
      ": gram7-past-tense:  6.54%\n",
      ": gram8-plural:  14.41%\n",
      ": gram9-plural-verbs:  5.98%\n",
      "Total:  8.82%\n"
     ]
    }
   ],
   "source": [
    "done = 0\n",
    "total = 0\n",
    "for stat in stats:\n",
    "    name = stat\n",
    "    stat = stats[name]\n",
    "    acc = stat[\"done\"] / stat[\"total\"]\n",
    "    done += stat[\"done\"]\n",
    "    total += stat[\"total\"]\n",
    "    print(f\"{name}: {acc: .2%}\")\n",
    "print(f\"Total: {done/total: .2%}\")"
   ]
  },
  {
   "cell_type": "markdown",
   "metadata": {},
   "source": [
    "## Batch transpose trick "
   ]
  },
  {
   "cell_type": "markdown",
   "metadata": {},
   "source": [
    "For batch-transpose trick, we need a somewhat modified batcher. While in previous batchers I assumed that from each window we sample one context word, in this case we will need to do something we would do with CBOW."
   ]
  },
  {
   "cell_type": "code",
   "execution_count": 170,
   "metadata": {},
   "outputs": [],
   "source": [
    "from utils import SkipGramBTTDataGen\n",
    "import math"
   ]
  },
  {
   "cell_type": "code",
   "execution_count": 330,
   "metadata": {},
   "outputs": [],
   "source": [
    "class SGBTT(nn.Module):\n",
    "    \"\"\"\n",
    "    Implementing skipgram with batch transpose trick\n",
    "    \"\"\"\n",
    "    def __init__(self, vocab_size: int, emb_size: int, ws: int, device):\n",
    "        super(SGBTT, self).__init__()\n",
    "        # no more one-hot vectors!\n",
    "        self.emb = nn.Embedding(\n",
    "            vocab_size + 1, \n",
    "            emb_size\n",
    "        )\n",
    "        nn.init.kaiming_uniform_(self.emb.weight, a=math.sqrt(5))\n",
    "        self.ws = ws\n",
    "        self.device = device\n",
    "    \n",
    "    def forward(self, batch):\n",
    "        batch = self.emb(batch)\n",
    "        norm = batch.norm(p=2, dim=2, keepdim=True).detach()\n",
    "        batch = batch.div(norm)\n",
    "        #   xs = list()  \n",
    "        #   for batch_idx in range(len(batch)):\n",
    "        #       w = batch[batch_idx, :, :]\n",
    "        #       xs.append(torch.sum(w.t() @ w - 1.))\n",
    "\n",
    "        #   ys = list()\n",
    "        #   for window_idx in range(self.ws * 2 + 1):\n",
    "        #       b = batch[:, window_idx, :]\n",
    "        #       ys.append(torch.sum(b.t() @ b))\n",
    "\n",
    "        # loss = -torch.sum(torch.cat(xs)) + torch.sum(torch.cat(ys))\n",
    "        \n",
    "        # LETS VECTORIZZE\n",
    "        x = (torch.bmm(batch, torch.transpose(batch, 1, 2)) - 1)\n",
    "        y = torch.bmm(\n",
    "            torch.transpose(batch, 0, 1),\n",
    "            torch.transpose(torch.transpose(batch, 0, 1), 1, 2)\n",
    "        )\n",
    "        \n",
    "        loss = -torch.sum(x) + torch.sum(y)\n",
    "        return loss"
   ]
  },
  {
   "cell_type": "code",
   "execution_count": 338,
   "metadata": {},
   "outputs": [],
   "source": [
    "# Parameters should be tweaked for this model to perform better\n",
    "vocab_size = 30000\n",
    "window_size = 5\n",
    "emb_size = 150\n",
    "batch_size = 64\n",
    "n_epochs = 3\n",
    "ns = 5\n",
    "constant = 3/4\n",
    "\n",
    "lr = 3e-4"
   ]
  },
  {
   "cell_type": "code",
   "execution_count": 288,
   "metadata": {},
   "outputs": [],
   "source": [
    "vocab = Vocab(vocab_size, constant)\n",
    "vocab.build([tokens])"
   ]
  },
  {
   "cell_type": "code",
   "execution_count": 289,
   "metadata": {},
   "outputs": [],
   "source": [
    "data = SkipGramBTTDataGen([vocab.numericalize(tokens)], window_size)"
   ]
  },
  {
   "cell_type": "code",
   "execution_count": 339,
   "metadata": {},
   "outputs": [],
   "source": [
    "model = SGBTT(vocab_size, 150, window_size, device)"
   ]
  },
  {
   "cell_type": "code",
   "execution_count": 340,
   "metadata": {},
   "outputs": [
    {
     "data": {
      "text/plain": [
       "SGBTT(\n",
       "  (emb): Embedding(30001, 150)\n",
       ")"
      ]
     },
     "execution_count": 340,
     "metadata": {},
     "output_type": "execute_result"
    }
   ],
   "source": [
    "model.to(device)"
   ]
  },
  {
   "cell_type": "code",
   "execution_count": 341,
   "metadata": {},
   "outputs": [],
   "source": [
    "optimizer = torch.optim.Adam(model.parameters(), lr=lr)"
   ]
  },
  {
   "cell_type": "code",
   "execution_count": 342,
   "metadata": {},
   "outputs": [],
   "source": [
    "loss_history = list()"
   ]
  },
  {
   "cell_type": "code",
   "execution_count": 343,
   "metadata": {},
   "outputs": [],
   "source": [
    "def epoch(model: nn.Module, \n",
    "          data: SkipGramBTTDataGen, \n",
    "          loss_history: List, \n",
    "          optimizer, \n",
    "          device, \n",
    "          bs=128, \n",
    "          report_every=3000):\n",
    "    \"\"\"\n",
    "    Run one epoch of training the `model` on `data`.\n",
    "    Loss values for plotting are saved in `loss_history`.\n",
    "    Average batch loss is printed every `report_every` epochs.\n",
    "    \"\"\"\n",
    "    start = time.time()\n",
    "    running_loss = list()\n",
    "    for i, batch in enumerate(tqdm(data.iter_batch(bs))):\n",
    "        optimizer.zero_grad()\n",
    "        batch = torch.tensor(batch, dtype=torch.long).to(device)\n",
    "        loss = model.forward(batch)\n",
    "        loss.backward()\n",
    "        optimizer.step()\n",
    "        running_loss.append(loss.detach().item())\n",
    "        if (i + 1) % report_every == 0:\n",
    "            avg_loss = sum(running_loss) / len(running_loss)\n",
    "            print(\"Step {}, loss: {}\".format(i + 1, avg_loss))\n",
    "            loss_history.append(avg_loss)\n",
    "            running_loss = list()\n",
    "    print(\"Done. Time: {}. Loss: {}.\".format(time.time() - start, sum(running_loss) / len(running_loss)))"
   ]
  },
  {
   "cell_type": "code",
   "execution_count": 344,
   "metadata": {
    "scrolled": true
   },
   "outputs": [
    {
     "name": "stdout",
     "output_type": "stream",
     "text": [
      "Epoch 0\n"
     ]
    },
    {
     "data": {
      "application/vnd.jupyter.widget-view+json": {
       "model_id": "0c35050f790d4ee38fb2d0995090d29e",
       "version_major": 2,
       "version_minor": 0
      },
      "text/plain": [
       "HBox(children=(IntProgress(value=1, bar_style='info', max=1), HTML(value='')))"
      ]
     },
     "metadata": {},
     "output_type": "display_data"
    },
    {
     "name": "stdout",
     "output_type": "stream",
     "text": [
      "Step 8000, loss: 6922.531254089356\n",
      "Step 16000, loss: 6415.809563720703\n",
      "Step 24000, loss: 6253.110595336914\n",
      "Step 32000, loss: 6193.8762189331055\n",
      "Step 40000, loss: 6164.222135864258\n",
      "Step 48000, loss: 6135.113304992676\n",
      "Step 56000, loss: 6121.161873779297\n",
      "Step 64000, loss: 6113.99996472168\n",
      "Step 72000, loss: 6113.067741333008\n",
      "Step 80000, loss: 6094.556719543457\n",
      "Step 88000, loss: 6098.258326660156\n",
      "Step 96000, loss: 6091.715161682129\n",
      "Step 104000, loss: 6090.332387145996\n",
      "Step 112000, loss: 6087.313057983399\n",
      "Step 120000, loss: 6092.947467346192\n",
      "Step 128000, loss: 6093.183935119629\n",
      "Step 136000, loss: 6081.476648193359\n",
      "Step 144000, loss: 6090.477923339844\n",
      "Step 152000, loss: 6081.780208129883\n",
      "Step 160000, loss: 6086.066282897949\n",
      "Step 168000, loss: 6081.645021606445\n",
      "Step 176000, loss: 6079.493147705078\n",
      "Step 184000, loss: 6082.31750189209\n",
      "Step 192000, loss: 6084.247570007325\n",
      "Step 200000, loss: 6085.7657890625\n",
      "Step 208000, loss: 6085.722837524414\n",
      "Step 216000, loss: 6079.287731018067\n",
      "Step 224000, loss: 6073.540375854493\n",
      "Step 232000, loss: 6078.715781311035\n",
      "Step 240000, loss: 6078.212236145019\n",
      "Step 248000, loss: 6071.334182128906\n",
      "Step 256000, loss: 6080.534148132324\n",
      "Step 264000, loss: 6080.214699035644\n",
      "Done. Time: 1868.2510273456573. Loss: 6069.860338547388.\n",
      "Epoch 1\n"
     ]
    },
    {
     "data": {
      "application/vnd.jupyter.widget-view+json": {
       "model_id": "8b54b042e3be45519fd85a95cc3559b5",
       "version_major": 2,
       "version_minor": 0
      },
      "text/plain": [
       "HBox(children=(IntProgress(value=1, bar_style='info', max=1), HTML(value='')))"
      ]
     },
     "metadata": {},
     "output_type": "display_data"
    },
    {
     "name": "stdout",
     "output_type": "stream",
     "text": [
      "Step 8000, loss: 6066.711372314453\n",
      "Step 16000, loss: 6076.442223632813\n",
      "Step 24000, loss: 6071.476499633789\n",
      "Step 32000, loss: 6080.792936401367\n",
      "Step 40000, loss: 6068.637865539551\n",
      "Step 48000, loss: 6071.692631896973\n",
      "Step 56000, loss: 6073.202460083008\n",
      "Step 64000, loss: 6069.693323120117\n",
      "Step 72000, loss: 6074.663681396484\n",
      "Step 80000, loss: 6072.76906427002\n",
      "Step 88000, loss: 6077.332327026367\n",
      "Step 96000, loss: 6067.314661987305\n",
      "Step 104000, loss: 6075.923491455078\n",
      "Step 112000, loss: 6074.827698303223\n",
      "Step 120000, loss: 6073.814983215332\n",
      "Step 128000, loss: 6075.825471191406\n",
      "Step 136000, loss: 6074.569455627441\n",
      "Step 144000, loss: 6072.854779846191\n",
      "Step 152000, loss: 6071.682022766114\n",
      "Step 160000, loss: 6076.613666564941\n",
      "Step 168000, loss: 6077.86665435791\n",
      "Step 176000, loss: 6075.536215942383\n",
      "Step 184000, loss: 6071.18246069336\n",
      "Step 192000, loss: 6074.959123474121\n",
      "Step 200000, loss: 6075.051067993164\n",
      "Step 208000, loss: 6070.106549682617\n",
      "Step 216000, loss: 6081.5381510009765\n",
      "Step 224000, loss: 6081.173053527832\n",
      "Step 232000, loss: 6072.356306152344\n",
      "Step 240000, loss: 6083.009990112305\n",
      "Step 248000, loss: 6075.963000915527\n",
      "Step 256000, loss: 6075.948708312988\n",
      "Step 264000, loss: 6069.477161682129\n",
      "Done. Time: 1862.9233767986298. Loss: 6070.676972704878.\n",
      "Epoch 2\n"
     ]
    },
    {
     "data": {
      "application/vnd.jupyter.widget-view+json": {
       "model_id": "fe13b456fd04412692d76eff9e83b437",
       "version_major": 2,
       "version_minor": 0
      },
      "text/plain": [
       "HBox(children=(IntProgress(value=1, bar_style='info', max=1), HTML(value='')))"
      ]
     },
     "metadata": {},
     "output_type": "display_data"
    },
    {
     "name": "stdout",
     "output_type": "stream",
     "text": [
      "Step 8000, loss: 6076.728727905273\n",
      "Step 16000, loss: 6070.622336242675\n",
      "Step 24000, loss: 6073.977973388672\n",
      "Step 32000, loss: 6074.884422607422\n",
      "Step 40000, loss: 6081.840183288574\n",
      "Step 48000, loss: 6069.668176330566\n",
      "Step 56000, loss: 6069.002945007324\n",
      "Step 64000, loss: 6077.379930297851\n",
      "Step 72000, loss: 6080.999819641113\n",
      "Step 80000, loss: 6076.383961730957\n",
      "Step 88000, loss: 6079.862813903808\n",
      "Step 96000, loss: 6076.913900024414\n",
      "Step 104000, loss: 6074.395930297852\n",
      "Step 112000, loss: 6074.927205871582\n",
      "Step 120000, loss: 6074.660599609375\n",
      "Step 128000, loss: 6071.054357421875\n",
      "Step 136000, loss: 6072.269321350098\n",
      "Step 144000, loss: 6060.390648376465\n",
      "Step 152000, loss: 6064.5641439208985\n",
      "Step 160000, loss: 6071.643696960449\n",
      "Step 168000, loss: 6075.355172668457\n",
      "Step 176000, loss: 6075.119246948242\n",
      "Step 184000, loss: 6071.058132324219\n",
      "Step 192000, loss: 6075.051375122071\n",
      "Step 200000, loss: 6078.182665710449\n",
      "Step 208000, loss: 6071.864989379883\n",
      "Step 216000, loss: 6065.9570106811525\n",
      "Step 224000, loss: 6068.4153869018555\n",
      "Step 232000, loss: 6078.710468139649\n",
      "Step 240000, loss: 6067.345476928711\n",
      "Step 248000, loss: 6073.25751977539\n",
      "Step 256000, loss: 6062.156117919922\n",
      "Step 264000, loss: 6071.921770446777\n",
      "Done. Time: 1870.0559976100922. Loss: 6074.111940407376.\n"
     ]
    }
   ],
   "source": [
    "for i in range(n_epochs):\n",
    "    print(\"Epoch\", i)\n",
    "    epoch(model, data, loss_history, optimizer, device, bs=batch_size, report_every=8000)"
   ]
  },
  {
   "cell_type": "markdown",
   "metadata": {},
   "source": [
    "### 1. Trained word vectors "
   ]
  },
  {
   "cell_type": "markdown",
   "metadata": {},
   "source": [
    "Time: an hour and a half."
   ]
  },
  {
   "cell_type": "code",
   "execution_count": 345,
   "metadata": {},
   "outputs": [],
   "source": [
    "embeddings = model.emb.weight.detach().cpu().numpy()"
   ]
  },
  {
   "cell_type": "code",
   "execution_count": 346,
   "metadata": {},
   "outputs": [
    {
     "data": {
      "text/plain": [
       "[('russia', 1.0000001),\n",
       " ('germany', 0.9992042),\n",
       " ('pakistani', 0.9986607),\n",
       " ('poland', 0.99860096),\n",
       " ('hungary', 0.998516),\n",
       " ('spain', 0.99809176),\n",
       " ('austria', 0.9980056),\n",
       " ('cdu', 0.9978891),\n",
       " ('rhodesia', 0.99786663),\n",
       " ('tripoli', 0.99771535)]"
      ]
     },
     "execution_count": 346,
     "metadata": {},
     "output_type": "execute_result"
    }
   ],
   "source": [
    "most_similar(\"russia\", vocab, embeddings, 10)"
   ]
  },
  {
   "cell_type": "code",
   "execution_count": 347,
   "metadata": {},
   "outputs": [
    {
     "data": {
      "text/plain": [
       "(30001, 150)"
      ]
     },
     "execution_count": 347,
     "metadata": {},
     "output_type": "execute_result"
    }
   ],
   "source": [
    "embeddings.shape"
   ]
  },
  {
   "cell_type": "markdown",
   "metadata": {},
   "source": [
    "### 2. Plotted loss"
   ]
  },
  {
   "cell_type": "code",
   "execution_count": 348,
   "metadata": {},
   "outputs": [
    {
     "data": {
      "image/png": "[encoded data removed]",
      "text/plain": [
       "<Figure size 576x432 with 1 Axes>"
      ]
     },
     "metadata": {
      "needs_background": "light"
     },
     "output_type": "display_data"
    }
   ],
   "source": [
    "plt.figure(figsize=(8, 6))\n",
    "sns.lineplot(x=[3000*i for i in range(len(loss_history))], y=loss_history)\n",
    "plt.title(\"Train loss\")\n",
    "plt.ylabel(\"Mean batch loss\")\n",
    "plt.xlabel(\"Train step\")\n",
    "plt.show()"
   ]
  },
  {
   "cell_type": "markdown",
   "metadata": {},
   "source": [
    "### 3. Function to map token to corresponding word vector"
   ]
  },
  {
   "cell_type": "code",
   "execution_count": 349,
   "metadata": {},
   "outputs": [
    {
     "data": {
      "text/plain": [
       "(150,)"
      ]
     },
     "execution_count": 349,
     "metadata": {},
     "output_type": "execute_result"
    }
   ],
   "source": [
    "get_vector(\"russia\", vocab, embeddings).shape"
   ]
  },
  {
   "cell_type": "markdown",
   "metadata": {},
   "source": [
    "### 4. Beautiful visualizations (PCE, T-SNE)"
   ]
  },
  {
   "cell_type": "code",
   "execution_count": 350,
   "metadata": {},
   "outputs": [
    {
     "data": {
      "text/plain": [
       "PCA(copy=True, iterated_power='auto', n_components=2, random_state=None,\n",
       "  svd_solver='auto', tol=0.0, whiten=False)"
      ]
     },
     "execution_count": 350,
     "metadata": {},
     "output_type": "execute_result"
    }
   ],
   "source": [
    "pca = PCA(2)\n",
    "pca.fit(embeddings)"
   ]
  },
  {
   "cell_type": "code",
   "execution_count": 351,
   "metadata": {},
   "outputs": [],
   "source": [
    "embs_pca = pca.transform(embeddings)"
   ]
  },
  {
   "cell_type": "code",
   "execution_count": 352,
   "metadata": {},
   "outputs": [],
   "source": [
    "words_to_vis = [\"london\", \"law\", \"game\"]"
   ]
  },
  {
   "cell_type": "code",
   "execution_count": 353,
   "metadata": {},
   "outputs": [
    {
     "data": {
      "image/png": "[encoded data removed]",
      "text/plain": [
       "<Figure size 648x648 with 1 Axes>"
      ]
     },
     "metadata": {
      "needs_background": "light"
     },
     "output_type": "display_data"
    }
   ],
   "source": [
    "x, y, labels, sims, hues = visualize(embeddings, vocab, words_to_vis, 10, pca)\n",
    "\n",
    "plt.figure(figsize=(9, 9))\n",
    "plt_colors = ['b', 'g', 'r', 'c', 'm', 'y', 'k']  # this is how many clusters you can get\n",
    "offs = 0.02\n",
    "\n",
    "for i in range(len(labels)):\n",
    "    plt.scatter(x[i], y[i], c=plt_colors[hues[i]])\n",
    "    plt.text(x[i] + offs, y[i] + offs, labels[i], fontsize=9)\n",
    "\n",
    "plt.title(f\"Neighbour cluster for words: {', '.join(words_to_vis)}\")\n",
    "plt.show()"
   ]
  },
  {
   "cell_type": "markdown",
   "metadata": {},
   "source": [
    "### 5. Qualitative evaluations of word vectors: nearest neighbors, word analogies"
   ]
  },
  {
   "cell_type": "markdown",
   "metadata": {},
   "source": [
    "#### Nearest neighbours "
   ]
  },
  {
   "cell_type": "code",
   "execution_count": 354,
   "metadata": {},
   "outputs": [
    {
     "data": {
      "text/plain": [
       "[('russia', 1.0000001),\n",
       " ('germany', 0.9992042),\n",
       " ('pakistani', 0.9986607),\n",
       " ('poland', 0.99860096),\n",
       " ('hungary', 0.998516),\n",
       " ('spain', 0.99809176),\n",
       " ('austria', 0.9980056),\n",
       " ('cdu', 0.9978891),\n",
       " ('rhodesia', 0.99786663),\n",
       " ('tripoli', 0.99771535)]"
      ]
     },
     "execution_count": 354,
     "metadata": {},
     "output_type": "execute_result"
    }
   ],
   "source": [
    "most_similar(\"russia\", vocab, embeddings, 10)"
   ]
  },
  {
   "cell_type": "code",
   "execution_count": 355,
   "metadata": {},
   "outputs": [
    {
     "data": {
      "text/plain": [
       "[('table', 1.0),\n",
       " ('logarithm', 0.9973896),\n",
       " ('projective', 0.99694586),\n",
       " ('norm', 0.9967678),\n",
       " ('projection', 0.99654526),\n",
       " ('hyperbola', 0.9963104),\n",
       " ('autocorrelation', 0.99620676),\n",
       " ('diagram', 0.99600065),\n",
       " ('decibel', 0.99595535),\n",
       " ('specifies', 0.99594396)]"
      ]
     },
     "execution_count": 355,
     "metadata": {},
     "output_type": "execute_result"
    }
   ],
   "source": [
    "most_similar(\"table\", vocab, embeddings, 10)"
   ]
  },
  {
   "cell_type": "code",
   "execution_count": 356,
   "metadata": {},
   "outputs": [
    {
     "data": {
      "text/plain": [
       "[('war', 1.0),\n",
       " ('stalingrad', 0.99868745),\n",
       " ('republican', 0.99789506),\n",
       " ('confederate', 0.99785304),\n",
       " ('army', 0.9978402),\n",
       " ('chiefs', 0.9973371),\n",
       " ('armistice', 0.9967854),\n",
       " ('brokered', 0.9964058),\n",
       " ('senators', 0.9960154),\n",
       " ('revolutionary', 0.99597526)]"
      ]
     },
     "execution_count": 356,
     "metadata": {},
     "output_type": "execute_result"
    }
   ],
   "source": [
    "most_similar(\"war\", vocab, embeddings, 10)"
   ]
  },
  {
   "cell_type": "code",
   "execution_count": 357,
   "metadata": {},
   "outputs": [
    {
     "data": {
      "text/plain": [
       "[('data', 0.9999999),\n",
       " ('bandwidth', 0.99904597),\n",
       " ('supercomputers', 0.9986943),\n",
       " ('sequential', 0.99860704),\n",
       " ('infrared', 0.9983736),\n",
       " ('relational', 0.9983091),\n",
       " ('addressing', 0.9981318),\n",
       " ('lcds', 0.99798375),\n",
       " ('storage', 0.99788916),\n",
       " ('storing', 0.99774826)]"
      ]
     },
     "execution_count": 357,
     "metadata": {},
     "output_type": "execute_result"
    }
   ],
   "source": [
    "most_similar(\"data\", vocab, embeddings, 10)"
   ]
  },
  {
   "cell_type": "markdown",
   "metadata": {},
   "source": [
    "#### Word analogies "
   ]
  },
  {
   "cell_type": "code",
   "execution_count": 364,
   "metadata": {},
   "outputs": [
    {
     "data": {
      "text/plain": [
       "('france', 0.999592)"
      ]
     },
     "execution_count": 364,
     "metadata": {},
     "output_type": "execute_result"
    }
   ],
   "source": [
    "task = [\"beijing\", \"china\", \"paris\"]\n",
    "solve_analogy(embeddings, vocab, task)"
   ]
  },
  {
   "cell_type": "markdown",
   "metadata": {},
   "source": [
    "### Extra: intrinsic evaluation with Google analogies "
   ]
  },
  {
   "cell_type": "code",
   "execution_count": 359,
   "metadata": {},
   "outputs": [],
   "source": [
    "from collections import defaultdict\n",
    "tasks = defaultdict(list)\n",
    "\n",
    "current_task = \"\"\n",
    "for line in pairs:\n",
    "    line = line.strip()\n",
    "    if line.startswith(\":\"):\n",
    "        current_task = line\n",
    "    else:\n",
    "        tasks[current_task].append(line.split(\" \"))"
   ]
  },
  {
   "cell_type": "code",
   "execution_count": 366,
   "metadata": {},
   "outputs": [],
   "source": [
    "stats = dict()\n",
    "for task in tasks:\n",
    "    stats[task] = {\"total\": len(tasks[task]), \"done\": 0, \"not_found\": 0}\n",
    "    for t in tasks[task]:\n",
    "        try:\n",
    "            res, _ = solve_analogy(embeddings, vocab, t[:3])\n",
    "            if res == t[3]:\n",
    "                stats[task][\"done\"] += 1\n",
    "        except KeyError as e:\n",
    "            stats[task][\"not_found\"] += 1# some of the words are not found in the vocab, so we don't get a point"
   ]
  },
  {
   "cell_type": "code",
   "execution_count": 367,
   "metadata": {},
   "outputs": [
    {
     "data": {
      "text/plain": [
       "{': capital-common-countries': {'total': 506, 'done': 5, 'not_found': 0},\n",
       " ': capital-world': {'total': 4524, 'done': 17, 'not_found': 3072},\n",
       " ': currency': {'total': 866, 'done': 0, 'not_found': 377},\n",
       " ': city-in-state': {'total': 2467, 'done': 17, 'not_found': 896},\n",
       " ': family': {'total': 506, 'done': 6, 'not_found': 164},\n",
       " ': gram1-adjective-to-adverb': {'total': 992, 'done': 0, 'not_found': 124},\n",
       " ': gram2-opposite': {'total': 812, 'done': 0, 'not_found': 326},\n",
       " ': gram3-comparative': {'total': 1332, 'done': 9, 'not_found': 36},\n",
       " ': gram4-superlative': {'total': 1122, 'done': 1, 'not_found': 386},\n",
       " ': gram5-present-participle': {'total': 1056, 'done': 2, 'not_found': 32},\n",
       " ': gram6-nationality-adjective': {'total': 1599,\n",
       "  'done': 17,\n",
       "  'not_found': 117},\n",
       " ': gram7-past-tense': {'total': 1560, 'done': 7, 'not_found': 117},\n",
       " ': gram8-plural': {'total': 1332, 'done': 4, 'not_found': 244},\n",
       " ': gram9-plural-verbs': {'total': 870, 'done': 2, 'not_found': 116}}"
      ]
     },
     "execution_count": 367,
     "metadata": {},
     "output_type": "execute_result"
    }
   ],
   "source": [
    "stats"
   ]
  },
  {
   "cell_type": "code",
   "execution_count": 368,
   "metadata": {},
   "outputs": [
    {
     "name": "stdout",
     "output_type": "stream",
     "text": [
      ": capital-common-countries:  0.99%\n",
      ": capital-world:  0.38%\n",
      ": currency:  0.00%\n",
      ": city-in-state:  0.69%\n",
      ": family:  1.19%\n",
      ": gram1-adjective-to-adverb:  0.00%\n",
      ": gram2-opposite:  0.00%\n",
      ": gram3-comparative:  0.68%\n",
      ": gram4-superlative:  0.09%\n",
      ": gram5-present-participle:  0.19%\n",
      ": gram6-nationality-adjective:  1.06%\n",
      ": gram7-past-tense:  0.45%\n",
      ": gram8-plural:  0.30%\n",
      ": gram9-plural-verbs:  0.23%\n",
      "Total:  0.45%\n"
     ]
    }
   ],
   "source": [
    "done = 0\n",
    "total = 0\n",
    "for stat in stats:\n",
    "    name = stat\n",
    "    stat = stats[name]\n",
    "    acc = stat[\"done\"] / stat[\"total\"]\n",
    "    done += stat[\"done\"]\n",
    "    total += stat[\"total\"]\n",
    "    print(f\"{name}: {acc: .2%}\")\n",
    "print(f\"Total: {done/total: .2%}\")"
   ]
  },
  {
   "cell_type": "code",
   "execution_count": null,
   "metadata": {},
   "outputs": [],
   "source": []
  }
 ],
 "metadata": {
  "kernelspec": {
   "display_name": "Python 3",
   "language": "python",
   "name": "python3"
  },
  "language_info": {
   "codemirror_mode": {
    "name": "ipython",
    "version": 3
   },
   "file_extension": ".py",
   "mimetype": "text/x-python",
   "name": "python",
   "nbconvert_exporter": "python",
   "pygments_lexer": "ipython3",
   "version": "3.7.1"
  }
 },
 "nbformat": 4,
 "nbformat_minor": 2
}
