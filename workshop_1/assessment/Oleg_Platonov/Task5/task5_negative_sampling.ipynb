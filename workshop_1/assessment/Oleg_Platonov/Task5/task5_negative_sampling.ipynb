{
 "cells": [
  {
   "cell_type": "markdown",
   "metadata": {},
   "source": [
    "# Negative sampling\n",
    "\n",
    "You may have noticed that word2vec is really slow to train. Especially with big (> 50 000) vocabularies. Negative sampling is the solution.\n",
    "\n",
    "The task is to implement word2vec with negative sampling. In more detail: you should implement two ways of negative sampling.\n",
    "\n",
    "## Vanilla negative sampling\n",
    "\n",
    "This is what was discussed in Stanford lecture. The main idea is in the formula:\n",
    "\n",
    "$$ L = \\log\\sigma(u^T_o u_c) + \\sum^k_{i=1} \\mathbb{E}_{j \\sim P(w)}[\\log\\sigma(-u^T_j, u_c)]$$\n",
    "\n",
    "Where $\\sigma$ - sigmoid function, $u_c$ - central word vector, $u_o$ - context (outside of the window) word vector, $u_j$ - vector or word with index $j$.\n",
    "\n",
    "The first term calculates the similarity between positive examples (word from one window)\n",
    "\n",
    "The second term is responsible for negative samples. $k$ is a hyperparameter - the number of negatives to sample.\n",
    "$\\mathbb{E}_{j \\sim P(w)}$\n",
    "means that $j$ is distributed accordingly to unigram distribution, but it is better to use $P^{3/4}(w)$ (empirical results) and you can experiment with some other approaches (for example, try to use uniform distribution).\n",
    "\n",
    "Thus, it is only required to calculate the similarity between positive samples and some other negatives. Not across all the vocabulary.\n",
    "\n",
    "Useful links:\n",
    "1. [Efficient Estimation of Word Representations in Vector Space](https://arxiv.org/pdf/1301.3781.pdf)\n",
    "1. [Distributed Representations of Words and Phrases and their Compositionality](http://papers.nips.cc/paper/5021-distributed-representations-of-words-and-phrases-and-their-compositionality.pdf)\n"
   ]
  },
  {
   "cell_type": "code",
   "execution_count": 1,
   "metadata": {
    "collapsed": true
   },
   "outputs": [],
   "source": [
    "import numpy as np\n",
    "import tensorflow as tf\n",
    "from sklearn.metrics.pairwise import cosine_similarity\n",
    "from sklearn.manifold import TSNE\n",
    "import pickle\n",
    "import matplotlib.pyplot as plt\n",
    "%matplotlib inline"
   ]
  },
  {
   "cell_type": "markdown",
   "metadata": {},
   "source": [
    "### Подготовка данных"
   ]
  },
  {
   "cell_type": "markdown",
   "metadata": {},
   "source": [
    "Будем использовать дефолтный текст ('text8'). Повторим простую предобработку текста из задания 2: удалим из текста стопслова и слишком редкие слова (встречающиеся менее 25 раз).\n",
    "Также создадим батчер для SkipGram модели. Он генерирует батчи, состоящие из n пар слов (x, y), где x - центрально еслово, y - некоторое слово из окна вокруг центрального слова."
   ]
  },
  {
   "cell_type": "code",
   "execution_count": 2,
   "metadata": {},
   "outputs": [
    {
     "name": "stdout",
     "output_type": "stream",
     "text": [
      "Vocab size: 27790\n"
     ]
    }
   ],
   "source": [
    "from preprocessing import prepare_data\n",
    "frequent_words, token2id, id2token, batcher = prepare_data(min_count=25, shuffle=False)\n",
    "print(f'Vocab size: {len(token2id)}')"
   ]
  },
  {
   "cell_type": "markdown",
   "metadata": {},
   "source": [
    "Для генерации негативных примеров будем использовать распределение, предложенное в оригинальной статье (т.е. с возведением в степень 3/4)."
   ]
  },
  {
   "cell_type": "code",
   "execution_count": 3,
   "metadata": {
    "collapsed": true
   },
   "outputs": [],
   "source": [
    "import tensorflow_probability as tfp"
   ]
  },
  {
   "cell_type": "code",
   "execution_count": 4,
   "metadata": {
    "collapsed": true
   },
   "outputs": [],
   "source": [
    "total_counts = sum(map(lambda x: x**0.75, frequent_words.values()))\n",
    "probs = [frequent_words[id2token[i]]**0.75 / total_counts for i in range(len(id2token))]"
   ]
  },
  {
   "cell_type": "markdown",
   "metadata": {},
   "source": [
    "### Модель"
   ]
  },
  {
   "cell_type": "code",
   "execution_count": 5,
   "metadata": {
    "collapsed": true
   },
   "outputs": [],
   "source": [
    "class Word2VecNegativeSamplingModel():\n",
    "    def __init__(self, params):\n",
    "        self.embeddings = tf.get_variable(name='embedding_matrix', \n",
    "                                          shape=[params['vocab_size'], params['embedding_dim']], \n",
    "                                          dtype=tf.float32, \n",
    "                                          trainable=True)\n",
    "        \n",
    "        self.weights = tf.get_variable(name='weight_matrix', \n",
    "                                       shape=[params['vocab_size'], params['embedding_dim']], \n",
    "                                       trainable=True)\n",
    "        \n",
    "        self.negative_sampler = tfp.distributions.Categorical(probs=params['sample_probs'])\n",
    "        \n",
    "        self.inputs = tf.placeholder(shape=(None, 1), dtype=tf.int32, name='inputs')\n",
    "        self.targets = tf.placeholder(shape=(None, 1), dtype=tf.int32, name='targets')\n",
    "        self.learning_rate = tf.placeholder(shape=[], dtype=tf.float32, name='learning_rate')\n",
    "        self.num_negatives = tf.placeholder(shape=[], dtype=tf.int32, name='num_negatives')\n",
    "        \n",
    "        batch_size = tf.shape(self.inputs)[0]\n",
    "        self.negatives = self.negative_sampler.sample(sample_shape=(batch_size, self.num_negatives))\n",
    "        self.targets_with_negatives = tf.concat([self.targets, self.negatives], axis=1)\n",
    "        \n",
    "        labels_positive = tf.ones_like(self.targets, dtype=tf.float32)\n",
    "        labels_negative = tf.zeros_like(self.negatives, dtype=tf.float32)\n",
    "        self.labels = tf.concat([labels_positive, labels_negative], axis=1)\n",
    "        \n",
    "        self.inputs_embedded = tf.nn.embedding_lookup(self.embeddings, self.inputs)\n",
    "        self.current_weights = tf.transpose(tf.nn.embedding_lookup(self.weights, self.targets_with_negatives), perm=[0, 2, 1])\n",
    "        \n",
    "        self.logits = tf.squeeze(self.inputs_embedded @ self.current_weights)        \n",
    "        self.loss = tf.reduce_mean(tf.nn.sigmoid_cross_entropy_with_logits(labels=self.labels, logits=self.logits))\n",
    "        \n",
    "        self.optimizer = tf.train.AdamOptimizer(learning_rate=self.learning_rate)\n",
    "        self.train_op = self.optimizer.minimize(self.loss, global_step=tf.train.get_global_step())\n",
    "        \n",
    "        self.loss_history = []\n",
    "    \n",
    "    def train(self, session, inputs, targets, learning_rate, num_negatives):\n",
    "        feed_dict = {\n",
    "            self.inputs: inputs, \n",
    "            self.targets: targets,\n",
    "            self.learning_rate: learning_rate, \n",
    "            self.num_negatives: num_negatives\n",
    "        }\n",
    "    \n",
    "        loss, _ = session.run([self.loss, self.train_op], feed_dict=feed_dict)\n",
    "        \n",
    "        return loss\n"
   ]
  },
  {
   "cell_type": "code",
   "execution_count": 6,
   "metadata": {
    "collapsed": true
   },
   "outputs": [],
   "source": [
    "def train_model(model, session, batcher, batch_size, num_epochs, learning_rate, num_negatives, loss_history, print_every=100):\n",
    "    train_iter = int(np.ceil(len(batcher.data) / batch_size))\n",
    "    print('Start training... \\n')\n",
    "    \n",
    "    for epoch in range(1, num_epochs + 1):\n",
    "        batcher.shuffle()\n",
    "        \n",
    "        print(f'Epoch {epoch}/{num_epochs}:')        \n",
    "        epoch_loss = 0\n",
    "        intermediate_loss = 0\n",
    "        \n",
    "        for i, (inputs, targets) in enumerate(batcher.generate_batches(batch_size=batch_size), 1):\n",
    "            current_loss = model.train(session=session, \n",
    "                                       inputs=np.array(inputs).reshape(-1, 1), \n",
    "                                       targets=np.array(targets).reshape(-1, 1), \n",
    "                                       learning_rate=learning_rate, \n",
    "                                       num_negatives=num_negatives)\n",
    "            \n",
    "            epoch_loss += current_loss\n",
    "            intermediate_loss += current_loss\n",
    "            loss_history.append(current_loss)\n",
    "            \n",
    "            if i % print_every == 0 or (i == 1 and epoch == 1) or i == train_iter:\n",
    "                if i == 1:\n",
    "                    div = 1\n",
    "                elif i == train_iter:\n",
    "                    div = train_iter % print_every\n",
    "                else:\n",
    "                    div = print_every\n",
    "                print(f'Epoch: [{epoch}/{num_epochs}], step: [{i}/{train_iter}], mean loss: {intermediate_loss / div}')\n",
    "                if i != 1:\n",
    "                    intermediate_loss = 0\n",
    "        \n",
    "        print(f'Epoch {epoch} finished, mean loss during epoch {epoch}: {epoch_loss / train_iter} \\n')\n",
    "    \n",
    "    print('...training finished.')"
   ]
  },
  {
   "cell_type": "code",
   "execution_count": 7,
   "metadata": {
    "collapsed": true
   },
   "outputs": [],
   "source": [
    "def plot_loss(losses, average_over_batches=1, upper_bound=None):\n",
    "    average_losses = [np.mean(losses[i:i+average_over_batches+1]) for i in range(0, len(losses), average_over_batches)]\n",
    "    indices = list(range(average_over_batches, len(losses), average_over_batches)) + [len(losses)]\n",
    "    plt.plot(indices, average_losses, '-')\n",
    "    plt.grid(True)\n",
    "    plt.title('Training loss')\n",
    "    plt.xlabel('iteration')\n",
    "    plt.ylabel('loss')\n",
    "    if upper_bound is not None:\n",
    "        plt.ylim(top=upper_bound)\n",
    "    plt.show()"
   ]
  },
  {
   "cell_type": "markdown",
   "metadata": {},
   "source": [
    "### Обучение"
   ]
  },
  {
   "cell_type": "markdown",
   "metadata": {},
   "source": [
    "Обучим word2vec модель с эмбеддингами размерности 50. Для каждого позитивного примера будем генерировать пять негативных."
   ]
  },
  {
   "cell_type": "code",
   "execution_count": 8,
   "metadata": {
    "collapsed": true
   },
   "outputs": [],
   "source": [
    "params = {\n",
    "    'embedding_dim': 50, \n",
    "    'vocab_size': len(token2id), \n",
    "    'sample_probs': probs\n",
    "}"
   ]
  },
  {
   "cell_type": "code",
   "execution_count": 9,
   "metadata": {
    "collapsed": true
   },
   "outputs": [],
   "source": [
    "tf.reset_default_graph()\n",
    "np.random.seed(111)\n",
    "tf.set_random_seed(111)"
   ]
  },
  {
   "cell_type": "code",
   "execution_count": 10,
   "metadata": {
    "collapsed": true
   },
   "outputs": [],
   "source": [
    "model = Word2VecNegativeSamplingModel(params)"
   ]
  },
  {
   "cell_type": "code",
   "execution_count": 11,
   "metadata": {},
   "outputs": [
    {
     "name": "stdout",
     "output_type": "stream",
     "text": [
      "Start training... \n",
      "\n",
      "Epoch 1/3:\n",
      "Epoch: [1/3], step: [1/29334], mean loss: 0.6931509375572205\n",
      "Epoch: [1/3], step: [3000/29334], mean loss: 0.44096336630980176\n",
      "Epoch: [1/3], step: [6000/29334], mean loss: 0.40080486236015955\n",
      "Epoch: [1/3], step: [9000/29334], mean loss: 0.3881560245056947\n",
      "Epoch: [1/3], step: [12000/29334], mean loss: 0.38062996541460353\n",
      "Epoch: [1/3], step: [15000/29334], mean loss: 0.37595944994688035\n",
      "Epoch: [1/3], step: [18000/29334], mean loss: 0.37284892788529395\n",
      "Epoch: [1/3], step: [21000/29334], mean loss: 0.3704303219020367\n",
      "Epoch: [1/3], step: [24000/29334], mean loss: 0.3687258713245392\n",
      "Epoch: [1/3], step: [27000/29334], mean loss: 0.36716091897090275\n",
      "Epoch: [1/3], step: [29334/29334], mean loss: 0.3662474413227606\n",
      "Epoch 1 finished, mean loss during epoch 1: 0.3835774409868092 \n",
      "\n",
      "Epoch 2/3:\n",
      "Epoch: [2/3], step: [3000/29334], mean loss: 0.36347351863980293\n",
      "Epoch: [2/3], step: [6000/29334], mean loss: 0.3631399649679661\n",
      "Epoch: [2/3], step: [9000/29334], mean loss: 0.36284369058410326\n",
      "Epoch: [2/3], step: [12000/29334], mean loss: 0.3624498622218768\n",
      "Epoch: [2/3], step: [15000/29334], mean loss: 0.36221839652458826\n",
      "Epoch: [2/3], step: [18000/29334], mean loss: 0.36181892148653666\n",
      "Epoch: [2/3], step: [21000/29334], mean loss: 0.36154833959539734\n",
      "Epoch: [2/3], step: [24000/29334], mean loss: 0.3614050626357396\n",
      "Epoch: [2/3], step: [27000/29334], mean loss: 0.36133269834518433\n",
      "Epoch: [2/3], step: [29334/29334], mean loss: 0.3610206239863962\n",
      "Epoch 2 finished, mean loss during epoch 2: 0.36215018413403677 \n",
      "\n",
      "Epoch 3/3:\n",
      "Epoch: [3/3], step: [3000/29334], mean loss: 0.35826807937026023\n",
      "Epoch: [3/3], step: [6000/29334], mean loss: 0.35875177652637164\n",
      "Epoch: [3/3], step: [9000/29334], mean loss: 0.35895487758517264\n",
      "Epoch: [3/3], step: [12000/29334], mean loss: 0.3593622153798739\n",
      "Epoch: [3/3], step: [15000/29334], mean loss: 0.359282732129097\n",
      "Epoch: [3/3], step: [18000/29334], mean loss: 0.3593226959606012\n",
      "Epoch: [3/3], step: [21000/29334], mean loss: 0.35939526675144834\n",
      "Epoch: [3/3], step: [24000/29334], mean loss: 0.3594951681494713\n",
      "Epoch: [3/3], step: [27000/29334], mean loss: 0.3595396402080854\n",
      "Epoch: [3/3], step: [29334/29334], mean loss: 0.3594588548992062\n",
      "Epoch 3 finished, mean loss during epoch 3: 0.3591768706455271 \n",
      "\n",
      "...training finished.\n",
      "Wall time: 3h 44min 21s\n"
     ]
    }
   ],
   "source": [
    "%%time\n",
    "\n",
    "session = tf.Session()\n",
    "session.run(tf.global_variables_initializer())\n",
    "\n",
    "train_model(model=model, \n",
    "            session=session, \n",
    "            batcher=batcher, \n",
    "            num_epochs=3, \n",
    "            batch_size=2048, \n",
    "            learning_rate=1e-3, \n",
    "            num_negatives=5, \n",
    "            loss_history=model.loss_history, \n",
    "            print_every=3000)"
   ]
  },
  {
   "cell_type": "markdown",
   "metadata": {},
   "source": [
    "Обучение в течение трех эпох заняло почти 4 часа на GTX 1050 Ti."
   ]
  },
  {
   "cell_type": "code",
   "execution_count": 12,
   "metadata": {},
   "outputs": [
    {
     "data": {
      "image/png": "[encoded data removed]",
      "text/plain": [
       "<Figure size 432x288 with 1 Axes>"
      ]
     },
     "metadata": {},
     "output_type": "display_data"
    }
   ],
   "source": [
    "plot_loss(model.loss_history, average_over_batches=300, upper_bound=0.45)"
   ]
  },
  {
   "cell_type": "markdown",
   "metadata": {},
   "source": [
    "Динамика лосса почти такая же, как и у моделей из предыдущих двух заданий."
   ]
  },
  {
   "cell_type": "code",
   "execution_count": 16,
   "metadata": {
    "collapsed": true
   },
   "outputs": [],
   "source": [
    "embeddings = session.run(model.embeddings)\n",
    "session.close()"
   ]
  },
  {
   "cell_type": "markdown",
   "metadata": {},
   "source": [
    "### Оценка качества эмбеддингов"
   ]
  },
  {
   "cell_type": "code",
   "execution_count": 22,
   "metadata": {
    "collapsed": true
   },
   "outputs": [],
   "source": [
    "def get_embedding(token):\n",
    "    '''Returns embedding for given token.'''\n",
    "    \n",
    "    return embeddings[token2id[token]]\n",
    "\n",
    "def most_similar_to_embedding(input_embedding, embeddings, num_neighbors=10):\n",
    "    '''Returns embeddings closest to given embedding measured by cosine similarity.'''\n",
    "    \n",
    "    distances = cosine_similarity(embeddings, input_embedding.reshape(1, -1)).reshape(-1)\n",
    "    neighbor_indices = np.argpartition(distances, -num_neighbors-1)[-num_neighbors-1:]\n",
    "    sorted_neighbor_indices = list(reversed(neighbor_indices[np.argsort(distances[neighbor_indices])]))\n",
    "    return [id2token[idx] for idx in sorted_neighbor_indices[1:]]\n",
    "\n",
    "def most_similar_to_token(token, embeddings, num_neighbors=10):\n",
    "    '''Returns embeddings closest to embedding of given token measured by cosine similarity.'''\n",
    "    \n",
    "    return  most_similar_to_embedding(get_embedding(token), embeddings, num_neighbors)\n"
   ]
  },
  {
   "cell_type": "markdown",
   "metadata": {},
   "source": [
    "Найдем самые близкие по косинусному расстоянию между эмбеддингами слова для слов fly, car, earth, computer, machine."
   ]
  },
  {
   "cell_type": "code",
   "execution_count": 23,
   "metadata": {},
   "outputs": [
    {
     "data": {
      "text/plain": [
       "['airplane',\n",
       " 'flies',\n",
       " 'gliders',\n",
       " 'glider',\n",
       " 'pilot',\n",
       " 'flight',\n",
       " 'hover',\n",
       " 'pilots',\n",
       " 'crashed',\n",
       " 'flying']"
      ]
     },
     "execution_count": 23,
     "metadata": {},
     "output_type": "execute_result"
    }
   ],
   "source": [
    "most_similar_to_token('fly', embeddings)"
   ]
  },
  {
   "cell_type": "code",
   "execution_count": 24,
   "metadata": {},
   "outputs": [
    {
     "data": {
      "text/plain": [
       "['cars',\n",
       " 'driver',\n",
       " 'truck',\n",
       " 'automobile',\n",
       " 'motorcycle',\n",
       " 'racing',\n",
       " 'racer',\n",
       " 'raced',\n",
       " 'porsche',\n",
       " 'mustang']"
      ]
     },
     "execution_count": 24,
     "metadata": {},
     "output_type": "execute_result"
    }
   ],
   "source": [
    "most_similar_to_token('car', embeddings)"
   ]
  },
  {
   "cell_type": "code",
   "execution_count": 25,
   "metadata": {},
   "outputs": [
    {
     "data": {
      "text/plain": [
       "['planet',\n",
       " 'interstellar',\n",
       " 'planets',\n",
       " 'umbra',\n",
       " 'moon',\n",
       " 'clouds',\n",
       " 'cometary',\n",
       " 'orbiting',\n",
       " 'neptune',\n",
       " 'heavens']"
      ]
     },
     "execution_count": 25,
     "metadata": {},
     "output_type": "execute_result"
    }
   ],
   "source": [
    "most_similar_to_token('earth', embeddings)"
   ]
  },
  {
   "cell_type": "code",
   "execution_count": 27,
   "metadata": {},
   "outputs": [
    {
     "data": {
      "text/plain": [
       "['computers',\n",
       " 'computing',\n",
       " 'hardware',\n",
       " 'bootstrap',\n",
       " 'firmware',\n",
       " 'programmable',\n",
       " 'hci',\n",
       " 'robotics',\n",
       " 'scanners',\n",
       " 'microcomputers']"
      ]
     },
     "execution_count": 27,
     "metadata": {},
     "output_type": "execute_result"
    }
   ],
   "source": [
    "most_similar_to_token('computer', embeddings)"
   ]
  },
  {
   "cell_type": "code",
   "execution_count": 28,
   "metadata": {},
   "outputs": [
    {
     "data": {
      "text/plain": [
       "['machines',\n",
       " 'programmable',\n",
       " 'bootstrap',\n",
       " 'bytecode',\n",
       " 'portable',\n",
       " 'computerized',\n",
       " 'microprogram',\n",
       " 'applesoft',\n",
       " 'automatic',\n",
       " 'operand']"
      ]
     },
     "execution_count": 28,
     "metadata": {},
     "output_type": "execute_result"
    }
   ],
   "source": [
    "most_similar_to_token('machine', embeddings)"
   ]
  },
  {
   "cell_type": "markdown",
   "metadata": {},
   "source": [
    "Почти все полученные ближайшие соседи являются адекватными по смыслу."
   ]
  },
  {
   "cell_type": "markdown",
   "metadata": {},
   "source": [
    "Теперь попробуем получить корректные аналогии."
   ]
  },
  {
   "cell_type": "code",
   "execution_count": 29,
   "metadata": {},
   "outputs": [
    {
     "data": {
      "text/plain": [
       "['son',\n",
       " 'highness',\n",
       " 'isabella',\n",
       " 'marries',\n",
       " 'childless',\n",
       " 'throne',\n",
       " 'eldest',\n",
       " 'daughter',\n",
       " 'matilda',\n",
       " 'reigned']"
      ]
     },
     "execution_count": 29,
     "metadata": {},
     "output_type": "execute_result"
    }
   ],
   "source": [
    "input_embedding = get_embedding('king') - get_embedding('man') + get_embedding('woman')\n",
    "most_similar_to_embedding(input_embedding, embeddings)"
   ]
  },
  {
   "cell_type": "markdown",
   "metadata": {},
   "source": [
    "Классический пример с king - man + woman не сработал. Ничего похожего на queen среди ближайших соседей нет.\n",
    "\n",
    "Однако, неокторые другие аналогии работают:"
   ]
  },
  {
   "cell_type": "code",
   "execution_count": 31,
   "metadata": {},
   "outputs": [
    {
     "data": {
      "text/plain": [
       "['pilot',\n",
       " 'driver',\n",
       " 'fly',\n",
       " 'flight',\n",
       " 'boarded',\n",
       " 'piloted',\n",
       " 'otis',\n",
       " 'wheelchair',\n",
       " 'gunner',\n",
       " 'interception']"
      ]
     },
     "execution_count": 31,
     "metadata": {},
     "output_type": "execute_result"
    }
   ],
   "source": [
    "input_embedding = get_embedding('driver') - get_embedding('car') + get_embedding('airplane')\n",
    "most_similar_to_embedding(input_embedding, embeddings)"
   ]
  },
  {
   "cell_type": "markdown",
   "metadata": {},
   "source": [
    "driver - car + airplane = pilot"
   ]
  },
  {
   "cell_type": "code",
   "execution_count": 36,
   "metadata": {},
   "outputs": [
    {
     "data": {
      "text/plain": [
       "['soccer',\n",
       " 'basketball',\n",
       " 'nhl',\n",
       " 'baseball',\n",
       " 'hockey',\n",
       " 'rugby',\n",
       " 'team',\n",
       " 'softball',\n",
       " 'bruins',\n",
       " 'coached']"
      ]
     },
     "execution_count": 36,
     "metadata": {},
     "output_type": "execute_result"
    }
   ],
   "source": [
    "input_embedding = get_embedding('football') - get_embedding('europe') + get_embedding('america')\n",
    "most_similar_to_embedding(input_embedding, embeddings)"
   ]
  },
  {
   "cell_type": "markdown",
   "metadata": {},
   "source": [
    "football - europe + america = soccer"
   ]
  },
  {
   "cell_type": "code",
   "execution_count": 39,
   "metadata": {},
   "outputs": [
    {
     "data": {
      "text/plain": [
       "['nhl',\n",
       " 'nfc',\n",
       " 'hockey',\n",
       " 'afl',\n",
       " 'cowboys',\n",
       " 'colts',\n",
       " 'rematch',\n",
       " 'broncos',\n",
       " 'browns',\n",
       " 'playoffs']"
      ]
     },
     "execution_count": 39,
     "metadata": {},
     "output_type": "execute_result"
    }
   ],
   "source": [
    "input_embedding = get_embedding('nfl') - get_embedding('football') + get_embedding('hockey')\n",
    "most_similar_to_embedding(input_embedding, embeddings)"
   ]
  },
  {
   "cell_type": "markdown",
   "metadata": {},
   "source": [
    "NFL - football + hockey = NHL"
   ]
  },
  {
   "cell_type": "code",
   "execution_count": 40,
   "metadata": {},
   "outputs": [
    {
     "data": {
      "text/plain": [
       "['nba',\n",
       " 'bengals',\n",
       " 'cowboys',\n",
       " 'colts',\n",
       " 'texans',\n",
       " 'chargers',\n",
       " 'steelers',\n",
       " 'phillies',\n",
       " 'browns',\n",
       " 'alcs']"
      ]
     },
     "execution_count": 40,
     "metadata": {},
     "output_type": "execute_result"
    }
   ],
   "source": [
    "input_embedding = get_embedding('nfl') - get_embedding('football') + get_embedding('basketball')\n",
    "most_similar_to_embedding(input_embedding, embeddings)"
   ]
  },
  {
   "cell_type": "markdown",
   "metadata": {},
   "source": [
    "NFL - football + basketball = NBA"
   ]
  },
  {
   "cell_type": "markdown",
   "metadata": {},
   "source": [
    "Теперь выберем побольше слов и визуализируем их векторные представления с помощью t-SNE."
   ]
  },
  {
   "cell_type": "code",
   "execution_count": 41,
   "metadata": {
    "collapsed": true
   },
   "outputs": [],
   "source": [
    "test_words = ['one', 'two', 'three', 'four', 'five', \n",
    "              'russia', 'germany', 'france', 'england', 'scotland', 'britain', 'china', 'japan', 'korea', 'india', \n",
    "              'moscow', 'berlin', 'paris', 'london', 'edinburgh',\n",
    "              'car', 'truck', 'bus', 'train', 'airplane', 'plane', 'ship', 'yacht', \n",
    "              'human', 'man', 'woman', 'husband', 'wife', 'parents', 'son', 'daughter', \n",
    "              'good', 'great', 'fantastic', 'bad', 'awful', \n",
    "              'walk', 'run', 'swim', 'fly', \n",
    "              'game', 'sport', 'soccer', 'football', 'basketball', 'hockey', 'tennis', \n",
    "              'music', 'song', 'guitar', 'guitarist', 'drums', 'drummer', 'singer', 'vocalist', \n",
    "              'rock', 'metal', 'punk', 'rap', 'jazz', 'blues', 'pop', \n",
    "              'north', 'south', 'east', 'west']\n",
    "\n",
    "test_word_embeddings = np.array([get_embedding(word) for word in test_words])\n",
    "distance_matrix = 1 - np.round(cosine_similarity(test_word_embeddings), decimals=4)"
   ]
  },
  {
   "cell_type": "code",
   "execution_count": 42,
   "metadata": {},
   "outputs": [
    {
     "data": {
      "image/png": "[encoded data removed]",
      "text/plain": [
       "<Figure size 1008x1008 with 1 Axes>"
      ]
     },
     "metadata": {},
     "output_type": "display_data"
    }
   ],
   "source": [
    "tsne = TSNE(perplexity=10, \n",
    "            early_exaggeration=10, \n",
    "            learning_rate=20, \n",
    "            n_iter=2000, \n",
    "            metric='precomputed', \n",
    "            method='exact', \n",
    "            random_state=100)\n",
    "\n",
    "points = tsne.fit_transform(distance_matrix)\n",
    "\n",
    "plt.figure(figsize=[14, 14])\n",
    "plt.scatter(points[:, 0], points[:, 1], color='red', s=100)\n",
    "\n",
    "indent = 0.25\n",
    "for i in range(len(test_words)):\n",
    "    coords = (points[i, 0] + indent, points[i, 1] + indent)\n",
    "    plt.annotate(test_words[i], coords)\n",
    "\n",
    "plt.show()"
   ]
  },
  {
   "cell_type": "markdown",
   "metadata": {},
   "source": [
    "На визуализации слова разделились на ярко выраженные кластеры близких по смыслу слов: музыка, спорт, числа, страны и столицы...\n",
    "Можно обратить внимание, что отношение страна-столица визуально получилось почти одинаковым для всех рассмотренных пар.\n",
    "\n",
    "В целом, можно сделать вывод, что полученные эмбеддинги действительно содержат семантическую и синтаксическую информацию о словах.\n",
    "\n",
    "Судя по рассмотренным примерам, качество эмбеддингов почти не отличаются от полученного в заданиях 3 и 4."
   ]
  },
  {
   "cell_type": "code",
   "execution_count": 43,
   "metadata": {
    "collapsed": true
   },
   "outputs": [],
   "source": [
    "with open('embeddings_task5_part1.pickle', 'wb') as handle:\n",
    "    pickle.dump(embeddings, handle)"
   ]
  },
  {
   "cell_type": "markdown",
   "metadata": {
    "collapsed": true
   },
   "source": [
    "## Batch-transpose trick for negative sampling\n",
    "\n",
    "But we can do better. Maybe we don't need to compute vectors for negative samples at all, because we already have a batch of training data and (hopefully) examples in the batch are highly decorrelated.\n",
    "\n",
    "Let's assume we work with Skip-gram model.\n",
    "\n",
    "Let $S$ be a batch of _L2-normalized_ word vectors `(batch_size, 2*window_size + 1, word_vector_dim)`.\n",
    "\n",
    "```python\n",
    "x = 0.0\n",
    "for batch_idx in range(batch):\n",
    "    w = S[batch_idx, :, :]\n",
    "    x += np.sum(w.T @ w - 1.)\n",
    "\n",
    "y = 0.0\n",
    "for window_idx in range(window):\n",
    "    b = S[:, window_idx, :]\n",
    "    y += np.sum(b.T @ b)\n",
    "\n",
    "loss = -x + y```\n",
    "\n",
    "Think about this loss and compare it to vanilla negative sampling.\n",
    "\n",
    "Implement word2vec with batch-transpose trick. Modify the formula, if needed.\n",
    "\n",
    "If you are interested: [more info](https://www.tensorflow.org/extras/candidate_sampling.pdf) on other methods of candidate sampling.\n",
    "\n",
    "**Results of this task** are the very same as in task 3, **plus**:\n",
    " * implement two models (one with vanilla negative sampling and the other with batch-transpose trick)\n",
    " * compare all of the models from tasks 3-5. In terms of time and number of iterations until convergence and the quality of the resulting vectors.\n",
    " * answer the questions\n",
    "\n",
    "### Questions:\n",
    "1. Explain the batch-transpose trick formula in your own words. How would you name x, y, w and b?\n",
    "1. Should it be modified to serve as a word2vec loss? If yes, how?\n",
    "1. Is it possible to do the same trick with CBOW model? If yes, how?\n",
    "1. Does it matter how the batch is made in the case of batch-transpose trick? In the case of vanilla negative sampling?\n",
    "\n",
    "\n"
   ]
  },
  {
   "cell_type": "markdown",
   "metadata": {},
   "source": [
    "## Answers:\n",
    "  1. Поскольку эмбеддинги нормализованы, то скалярные произведения равны косинусным близостям. w - это просто матрица, содержащая эмбеддинги слов, находящихся в одном окне (т.е. идущих в тексте подряд). Таким образом, x - сумма попарных косинусных близостей слов, попавших в одно окно (с дополнительным вычетом единицы). b - это матрица, содержащая эмбеддинги слов, взятых из рахных окон (т.е., скорее всего, находящихся далеко друг от друга в тексте). Поэтому y - сумма попарных косинусных близостей слов, взятых из рахных окон. Значит, если мы минимизируем лосс вида loss = -x + y, то мы максимизируем косинусную близость эмбеддингов для слов, взятых из одного окна, и минимизируем косинусную близость для слов, взятых из разных окон.\n",
    "  1. Какие-то концептуальные модификации, кажется, не нужны, однако для ускорения вычислений нужно заменить оба цикла на матричные операции. Я также прибаляю единицу к каждой косинсуной близости, входящей в y: это не влияет на оптимизационную задачу, но гарантирует, что лосс будет принимать неотрицательные значения.\n",
    "  1. В данной формуле мы считаем все попарные косинусные расстояния слов, попавших в одно окно, а значит, какое-либо различие между центральными/внутренними и контекстными/внешними словами пропадает. Поэтому лично я бы не стал интерпретировать ее ни как skip-gram, ни как CBOW модель. \n",
    "  1. В случае batch-transpose trick мы предполагаем, что слова из разных окон должны быть непохожи друг на друга, а потому важно, чтобы в один батч не попадали окна, находящиеся близко в тексте. Но при достаточно большом корпусе это условие будет выполняться с достаточно высокой вероятностью при обычном случайном сэмплировании окон для батча."
   ]
  },
  {
   "cell_type": "code",
   "execution_count": 1,
   "metadata": {
    "collapsed": true
   },
   "outputs": [],
   "source": [
    "import numpy as np\n",
    "import tensorflow as tf\n",
    "from sklearn.metrics.pairwise import cosine_similarity\n",
    "from sklearn.manifold import TSNE\n",
    "import pickle\n",
    "import matplotlib.pyplot as plt\n",
    "%matplotlib inline"
   ]
  },
  {
   "cell_type": "markdown",
   "metadata": {},
   "source": [
    "Повторим ту же предобработку текста, что и раньше. Однако, здесь будем использовать другой батчер: он генерирует батчи, состоящие из последовательностей подряд идущих слов длины $2 * window\\_size + 1$."
   ]
  },
  {
   "cell_type": "code",
   "execution_count": 2,
   "metadata": {
    "collapsed": true
   },
   "outputs": [],
   "source": [
    "from preprocessing import *\n",
    "frequent_words, token2id, id2token, batcher = prepare_data(min_count=25, batcher=BatchTransposeTrickBatcher, shuffle=False)"
   ]
  },
  {
   "cell_type": "code",
   "execution_count": 3,
   "metadata": {
    "collapsed": true
   },
   "outputs": [],
   "source": [
    "class Word2VecBatchTransposeTrickModel():\n",
    "    def __init__(self, params):\n",
    "        self.embeddings = tf.get_variable(name='embedding_matrix', \n",
    "                                          shape=[params['vocab_size'], params['embedding_dim']], \n",
    "                                          dtype=tf.float32, \n",
    "                                          trainable=True)\n",
    "        \n",
    "        self.inputs = tf.placeholder(shape=(None, None), dtype=tf.int32, name='inputs')\n",
    "        self.learning_rate = tf.placeholder(shape=[], dtype=tf.float32, name='learning_rate')\n",
    "        \n",
    "        self.inputs_embedded = tf.math.l2_normalize(tf.nn.embedding_lookup(self.embeddings, self.inputs), axis=-1)\n",
    "        \n",
    "        x = self.inputs_embedded @ tf.transpose(self.inputs_embedded, perm=(0, 2, 1)) - 1\n",
    "        y = tf.transpose(self.inputs_embedded, perm=(1, 0, 2)) @ tf.transpose(self.inputs_embedded, perm=(1, 2, 0)) + 1\n",
    "        self.loss = -tf.reduce_mean(x) + tf.reduce_mean(y)\n",
    "        \n",
    "        self.optimizer = tf.train.AdamOptimizer(learning_rate=self.learning_rate)\n",
    "        self.train_op = self.optimizer.minimize(self.loss, global_step=tf.train.get_global_step())\n",
    "        \n",
    "        self.loss_history = []\n",
    "    \n",
    "    def train(self, session, inputs, learning_rate):\n",
    "        feed_dict = {\n",
    "            self.inputs: inputs, \n",
    "            self.learning_rate: learning_rate, \n",
    "        }\n",
    "    \n",
    "        loss, _ = session.run([self.loss, self.train_op], feed_dict=feed_dict)\n",
    "        \n",
    "        return loss"
   ]
  },
  {
   "cell_type": "code",
   "execution_count": 4,
   "metadata": {
    "collapsed": true
   },
   "outputs": [],
   "source": [
    "def train_model(model, session, batcher, batch_size, num_epochs, learning_rate, num_negatives, loss_history, print_every=100):\n",
    "    train_iter = int(np.ceil(len(batcher.data) / batch_size))\n",
    "    print('Start training... \\n')\n",
    "    \n",
    "    for epoch in range(1, num_epochs + 1):\n",
    "        batcher.shuffle()\n",
    "        \n",
    "        print(f'Epoch {epoch}/{num_epochs}:')        \n",
    "        epoch_loss = 0\n",
    "        intermediate_loss = 0\n",
    "        \n",
    "        for i, inputs in enumerate(batcher.generate_batches(batch_size=batch_size), 1):\n",
    "            current_loss = model.train(session=session, \n",
    "                                       inputs=inputs, \n",
    "                                       learning_rate=learning_rate)\n",
    "            \n",
    "            epoch_loss += current_loss\n",
    "            intermediate_loss += current_loss\n",
    "            loss_history.append(current_loss)\n",
    "            \n",
    "            if i % print_every == 0 or (i == 1 and epoch == 1) or i == train_iter:\n",
    "                if i == 1:\n",
    "                    div = 1\n",
    "                elif i == train_iter:\n",
    "                    div = train_iter % print_every\n",
    "                else:\n",
    "                    div = print_every\n",
    "                print(f'Epoch: [{epoch}/{num_epochs}], step: [{i}/{train_iter}], mean loss: {intermediate_loss / div}')\n",
    "                if i != 1:\n",
    "                    intermediate_loss = 0\n",
    "        \n",
    "        print(f'Epoch {epoch} finished, mean loss during epoch {epoch}: {epoch_loss / train_iter} \\n')\n",
    "    \n",
    "    print('...training finished.')"
   ]
  },
  {
   "cell_type": "code",
   "execution_count": 5,
   "metadata": {
    "collapsed": true
   },
   "outputs": [],
   "source": [
    "def plot_loss(losses, average_over_batches=1, upper_bound=None):\n",
    "    average_losses = [np.mean(losses[i:i+average_over_batches+1]) for i in range(0, len(losses), average_over_batches)]\n",
    "    indices = list(range(average_over_batches, len(losses), average_over_batches)) + [len(losses)]\n",
    "    plt.plot(indices, average_losses, '-')\n",
    "    plt.grid(True)\n",
    "    plt.title('Training loss')\n",
    "    plt.xlabel('iteration')\n",
    "    plt.ylabel('loss')\n",
    "    if upper_bound is not None:\n",
    "        plt.ylim(top=upper_bound)\n",
    "    plt.show()"
   ]
  },
  {
   "cell_type": "code",
   "execution_count": 6,
   "metadata": {
    "collapsed": true
   },
   "outputs": [],
   "source": [
    "params = {\n",
    "    'embedding_dim': 50, \n",
    "    'vocab_size': len(token2id),  \n",
    "}"
   ]
  },
  {
   "cell_type": "code",
   "execution_count": 7,
   "metadata": {
    "collapsed": true
   },
   "outputs": [],
   "source": [
    "tf.reset_default_graph()\n",
    "np.random.seed(111)\n",
    "tf.set_random_seed(111)"
   ]
  },
  {
   "cell_type": "code",
   "execution_count": 8,
   "metadata": {
    "collapsed": true
   },
   "outputs": [],
   "source": [
    "model = Word2VecBatchTransposeTrickModel(params)"
   ]
  },
  {
   "cell_type": "code",
   "execution_count": 9,
   "metadata": {},
   "outputs": [
    {
     "name": "stdout",
     "output_type": "stream",
     "text": [
      "Start training... \n",
      "\n",
      "Epoch 1/3:\n",
      "Epoch: [1/3], step: [1/19556], mean loss: 1.846848487854004\n",
      "Epoch: [1/3], step: [3000/19556], mean loss: 1.5393444976409276\n",
      "Epoch: [1/3], step: [6000/19556], mean loss: 1.5245565182367962\n",
      "Epoch: [1/3], step: [9000/19556], mean loss: 1.5234688791036606\n",
      "Epoch: [1/3], step: [12000/19556], mean loss: 1.5225843135515849\n",
      "Epoch: [1/3], step: [15000/19556], mean loss: 1.5220684513250986\n",
      "Epoch: [1/3], step: [18000/19556], mean loss: 1.522691804965337\n",
      "Epoch: [1/3], step: [19556/19556], mean loss: 1.5216099531760865\n",
      "Epoch 1 finished, mean loss during epoch 1: 1.525453491593997 \n",
      "\n",
      "Epoch 2/3:\n",
      "Epoch: [2/3], step: [3000/19556], mean loss: 1.5211596020857494\n",
      "Epoch: [2/3], step: [6000/19556], mean loss: 1.5212981861035029\n",
      "Epoch: [2/3], step: [9000/19556], mean loss: 1.5222860403855643\n",
      "Epoch: [2/3], step: [12000/19556], mean loss: 1.5216472469568252\n",
      "Epoch: [2/3], step: [15000/19556], mean loss: 1.5211781853834787\n",
      "Epoch: [2/3], step: [18000/19556], mean loss: 1.520997713446617\n",
      "Epoch: [2/3], step: [19556/19556], mean loss: 1.5210406717420544\n",
      "Epoch 2 finished, mean loss during epoch 2: 1.521397024356507 \n",
      "\n",
      "Epoch 3/3:\n",
      "Epoch: [3/3], step: [3000/19556], mean loss: 1.520929366350174\n",
      "Epoch: [3/3], step: [6000/19556], mean loss: 1.5214466565450033\n",
      "Epoch: [3/3], step: [9000/19556], mean loss: 1.520645081758499\n",
      "Epoch: [3/3], step: [12000/19556], mean loss: 1.5212550556262334\n",
      "Epoch: [3/3], step: [15000/19556], mean loss: 1.520653287490209\n",
      "Epoch: [3/3], step: [18000/19556], mean loss: 1.5207407624324163\n",
      "Epoch: [3/3], step: [19556/19556], mean loss: 1.521070264452221\n",
      "Epoch 3 finished, mean loss during epoch 3: 1.5209549990844375 \n",
      "\n",
      "...training finished.\n",
      "Wall time: 7min 15s\n"
     ]
    }
   ],
   "source": [
    "%%time\n",
    "\n",
    "session = tf.Session()\n",
    "session.run(tf.global_variables_initializer())\n",
    "\n",
    "train_model(model=model, \n",
    "            session=session, \n",
    "            batcher=batcher, \n",
    "            num_epochs=3, \n",
    "            batch_size=512, \n",
    "            learning_rate=1e-3, \n",
    "            num_negatives=5, \n",
    "            loss_history=model.loss_history, \n",
    "            print_every=3000)"
   ]
  },
  {
   "cell_type": "markdown",
   "metadata": {},
   "source": [
    "Обучение проходит в разы быстрее, однако лосс падает только в самом начала первой эпохи, а затем практически не изменяется."
   ]
  },
  {
   "cell_type": "code",
   "execution_count": 10,
   "metadata": {},
   "outputs": [
    {
     "data": {
      "image/png": "[encoded data removed]",
      "text/plain": [
       "<Figure size 432x288 with 1 Axes>"
      ]
     },
     "metadata": {},
     "output_type": "display_data"
    }
   ],
   "source": [
    "plot_loss(model.loss_history, average_over_batches=300, upper_bound=1.55)"
   ]
  },
  {
   "cell_type": "code",
   "execution_count": 11,
   "metadata": {
    "collapsed": true
   },
   "outputs": [],
   "source": [
    "embeddings = session.run(model.embeddings)"
   ]
  },
  {
   "cell_type": "markdown",
   "metadata": {},
   "source": [
    "### Оценка качества эмбеддингов"
   ]
  },
  {
   "cell_type": "code",
   "execution_count": 12,
   "metadata": {
    "collapsed": true
   },
   "outputs": [],
   "source": [
    "def get_embedding(token):\n",
    "    '''Returns embedding for given token.'''\n",
    "    \n",
    "    return embeddings[token2id[token]]\n",
    "\n",
    "def most_similar_to_embedding(input_embedding, embeddings, num_neighbors=10):\n",
    "    '''Returns embeddings closest to given embedding measured by cosine similarity.'''\n",
    "    \n",
    "    distances = cosine_similarity(embeddings, input_embedding.reshape(1, -1)).reshape(-1)\n",
    "    neighbor_indices = np.argpartition(distances, -num_neighbors-1)[-num_neighbors-1:]\n",
    "    sorted_neighbor_indices = list(reversed(neighbor_indices[np.argsort(distances[neighbor_indices])]))\n",
    "    return [id2token[idx] for idx in sorted_neighbor_indices[1:]]\n",
    "\n",
    "def most_similar_to_token(token, embeddings, num_neighbors=10):\n",
    "    '''Returns embeddings closest to embedding of given token measured by cosine similarity.'''\n",
    "    \n",
    "    return  most_similar_to_embedding(get_embedding(token), embeddings, num_neighbors)\n"
   ]
  },
  {
   "cell_type": "markdown",
   "metadata": {},
   "source": [
    "Найдем самые близкие по косинусному расстоянию между эмбеддингами слова для слов fly, car, earth, computer, machine."
   ]
  },
  {
   "cell_type": "code",
   "execution_count": 13,
   "metadata": {},
   "outputs": [
    {
     "data": {
      "text/plain": [
       "['catches',\n",
       " 'flies',\n",
       " 'cranes',\n",
       " 'gold',\n",
       " 'glider',\n",
       " 'red',\n",
       " 'turtle',\n",
       " 'abort',\n",
       " 'deck',\n",
       " 'hog']"
      ]
     },
     "execution_count": 13,
     "metadata": {},
     "output_type": "execute_result"
    }
   ],
   "source": [
    "most_similar_to_token('fly', embeddings)"
   ]
  },
  {
   "cell_type": "code",
   "execution_count": 14,
   "metadata": {},
   "outputs": [
    {
     "data": {
      "text/plain": [
       "['cap',\n",
       " 'flint',\n",
       " 'tickets',\n",
       " 'engined',\n",
       " 'jumper',\n",
       " 'centimetres',\n",
       " 'auto',\n",
       " 'sprint',\n",
       " 'motorcycle',\n",
       " 'redesigned']"
      ]
     },
     "execution_count": 14,
     "metadata": {},
     "output_type": "execute_result"
    }
   ],
   "source": [
    "most_similar_to_token('car', embeddings)"
   ]
  },
  {
   "cell_type": "code",
   "execution_count": 15,
   "metadata": {},
   "outputs": [
    {
     "data": {
      "text/plain": [
       "['horizon',\n",
       " 'smoke',\n",
       " 'clouds',\n",
       " 'foam',\n",
       " 'stew',\n",
       " 'elapsed',\n",
       " 'bows',\n",
       " 'inside',\n",
       " 'fused',\n",
       " 'boil']"
      ]
     },
     "execution_count": 15,
     "metadata": {},
     "output_type": "execute_result"
    }
   ],
   "source": [
    "most_similar_to_token('earth', embeddings)"
   ]
  },
  {
   "cell_type": "code",
   "execution_count": 16,
   "metadata": {},
   "outputs": [
    {
     "data": {
      "text/plain": [
       "['debugger',\n",
       " 'directx',\n",
       " 'mirc',\n",
       " 'lambda',\n",
       " 'archaeopteryx',\n",
       " 'developers',\n",
       " 'mng',\n",
       " 'mdi',\n",
       " 'files',\n",
       " 'filename']"
      ]
     },
     "execution_count": 16,
     "metadata": {},
     "output_type": "execute_result"
    }
   ],
   "source": [
    "most_similar_to_token('computer', embeddings)"
   ]
  },
  {
   "cell_type": "code",
   "execution_count": 17,
   "metadata": {},
   "outputs": [
    {
     "data": {
      "text/plain": [
       "['crt',\n",
       " 'homeomorphic',\n",
       " 'shell',\n",
       " 'stellar',\n",
       " 'slice',\n",
       " 'checksum',\n",
       " 'equivalently',\n",
       " 'transformer',\n",
       " 'waveform',\n",
       " 'sequentially']"
      ]
     },
     "execution_count": 17,
     "metadata": {},
     "output_type": "execute_result"
    }
   ],
   "source": [
    "most_similar_to_token('machine', embeddings)"
   ]
  },
  {
   "cell_type": "markdown",
   "metadata": {},
   "source": [
    "Среди ближайших соседей меньше половины (иногда сильно меньше) являются релевантными по смыслу.\n",
    "\n",
    "При этом вполне ожидаемо, что аналогии почти совсем не работают:"
   ]
  },
  {
   "cell_type": "code",
   "execution_count": 18,
   "metadata": {},
   "outputs": [
    {
     "data": {
      "text/plain": [
       "['christened',\n",
       " 'consort',\n",
       " 'ulysses',\n",
       " 'celebrates',\n",
       " 'honor',\n",
       " 'grandson',\n",
       " 'thirteen',\n",
       " 'paine',\n",
       " 'alexander',\n",
       " 'sancho']"
      ]
     },
     "execution_count": 18,
     "metadata": {},
     "output_type": "execute_result"
    }
   ],
   "source": [
    "input_embedding = get_embedding('king') - get_embedding('man') + get_embedding('woman')\n",
    "most_similar_to_embedding(input_embedding, embeddings)"
   ]
  },
  {
   "cell_type": "code",
   "execution_count": 19,
   "metadata": {},
   "outputs": [
    {
     "data": {
      "text/plain": [
       "['anaconda',\n",
       " 'crash',\n",
       " 'mays',\n",
       " 'ham',\n",
       " 'yard',\n",
       " 'seconds',\n",
       " 'lifes',\n",
       " 'rush',\n",
       " 'driver',\n",
       " 'softball']"
      ]
     },
     "execution_count": 19,
     "metadata": {},
     "output_type": "execute_result"
    }
   ],
   "source": [
    "input_embedding = get_embedding('driver') - get_embedding('car') + get_embedding('airplane')\n",
    "most_similar_to_embedding(input_embedding, embeddings)"
   ]
  },
  {
   "cell_type": "code",
   "execution_count": 20,
   "metadata": {},
   "outputs": [
    {
     "data": {
      "text/plain": [
       "['sportsman',\n",
       " 'hockey',\n",
       " 'racer',\n",
       " 'doubles',\n",
       " 'lbs',\n",
       " 'sedan',\n",
       " 'nhl',\n",
       " 'davidson',\n",
       " 'brewers',\n",
       " 'shutout']"
      ]
     },
     "execution_count": 20,
     "metadata": {},
     "output_type": "execute_result"
    }
   ],
   "source": [
    "input_embedding = get_embedding('nfl') - get_embedding('football') + get_embedding('hockey')\n",
    "most_similar_to_embedding(input_embedding, embeddings)"
   ]
  },
  {
   "cell_type": "markdown",
   "metadata": {},
   "source": [
    "Здесь NHL все же попал в top-10."
   ]
  },
  {
   "cell_type": "markdown",
   "metadata": {},
   "source": [
    "Визуализируем векторные представления слов с помощью t-SNE."
   ]
  },
  {
   "cell_type": "code",
   "execution_count": 21,
   "metadata": {
    "collapsed": true
   },
   "outputs": [],
   "source": [
    "test_words = ['one', 'two', 'three', 'four', 'five', \n",
    "              'russia', 'germany', 'france', 'england', 'scotland', 'britain', 'china', 'japan', 'korea', 'india', \n",
    "              'moscow', 'berlin', 'paris', 'london', 'edinburgh',\n",
    "              'car', 'truck', 'bus', 'train', 'airplane', 'plane', 'ship', 'yacht', \n",
    "              'human', 'man', 'woman', 'husband', 'wife', 'parents', 'son', 'daughter', \n",
    "              'good', 'great', 'fantastic', 'bad', 'awful', \n",
    "              'walk', 'run', 'swim', 'fly', \n",
    "              'game', 'sport', 'soccer', 'football', 'basketball', 'hockey', 'tennis', \n",
    "              'music', 'song', 'guitar', 'guitarist', 'drums', 'drummer', 'singer', 'vocalist', \n",
    "              'rock', 'metal', 'punk', 'rap', 'jazz', 'blues', 'pop', \n",
    "              'north', 'south', 'east', 'west']\n",
    "\n",
    "test_word_embeddings = np.array([get_embedding(word) for word in test_words])\n",
    "distance_matrix = 1 - np.round(cosine_similarity(test_word_embeddings), decimals=4)"
   ]
  },
  {
   "cell_type": "code",
   "execution_count": 22,
   "metadata": {},
   "outputs": [
    {
     "data": {
      "image/png": "[encoded data removed]",
      "text/plain": [
       "<Figure size 1008x1008 with 1 Axes>"
      ]
     },
     "metadata": {},
     "output_type": "display_data"
    }
   ],
   "source": [
    "tsne = TSNE(perplexity=10, \n",
    "            early_exaggeration=10, \n",
    "            learning_rate=20, \n",
    "            n_iter=2000, \n",
    "            metric='precomputed', \n",
    "            method='exact', \n",
    "            random_state=111)\n",
    "\n",
    "points = tsne.fit_transform(distance_matrix)\n",
    "\n",
    "plt.figure(figsize=[14, 14])\n",
    "plt.scatter(points[:, 0], points[:, 1], color='red', s=100)\n",
    "\n",
    "indent = 0.25\n",
    "for i in range(len(test_words)):\n",
    "    coords = (points[i, 0] + indent, points[i, 1] + indent)\n",
    "    plt.annotate(test_words[i], coords)\n",
    "\n",
    "plt.show()"
   ]
  },
  {
   "cell_type": "markdown",
   "metadata": {
    "collapsed": true
   },
   "source": [
    "На визуализации слова разбиваются на кластеры по темам (спорт, музыка, страны и города...), однако кластеры гораздо хуже разделены, чем в предыдущем случае, а некоторые и вовсе почти сливаются.\n",
    "\n",
    "Таким образом, модель позволяет очень бысто получить эмбеддинги среднего качества, но не может далее их улучшить.\n",
    "\n",
    "В целом, эмбеддинги, полученные с помощью batch-transpose trick, значительно уступают полученным с помощью negative sampling (а последние оказались такими же по качетсву, что и полученные с помощью модели с softmax выходным слоем из предыддущих заданий)."
   ]
  },
  {
   "cell_type": "code",
   "execution_count": 23,
   "metadata": {
    "collapsed": true
   },
   "outputs": [],
   "source": [
    "with open('embeddings_task5_part2.pickle', 'wb') as handle:\n",
    "    pickle.dump(embeddings, handle)"
   ]
  }
 ],
 "metadata": {
  "kernelspec": {
   "display_name": "Python 3",
   "language": "python",
   "name": "python3"
  },
  "language_info": {
   "codemirror_mode": {
    "name": "ipython",
    "version": 3
   },
   "file_extension": ".py",
   "mimetype": "text/x-python",
   "name": "python",
   "nbconvert_exporter": "python",
   "pygments_lexer": "ipython3",
   "version": "3.6.6"
  }
 },
 "nbformat": 4,
 "nbformat_minor": 2
}
