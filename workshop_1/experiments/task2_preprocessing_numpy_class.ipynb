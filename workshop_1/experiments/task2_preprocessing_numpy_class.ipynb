{
 "cells": [
  {
   "cell_type": "markdown",
   "metadata": {},
   "source": [
    "# Word2vec preprocessing"
   ]
  },
  {
   "cell_type": "markdown",
   "metadata": {},
   "source": [
    "Preprocessing is not the most interesting part of NLP, but it is still one of the most important ones. Your task is to preprocess raw text (you can use your own, or [this one](http://mattmahoney.net/dc/textdata). For this task text preprocessing mostly consists of:\n",
    "\n",
    "1. cleaning (mostly, if your dataset is from social media or parced from the internet)\n",
    "1. tokenization\n",
    "1. building the vocabulary and choosing its size\n",
    "1. assigning each token a number (numericalization)\n",
    "1. data structuring and batching\n",
    "\n",
    "Your goal is to make SkipGramBatcher class which returns two numpy tensors with word indices. You can implement batcher for Skip-Gram or CBOW architecture, the picture below can be helpfull to remember the difference.\n",
    "\n",
    "![text](https://raw.githubusercontent.com/deepmipt/deep-nlp-seminars/651804899d05b96fc72b9474404fab330365ca09/seminar_02/pics/architecture.png)\n",
    "\n",
    "There are several ways to do it right. Shapes could be `(batch_size, 2*window_size)`, `(batch_size,)` for CBOW or `(batch_size,)`, `(batch_size,)` for Skip-Gram. You should **not** do negative sampling here.\n",
    "\n",
    "They should be adequately parametrized: CBOW(batch_size, window_size, ...), SkipGram(num_skips, skip_window). You should implement only one batcher in this task, it's up to you which one to chose.\n",
    "\n",
    "Useful links:\n",
    "1. [Word2Vec Tutorial - The Skip-Gram Model](http://mccormickml.com/2016/04/19/word2vec-tutorial-the-skip-gram-model/)\n",
    "1. [Efficient Estimation of Word Representations in Vector Space](https://arxiv.org/pdf/1301.3781.pdf)\n",
    "1. [Distributed Representations of Words and Phrases and their Compositionality](http://papers.nips.cc/paper/5021-distributed-representations-of-words-and-phrases-and-their-compositionality.pdf)\n",
    "\n",
    "You can write the code in this notebook, or in separate file. It will be reused for the next task. Result of your work should represent that your batch have proper structure (right shapes) and content (words should be from one context, not some random indices). To show that, translate indices back to words and print them to show something like this:\n",
    "\n",
    "```\n",
    "bag_window = 2\n",
    "\n",
    "batch = [['first', 'used', 'early', 'working'],\n",
    "        ['used', 'against', 'working', 'class'],\n",
    "        ['against', 'early', 'class', 'radicals'],\n",
    "        ['early', 'working', 'radicals', 'including']]\n",
    "\n",
    "labels = ['against', 'early', 'working', 'class']\n",
    "```\n",
    "\n",
    "If you struggle with somethng, ask your neighbour. If it is not obvious for you, probably someone else is looking for the answer too. And in contrast, if you see that you can help someone - just do it! Good luck!"
   ]
  },
  {
   "cell_type": "code",
   "execution_count": 1,
   "metadata": {},
   "outputs": [],
   "source": [
    "from pathlib import Path\n",
    "from collections import Counter\n",
    "from itertools import islice, product, chain\n",
    "\n",
    "import numpy as np\n",
    "import pandas as pd\n",
    "\n",
    "%matplotlib inline\n",
    "import matplotlib.pyplot as plt\n",
    "import seaborn as sns"
   ]
  },
  {
   "cell_type": "code",
   "execution_count": 2,
   "metadata": {},
   "outputs": [],
   "source": [
    "DATA_PATH = Path('../data')"
   ]
  },
  {
   "cell_type": "code",
   "execution_count": 46,
   "metadata": {},
   "outputs": [],
   "source": [
    "class SkipGramBatcher():\n",
    "    def __init__(self, text):\n",
    "        self.text = text\n",
    "    \n",
    "    @classmethod\n",
    "    def from_file(cls, file_path):\n",
    "        with open(file_path) as f:\n",
    "            text = f.read()\n",
    "        \n",
    "        return cls(text)\n",
    "    \n",
    "    def _tokenize(self):\n",
    "        self.tokens = self.text.split()\n",
    "    \n",
    "    def _count_tokens(self):\n",
    "        self.token_counts = Counter(self.tokens)\n",
    "    \n",
    "    def _build_vocab(self, cutoff):\n",
    "        self.token_counts = dict(filter(lambda x: x[1] >= cutoff, self.token_counts.items()))\n",
    "        self.token_to_idx = {token:idx for (idx, (token, _)) in enumerate(self.token_counts.items())}\n",
    "        self.idx_to_token = {idx:token for (token, idx) in self.token_to_idx.items()}\n",
    "        self.vocab = set(self.token_to_idx)\n",
    "\n",
    "    def _filter_tokens(self):\n",
    "        self.tokens = [token for token in self.tokens if token in self.vocab]\n",
    "    \n",
    "    def _vectorize_tokens(self):\n",
    "        self.vectorized_tokens = [self.token_to_idx[token] for token in self.tokens]\n",
    "        \n",
    "    def devectorize_tokens(self, indices):\n",
    "        return [self.idx_to_token[idx] for idx in indices]\n",
    "        \n",
    "    def prepare_data(self, cutoff=1):\n",
    "        self._tokenize()\n",
    "        self._count_tokens()\n",
    "        self._build_vocab(cutoff)\n",
    "        self._filter_tokens()\n",
    "        self._vectorize_tokens()\n",
    "    \n",
    "    def _create_sliding_window(self, window_size):\n",
    "        tokens_size = len(self.tokens)\n",
    "\n",
    "        for i in range(0, tokens_size):\n",
    "            # window_size = np.random.randint(1, max_window_size+1)\n",
    "\n",
    "            center_word = islice(self.vectorized_tokens, i, i + 1)\n",
    "            left_context = islice(self.vectorized_tokens, i + 1, \n",
    "                                  min(tokens_size, i + window_size + 1))\n",
    "            right_context = islice(self.vectorized_tokens, \n",
    "                                   max(0, i - window_size), i)\n",
    "            yield from product(center_word, chain(left_context, right_context))\n",
    "            \n",
    "    def generate_batches(self, window_size=1, batch_size=1, drop_last=True):\n",
    "        window = self._create_sliding_window(window_size)\n",
    "        batch = list(zip(*islice(window, batch_size)))\n",
    "        x_batch, labels_batch = np.array(batch[0]), np.array(batch[1])\n",
    "\n",
    "        if drop_last:\n",
    "            while batch and len(batch[0]) == batch_size:\n",
    "                yield x_batch, labels_batch\n",
    "                batch = list(zip(*islice(window, batch_size)))\n",
    "                x_batch, labels_batch = np.array(batch[0]), np.array(batch[1])\n",
    "        else:\n",
    "            while batch:\n",
    "                yield x_batch, labels_batch\n",
    "                batch = list(zip(*islice(window, batch_size)))\n",
    "                x_batch, labels_batch = np.array(batch[0]), np.array(batch[1])"
   ]
  },
  {
   "cell_type": "code",
   "execution_count": 66,
   "metadata": {},
   "outputs": [
    {
     "name": "stdout",
     "output_type": "stream",
     "text": [
      "\n",
      "First original words in text: \n",
      "anarchism originated as a term of abuse first used against\n",
      "\n",
      "First pre-processed tokens:\n",
      "['anarchism', 'originated', 'as', 'a', 'term', 'of', 'abuse', 'first', 'used', 'against']\n",
      "\n",
      "First vectorized tokens:\n",
      "[0, 1, 2, 3, 4, 5, 6, 7, 8, 9]\n",
      "\n",
      "Token-index mapping:\n",
      "[('anarchism', 0), ('originated', 1), ('as', 2), ('a', 3), ('term', 4), ('of', 5), ('abuse', 6), ('first', 7), ('used', 8), ('against', 9)]\n",
      "\n",
      "Window size:\n",
      "3\n",
      "\n",
      "Batch size:\n",
      "10\n",
      "\n",
      "Batch x indices:\n",
      "array([0, 0, 0, 1, 1, 1, 1, 2, 2, 2])\n",
      "\n",
      "Batch x tokens:\n",
      "['anarchism', 'anarchism', 'anarchism', 'originated', 'originated', 'originated', 'originated', 'as', 'as', 'as']\n",
      "\n",
      "Batch labels indices:\n",
      "array([1, 2, 3, 2, 3, 4, 0, 3, 4, 5])\n",
      "\n",
      "Batch labels tokens:\n",
      "['originated', 'as', 'a', 'as', 'a', 'term', 'anarchism', 'a', 'term', 'of']\n",
      "\n",
      "Batch pairs indices:\n",
      "[(0, 1), (0, 2), (0, 3), (1, 2), (1, 3), (1, 4), (1, 0), (2, 3), (2, 4), (2, 5)]\n",
      "\n",
      "Batch pairs tokens:\n",
      "[('anarchism', 'originated'), ('anarchism', 'as'), ('anarchism', 'a'), ('originated', 'as'), ('originated', 'a'), ('originated', 'term'), ('originated', 'anarchism'), ('as', 'a'), ('as', 'term'), ('as', 'of')]\n"
     ]
    }
   ],
   "source": [
    "sg_batcher = SkipGramBatcher.from_file(DATA_PATH/'text8')\n",
    "sg_batcher.prepare_data(cutoff=10)\n",
    "\n",
    "window_size = 3\n",
    "batch_size = 10\n",
    "\n",
    "g = sg_batcher.generate_batches(window_size=window_size, batch_size=batch_size)\n",
    "x_batch, labels_batch = next(g)\n",
    "\n",
    "x_tokens_batch = sg_batcher.devectorize_tokens(x_batch)\n",
    "labels_tokens_batch = sg_batcher.devectorize_tokens(labels_batch)\n",
    "\n",
    "print('\\nFirst original words in text: ')\n",
    "print(' '.join(sg_batcher.text.split()[:batch_size]))\n",
    "\n",
    "print('\\nFirst pre-processed tokens:')\n",
    "print(sg_batcher.tokens[:batch_size])\n",
    "\n",
    "print('\\nFirst vectorized tokens:')\n",
    "print(sg_batcher.vectorized_tokens[:batch_size])\n",
    "\n",
    "print('\\nToken-index mapping:')\n",
    "print(list(sg_batcher.token_to_idx.items())[:batch_size])\n",
    "\n",
    "print('\\nWindow size:')\n",
    "print(window_size)\n",
    "\n",
    "print('\\nBatch size:')\n",
    "print(batch_size)\n",
    "\n",
    "print('\\nBatch x indices:')\n",
    "print(repr(x_batch))\n",
    "\n",
    "print('\\nBatch x tokens:')\n",
    "print(x_tokens_batch)\n",
    "\n",
    "print('\\nBatch labels indices:')\n",
    "print(repr(labels_batch))\n",
    "\n",
    "print('\\nBatch labels tokens:')\n",
    "print(labels_tokens_batch)\n",
    "\n",
    "print('\\nBatch pairs indices:')\n",
    "print(list(zip(x_batch, labels_batch)))\n",
    "\n",
    "print('\\nBatch pairs tokens:')\n",
    "print(list(zip(x_tokens_batch, labels_tokens_batch)))"
   ]
  },
  {
   "cell_type": "code",
   "execution_count": null,
   "metadata": {},
   "outputs": [],
   "source": []
  },
  {
   "cell_type": "code",
   "execution_count": null,
   "metadata": {},
   "outputs": [],
   "source": []
  },
  {
   "cell_type": "code",
   "execution_count": 10,
   "metadata": {},
   "outputs": [
    {
     "data": {
      "text/html": [
       "<div>\n",
       "<style scoped>\n",
       "    .dataframe tbody tr th:only-of-type {\n",
       "        vertical-align: middle;\n",
       "    }\n",
       "\n",
       "    .dataframe tbody tr th {\n",
       "        vertical-align: top;\n",
       "    }\n",
       "\n",
       "    .dataframe thead th {\n",
       "        text-align: right;\n",
       "    }\n",
       "</style>\n",
       "<table border=\"1\" class=\"dataframe\">\n",
       "  <thead>\n",
       "    <tr style=\"text-align: right;\">\n",
       "      <th></th>\n",
       "      <th>token</th>\n",
       "      <th>count</th>\n",
       "    </tr>\n",
       "  </thead>\n",
       "  <tbody>\n",
       "    <tr>\n",
       "      <th>0</th>\n",
       "      <td>the</td>\n",
       "      <td>1061396</td>\n",
       "    </tr>\n",
       "    <tr>\n",
       "      <th>1</th>\n",
       "      <td>of</td>\n",
       "      <td>593677</td>\n",
       "    </tr>\n",
       "    <tr>\n",
       "      <th>2</th>\n",
       "      <td>and</td>\n",
       "      <td>416629</td>\n",
       "    </tr>\n",
       "    <tr>\n",
       "      <th>3</th>\n",
       "      <td>one</td>\n",
       "      <td>411764</td>\n",
       "    </tr>\n",
       "    <tr>\n",
       "      <th>4</th>\n",
       "      <td>in</td>\n",
       "      <td>372201</td>\n",
       "    </tr>\n",
       "  </tbody>\n",
       "</table>\n",
       "</div>"
      ],
      "text/plain": [
       "  token    count\n",
       "0   the  1061396\n",
       "1    of   593677\n",
       "2   and   416629\n",
       "3   one   411764\n",
       "4    in   372201"
      ]
     },
     "execution_count": 10,
     "metadata": {},
     "output_type": "execute_result"
    }
   ],
   "source": [
    "token_counts_df = pd.DataFrame(token_counts, columns=['token', 'count'])\n",
    "token_counts_df.head()"
   ]
  },
  {
   "cell_type": "code",
   "execution_count": 11,
   "metadata": {},
   "outputs": [
    {
     "data": {
      "image/png": "[encoded data removed]",
      "text/plain": [
       "<Figure size 864x432 with 2 Axes>"
      ]
     },
     "metadata": {
      "needs_background": "light"
     },
     "output_type": "display_data"
    }
   ],
   "source": [
    "n = 30\n",
    "\n",
    "fig, axes = plt.subplots(1, 2, figsize=(12, 6), sharex=False)\n",
    "sns.barplot(x='count', y='token', data=token_counts_df[:n], ax=axes[0])\n",
    "sns.barplot(x='count', y='token', data=token_counts_df[-n:], ax=axes[1])\n",
    "plt.tight_layout()"
   ]
  },
  {
   "cell_type": "code",
   "execution_count": 12,
   "metadata": {},
   "outputs": [
    {
     "data": {
      "text/plain": [
       "[<matplotlib.lines.Line2D at 0x7f3b4a03b2b0>]"
      ]
     },
     "execution_count": 12,
     "metadata": {},
     "output_type": "execute_result"
    },
    {
     "data": {
      "image/png": "[encoded data removed]",
      "text/plain": [
       "<Figure size 576x432 with 1 Axes>"
      ]
     },
     "metadata": {
      "needs_background": "light"
     },
     "output_type": "display_data"
    }
   ],
   "source": [
    "n = 100\n",
    "\n",
    "fig, axes = plt.subplots(figsize=(8, 6))\n",
    "plt.plot(token_counts_df.loc[:n, 'count'])"
   ]
  }
 ],
 "metadata": {
  "kernelspec": {
   "display_name": "Python 3",
   "language": "python",
   "name": "python3"
  },
  "language_info": {
   "codemirror_mode": {
    "name": "ipython",
    "version": 3
   },
   "file_extension": ".py",
   "mimetype": "text/x-python",
   "name": "python",
   "nbconvert_exporter": "python",
   "pygments_lexer": "ipython3",
   "version": "3.6.6"
  }
 },
 "nbformat": 4,
 "nbformat_minor": 2
}
