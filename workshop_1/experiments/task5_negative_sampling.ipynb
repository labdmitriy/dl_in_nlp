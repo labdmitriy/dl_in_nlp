{
 "cells": [
  {
   "cell_type": "markdown",
   "metadata": {},
   "source": [
    "# Negative sampling\n",
    "\n",
    "You may have noticed that word2vec is really slow to train. Especially with big (> 50 000) vocabularies. Negative sampling is the solution.\n",
    "\n",
    "The task is to implement word2vec with negative sampling. In more detail: you should implement two ways of negative sampling.\n",
    "\n",
    "## Vanilla negative sampling\n",
    "\n",
    "This is what was discussed in Stanford lecture. The main idea is in the formula:\n",
    "\n",
    "$$ L = \\log\\sigma(u^T_o u_c) + \\sum^k_{i=1} \\mathbb{E}_{j \\sim P(w)}[\\log\\sigma(-u^T_j, u_c)]$$\n",
    "\n",
    "Where $\\sigma$ - sigmoid function, $u_c$ - central word vector, $u_o$ - context (outside of the window) word vector, $u_j$ - vector or word with index $j$.\n",
    "\n",
    "The first term calculates the similarity between positive examples (word from one window)\n",
    "\n",
    "The second term is responsible for negative samples. $k$ is a hyperparameter - the number of negatives to sample.\n",
    "$\\mathbb{E}_{j \\sim P(w)}$\n",
    "means that $j$ is distributed accordingly to unigram distribution, but it is better to use $P^{3/4}(w)$ (empirical results) and you can experiment with some other approaches (for example, try to use uniform distribution).\n",
    "\n",
    "Thus, it is only required to calculate the similarity between positive samples and some other negatives. Not across all the vocabulary.\n",
    "\n",
    "Useful links:\n",
    "1. [Efficient Estimation of Word Representations in Vector Space](https://arxiv.org/pdf/1301.3781.pdf)\n",
    "1. [Distributed Representations of Words and Phrases and their Compositionality](http://papers.nips.cc/paper/5021-distributed-representations-of-words-and-phrases-and-their-compositionality.pdf)\n",
    "\n",
    "## Batch-transpose trick for negative sampling\n",
    "\n",
    "But we can do better. Maybe we don't need to compute vectors for negative samples at all, because we already have a batch of training data and (hopefully) examples in the batch are highly decorrelated.\n",
    "\n",
    "Let's assume we work with Skip-gram model.\n",
    "\n",
    "Let $S$ be a batch of _L2-normalized_ word vectors `(batch_size, 2*window_size + 1, word_vector_dim)`.\n",
    "\n",
    "```python\n",
    "x = 0.0\n",
    "for batch_idx in range(batch):\n",
    "    w = S[batch_idx, :, :]\n",
    "    x += np.sum(w.T @ w - 1.)\n",
    "\n",
    "y = 0.0\n",
    "for window_idx in range(window):\n",
    "    b = S[:, window_idx, :]\n",
    "    y += np.sum(b.T @ b)\n",
    "\n",
    "loss = -x + y```\n",
    "\n",
    "Think about this loss and compare it to vanilla negative sampling.\n",
    "\n",
    "Implement word2vec with batch-transpose trick. Modify the formula, if needed.\n",
    "\n",
    "If you are interested: [more info](https://www.tensorflow.org/extras/candidate_sampling.pdf) on other methods of candidate sampling.\n",
    "\n",
    "**Results of this task** are the very same as in task 3, **plus**:\n",
    " * implement two models (one with vanilla negative sampling and the other with batch-transpose trick)\n",
    " * compare all of the models from tasks 3-5. In terms of time and number of iterations until convergence and the quality of the resulting vectors.\n",
    " * answer the questions\n",
    "\n",
    "### Questions:\n",
    "1. Explain the batch-transpose trick formula in your own words. How would you name x, y, w and b?\n",
    "1. Should it be modified to serve as a word2vec loss? If yes, how?\n",
    "1. Is it possible to do the same trick with CBOW model? If yes, how?\n",
    "1. Does it matter how the batch is made in the case of batch-transpose trick? In the case of vanilla negative sampling?\n",
    "\n",
    "\n"
   ]
  },
  {
   "cell_type": "markdown",
   "metadata": {},
   "source": [
    "## Answers:\n",
    "  1. _\n",
    "  1. _\n",
    "  1. _\n",
    "  1. _"
   ]
  },
  {
   "cell_type": "code",
   "execution_count": 51,
   "metadata": {},
   "outputs": [],
   "source": [
    "from pathlib import Path\n",
    "from collections import Counter\n",
    "from itertools import islice, product, chain\n",
    "from argparse import Namespace\n",
    "\n",
    "from tqdm import tqdm_notebook\n",
    "\n",
    "import numpy as np\n",
    "import pandas as pd\n",
    "\n",
    "%matplotlib inline\n",
    "import matplotlib.pyplot as plt\n",
    "import seaborn as sns\n",
    "\n",
    "import torch\n",
    "import torch.nn as nn\n",
    "import torch.nn.functional as F\n",
    "import torch.optim as optim\n",
    "\n",
    "from tensorboardX import SummaryWriter\n",
    "from annoy import AnnoyIndex\n",
    "\n",
    "from sklearn.decomposition import PCA\n",
    "from MulticoreTSNE import MulticoreTSNE as TSNE\n",
    "from umap import UMAP\n",
    "from adjustText import adjust_text"
   ]
  },
  {
   "cell_type": "code",
   "execution_count": 2,
   "metadata": {},
   "outputs": [],
   "source": [
    "DATA_PATH = Path('../data')\n",
    "MODELS_PATH = Path('../models')"
   ]
  },
  {
   "cell_type": "raw",
   "metadata": {},
   "source": [
    "class SkipGramBatcher():\n",
    "    def __init__(self, text):\n",
    "        self.text = text\n",
    "    \n",
    "    @classmethod\n",
    "    def from_file(cls, file_path):\n",
    "        with open(file_path) as f:\n",
    "            text = f.read()\n",
    "        \n",
    "        return cls(text)\n",
    "    \n",
    "    def _tokenize(self):\n",
    "        self.tokens = self.text.split()\n",
    "    \n",
    "    def _count_tokens(self):\n",
    "        self.token_counts = Counter(self.tokens)\n",
    "    \n",
    "    def _build_vocab(self, cutoff):\n",
    "        self.token_counts = dict(filter(lambda x: x[1] >= cutoff, self.token_counts.items()))\n",
    "        self.token_to_idx = {token:idx for (idx, (token, _)) \n",
    "                             in enumerate(self.token_counts.items())}\n",
    "        self.idx_to_token = {idx:token for (token, idx) in self.token_to_idx.items()}\n",
    "        self.vocab = set(self.token_to_idx)\n",
    "        self.vocab_size = len(self.vocab)\n",
    "\n",
    "    def _filter_tokens(self):\n",
    "        self.tokens = [token for token in self.tokens if token in self.vocab]\n",
    "        self.tokens_size = len(self.tokens)\n",
    "    \n",
    "    def _vectorize_tokens(self):\n",
    "        self.vectorized_tokens = [self.token_to_idx[token] for token in self.tokens]\n",
    "    \n",
    "    def _calculate_neg_probs(self, neg_prob_exp):\n",
    "        token_neg_scores = [(value / self.tokens_size)**neg_prob_exp\n",
    "                            for key, value in self.token_counts.items()]\n",
    "        self.token_neg_probs = list(token_neg_scores / np.sum(token_neg_scores))\n",
    "        \n",
    "    def _generate_negative_outputs(self, k=1, size=1):\n",
    "#         for i in range(0, self.tokens_size):\n",
    "#             negative_outputs = torch.multinomial(torch.tensor(self.token_neg_probs), \n",
    "#                                                  size * k, replacement=False).view(size, -1)\n",
    "#         while True:\n",
    "            negative_outputs = np.random.choice(range(self.vocab_size),\n",
    "                                                size = size * k,\n",
    "                                                replace=True,\n",
    "                                                p = self.token_neg_probs).reshape(size, -1)\n",
    "            negative_outputs = torch.from_numpy(negative_outputs)\n",
    "            return negative_outputs\n",
    "        \n",
    "    def _create_sliding_window(self, window_size, k):\n",
    "        for i in range(0, self.tokens_size):\n",
    "            center_word = self.vectorized_tokens[i:i+1]\n",
    "            left_context = self.vectorized_tokens[max(0, i - window_size): i]\n",
    "            right_context = self.vectorized_tokens[i + 1: min(self.tokens_size, i + window_size + 1)]\n",
    "            context = left_context + right_context\n",
    "#             print(context)\n",
    "            context = list(zip(context, self._get_negative_outputs(k, len(context))))\n",
    "#             print(context)\n",
    "            window = [list(product(center_word, context))]\n",
    "            yield window \n",
    "    \n",
    "    def devectorize_tokens(self, indices):\n",
    "        return [self.idx_to_token[idx] for idx in indices]\n",
    "        \n",
    "    def prepare_data(self, cutoff=1, neg_prob_exp=0.75):\n",
    "        self._tokenize()\n",
    "        self._count_tokens()\n",
    "        self._build_vocab(cutoff)\n",
    "        self._filter_tokens()\n",
    "        self._vectorize_tokens()\n",
    "        self._calculate_neg_probs(neg_prob_exp)\n",
    "        \n",
    "    def generate_batches(self, window_size=1, batch_size=1, k=0, drop_last=True):\n",
    "        window = self._create_sliding_window(window_size, k)\n",
    "        batch = list(zip(*islice(window, batch_size)))\n",
    "#         print(batch, len(batch[0]), batch_size)\n",
    "        \n",
    "        if drop_last:\n",
    "            while batch and len(batch[0]) == batch_size:\n",
    "                batch = list(zip(*[pair for pairs in batch[0] for pair in pairs]))\n",
    "                #batch = list(zip(*batch[0][0]))\n",
    "                yield batch\n",
    "                batch = list(zip(*islice(window, batch_size)))\n",
    "        else:\n",
    "            while batch:\n",
    "                batch = list(zip(*batch))\n",
    "                yield x_batch, labels_batch\n",
    "                batch = list(zip(*islice(window, batch_size)))"
   ]
  },
  {
   "cell_type": "code",
   "execution_count": 83,
   "metadata": {},
   "outputs": [],
   "source": [
    "class SkipGramBatcher():\n",
    "    def __init__(self, text):\n",
    "        self.text = text\n",
    "    \n",
    "    @classmethod\n",
    "    def from_file(cls, file_path):\n",
    "        with open(file_path) as f:\n",
    "            text = f.read()\n",
    "        \n",
    "        return cls(text)\n",
    "    \n",
    "    def _tokenize(self):\n",
    "        self.tokens = self.text.split()\n",
    "    \n",
    "    def _count_tokens(self):\n",
    "        self.token_counts = Counter(self.tokens)\n",
    "    \n",
    "    def _build_vocab(self, cutoff):\n",
    "        self.token_counts = dict(filter(lambda x: x[1] >= cutoff, self.token_counts.items()))\n",
    "        self.token_to_idx = {token:idx for (idx, (token, _)) \n",
    "                             in enumerate(self.token_counts.items())}\n",
    "        self.idx_to_token = {idx:token for (token, idx) in self.token_to_idx.items()}\n",
    "        self.vocab = set(self.token_to_idx)\n",
    "        self.vocab_size = len(self.vocab)\n",
    "\n",
    "    def _filter_tokens(self):\n",
    "        self.tokens = [token for token in self.tokens if token in self.vocab]\n",
    "        self.tokens_size = len(self.tokens)\n",
    "    \n",
    "    def _vectorize_tokens(self):\n",
    "        self.vectorized_tokens = [self.token_to_idx[token] for token in self.tokens]\n",
    "        \n",
    "    def _calculate_neg_probs(self, neg_prob_exp):\n",
    "        token_neg_scores = [(value / self.tokens_size)**neg_prob_exp\n",
    "                            for key, value in self.token_counts.items()]\n",
    "        self.token_neg_probs = list(token_neg_scores / np.sum(token_neg_scores))\n",
    "    \n",
    "    def _create_sliding_window(self, window_size):\n",
    "        tokens_size = len(self.tokens)\n",
    "\n",
    "        for i in range(0, tokens_size):\n",
    "            center_word = self.vectorized_tokens[i:i+1]\n",
    "            left_context = self.vectorized_tokens[max(0, i - window_size): i]\n",
    "            right_context = self.vectorized_tokens[i + 1: min(self.tokens_size, i + window_size + 1)]\n",
    "            context = left_context + right_context\n",
    "            window = [list(product(center_word, context))]\n",
    "            yield window \n",
    "    \n",
    "    def devectorize_tokens(self, indices):\n",
    "        return [self.idx_to_token[idx] for idx in indices]\n",
    "        \n",
    "    def prepare_data(self, cutoff=1, neg_prob_exp=0.75):\n",
    "        self._tokenize()\n",
    "        self._count_tokens()\n",
    "        self._build_vocab(cutoff)\n",
    "        self._filter_tokens()\n",
    "        self._vectorize_tokens()\n",
    "        self._calculate_neg_probs(neg_prob_exp)\n",
    "        \n",
    "    def generate_batches(self, window_size=1, batch_size=1, drop_last=True):\n",
    "        window = self._create_sliding_window(window_size)\n",
    "        batch = list(zip(*islice(window, batch_size)))\n",
    "        \n",
    "        if drop_last:\n",
    "            while batch and len(batch[0]) == batch_size:\n",
    "                batch = list(zip(*[pair for pairs in batch[0] for pair in pairs]))\n",
    "                x_batch, labels_batch = torch.tensor(batch[0]), torch.tensor(batch[1])\n",
    "                yield x_batch, labels_batch\n",
    "                batch = list(zip(*islice(window, batch_size)))\n",
    "        else:\n",
    "            while batch:\n",
    "                batch = list(zip(*[pair for pairs in batch[0] for pair in pairs]))\n",
    "                x_batch, labels_batch = torch.tensor(batch[0]), torch.tensor(batch[1])\n",
    "                yield x_batch, labels_batch\n",
    "                batch = list(zip(*islice(window, batch_size)))"
   ]
  },
  {
   "cell_type": "code",
   "execution_count": 4,
   "metadata": {},
   "outputs": [],
   "source": [
    "sg_batcher = SkipGramBatcher.from_file(DATA_PATH/'text8')\n",
    "sg_batcher.prepare_data(cutoff=10, neg_prob_exp=0.75)"
   ]
  },
  {
   "cell_type": "code",
   "execution_count": 106,
   "metadata": {},
   "outputs": [],
   "source": [
    "class NaiveWord2VecClassifier(nn.Module):\n",
    "    def __init__(self, vocabulary_size, embedding_size, token_neg_probs, k=1):\n",
    "        super().__init__()\n",
    "        self.vocabulary_size = vocabulary_size\n",
    "        self.embedding_size = embedding_size\n",
    "        self.token_neg_probs = token_neg_probs\n",
    "        \n",
    "#         self.weight_c = nn.Parameter(torch.randn(vocab_size, embedding_size))\n",
    "#         self.weight_o = nn.Parameter(torch.randn(embedding_size, vocab_size))\n",
    "        self.emb_c = nn.utils.weight_norm(nn.Embedding(num_embeddings=vocabulary_size,\n",
    "                                  embedding_dim=embedding_size), dim=1)\n",
    "        self.emb_o = nn.utils.weight_norm(nn.Embedding(num_embeddings=vocabulary_size,\n",
    "                                  embedding_dim=embedding_size), dim=1)\n",
    "        \n",
    "    def forward(self, v_c, v_o):\n",
    "        # emb(b, ) = (b, d)\n",
    "        v_c_embedded = self.emb_c(v_c).unsqueeze(1)\n",
    "        \n",
    "        # (b, k)\n",
    "        neg_samples = self.generate_neg_outputs(k=3, batch_size=v_c.shape[0])\n",
    "        \n",
    "        # emb(b, k, d)\n",
    "        neg_embedded = self.emb_o(neg_samples)\n",
    "        \n",
    "        # emb(b, ) = (b, d)\n",
    "        v_o_embedded = self.emb_o(v_o).unsqueeze(1)\n",
    "        \n",
    "        # (b, k+1, d)\n",
    "        out_embedded = torch.cat([v_o_embedded, neg_embedded], dim=1)\n",
    "        \n",
    "        # (b, 1, d) * (b, d, k+1) = (b, 1, k+1)\n",
    "        y_out = torch.bmm(v_c_embedded, torch.transpose(out_embedded, 1, 2))\n",
    "        \n",
    "        return y_out # v_c_embedded, v_o_embedded, neg_embedded, out_embedded, \n",
    "    \n",
    "    def generate_neg_outputs(self, batch_size, k=1):\n",
    "        negative_outputs = np.random.choice(range(self.vocabulary_size),\n",
    "                                            size=batch_size * k,\n",
    "                                            replace=True,\n",
    "                                            p=self.token_neg_probs).reshape(batch_size, -1)\n",
    "        negative_outputs = torch.from_numpy(negative_outputs)\n",
    "        return negative_outputs"
   ]
  },
  {
   "cell_type": "code",
   "execution_count": 107,
   "metadata": {},
   "outputs": [],
   "source": [
    "def set_seeds(seed):\n",
    "    np.random.seed(seed)\n",
    "    torch.manual_seed(seed)\n",
    "    torch.cuda.manual_seed_all(seed)\n",
    "    torch.backends.cudnn.deterministic = True"
   ]
  },
  {
   "cell_type": "code",
   "execution_count": 108,
   "metadata": {},
   "outputs": [],
   "source": [
    "args = Namespace(\n",
    "    file_path = DATA_PATH/'text8',\n",
    "    model_state_path = MODELS_PATH/'naive_word2vec_embeddings.pth',\n",
    "    weights_path = MODELS_PATH/'weights.npz',\n",
    "    \n",
    "    embedding_size = 100,\n",
    "    \n",
    "    seed = 42,\n",
    "    cutoff = 10,\n",
    "    window_size = 3,\n",
    "    stride = 1,\n",
    "    batch_size = 1024,\n",
    "    learning_rate = 0.03,\n",
    "    iterations = 1000,\n",
    "    save_iterations = 100,\n",
    "    early_stopping_criteria = 1e8,\n",
    "    factor=0.5,\n",
    "    patience=5000,\n",
    "    \n",
    "    cuda=True\n",
    ")"
   ]
  },
  {
   "cell_type": "code",
   "execution_count": 109,
   "metadata": {},
   "outputs": [],
   "source": [
    "def make_train_state(args):\n",
    "    return {'stop_early': False,\n",
    "            'early_stopping_step': 0,\n",
    "            'early_stopping_best_val': 1e8,\n",
    "            'learning_rate': [], # args.learning_rate\n",
    "            'batch_idx': 0,\n",
    "            'loss': [],\n",
    "            'model_file_name': args.model_state_path}\n",
    "\n",
    "def update_train_state(args, model, train_state):\n",
    "    if train_state['batch_idx'] == 0:\n",
    "        train_state['stop_early'] = False\n",
    "        torch.save(model.state_dict(), train_state['model_file_name'])\n",
    "    else:\n",
    "        loss = train_state['loss'][-1]\n",
    "\n",
    "        if loss < train_state['early_stopping_best_val']:\n",
    "            train_state['early_stopping_best_val'] = loss\n",
    "            train_state['early_stopping_step'] = 0\n",
    "            \n",
    "            if train_state['batch_idx'] % args.save_iterations == 0:\n",
    "                torch.save(model.state_dict(), train_state['model_file_name'])\n",
    "        else:\n",
    "            train_state['early_stopping_step'] += 1 \n",
    "    \n",
    "        train_state['stop_early'] = train_state['early_stopping_step'] >= args.early_stopping_criteria\n",
    "    return train_state"
   ]
  },
  {
   "cell_type": "code",
   "execution_count": 110,
   "metadata": {},
   "outputs": [
    {
     "name": "stdout",
     "output_type": "stream",
     "text": [
      "Using CUDA: False\n"
     ]
    }
   ],
   "source": [
    "if not torch.cuda.is_available():\n",
    "    args.cuda=False\n",
    "    \n",
    "print(f'Using CUDA: {args.cuda}')\n",
    "args.device = torch.device('cuda' if args.cuda else 'cpu')"
   ]
  },
  {
   "cell_type": "code",
   "execution_count": 111,
   "metadata": {},
   "outputs": [
    {
     "data": {
      "text/plain": [
       "47134"
      ]
     },
     "execution_count": 111,
     "metadata": {},
     "output_type": "execute_result"
    }
   ],
   "source": [
    "sg_batcher = SkipGramBatcher.from_file(args.file_path)\n",
    "sg_batcher.prepare_data(cutoff=args.cutoff)\n",
    "token_neg_probs = sg_batcher.token_neg_probs\n",
    "\n",
    "vocabulary_size = len(sg_batcher.vocab)\n",
    "vocabulary_size"
   ]
  },
  {
   "cell_type": "code",
   "execution_count": null,
   "metadata": {},
   "outputs": [
    {
     "data": {
      "application/vnd.jupyter.widget-view+json": {
       "model_id": "02d5eeec0e6048589ea3dc0a0ed15157",
       "version_major": 2,
       "version_minor": 0
      },
      "text/plain": [
       "HBox(children=(IntProgress(value=0, description='Training', max=16172, style=ProgressStyle(description_width='…"
      ]
     },
     "metadata": {},
     "output_type": "display_data"
    }
   ],
   "source": [
    "set_seeds(args.seed)\n",
    "\n",
    "classifier = NaiveWord2VecClassifier(vocabulary_size=vocabulary_size,\n",
    "                                     embedding_size=args.embedding_size,\n",
    "                                     token_neg_probs=token_neg_probs)\n",
    "classifier = classifier.to(args.device)\n",
    "\n",
    "loss_func = nn.CrossEntropyLoss(reduction='mean')\n",
    "optimizer = optim.Adam(params=classifier.parameters(),\n",
    "                      lr=args.learning_rate)\n",
    "\n",
    "epoch_size = len(sg_batcher.tokens) // (args.batch_size * args.stride)\n",
    "\n",
    "scheduler = optim.lr_scheduler.ReduceLROnPlateau(optimizer=optimizer,\n",
    "                                                 mode='min',\n",
    "                                                 factor=args.factor,\n",
    "                                                 patience=args.patience)\n",
    "\n",
    "train_bar = tqdm_notebook(desc='Training',\n",
    "                          position=1,\n",
    "                          total=epoch_size)\n",
    "\n",
    "batch_generator = sg_batcher.generate_batches(window_size=args.window_size, \n",
    "                                              batch_size=args.batch_size)\n",
    "\n",
    "train_state = make_train_state(args)\n",
    "\n",
    "writer = SummaryWriter(log_dir='logs/task_3', comment='embedding_training')\n",
    "\n",
    "running_loss = 0.\n",
    "classifier.train()\n",
    "\n",
    "try:\n",
    "    for batch_idx, (x_batch, labels_batch) in enumerate(batch_generator, 1):\n",
    "        x_batch = x_batch.to(args.device)\n",
    "        labels_batch = labels_batch.to(args.device)\n",
    "\n",
    "        optimizer.zero_grad()\n",
    "\n",
    "        y_out = classifier(v_c=x_batch, v_o=labels_batch)\n",
    "\n",
    "        loss = -torch.sum(F.logsigmoid(y_out[:, :, 0])) - torch.sum(F.logsigmoid(-y_out[:, :, 1:]))\n",
    "        loss_value = loss.item()\n",
    "        running_loss += (loss_value - running_loss) / (batch_idx)\n",
    "        loss.backward()\n",
    "        \n",
    "        learning_rate = optimizer.param_groups[0]['lr']\n",
    "        \n",
    "        train_state['batch_idx'] = batch_idx\n",
    "        train_state['loss'].append(running_loss)\n",
    "        train_state['learning_rate'].append(learning_rate)\n",
    "\n",
    "        train_state = update_train_state(args=args,\n",
    "                                         model=classifier,\n",
    "                                         train_state=train_state)\n",
    "\n",
    "        train_params = dict(loss=running_loss,\n",
    "                            lr=learning_rate,\n",
    "                            early_step=train_state['early_stopping_step'],\n",
    "                            early_best=train_state['early_stopping_best_val'])\n",
    "        train_bar.set_postfix(train_params)\n",
    "        train_bar.update()\n",
    "        \n",
    "        optimizer.step()\n",
    "        \n",
    "        scheduler.step(train_state['loss'][-1])\n",
    "\n",
    "        if train_state['stop_early'] or (batch_idx == epoch_size):\n",
    "            torch.save(classifier.state_dict(), str(train_state['model_file_name']) + '_last')\n",
    "            break\n",
    "except KeyboardInterrupt:\n",
    "    print('Exit training')"
   ]
  },
  {
   "cell_type": "code",
   "execution_count": null,
   "metadata": {},
   "outputs": [],
   "source": []
  },
  {
   "cell_type": "code",
   "execution_count": null,
   "metadata": {},
   "outputs": [],
   "source": []
  },
  {
   "cell_type": "code",
   "execution_count": null,
   "metadata": {},
   "outputs": [],
   "source": []
  },
  {
   "cell_type": "code",
   "execution_count": null,
   "metadata": {},
   "outputs": [],
   "source": []
  },
  {
   "cell_type": "code",
   "execution_count": null,
   "metadata": {},
   "outputs": [],
   "source": []
  },
  {
   "cell_type": "code",
   "execution_count": 60,
   "metadata": {},
   "outputs": [
    {
     "data": {
      "text/plain": [
       "(tensor([0, 1, 1]), tensor([1, 0, 2]))"
      ]
     },
     "execution_count": 60,
     "metadata": {},
     "output_type": "execute_result"
    }
   ],
   "source": [
    "arr"
   ]
  },
  {
   "cell_type": "code",
   "execution_count": 61,
   "metadata": {},
   "outputs": [
    {
     "data": {
      "text/plain": [
       "(tensor([[[ 1.1797,  0.4361]],\n",
       " \n",
       "         [[-0.7912,  2.7042]],\n",
       " \n",
       "         [[-0.7912,  2.7042]]], grad_fn=<UnsqueezeBackward0>),\n",
       " tensor([[[-0.1261, -0.3783]],\n",
       " \n",
       "         [[-0.7053, -2.3925]],\n",
       " \n",
       "         [[-2.1433,  0.5064]]], grad_fn=<UnsqueezeBackward0>),\n",
       " tensor([[[ 1.2732,  0.0964],\n",
       "          [-0.4310,  0.2485],\n",
       "          [ 1.6246,  1.3157]],\n",
       " \n",
       "         [[ 0.5245,  1.5212],\n",
       "          [-0.6701,  0.4132],\n",
       "          [ 0.1806,  0.1006]],\n",
       " \n",
       "         [[-0.8705, -0.6348],\n",
       "          [-0.7773,  2.0352],\n",
       "          [-0.2422, -0.9725]]], grad_fn=<EmbeddingBackward>),\n",
       " tensor([[[-0.1261, -0.3783],\n",
       "          [ 1.2732,  0.0964],\n",
       "          [-0.4310,  0.2485],\n",
       "          [ 1.6246,  1.3157]],\n",
       " \n",
       "         [[-0.7053, -2.3925],\n",
       "          [ 0.5245,  1.5212],\n",
       "          [-0.6701,  0.4132],\n",
       "          [ 0.1806,  0.1006]],\n",
       " \n",
       "         [[-2.1433,  0.5064],\n",
       "          [-0.8705, -0.6348],\n",
       "          [-0.7773,  2.0352],\n",
       "          [-0.2422, -0.9725]]], grad_fn=<CatBackward>),\n",
       " tensor([[[-0.3137,  1.5439, -0.4001,  2.4902]],\n",
       " \n",
       "         [[-5.9119,  3.6986,  1.6476,  0.1292]],\n",
       " \n",
       "         [[ 3.0652, -1.0278,  6.1185, -2.4381]]], grad_fn=<BmmBackward>))"
      ]
     },
     "execution_count": 61,
     "metadata": {},
     "output_type": "execute_result"
    }
   ],
   "source": [
    "clf = NaiveWord2VecClassifier(sg_batcher.vocab_size, 2, token_neg_probs)\n",
    "res = clf(arr[0], arr[1])\n",
    "res"
   ]
  },
  {
   "cell_type": "code",
   "execution_count": 31,
   "metadata": {},
   "outputs": [
    {
     "data": {
      "text/plain": [
       "(torch.Size([3, 1, 2]), torch.Size([3, 1, 2]), torch.Size([3, 3, 2]))"
      ]
     },
     "execution_count": 31,
     "metadata": {},
     "output_type": "execute_result"
    }
   ],
   "source": [
    "v_c, v_o, neg = res\n",
    "v_c.shape, v_o.shape, neg.shape"
   ]
  },
  {
   "cell_type": "code",
   "execution_count": 42,
   "metadata": {},
   "outputs": [
    {
     "data": {
      "text/plain": [
       "(tensor([[[-0.2888,  0.6249],\n",
       "          [ 1.1585,  0.5260],\n",
       "          [-1.6186,  0.1671],\n",
       "          [-0.0336,  1.5858]],\n",
       " \n",
       "         [[-0.9628, -1.4028],\n",
       "          [ 0.4094, -0.1571],\n",
       "          [-0.5948, -0.5606],\n",
       "          [-0.7173, -0.4253]],\n",
       " \n",
       "         [[-0.6701, -1.8614],\n",
       "          [-0.7509,  0.4703],\n",
       "          [-1.6277,  0.5216],\n",
       "          [ 0.5919, -1.1879]]], grad_fn=<CatBackward>), torch.Size([3, 4, 2]))"
      ]
     },
     "execution_count": 42,
     "metadata": {},
     "output_type": "execute_result"
    }
   ],
   "source": [
    "out = torch.cat([v_o, neg], dim=1)\n",
    "out, out.shape"
   ]
  },
  {
   "cell_type": "code",
   "execution_count": 47,
   "metadata": {},
   "outputs": [
    {
     "data": {
      "text/plain": [
       "(tensor([[[-0.2888,  1.1585, -1.6186, -0.0336],\n",
       "          [ 0.6249,  0.5260,  0.1671,  1.5858]],\n",
       " \n",
       "         [[-0.9628,  0.4094, -0.5948, -0.7173],\n",
       "          [-1.4028, -0.1571, -0.5606, -0.4253]],\n",
       " \n",
       "         [[-0.6701, -0.7509, -1.6277,  0.5919],\n",
       "          [-1.8614,  0.4703,  0.5216, -1.1879]]], grad_fn=<TransposeBackward0>),\n",
       " torch.Size([3, 2, 4]))"
      ]
     },
     "execution_count": 47,
     "metadata": {},
     "output_type": "execute_result"
    }
   ],
   "source": [
    "torch.transpose(out, 1, 2), torch.transpose(out, 1, 2).shape"
   ]
  },
  {
   "cell_type": "code",
   "execution_count": 49,
   "metadata": {},
   "outputs": [
    {
     "data": {
      "text/plain": [
       "(tensor([[[ 1.9716, -0.4364,  2.8321,  3.9576]],\n",
       " \n",
       "         [[-0.6236, -0.3104, -0.1515,  0.0089]],\n",
       " \n",
       "         [[-1.1099,  0.7084,  1.1554, -1.1825]]], grad_fn=<BmmBackward>),\n",
       " torch.Size([3, 1, 4]))"
      ]
     },
     "execution_count": 49,
     "metadata": {},
     "output_type": "execute_result"
    }
   ],
   "source": [
    "y_out = torch.bmm(v_c, torch.transpose(out, 1, 2))\n",
    "y_out, y_out.shape"
   ]
  },
  {
   "cell_type": "code",
   "execution_count": 54,
   "metadata": {},
   "outputs": [
    {
     "data": {
      "text/plain": [
       "(tensor([[0.1304],\n",
       "         [1.0528],\n",
       "         [1.3948]], grad_fn=<NegBackward>), tensor([[[0.4986, 2.8894, 3.9765]],\n",
       " \n",
       "         [[0.5499, 0.6203, 0.6976]],\n",
       " \n",
       "         [[1.1088, 1.4292, 0.2674]]], grad_fn=<NegBackward>))"
      ]
     },
     "execution_count": 54,
     "metadata": {},
     "output_type": "execute_result"
    }
   ],
   "source": [
    "-F.logsigmoid(y_out[:, :, 0]), -F.logsigmoid(-y_out[:, :, 1:])"
   ]
  },
  {
   "cell_type": "code",
   "execution_count": 70,
   "metadata": {},
   "outputs": [
    {
     "data": {
      "text/plain": [
       "14.615554809570312"
      ]
     },
     "execution_count": 70,
     "metadata": {},
     "output_type": "execute_result"
    }
   ],
   "source": [
    "loss = -torch.sum(F.logsigmoid(y_out[:, :, 0])) - torch.sum(F.logsigmoid(-y_out[:, :, 1:]))\n",
    "loss.item()"
   ]
  },
  {
   "cell_type": "code",
   "execution_count": null,
   "metadata": {},
   "outputs": [],
   "source": []
  },
  {
   "cell_type": "code",
   "execution_count": null,
   "metadata": {},
   "outputs": [],
   "source": []
  },
  {
   "cell_type": "code",
   "execution_count": null,
   "metadata": {},
   "outputs": [],
   "source": []
  },
  {
   "cell_type": "code",
   "execution_count": 63,
   "metadata": {},
   "outputs": [],
   "source": [
    "g = sg_batcher.generate_batches(window_size=3,\n",
    "                                batch_size=1024)"
   ]
  },
  {
   "cell_type": "raw",
   "metadata": {},
   "source": [
    "for _ in tqdm_notebook(g):\n",
    "    pass"
   ]
  },
  {
   "cell_type": "code",
   "execution_count": 42,
   "metadata": {},
   "outputs": [
    {
     "data": {
      "application/vnd.jupyter.widget-view+json": {
       "model_id": "d2021b057000446ab7e3bd9e1b182331",
       "version_major": 2,
       "version_minor": 0
      },
      "text/plain": [
       "HBox(children=(IntProgress(value=0), HTML(value='')))"
      ]
     },
     "metadata": {},
     "output_type": "display_data"
    }
   ],
   "source": [
    "for _ in tqdm_notebook(range(100)):\n",
    "    np.random.choice(range(sg_batcher.vocab_size),\n",
    "                        size = 1024 * 3,\n",
    "                        replace=True,\n",
    "                        p = sg_batcher.token_neg_probs).reshape(1024, -1)"
   ]
  },
  {
   "cell_type": "code",
   "execution_count": 47,
   "metadata": {},
   "outputs": [
    {
     "data": {
      "application/vnd.jupyter.widget-view+json": {
       "model_id": "2e34adc0fe414a84a731dd4d089f8cad",
       "version_major": 2,
       "version_minor": 0
      },
      "text/plain": [
       "HBox(children=(IntProgress(value=0), HTML(value='')))"
      ]
     },
     "metadata": {},
     "output_type": "display_data"
    }
   ],
   "source": [
    "for _ in tqdm_notebook(range(100)):\n",
    "    sg_batcher._generate_negative_outputs(k=3, size=256)"
   ]
  },
  {
   "cell_type": "raw",
   "metadata": {},
   "source": [
    "sg_batcher._generate_negative_outputs(k=3, size=256)"
   ]
  },
  {
   "cell_type": "code",
   "execution_count": null,
   "metadata": {},
   "outputs": [],
   "source": []
  },
  {
   "cell_type": "code",
   "execution_count": 26,
   "metadata": {},
   "outputs": [
    {
     "data": {
      "text/plain": [
       "array([[ 1639, 10077,  6125,  2075],\n",
       "       [ 3150,  4959, 29402,   305],\n",
       "       [ 1563, 12646, 38240, 25660]])"
      ]
     },
     "execution_count": 26,
     "metadata": {},
     "output_type": "execute_result"
    }
   ],
   "source": [
    "np.random.choice(range(len(sg_batcher.vocab)), size=12, replace=True, p=sg_batcher.token_neg_probs).reshape(3, -1)"
   ]
  },
  {
   "cell_type": "code",
   "execution_count": null,
   "metadata": {},
   "outputs": [],
   "source": []
  },
  {
   "cell_type": "code",
   "execution_count": 213,
   "metadata": {},
   "outputs": [
    {
     "data": {
      "text/plain": [
       "[(0, (1, [340, 34997, 15])),\n",
       " (0, (2, [248, 11726, 1903])),\n",
       " (0, (3, [13380, 45263, 4490]))]"
      ]
     },
     "execution_count": 213,
     "metadata": {},
     "output_type": "execute_result"
    }
   ],
   "source": [
    "batch = [(0, (1, [340, 34997, 15])), (0, (2, [248, 11726, 1903])), (0, (3, [13380, 45263, 4490]))]\n",
    "batch"
   ]
  },
  {
   "cell_type": "code",
   "execution_count": 216,
   "metadata": {},
   "outputs": [
    {
     "data": {
      "text/plain": [
       "((1, [340, 34997, 15]), (2, [248, 11726, 1903]), (3, [13380, 45263, 4490]))"
      ]
     },
     "execution_count": 216,
     "metadata": {},
     "output_type": "execute_result"
    }
   ],
   "source": [
    "list(zip(*batch))[1]"
   ]
  },
  {
   "cell_type": "code",
   "execution_count": null,
   "metadata": {},
   "outputs": [],
   "source": []
  },
  {
   "cell_type": "code",
   "execution_count": null,
   "metadata": {},
   "outputs": [],
   "source": []
  },
  {
   "cell_type": "code",
   "execution_count": 142,
   "metadata": {},
   "outputs": [],
   "source": [
    "center = [0, 0, 0]\n",
    "context = [[(0, (1, [23790, 4499, 165])),\n",
    "          (0, (2, [4135, 20707, 13853])),\n",
    "          (0, (3, [4306, 3837, 243]))]]"
   ]
  },
  {
   "cell_type": "code",
   "execution_count": 144,
   "metadata": {},
   "outputs": [
    {
     "data": {
      "text/plain": [
       "[(0, (1, [14550, 17844, 19042])),\n",
       " (0, (2, [5141, 33485, 21678])),\n",
       " (0, (3, [3263, 675, 33346]))]"
      ]
     },
     "execution_count": 144,
     "metadata": {},
     "output_type": "execute_result"
    }
   ],
   "source": [
    "list(zip(center, context))"
   ]
  },
  {
   "cell_type": "code",
   "execution_count": 168,
   "metadata": {},
   "outputs": [
    {
     "data": {
      "text/plain": [
       "[(0, (1, [4508, 267, 1695])),\n",
       " (0, (2, [4084, 344, 27567])),\n",
       " (0, (3, [6347, 327, 10095]))]"
      ]
     },
     "execution_count": 168,
     "metadata": {},
     "output_type": "execute_result"
    }
   ],
   "source": [
    "batch = [(0, (1, [4508, 267, 1695])), (0, (2, [4084, 344, 27567])), (0, (3, [6347, 327, 10095]))]\n",
    "batch"
   ]
  },
  {
   "cell_type": "code",
   "execution_count": 170,
   "metadata": {},
   "outputs": [
    {
     "ename": "TypeError",
     "evalue": "list() takes at most 1 argument (3 given)",
     "output_type": "error",
     "traceback": [
      "\u001b[0;31m---------------------------------------------------------------------------\u001b[0m",
      "\u001b[0;31mTypeError\u001b[0m                                 Traceback (most recent call last)",
      "\u001b[0;32m<ipython-input-170-077931a1f7c7>\u001b[0m in \u001b[0;36m<module>\u001b[0;34m\u001b[0m\n\u001b[0;32m----> 1\u001b[0;31m \u001b[0mlist\u001b[0m\u001b[0;34m(\u001b[0m\u001b[0;34m*\u001b[0m\u001b[0mzip\u001b[0m\u001b[0;34m(\u001b[0m\u001b[0mbatch\u001b[0m\u001b[0;34m)\u001b[0m\u001b[0;34m)\u001b[0m\u001b[0;34m\u001b[0m\u001b[0;34m\u001b[0m\u001b[0m\n\u001b[0m",
      "\u001b[0;31mTypeError\u001b[0m: list() takes at most 1 argument (3 given)"
     ]
    }
   ],
   "source": [
    "list(zip(batch))"
   ]
  },
  {
   "cell_type": "code",
   "execution_count": null,
   "metadata": {},
   "outputs": [],
   "source": []
  },
  {
   "cell_type": "code",
   "execution_count": null,
   "metadata": {},
   "outputs": [],
   "source": [
    "sg_batcher.token_neg_probs[:3]"
   ]
  },
  {
   "cell_type": "code",
   "execution_count": null,
   "metadata": {},
   "outputs": [],
   "source": [
    "neg_g = sg_batcher._get_negative_outputs(k=3, size=3)\n",
    "neg_g"
   ]
  },
  {
   "cell_type": "code",
   "execution_count": null,
   "metadata": {},
   "outputs": [],
   "source": []
  },
  {
   "cell_type": "code",
   "execution_count": 117,
   "metadata": {},
   "outputs": [
    {
     "data": {
      "text/plain": [
       "[1, [1801, 579, 25424], 2, [4366, 32120, 381], 3, [8384, 21399, 5617]]"
      ]
     },
     "execution_count": 117,
     "metadata": {},
     "output_type": "execute_result"
    }
   ],
   "source": [
    "list(chain.from_iterable(zip([1, 2, 3], neg_g)))"
   ]
  },
  {
   "cell_type": "code",
   "execution_count": null,
   "metadata": {},
   "outputs": [],
   "source": []
  },
  {
   "cell_type": "code",
   "execution_count": 98,
   "metadata": {},
   "outputs": [
    {
     "data": {
      "text/plain": [
       "tensor([[  506, 20011,  2034,   823],\n",
       "        [14741, 20081, 18746, 41748],\n",
       "        [24784,    15, 26064,  4076]])"
      ]
     },
     "execution_count": 98,
     "metadata": {},
     "output_type": "execute_result"
    }
   ],
   "source": [
    "t = torch.multinomial(torch.tensor(token_neg_probs), \n",
    "                        12, replacement=False).view(3, -1)\n",
    "t"
   ]
  },
  {
   "cell_type": "code",
   "execution_count": 105,
   "metadata": {},
   "outputs": [
    {
     "data": {
      "text/plain": [
       "[[506, 20011, 2034, 823],\n",
       " [14741, 20081, 18746, 41748],\n",
       " [24784, 15, 26064, 4076]]"
      ]
     },
     "execution_count": 105,
     "metadata": {},
     "output_type": "execute_result"
    }
   ],
   "source": [
    "t.numpy().tolist()"
   ]
  },
  {
   "cell_type": "code",
   "execution_count": null,
   "metadata": {},
   "outputs": [],
   "source": []
  },
  {
   "cell_type": "code",
   "execution_count": 109,
   "metadata": {},
   "outputs": [],
   "source": [
    "args = Namespace(\n",
    "    file_path = DATA_PATH/'text8',\n",
    "    model_state_path = MODELS_PATH/'naive_word2vec_embeddings.pth',\n",
    "    weights_path = MODELS_PATH/'weights.npz',\n",
    "    \n",
    "    embedding_size = 100,\n",
    "    \n",
    "    seed = 42,\n",
    "    cutoff = 10,\n",
    "    window_size = 3,\n",
    "    stride = 1,\n",
    "    batch_size = 1024,\n",
    "    learning_rate = 0.03,\n",
    "    iterations = 1000,\n",
    "    save_iterations = 100,\n",
    "    early_stopping_criteria = 1e8,\n",
    "    factor=0.5,\n",
    "    patience=5000,\n",
    "    neg_prob_degree=0.75\n",
    "    \n",
    "    cuda=True\n",
    ")"
   ]
  },
  {
   "cell_type": "code",
   "execution_count": 284,
   "metadata": {},
   "outputs": [
    {
     "data": {
      "text/plain": [
       "[[(0, 1), (0, 2)]]"
      ]
     },
     "execution_count": 284,
     "metadata": {},
     "output_type": "execute_result"
    }
   ],
   "source": [
    "g = sg_batcher._create_sliding_window(2)\n",
    "next(g)"
   ]
  },
  {
   "cell_type": "code",
   "execution_count": null,
   "metadata": {},
   "outputs": [],
   "source": []
  },
  {
   "cell_type": "code",
   "execution_count": null,
   "metadata": {},
   "outputs": [],
   "source": []
  },
  {
   "cell_type": "code",
   "execution_count": null,
   "metadata": {},
   "outputs": [],
   "source": []
  },
  {
   "cell_type": "code",
   "execution_count": null,
   "metadata": {},
   "outputs": [],
   "source": []
  },
  {
   "cell_type": "code",
   "execution_count": null,
   "metadata": {},
   "outputs": [],
   "source": []
  },
  {
   "cell_type": "code",
   "execution_count": 36,
   "metadata": {},
   "outputs": [
    {
     "data": {
      "text/plain": [
       "16561031"
      ]
     },
     "execution_count": 36,
     "metadata": {},
     "output_type": "execute_result"
    }
   ],
   "source": [
    "tokens_size = len(sg_batcher.tokens)\n",
    "tokens_size"
   ]
  },
  {
   "cell_type": "code",
   "execution_count": 77,
   "metadata": {},
   "outputs": [
    {
     "data": {
      "text/plain": [
       "array([0.00027975, 0.00045054, 0.0266476 , 0.05253766, 0.00301677,\n",
       "       0.08238481, 0.00044521, 0.00851808, 0.00713238, 0.00338947])"
      ]
     },
     "execution_count": 77,
     "metadata": {},
     "output_type": "execute_result"
    }
   ],
   "source": [
    "token_neg_scores = np.array([(value/sg_batcher.tokens_size)**0.75\n",
    "                            for key, value in sg_batcher.token_counts.items()])\n",
    "token_neg_scores[:10]"
   ]
  },
  {
   "cell_type": "code",
   "execution_count": 38,
   "metadata": {},
   "outputs": [
    {
     "data": {
      "text/plain": [
       "8.252735343222646"
      ]
     },
     "execution_count": 38,
     "metadata": {},
     "output_type": "execute_result"
    }
   ],
   "source": [
    "token_neg_scores_sum = np.sum(token_neg_scores)\n",
    "token_neg_scores_sum"
   ]
  },
  {
   "cell_type": "code",
   "execution_count": 39,
   "metadata": {},
   "outputs": [
    {
     "data": {
      "text/plain": [
       "array([3.38975668e-05, 5.45925746e-05, 3.22894152e-03, ...,\n",
       "       2.62474160e-06, 3.90771827e-06, 2.62474160e-06])"
      ]
     },
     "execution_count": 39,
     "metadata": {},
     "output_type": "execute_result"
    }
   ],
   "source": [
    "token_neg_probs = token_neg_scores / token_neg_scores_sum\n",
    "token_neg_probs"
   ]
  },
  {
   "cell_type": "code",
   "execution_count": 94,
   "metadata": {},
   "outputs": [
    {
     "data": {
      "text/plain": [
       "[<matplotlib.lines.Line2D at 0x7f32772ee6d8>]"
      ]
     },
     "execution_count": 94,
     "metadata": {},
     "output_type": "execute_result"
    },
    {
     "data": {
      "image/png": "[encoded data removed]",
      "text/plain": [
       "<Figure size 432x288 with 1 Axes>"
      ]
     },
     "metadata": {
      "needs_background": "light"
     },
     "output_type": "display_data"
    }
   ],
   "source": [
    "plt.plot(token_neg_probs)"
   ]
  },
  {
   "cell_type": "code",
   "execution_count": 316,
   "metadata": {},
   "outputs": [
    {
     "data": {
      "text/plain": [
       "(tensor([3.3898e-05, 5.4593e-05, 3.2289e-03,  ..., 2.6247e-06, 3.9077e-06,\n",
       "         2.6247e-06]),\n",
       " array([3.38975668e-05, 5.45925746e-05, 3.22894152e-03, ...,\n",
       "        2.62474160e-06, 3.90771827e-06, 2.62474160e-06]))"
      ]
     },
     "execution_count": 316,
     "metadata": {},
     "output_type": "execute_result"
    }
   ],
   "source": [
    "k = 5\n",
    "batch_size = 3\n",
    "arr = token_neg_probs # [1, 5, 6, 10]\n",
    "\n",
    "x_numpy = np.array(arr) / np.sum(arr)\n",
    "x_torch = torch.tensor(x_numpy, dtype=torch.float32)\n",
    "x_torch, x_numpy"
   ]
  },
  {
   "cell_type": "code",
   "execution_count": 317,
   "metadata": {},
   "outputs": [
    {
     "name": "stdout",
     "output_type": "stream",
     "text": [
      "[0.  0.  0.  ... 0.  0.  0.2]\n"
     ]
    },
    {
     "data": {
      "text/plain": [
       "tensor([   15, 25967,  1177,  5236, 23144])"
      ]
     },
     "execution_count": 317,
     "metadata": {},
     "output_type": "execute_result"
    }
   ],
   "source": [
    "sample_torch = torch.multinomial(x_torch, k, replacement=True) #.view(batch_size, -1)\n",
    "print(np.bincount(sample_torch) / np.bincount(sample_torch).sum())\n",
    "sample_torch"
   ]
  },
  {
   "cell_type": "code",
   "execution_count": 273,
   "metadata": {},
   "outputs": [
    {
     "name": "stdout",
     "output_type": "stream",
     "text": [
      "[0.  0.  0.2 0.8]\n"
     ]
    },
    {
     "data": {
      "text/plain": [
       "array([2, 3, 3, 3, 3])"
      ]
     },
     "execution_count": 273,
     "metadata": {},
     "output_type": "execute_result"
    }
   ],
   "source": [
    "sample_numpy = np.random.multinomial(1, x_numpy, size=k).nonzero()[1]\n",
    "print(np.bincount(sample_numpy) / np.bincount(sample_numpy).sum())\n",
    "sample_numpy"
   ]
  },
  {
   "cell_type": "code",
   "execution_count": null,
   "metadata": {},
   "outputs": [],
   "source": []
  },
  {
   "cell_type": "code",
   "execution_count": null,
   "metadata": {},
   "outputs": [],
   "source": []
  }
 ],
 "metadata": {
  "kernelspec": {
   "display_name": "Python 3",
   "language": "python",
   "name": "python3"
  },
  "language_info": {
   "codemirror_mode": {
    "name": "ipython",
    "version": 3
   },
   "file_extension": ".py",
   "mimetype": "text/x-python",
   "name": "python",
   "nbconvert_exporter": "python",
   "pygments_lexer": "ipython3",
   "version": "3.6.8"
  }
 },
 "nbformat": 4,
 "nbformat_minor": 2
}
