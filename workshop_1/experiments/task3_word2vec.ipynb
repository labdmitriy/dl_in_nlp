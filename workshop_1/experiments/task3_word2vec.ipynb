{
 "cells": [
  {
   "cell_type": "markdown",
   "metadata": {},
   "source": [
    "# Naive word2vec\n",
    "\n",
    "This task can be formulated very simply. Follow this [paper](https://arxiv.org/pdf/1411.2738.pdf) and implement word2vec like a two-layer neural network with matrices $W$ and $W'$. One matrix projects words to low-dimensional 'hidden' space and the other - back to high-dimensional vocabulary space.\n",
    "\n",
    "![word2vec](https://i.stack.imgur.com/6eVXZ.jpg)\n",
    "\n",
    "You can use TensorFlow/PyTorch (numpy too, if you love to calculate gradients on your own and want some extra points, but don't forget to numerically check your gradients) and code from your previous task. Again: you don't have to implement negative sampling (you may reduce your vocabulary size for faster computation).\n",
    "\n",
    "**Results of this task**:\n",
    " * trained word vectors (mention somewhere, how long it took to train)\n",
    " * plotted loss (so we can see that it has converged)\n",
    " * function to map token to corresponding word vector\n",
    " * beautiful visualizations (PCE, T-SNE), you can use TensorBoard and play with your vectors in 3D (don't forget to add screenshots to the task)\n",
    " * qualitative evaluations of word vectors: nearest neighbors, word analogies\n",
    "\n",
    "**Extra:**\n",
    " * quantitative evaluation:\n",
    "   * for intrinsic evaluation you can find datasets [here](https://aclweb.org/aclwiki/Analogy_(State_of_the_art))\n",
    "   * for extrincis evaluation you can use [these](https://medium.com/@dataturks/rare-text-classification-open-datasets-9d340c8c508e)\n",
    "\n",
    "Also, you can find any other datasets for quantitative evaluation. If you chose to do this, please use the same datasets across tasks 3, 4, 5 and 6.\n",
    "\n",
    "Again. It is **highly recommended** to read this [paper](https://arxiv.org/pdf/1411.2738.pdf)\n",
    "\n",
    "Example of visualization in tensorboard:\n",
    "https://projector.tensorflow.org\n",
    "\n",
    "Example of 2D visualisation:\n",
    "\n",
    "![2dword2vec](https://www.tensorflow.org/images/tsne.png)\n",
    "\n",
    "If you struggle with something, ask your neighbor. If it is not obvious for you, probably someone else is looking for the answer too. And in contrast, if you see that you can help someone - do it! Good luck!"
   ]
  },
  {
   "cell_type": "code",
   "execution_count": 3,
   "metadata": {},
   "outputs": [],
   "source": [
    "from pathlib import Path\n",
    "from collections import Counter\n",
    "from itertools import islice, product, chain\n",
    "from argparse import Namespace\n",
    "\n",
    "from tqdm import tqdm_notebook\n",
    "\n",
    "import numpy as np\n",
    "import pandas as pd\n",
    "\n",
    "%matplotlib inline\n",
    "import matplotlib.pyplot as plt\n",
    "import seaborn as sns\n",
    "\n",
    "import torch\n",
    "import torch.nn as nn\n",
    "import torch.nn.functional as F\n",
    "import torch.optim as optim\n",
    "\n",
    "from tensorboardX import SummaryWriter\n",
    "from annoy import AnnoyIndex\n",
    "\n",
    "from sklearn.decomposition import PCA\n",
    "from MulticoreTSNE import MulticoreTSNE as TSNE\n",
    "from umap import UMAP\n",
    "from adjustText import adjust_text"
   ]
  },
  {
   "cell_type": "code",
   "execution_count": 4,
   "metadata": {},
   "outputs": [],
   "source": [
    "DATA_PATH = Path('../data')\n",
    "MODELS_PATH = Path('../models')"
   ]
  },
  {
   "cell_type": "code",
   "execution_count": 5,
   "metadata": {},
   "outputs": [],
   "source": [
    "class SkipGramBatcher():\n",
    "    def __init__(self, text):\n",
    "        self.text = text\n",
    "    \n",
    "    @classmethod\n",
    "    def from_file(cls, file_path):\n",
    "        with open(file_path) as f:\n",
    "            text = f.read()\n",
    "        \n",
    "        return cls(text)\n",
    "    \n",
    "    def _tokenize(self):\n",
    "        self.tokens = self.text.split()\n",
    "    \n",
    "    def _count_tokens(self):\n",
    "        self.token_counts = Counter(self.tokens)\n",
    "    \n",
    "    def _build_vocab(self, cutoff):\n",
    "        filtered_token_counts = dict(filter(lambda x: x[1] >= cutoff, self.token_counts.items()))\n",
    "        self.token_to_idx = {token:idx for (idx, (token, _)) \n",
    "                             in enumerate(filtered_token_counts.items())}\n",
    "        self.idx_to_token = {idx:token for (token, idx) in self.token_to_idx.items()}\n",
    "        self.vocab = set(self.token_to_idx)\n",
    "\n",
    "    def _filter_tokens(self):\n",
    "        self.tokens = [token for token in self.tokens if token in self.vocab]\n",
    "    \n",
    "    def _vectorize_tokens(self):\n",
    "        self.vectorized_tokens = [self.token_to_idx[token] for token in self.tokens]\n",
    "    \n",
    "    def _create_sliding_window(self, window_size, stride):\n",
    "        tokens_size = len(self.tokens)\n",
    "\n",
    "        for i in range(0, tokens_size, stride):\n",
    "#             center_word = islice(self.vectorized_tokens, i, i + 1)\n",
    "#             left_context = islice(self.vectorized_tokens, i + 1, \n",
    "#                                   min(tokens_size, i + window_size + 1))\n",
    "#             right_context = islice(self.vectorized_tokens, \n",
    "#                                    max(0, i - window_size), i)\n",
    "#             yield from product(center_word, chain(left_context, right_context))\n",
    "\n",
    "#             window_size = np.random.randint(1, max_window_size+1)\n",
    "            center_word = self.vectorized_tokens[i:i+1]\n",
    "            left_context = self.vectorized_tokens[max(0, i - window_size): i]\n",
    "            right_context = self.vectorized_tokens[i + 1: min(tokens_size, i + window_size + 1)]\n",
    "            yield from product(center_word, chain(left_context, right_context))\n",
    "        \n",
    "    def devectorize_tokens(self, indices):\n",
    "        return [self.idx_to_token[idx] for idx in indices]\n",
    "        \n",
    "    def prepare_data(self, cutoff=1):\n",
    "        self._tokenize()\n",
    "        self._count_tokens()\n",
    "        self._build_vocab(cutoff)\n",
    "        self._filter_tokens()\n",
    "        self._vectorize_tokens()\n",
    "        \n",
    "    def generate_batches(self, window_size=1, stride=1, batch_size=1, drop_last=True):\n",
    "        window = self._create_sliding_window(window_size, stride)\n",
    "        batch = list(zip(*islice(window, batch_size)))\n",
    "        x_batch, labels_batch = torch.tensor(batch[0]), torch.tensor(batch[1])\n",
    "\n",
    "        if drop_last:\n",
    "            while batch and len(batch[0]) == batch_size:\n",
    "                yield x_batch, labels_batch\n",
    "                batch = list(zip(*islice(window, batch_size)))\n",
    "                x_batch, labels_batch = torch.tensor(batch[0]), torch.tensor(batch[1])\n",
    "        else:\n",
    "            while batch:\n",
    "                yield x_batch, labels_batch\n",
    "                batch = list(zip(*islice(window, batch_size)))\n",
    "                x_batch, labels_batch = torch.tensor(batch[0]), torch.tensor(batch[1])"
   ]
  },
  {
   "cell_type": "code",
   "execution_count": 6,
   "metadata": {},
   "outputs": [],
   "source": [
    "class NaiveWord2VecClassifier(nn.Module):\n",
    "    def __init__(self, vocabulary_size, embedding_size):\n",
    "        super().__init__()\n",
    "        \n",
    "#         self.embedding = nn.utils.weight_norm(nn.Embedding(num_embeddings=vocabulary_size,\n",
    "#                                       embedding_dim=embedding_size), dim=1)\n",
    "# #                                       max_norm=1.0)\n",
    "# #                                       scale_grad_by_freq=True)\n",
    "                                      \n",
    "#         self.fc1 = nn.utils.weight_norm(nn.Linear(in_features=embedding_size,\n",
    "#                              out_features=vocabulary_size,\n",
    "#                              bias=False), dim=1)\n",
    "\n",
    "        self.embedding = nn.utils.weight_norm(nn.Embedding(num_embeddings=vocabulary_size,\n",
    "                                              embedding_dim=embedding_size), dim=1)\n",
    "\n",
    "        self.fc1 = nn.utils.weight_norm(nn.Linear(in_features=embedding_size,\n",
    "                             out_features=vocabulary_size,\n",
    "                             bias=False), dim=1)\n",
    "        \n",
    "    def forward(self, x_in):\n",
    "#         self.embedding.weight.data = F.normalize(self.embedding.weight.data, p=2, dim=1)\n",
    "#         self.fc1.weight.data = F.normalize(self.fc1.weight.data, p=2, dim=1)\n",
    "        x_embedded = self.embedding(x_in)\n",
    "        y_out = self.fc1(x_embedded)\n",
    "        \n",
    "        return y_out"
   ]
  },
  {
   "cell_type": "code",
   "execution_count": 7,
   "metadata": {},
   "outputs": [],
   "source": [
    "def set_seeds(seed):\n",
    "    np.random.seed(seed)\n",
    "    torch.manual_seed(seed)\n",
    "    torch.cuda.manual_seed_all(seed)\n",
    "    torch.backends.cudnn.deterministic = True"
   ]
  },
  {
   "cell_type": "code",
   "execution_count": 8,
   "metadata": {},
   "outputs": [],
   "source": [
    "args = Namespace(\n",
    "    file_path = DATA_PATH/'text8',\n",
    "    model_state_path = MODELS_PATH/'naive_word2vec_embeddings.pth',\n",
    "    weights_path = MODELS_PATH/'weights.npz',\n",
    "    \n",
    "    embedding_size = 100,\n",
    "    \n",
    "    seed = 42,\n",
    "    cutoff = 10, # 10\n",
    "    window_size = 3, # 1\n",
    "    stride = 1, # 1\n",
    "    batch_size = 1024, #  1024\n",
    "    learning_rate = 0.03, # 0.03\n",
    "    iterations = 1000,\n",
    "    save_iterations = 100,\n",
    "    early_stopping_criteria = 1e8,\n",
    "    factor=0.5, # 0.7\n",
    "    patience=5000, # 1000\n",
    "    \n",
    "    cuda=True\n",
    ")"
   ]
  },
  {
   "cell_type": "code",
   "execution_count": 9,
   "metadata": {},
   "outputs": [],
   "source": [
    "def make_train_state(args):\n",
    "    return {'stop_early': False,\n",
    "            'early_stopping_step': 0,\n",
    "            'early_stopping_best_val': 1e8,\n",
    "            'learning_rate': [], # args.learning_rate\n",
    "            'batch_idx': 0,\n",
    "            'loss': [],\n",
    "            'model_file_name': args.model_state_path}\n",
    "\n",
    "def update_train_state(args, model, train_state):\n",
    "    if train_state['batch_idx'] == 0:\n",
    "        train_state['stop_early'] = False\n",
    "        torch.save(model.state_dict(), train_state['model_file_name'])\n",
    "    else:\n",
    "        loss = train_state['loss'][-1]\n",
    "\n",
    "        if loss < train_state['early_stopping_best_val']:\n",
    "            train_state['early_stopping_best_val'] = loss\n",
    "            train_state['early_stopping_step'] = 0\n",
    "            \n",
    "            if train_state['batch_idx'] % args.save_iterations == 0:\n",
    "                torch.save(model.state_dict(), train_state['model_file_name'])\n",
    "        else:\n",
    "            train_state['early_stopping_step'] += 1 \n",
    "    \n",
    "        train_state['stop_early'] = train_state['early_stopping_step'] >= args.early_stopping_criteria\n",
    "    return train_state"
   ]
  },
  {
   "cell_type": "code",
   "execution_count": 10,
   "metadata": {},
   "outputs": [
    {
     "name": "stdout",
     "output_type": "stream",
     "text": [
      "Using CUDA: False\n"
     ]
    }
   ],
   "source": [
    "if not torch.cuda.is_available():\n",
    "    args.cuda=False\n",
    "    \n",
    "print(f'Using CUDA: {args.cuda}')\n",
    "args.device = torch.device('cuda' if args.cuda else 'cpu')"
   ]
  },
  {
   "cell_type": "code",
   "execution_count": 11,
   "metadata": {},
   "outputs": [
    {
     "data": {
      "text/plain": [
       "47134"
      ]
     },
     "execution_count": 11,
     "metadata": {},
     "output_type": "execute_result"
    }
   ],
   "source": [
    "sg_batcher = SkipGramBatcher.from_file(args.file_path)\n",
    "sg_batcher.prepare_data(cutoff=args.cutoff)\n",
    "\n",
    "vocabulary_size = len(sg_batcher.vocab)\n",
    "vocabulary_size"
   ]
  },
  {
   "cell_type": "code",
   "execution_count": 10,
   "metadata": {},
   "outputs": [
    {
     "data": {
      "application/vnd.jupyter.widget-view+json": {
       "model_id": "c43ce9219c7e4b9d86ecdeb69c42c52a",
       "version_major": 2,
       "version_minor": 0
      },
      "text/plain": [
       "HBox(children=(IntProgress(value=0, description='Training', max=97037, style=ProgressStyle(description_width='…"
      ]
     },
     "metadata": {},
     "output_type": "display_data"
    }
   ],
   "source": [
    "set_seeds(args.seed)\n",
    "\n",
    "classifier = NaiveWord2VecClassifier(vocabulary_size=vocabulary_size,\n",
    "                                     embedding_size=args.embedding_size)\n",
    "classifier = classifier.to(args.device)\n",
    "\n",
    "loss_func = nn.CrossEntropyLoss(reduction='mean')\n",
    "optimizer = optim.Adam(params=classifier.parameters(),\n",
    "                      lr=args.learning_rate)\n",
    "\n",
    "epoch_size = 2 * (args.window_size * len(sg_batcher.tokens) \n",
    "                  - np.math.factorial(args.window_size)) // (args.batch_size * args.stride)\n",
    "\n",
    "scheduler = optim.lr_scheduler.ReduceLROnPlateau(optimizer=optimizer,\n",
    "                                                 mode='min',\n",
    "                                                 factor=args.factor,\n",
    "                                                 patience=args.patience)\n",
    "\n",
    "train_bar = tqdm_notebook(desc='Training',\n",
    "                          position=1,\n",
    "#                           total=args.iterations,\n",
    "                          total=epoch_size)\n",
    "\n",
    "batch_generator = sg_batcher.generate_batches(window_size=args.window_size, \n",
    "                                              batch_size=args.batch_size)\n",
    "\n",
    "train_state = make_train_state(args)\n",
    "\n",
    "writer = SummaryWriter(log_dir='logs/task_3', comment='embedding_training')\n",
    "\n",
    "running_loss = 0.\n",
    "classifier.train()\n",
    "\n",
    "try:\n",
    "    for batch_idx, (x_batch, labels_batch) in enumerate(batch_generator, 1):\n",
    "        x_batch = x_batch.to(args.device)\n",
    "        labels_batch = labels_batch.to(args.device)\n",
    "\n",
    "        optimizer.zero_grad()\n",
    "\n",
    "        y_pred = classifier(x_in=x_batch)\n",
    "\n",
    "        loss = loss_func(y_pred, labels_batch)\n",
    "        loss_value = loss.item()\n",
    "        running_loss += (loss_value - running_loss) / (batch_idx)\n",
    "        loss.backward()\n",
    "        \n",
    "        learning_rate = optimizer.param_groups[0]['lr']\n",
    "        \n",
    "        train_state['batch_idx'] = batch_idx\n",
    "        train_state['loss'].append(running_loss)\n",
    "        train_state['learning_rate'].append(learning_rate)\n",
    "#         writer.add_scalar('loss', scalar_value=loss, global_step=batch_idx)\n",
    "\n",
    "\n",
    "        train_state = update_train_state(args=args,\n",
    "                                         model=classifier,\n",
    "                                         train_state=train_state)\n",
    "\n",
    "        train_params = dict(loss=running_loss,\n",
    "                            lr=learning_rate,\n",
    "                            early_step=train_state['early_stopping_step'],\n",
    "                            early_best=train_state['early_stopping_best_val'])\n",
    "        train_bar.set_postfix(train_params)\n",
    "        train_bar.update()\n",
    "        \n",
    "        optimizer.step()\n",
    "        \n",
    "        scheduler.step(train_state['loss'][-1])\n",
    "\n",
    "        if train_state['stop_early'] or (batch_idx == epoch_size):\n",
    "            torch.save(classifier.state_dict(), str(train_state['model_file_name']) + '_last')\n",
    "            break\n",
    "except KeyboardInterrupt:\n",
    "    print('Exit training')"
   ]
  },
  {
   "cell_type": "code",
   "execution_count": 11,
   "metadata": {},
   "outputs": [
    {
     "data": {
      "image/png": "[encoded data removed]",
      "text/plain": [
       "<Figure size 432x288 with 1 Axes>"
      ]
     },
     "metadata": {
      "needs_background": "light"
     },
     "output_type": "display_data"
    }
   ],
   "source": [
    "train_state_df = pd.DataFrame(train_state)\n",
    "train_state_df['loss'].plot()\n",
    "plt.show()"
   ]
  },
  {
   "cell_type": "code",
   "execution_count": 12,
   "metadata": {},
   "outputs": [
    {
     "data": {
      "image/png": "[encoded data removed]",
      "text/plain": [
       "<Figure size 432x288 with 1 Axes>"
      ]
     },
     "metadata": {
      "needs_background": "light"
     },
     "output_type": "display_data"
    }
   ],
   "source": [
    "train_state_df['learning_rate'].plot()\n",
    "plt.show()"
   ]
  },
  {
   "cell_type": "raw",
   "metadata": {},
   "source": [
    "metadata = list(sg_batcher.token_to_idx)\n",
    "W = classifier.embedding.weight.detach().cpu().numpy()\n",
    "W_prime = classifier.fc1.weight.detach().cpu().numpy()\n",
    "\n",
    "W_avg = (W + W_prime) / 2\n",
    "np.savez(args.weights_path, W=W, W_prime=W_prime, W_avg=W_avg)"
   ]
  },
  {
   "cell_type": "code",
   "execution_count": null,
   "metadata": {},
   "outputs": [],
   "source": []
  },
  {
   "cell_type": "code",
   "execution_count": 12,
   "metadata": {},
   "outputs": [
    {
     "name": "stdout",
     "output_type": "stream",
     "text": [
      "torch.Size([1, 100]) torch.Size([47134, 100])\n",
      "torch.Size([1, 100]) torch.Size([47134, 100])\n"
     ]
    }
   ],
   "source": [
    "state_dict = torch.load('../models/final/task_3/naive_word2vec_embeddings.pth_last', map_location='cpu')\n",
    "\n",
    "clf = NaiveWord2VecClassifier(vocabulary_size=vocabulary_size,\n",
    "                              embedding_size=100)\n",
    "clf.load_state_dict(state_dict)\n",
    "print(clf.embedding.weight_g.shape, clf.embedding.weight_v.shape)\n",
    "print(clf.fc1.weight_g.shape, clf.fc1.weight_v.shape)"
   ]
  },
  {
   "cell_type": "code",
   "execution_count": 13,
   "metadata": {},
   "outputs": [],
   "source": [
    "weights = np.load('../models/final/task_3/weights.npz')\n",
    "W = weights['W']\n",
    "W_prime = weights['W_prime']\n",
    "W_avg = weights['W_avg']"
   ]
  },
  {
   "cell_type": "raw",
   "metadata": {},
   "source": [
    "W_norm = W / np.linalg.norm(W, axis=0, keepdims=True)\n",
    "W_prime_norm = W_avg / np.linalg.norm(W_prime, axis=0, keepdims=True)\n",
    "W_avg_norm = (W_norm + W_prime_norm) / 2\n",
    "np.abs(W_norm).max(), np.abs(W_prime_norm).max(), np.abs(W_avg_norm).max()"
   ]
  },
  {
   "cell_type": "code",
   "execution_count": 14,
   "metadata": {},
   "outputs": [],
   "source": [
    "metadata = list(sg_batcher.token_to_idx)\n",
    "\n",
    "# writer.add_embedding(W, metadata=metadata, tag='W')\n",
    "# writer.add_embedding(W_prime, metadata=metadata, tag='W_prime')\n",
    "writer = SummaryWriter(log_dir='logs_final/task_3', comment='embedding_training')\n",
    "writer.add_embedding(W_avg, metadata=metadata, tag='W_avg')"
   ]
  },
  {
   "cell_type": "code",
   "execution_count": 10,
   "metadata": {},
   "outputs": [],
   "source": []
  },
  {
   "cell_type": "code",
   "execution_count": 11,
   "metadata": {},
   "outputs": [
    {
     "data": {
      "text/plain": [
       "(-15.041774, 13.829485, -0.60154366, 0.5448065)"
      ]
     },
     "execution_count": 11,
     "metadata": {},
     "output_type": "execute_result"
    }
   ],
   "source": [
    "W.min(), W.max(), W_prime.min(), W_prime.max()"
   ]
  },
  {
   "cell_type": "raw",
   "metadata": {},
   "source": [
    "sns.heatmap(W)"
   ]
  },
  {
   "cell_type": "raw",
   "metadata": {},
   "source": [
    "sns.heatmap(W_prime)"
   ]
  },
  {
   "cell_type": "raw",
   "metadata": {},
   "source": [
    "sns.heatmap(W_avg)"
   ]
  },
  {
   "cell_type": "code",
   "execution_count": null,
   "metadata": {},
   "outputs": [],
   "source": []
  },
  {
   "cell_type": "code",
   "execution_count": 306,
   "metadata": {},
   "outputs": [
    {
     "data": {
      "text/plain": [
       "(0.06783072, 0.41869718, 0.23895663)"
      ]
     },
     "execution_count": 306,
     "metadata": {},
     "output_type": "execute_result"
    }
   ],
   "source": []
  },
  {
   "cell_type": "code",
   "execution_count": null,
   "metadata": {},
   "outputs": [],
   "source": []
  },
  {
   "cell_type": "code",
   "execution_count": 31,
   "metadata": {},
   "outputs": [],
   "source": [
    "words = []\n",
    "words.extend(['man', 'he', 'woman', 'she'])\n",
    "words.extend(['fly', 'plane', 'aircraft', 'sail', 'ship', 'ships', 'circle'])\n",
    "words.extend(['kitten', 'cat', 'puppy', 'dog'])\n",
    "words.extend(['leg', 'legs', 'hand', 'hands'])\n",
    "words.extend(['blue', 'color', 'dog', 'breed'])\n",
    "words.extend(['toe', 'finger', 'foot', 'hand', 'arm'])\n",
    "words.extend(['talk', 'communicate', 'read', 'interpret'])\n",
    "words.extend(['man', 'king', 'woman', 'queen', 'doctor'])\n",
    "words.extend(['man', 'doctor', 'woman', 'nurse'])\n",
    "words.extend(['fast', 'fastest', 'small', 'smallest', 'rich', 'richest', 'faster', 'stronger'])\n",
    "words = list(set(words))"
   ]
  },
  {
   "cell_type": "code",
   "execution_count": null,
   "metadata": {},
   "outputs": [],
   "source": []
  },
  {
   "cell_type": "code",
   "execution_count": 25,
   "metadata": {},
   "outputs": [],
   "source": [
    "def plot_embeddings(embs_reduced, token_to_idx, tokens, fig_size=(12, 12)):\n",
    "    token_embs = embs_reduced[[token_to_idx[token] for token in tokens]]\n",
    "    \n",
    "    fig, ax = plt.subplots(figsize=fig_size)\n",
    "    ax.scatter(token_embs[:, 0], token_embs[:, 1], alpha=0.3)\n",
    "    \n",
    "#     for i, token in enumerate(tokens):\n",
    "#         ax.annotate(token, xy=(token_embs[i, 0], token_embs[i, 1]), \n",
    "#                     xytext=(token_embs[i, 0] + 0.05, token_embs[i, 1] + 0.05))\n",
    "        \n",
    "    texts = [plt.text(token_embs[i, 0], token_embs[i, 1], f'{token}') for i, token in enumerate(tokens)]\n",
    "    adjust_text(texts)"
   ]
  },
  {
   "cell_type": "code",
   "execution_count": 19,
   "metadata": {},
   "outputs": [
    {
     "name": "stdout",
     "output_type": "stream",
     "text": [
      "CPU times: user 420 ms, sys: 48 ms, total: 468 ms\n",
      "Wall time: 122 ms\n"
     ]
    }
   ],
   "source": [
    "%%time\n",
    "pca = PCA(n_components=2, random_state=42)\n",
    "embs_pca = pca.fit_transform(W_avg)"
   ]
  },
  {
   "cell_type": "code",
   "execution_count": 32,
   "metadata": {},
   "outputs": [
    {
     "data": {
      "image/png": "[encoded data removed]",
      "text/plain": [
       "<Figure size 1152x1152 with 1 Axes>"
      ]
     },
     "metadata": {
      "needs_background": "light"
     },
     "output_type": "display_data"
    }
   ],
   "source": [
    "# tokens = ['man', 'woman', 'king', 'queen', 'mother', 'father']\n",
    "# tokens = list(dict(sg_batcher.token_counts.most_common(100)).keys())\n",
    "plot_embeddings(embs_pca, sg_batcher.token_to_idx, words, fig_size=(16, 16))"
   ]
  },
  {
   "cell_type": "code",
   "execution_count": null,
   "metadata": {},
   "outputs": [],
   "source": []
  },
  {
   "cell_type": "code",
   "execution_count": 21,
   "metadata": {},
   "outputs": [
    {
     "name": "stdout",
     "output_type": "stream",
     "text": [
      "CPU times: user 22min 59s, sys: 9min 26s, total: 32min 25s\n",
      "Wall time: 4min 6s\n"
     ]
    }
   ],
   "source": [
    "%%time\n",
    "tsne = TSNE(n_components=2, n_iter=1000, n_jobs=-1)\n",
    "embs_tsne = tsne.fit_transform(W_avg)"
   ]
  },
  {
   "cell_type": "code",
   "execution_count": 33,
   "metadata": {},
   "outputs": [
    {
     "data": {
      "image/png": "[encoded data removed]",
      "text/plain": [
       "<Figure size 1152x1152 with 1 Axes>"
      ]
     },
     "metadata": {
      "needs_background": "light"
     },
     "output_type": "display_data"
    }
   ],
   "source": [
    "#tokens = ['man', 'woman', 'king', 'queen', 'mother', 'father']\n",
    "# tokens = list(dict(sg_batcher.token_counts.most_common(100)).keys())\n",
    "plot_embeddings(embs_tsne, sg_batcher.token_to_idx, words, fig_size=(16, 16))"
   ]
  },
  {
   "cell_type": "code",
   "execution_count": null,
   "metadata": {},
   "outputs": [],
   "source": []
  },
  {
   "cell_type": "code",
   "execution_count": 28,
   "metadata": {},
   "outputs": [
    {
     "name": "stdout",
     "output_type": "stream",
     "text": [
      "CPU times: user 1min 57s, sys: 16.2 s, total: 2min 13s\n",
      "Wall time: 1min 47s\n"
     ]
    }
   ],
   "source": [
    "%%time\n",
    "umap = UMAP(metric='cosine')\n",
    "embs_umap = umap.fit_transform(W_avg)"
   ]
  },
  {
   "cell_type": "code",
   "execution_count": 34,
   "metadata": {},
   "outputs": [
    {
     "data": {
      "image/png": "[encoded data removed]",
      "text/plain": [
       "<Figure size 1152x1152 with 1 Axes>"
      ]
     },
     "metadata": {
      "needs_background": "light"
     },
     "output_type": "display_data"
    }
   ],
   "source": [
    "# tokens = ['man', 'woman', 'king', 'queen', 'mother', 'father']\n",
    "# tokens = list(dict(sg_batcher.token_counts.most_common(100)).keys())\n",
    "plot_embeddings(embs_umap, sg_batcher.token_to_idx, words, fig_size=(16, 16))"
   ]
  },
  {
   "cell_type": "code",
   "execution_count": null,
   "metadata": {},
   "outputs": [],
   "source": []
  },
  {
   "cell_type": "code",
   "execution_count": null,
   "metadata": {},
   "outputs": [],
   "source": []
  },
  {
   "cell_type": "code",
   "execution_count": 141,
   "metadata": {},
   "outputs": [],
   "source": [
    "class EmbeddingsExplorer():\n",
    "    def __init__(self, token_to_idx, vectors, metric='euclidean'):\n",
    "        self.token_to_idx = token_to_idx\n",
    "        self.idx_to_token = {idx: token for token, idx \n",
    "                             in self.token_to_idx.items()}\n",
    "        self.vectors = vectors\n",
    "        self.metric = metric\n",
    "        \n",
    "        self.index = AnnoyIndex(vectors.shape[1], metric=metric)\n",
    "        \n",
    "        print('Building index is started')\n",
    "        for i in self.token_to_idx.values():\n",
    "            self.index.add_item(i, self.vectors[i])\n",
    "        \n",
    "        self.index.build(50)\n",
    "        print('Building index is finished')\n",
    "        \n",
    "    def get_embedding(self, token):\n",
    "        return self.vectors[self.token_to_idx[token]]\n",
    "    \n",
    "    def get_closest_to_vector(self, vector, n=1):\n",
    "        nn_indices = self.index.get_nns_by_vector(vector, n)\n",
    "        return [self.idx_to_token[neighbor] for neighbor in nn_indices]\n",
    "    \n",
    "    def compute_closest_tokens(self, target_token, n=1):\n",
    "        vector = self.get_embedding(target_token)\n",
    "        closest_tokens = self.get_closest_to_vector(vector, n=n)\n",
    "        closest_tokens = [token for token in closest_tokens\n",
    "                          if token != target_token]\n",
    "        print(f'{target_token}: {closest_tokens}')\n",
    "    \n",
    "    def compute_analogy(self, token1, token2, token3, n=30):\n",
    "        vec1 = self.get_embedding(token1)\n",
    "        vec2 = self.get_embedding(token2)\n",
    "        vec3 = self.get_embedding(token3)\n",
    "        vec4 = vec3 + vec2 - vec1\n",
    "        \n",
    "        tokens = set([token1, token2, token3])\n",
    "        closest_tokens = self.get_closest_to_vector(vec4, n=n)\n",
    "        closest_tokens = [token for token in closest_tokens\n",
    "                          if token not in tokens]\n",
    "        \n",
    "        if len(closest_tokens) == 0:\n",
    "            print('Could not find nearest neighbors for the computed vector')\n",
    "            return\n",
    "        \n",
    "#         for token4 in closest_tokens:\n",
    "#             print(f'{token1}:{token2} :: {token3}:{token4}')\n",
    "        \n",
    "        print(f'{token1}:{token2} :: {token3}:{closest_tokens}')"
   ]
  },
  {
   "cell_type": "code",
   "execution_count": 142,
   "metadata": {},
   "outputs": [
    {
     "name": "stdout",
     "output_type": "stream",
     "text": [
      "Building index is started\n",
      "Building index is finished\n"
     ]
    },
    {
     "data": {
      "text/plain": [
       "<__main__.EmbeddingsExplorer at 0x7f60d9d17ac8>"
      ]
     },
     "execution_count": 142,
     "metadata": {},
     "output_type": "execute_result"
    }
   ],
   "source": [
    "emb_explorer = EmbeddingsExplorer(sg_batcher.token_to_idx, W_avg, metric='euclidean')\n",
    "emb_explorer"
   ]
  },
  {
   "cell_type": "code",
   "execution_count": 143,
   "metadata": {},
   "outputs": [
    {
     "name": "stdout",
     "output_type": "stream",
     "text": [
      "man:he :: woman:['she', 'briefly', 'prison', 'herself', 'afterwards', 'subsequently', 'himself', 'him', 'parents', 'publicly', 'again', 'marry', 'apparently', 'secretly', 'marriage', 'succeed', 'wounded', 'reportedly', 'abroad', 'pregnant', 'allegedly', 'personally', 'her', 'consul', 'finally', 'pursue', 'resign', 'appointment', 'badly']\n"
     ]
    }
   ],
   "source": [
    "# man:he :: woman:(she)\n",
    "emb_explorer.compute_analogy('man', 'he', 'woman')"
   ]
  },
  {
   "cell_type": "code",
   "execution_count": 144,
   "metadata": {},
   "outputs": [
    {
     "name": "stdout",
     "output_type": "stream",
     "text": [
      "fly:plane :: sail:['circle', 'arc', 'column', 'rotation', 'outer', 'ring', 'arch', 'intersection', 'probe', 'imaginary', 'curvature', 'burst', 'mound', 'gate', 'crest', 'junction', 'columns', 'stream', 'orbital', 'loop', 'radius', 'crater', 'flux', 'triangle', 'path', 'axis', 'chain', 'segment', 'grid']\n"
     ]
    }
   ],
   "source": [
    "# fly:plane :: sail:(ship)\n",
    "emb_explorer.compute_analogy('fly', 'plane', 'sail')"
   ]
  },
  {
   "cell_type": "code",
   "execution_count": 145,
   "metadata": {},
   "outputs": [
    {
     "name": "stdout",
     "output_type": "stream",
     "text": [
      "fly:aircraft :: sail:['missiles', 'artillery', 'submarine', 'missile', 'reconnaissance', 'infantry', 'cruise', 'tanks', 'submarines', 'tank', 'patrol', 'fighter', 'weapons', 'planes', 'jet', 'guns', 'launch', 'rocket', 'armored', 'helicopters', 'ships', 'fleet', 'operations', 'carriers', 'bomber', 'armoured', 'ballistic', 'carrier', 'missions']\n"
     ]
    }
   ],
   "source": [
    "# fly:aircraft :: sail:(ship)\n",
    "emb_explorer.compute_analogy('fly', 'aircraft', 'sail')"
   ]
  },
  {
   "cell_type": "code",
   "execution_count": 146,
   "metadata": {},
   "outputs": [
    {
     "name": "stdout",
     "output_type": "stream",
     "text": [
      "kitten:cat :: puppy:['dog', 'bird', 'wolf', 'magic', 'soup', 'cow', 'devil', 'pepper', 'tiger', 'horn', 'monster', 'flower', 'dwarf', 'killer', 'beast', 'pet', 'chorus', 'honey', 'mask', 'bean', 'jacket', 'rabbit', 'grass', 'chocolate', 'grey', 'kid', 'dragon', 'eyed', 'hammer']\n"
     ]
    }
   ],
   "source": [
    "# kitten:cat :: puppy:dog\n",
    "emb_explorer.compute_analogy('kitten', 'cat', 'puppy')"
   ]
  },
  {
   "cell_type": "code",
   "execution_count": 147,
   "metadata": {},
   "outputs": [
    {
     "name": "stdout",
     "output_type": "stream",
     "text": [
      "cat:kitten :: dog:['altruistic', 'farmhouse', 'backbench', 'cheerful', 'wafers', 'wannsee', 'classmate', 'conifers', 'carpenters', 'disenfranchised', 'blasted', 'teleprinter', 'flashback', 'complexion', 'jacky', 'divergences', 'indecisive', 'pinto', 'orchids', 'trustee', 'rooting', 'replayed', 'shams', 'lind', 'lawns', 'theatrically', 'gourmet', 'pronouncement', 'believable', 'dashing']\n"
     ]
    }
   ],
   "source": [
    "# cat:kitten :: puppy:dog\n",
    "emb_explorer.compute_analogy('cat', 'kitten', 'dog')"
   ]
  },
  {
   "cell_type": "code",
   "execution_count": 148,
   "metadata": {},
   "outputs": [
    {
     "name": "stdout",
     "output_type": "stream",
     "text": [
      "blue:color :: dog:['breed', 'fitting', 'joke', 'straightforward', 'duplicate', 'confusing', 'perfect', 'trick', 'realistic', 'humorous', 'stupid', 'magic', 'luck', 'clip', 'melody', 'mirrors', 'puzzle', 'voice', 'meter', 'fancy', 'bunch', 'typing', 'smell', 'strange', 'creature', 'curious', 'parody', 'thread', 'pleasing']\n"
     ]
    }
   ],
   "source": [
    "# blue:color :: dog:(breed)\n",
    "emb_explorer.compute_analogy('blue', 'color', 'dog')"
   ]
  },
  {
   "cell_type": "code",
   "execution_count": 149,
   "metadata": {},
   "outputs": [
    {
     "name": "stdout",
     "output_type": "stream",
     "text": [
      "leg:legs :: hand:['fingers', 'side', 'hands', 'shoulder', 'neck', 'face', 'clothes', 'surfaces', 'edges', 'bodies', 'finger', 'horns', 'teeth', 'balls', 'shoulders', 'holes', 'wooden', 'sticks', 'ingredients', 'leather', 'angles', 'stones', 'wear', 'hair', 'bones', 'eyes', 'colored', 'pulling']\n"
     ]
    }
   ],
   "source": [
    "# leg:legs :: hand:(hands)\n",
    "emb_explorer.compute_analogy('leg', 'legs', 'hand')"
   ]
  },
  {
   "cell_type": "code",
   "execution_count": 150,
   "metadata": {},
   "outputs": [
    {
     "name": "stdout",
     "output_type": "stream",
     "text": [
      "toe:finger :: foot:['leg', 'neck', 'legs', 'arm', 'fingers', 'bottom', 'floor', 'shoulder', 'tail', 'bow', 'deck', 'edges', 'stones', 'wheel', 'rear', 'walking', 'face', 'wings', 'roof', 'front', 'plate', 'door', 'nose', 'shoulders', 'horse', 'shaft', 'vertical', 'hanging']\n"
     ]
    }
   ],
   "source": [
    "# toe:finger :: foot:(hand)\n",
    "emb_explorer.compute_analogy('toe', 'finger', 'foot')"
   ]
  },
  {
   "cell_type": "code",
   "execution_count": 151,
   "metadata": {},
   "outputs": [
    {
     "name": "stdout",
     "output_type": "stream",
     "text": [
      "talk:communicate :: read:['translate', 'convert', 'manipulate', 'commands', 'modify', 'integrate', 'reproduce', 'identify', 'detect', 'confuse', 'render', 'rendered', 'overcome', 'execute', 'automatically', 'checking', 'classify', 'dynamically', 'modifications', 'instructions', 'choosing', 'utilize', 'evolve', 'employ', 'correctly', 'interpret', 'proceed', 'carefully']\n"
     ]
    }
   ],
   "source": [
    "# talk:communicate :: read:(interpret)\n",
    "emb_explorer.compute_analogy('talk', 'communicate', 'read')"
   ]
  },
  {
   "cell_type": "code",
   "execution_count": 152,
   "metadata": {},
   "outputs": [
    {
     "name": "stdout",
     "output_type": "stream",
     "text": [
      "man:king :: woman:['viii', 'prince', 'son', 'vii', 'heir', 'crowned', 'henry', 'queen', 'elizabeth', 'iii', 'augustus', 'khan', 'cousin', 'daughter', 'constantine', 'princess', 'grandson', 'bishop', 'clement', 'caesar', 'aragon', 'vi', 'tsar', 'colonel', 'regent', 'alexander', 'successor', 'throne', 'innocent']\n"
     ]
    }
   ],
   "source": [
    "# man:king :: woman:(queen)\n",
    "emb_explorer.compute_analogy('man', 'king', 'woman')"
   ]
  },
  {
   "cell_type": "code",
   "execution_count": 153,
   "metadata": {},
   "outputs": [
    {
     "name": "stdout",
     "output_type": "stream",
     "text": [
      "man:doctor :: woman:['nurse', 'secretly', 'colleague', 'lawyer', 'farmer', 'mrs', 'gertrude', 'child', 'nude', 'twins', 'stern', 'fellow', 'blonde', 'oswald', 'teenager', 'mortal', 'lover', 'reverend', 'morrison', 'servant', 'marrying', 'martha', 'emma', 'girlfriend', 'lucy', 'businessman', 'divorce', 'longtime']\n"
     ]
    }
   ],
   "source": [
    "# man:doctor :: woman:(job title)\n",
    "emb_explorer.compute_analogy('man', 'doctor', 'woman')"
   ]
  },
  {
   "cell_type": "code",
   "execution_count": 154,
   "metadata": {},
   "outputs": [
    {
     "name": "stdout",
     "output_type": "stream",
     "text": [
      "woman:doctor :: man:['messenger', 'wizard', 'wolf', 'magic', 'detective', 'gene', 'trumpet', 'genius', 'reads', 'ape', 'morrison', 'guy', 'explores', 'clich', 'slayer', 'quotes', 'spider', 'skeptic', 'macbeth', 'depicts', 'knuth', 'barker', 'paradox', 'saga', 'mad', 'protagonist', 'recounts', 'novella']\n"
     ]
    }
   ],
   "source": [
    "# man:doctor :: woman:(job title)\n",
    "emb_explorer.compute_analogy('woman', 'doctor', 'man')"
   ]
  },
  {
   "cell_type": "code",
   "execution_count": 155,
   "metadata": {},
   "outputs": [
    {
     "name": "stdout",
     "output_type": "stream",
     "text": [
      "fast:fastest :: small:['large', 'vast', 'huge', 'substantial', 'coastal', 'growing', 'significant', 'poorest', 'outlying', 'proportion', 'comprised', 'houses', 'surrounding', 'farms', 'enclaves', 'overwhelming', 'fertile', 'comprising', 'presence', 'larger', 'neighbouring', 'richest', 'northernmost', 'comprise', 'portion', 'alpine', 'wealthiest', 'sparsely']\n"
     ]
    }
   ],
   "source": [
    "# fast:fastest :: small:smallest\n",
    "emb_explorer.compute_analogy('fast', 'fastest', 'small')"
   ]
  },
  {
   "cell_type": "code",
   "execution_count": 156,
   "metadata": {},
   "outputs": [
    {
     "name": "stdout",
     "output_type": "stream",
     "text": [
      "fast:fastest :: rich:['richest', 'landscape', 'wealthiest', 'poorest', 'predominant', 'sparsely', 'northeastern', 'strongest', 'principal', 'americas', 'northernmost', 'lowlands', 'uzbekistan', 'siberia', 'geological', 'coastal', 'overwhelmingly', 'abundant', 'fiji', 'highland', 'nordic', 'besides', 'mongolia', 'oldest', 'cultivated', 'ethnically', 'moreover', 'industrialized', 'punjab']\n"
     ]
    }
   ],
   "source": [
    "# fast:fastest :: rich:richest\n",
    "emb_explorer.compute_analogy('fast', 'fastest', 'rich')"
   ]
  },
  {
   "cell_type": "code",
   "execution_count": 157,
   "metadata": {},
   "outputs": [
    {
     "name": "stdout",
     "output_type": "stream",
     "text": [
      "fast:faster :: strong:['stronger', 'wider', 'slower', 'weaker', 'larger', 'substantial', 'greater', 'considerably', 'broader', 'substantially', 'considerable', 'smaller', 'lighter', 'fewer', 'simpler', 'vastly', 'profound', 'powerful', 'subtle', 'heavier', 'tremendous', 'broad', 'significant', 'harder', 'gradual', 'sophisticated', 'noticeable', 'direct']\n"
     ]
    }
   ],
   "source": [
    "# fast:faster :: small:smaller\n",
    "emb_explorer.compute_analogy('fast', 'faster', 'strong')"
   ]
  },
  {
   "cell_type": "code",
   "execution_count": 158,
   "metadata": {},
   "outputs": [
    {
     "name": "stdout",
     "output_type": "stream",
     "text": [
      "right:left :: bottom:['edge', 'crossing', 'rolling', 'plate', 'foot', 'sits', 'floor', 'deck', 'underneath', 'ends', 'top', 'junction', 'edges', 'finger', 'pitch', 'neck', 'ridge', 'wheel', 'gate', 'facing', 'shaft', 'walking', 'drops', 'threw', 'leg', 'bow', 'reaches', 'tip', 'bend']\n"
     ]
    }
   ],
   "source": [
    "# right:left :: bottom:top\n",
    "emb_explorer.compute_analogy('right', 'left', 'bottom')"
   ]
  },
  {
   "cell_type": "code",
   "execution_count": null,
   "metadata": {},
   "outputs": [],
   "source": []
  },
  {
   "cell_type": "code",
   "execution_count": 160,
   "metadata": {},
   "outputs": [
    {
     "name": "stdout",
     "output_type": "stream",
     "text": [
      "hand: ['side', 'fingers', 'shoulder', 'face', 'finger', 'leg', 'neck', 'hands', 'arm']\n",
      "ship: ['patrol', 'fleet', 'aboard', 'boat', 'hms', 'spacecraft', 'crew', 'vehicle', 'cruise']\n",
      "sail: ['heading', 'alert', 'runway', 'throws', 'barracks', 'travelling', 'exit', 'pulls', 'kicked']\n",
      "queen: ['elizabeth', 'princess', 'prince', 'anne', 'catherine', 'aragon', 'regent', 'viii', 'frederick']\n",
      "foot: ['deck', 'shaft', 'bow', 'leg', 'tail', 'fingers', 'finger', 'arm', 'yard']\n",
      "arm: ['leg', 'bow', 'finger', 'shoulder', 'wheel', 'thumb', 'shoulders', 'wings', 'fingers']\n",
      "finger: ['bow', 'snake', 'thumb', 'rope', 'underneath', 'rolled', 'knee', 'chest', 'neck']\n",
      "blue: ['yellow', 'purple', 'green', 'red', 'white', 'pink', 'bright', 'orange', 'colored']\n",
      "read: ['write', 'edit', 'quote', 'learn', 'imagine', 'answers', 'suspect', 'surely', 'guess']\n",
      "woman: ['child', 'herself', 'man', 'sick', 'angry', 'dog', 'wise', 'pregnant', 'widow']\n",
      "stronger: ['weaker', 'heavier', 'lighter', 'safer', 'slower', 'darker', 'softer', 'quicker', 'brighter']\n",
      "king: ['prince', 'viii', 'iii', 'vii', 'iv', 'vi', 'grandson', 'henry', 'crowned']\n",
      "cat: ['dog', 'wolf', 'bird', 'horn', 'soup', 'pet', 'cow', 'flower', 'pepper']\n",
      "aircraft: ['fighter', 'missiles', 'submarine', 'jet', 'carrier', 'missile', 'rocket', 'tank', 'cruise']\n",
      "kitten: ['discordia', 'greenfacts', 'rab', 'chronometers', 'asymptotically', 'courtesan', 'kri', 'erbium', 'chronos']\n",
      "fast: ['quick', 'cheap', 'medium', 'loading', 'clean', 'gear', 'slow', 'backwards', 'vertically']\n",
      "leg: ['arm', 'bow', 'finger', 'shoulder', 'nose', 'hitting', 'neck', 'knee', 'walking']\n",
      "communicate: ['merge', 'interact', 'confuse', 'manipulate', 'combine', 'replace', 'react', 'distribute', 'reproduce']\n",
      "richest: ['wealthiest', 'poorest', 'northernmost', 'kiribati', 'punjab', 'kerala', 'busiest', 'heartland', 'prefecture']\n",
      "color: ['colour', 'colors', 'shade', 'bright', 'pale', 'magic', 'colored', 'colours', 'displays']\n",
      "fastest: ['busiest', 'competitiveness', 'exporting', 'rebound', 'dominates', 'drastically', 'downturn', 'sharply', 'spurred']\n",
      "faster: ['slower', 'cheaper', 'shorter', 'harder', 'bigger', 'lighter', 'heavier', 'safer', 'flexible']\n",
      "smallest: ['radius', 'cyclic', 'simplest', 'limits', 'closure', 'symmetry', 'cartesian', 'coefficients', 'coefficient']\n",
      "man: ['girl', 'woman', 'dog', 'creature', 'mysterious', 'wise', 'evil', 'bride', 'loves']\n",
      "dog: ['cat', 'bird', 'cow', 'eyed', 'jacket', 'monster', 'pepper', 'rabbit', 'horse']\n",
      "talk: ['tonight', 'talking', 'nbc', 'abc', 'syndicated', 'viewers', 'cbs', 'watch', 'cnn']\n",
      "interpret: ['classify', 'relate', 'characterize', 'illustrate', 'criticize', 'analyze', 'exclude', 'conform', 'examine']\n",
      "breed: ['calf', 'cake', 'goat', 'fitting', 'meal', 'polyhedron', 'spicy', 'sticky', 'glow']\n",
      "she: ['he', 'herself', 'pregnant', 'marry', 'woman', 'secretly', 'suddenly', 'reportedly', 'mother']\n",
      "toe: ['tire', 'pathway', 'cigarette', 'lever', 'smoothly', 'projectiles', 'swinging', 'microphone', 'projectile']\n",
      "puppy: ['unaccustomed', 'quicksort', 'typographic', 'salvadoran', 'liberalize', 'cath', 'pilsner', 'plasmas', 'flavorings']\n",
      "legs: ['teeth', 'neck', 'fingers', 'wings', 'shoulders', 'shoulder', 'clothes', 'nose', 'leg']\n",
      "fly: ['lift', 'ride', 'shoot', 'catch', 'burn', 'pull', 'sink', 'jump', 'throw']\n",
      "circle: ['triangle', 'belt', 'cone', 'column', 'marble', 'strand', 'spiral', 'crest', 'arch']\n",
      "hands: ['face', 'legs', 'eyes', 'clothes', 'teeth', 'leg', 'ashes', 'wings', 'sight']\n",
      "ships: ['carriers', 'fleet', 'boats', 'infantry', 'ship', 'planes', 'patrol', 'cavalry', 'crew']\n",
      "nurse: ['nude', 'spear', 'pants', 'nail', 'shoots', 'smile', 'tutor', 'captive', 'crying']\n",
      "small: ['large', 'tiny', 'loose', 'curved', 'thin', 'smooth', 'simple', 'dense', 'shaped']\n",
      "doctor: ['morrison', 'guy', 'detective', 'researcher', 'farmer', 'wolf', 'servant', 'playboy', 'costello']\n",
      "plane: ['rotation', 'deck', 'loop', 'circle', 'ring', 'column', 'tube', 'probe', 'beam']\n",
      "rich: ['diamonds', 'tin', 'butter', 'soft', 'chicken', 'cheese', 'diamond', 'sweet', 'wine']\n",
      "he: ['she', 'briefly', 'himself', 'subsequently', 'him', 'publicly', 'apparently', 'again', 'finally']\n"
     ]
    }
   ],
   "source": [
    "for word in words:\n",
    "    emb_explorer.compute_closest_tokens(word, n=10)"
   ]
  },
  {
   "cell_type": "code",
   "execution_count": null,
   "metadata": {},
   "outputs": [],
   "source": []
  },
  {
   "cell_type": "code",
   "execution_count": null,
   "metadata": {},
   "outputs": [],
   "source": []
  },
  {
   "cell_type": "code",
   "execution_count": null,
   "metadata": {},
   "outputs": [],
   "source": []
  },
  {
   "cell_type": "code",
   "execution_count": null,
   "metadata": {},
   "outputs": [],
   "source": []
  },
  {
   "cell_type": "code",
   "execution_count": null,
   "metadata": {},
   "outputs": [],
   "source": []
  },
  {
   "cell_type": "code",
   "execution_count": 58,
   "metadata": {},
   "outputs": [],
   "source": [
    "sg_batcher = SkipGramBatcher.from_file(args.file_path)\n",
    "sg_batcher.prepare_data(cutoff=100000)"
   ]
  },
  {
   "cell_type": "code",
   "execution_count": 59,
   "metadata": {},
   "outputs": [
    {
     "data": {
      "text/plain": [
       "(tensor([0, 0, 0, 0, 0]), tensor([1, 2, 3, 2, 3]))"
      ]
     },
     "execution_count": 59,
     "metadata": {},
     "output_type": "execute_result"
    }
   ],
   "source": [
    "g = sg_batcher.generate_batches(window_size=5, \n",
    "                                batch_size=5)\n",
    "x_batch, labels_batch = next(g)\n",
    "\n",
    "x_batch, labels_batch"
   ]
  },
  {
   "cell_type": "code",
   "execution_count": 60,
   "metadata": {},
   "outputs": [
    {
     "data": {
      "text/plain": [
       "(22, 50)"
      ]
     },
     "execution_count": 60,
     "metadata": {},
     "output_type": "execute_result"
    }
   ],
   "source": [
    "vocabulary_size = len(sg_batcher.vocab)\n",
    "embedding_size = 50\n",
    "\n",
    "vocabulary_size, embedding_size"
   ]
  },
  {
   "cell_type": "code",
   "execution_count": 61,
   "metadata": {},
   "outputs": [],
   "source": [
    "clf = NaiveWord2VecClassifier(vocabulary_size=vocabulary_size,\n",
    "                              embedding_size=embedding_size)"
   ]
  },
  {
   "cell_type": "code",
   "execution_count": 102,
   "metadata": {},
   "outputs": [
    {
     "data": {
      "text/plain": [
       "tensor([[ 0.1679, -0.7678, -0.4254,  0.3084,  0.4510, -0.2278, -0.0301,  0.1163,\n",
       "          0.0782,  0.1542, -0.5275, -0.5969, -0.2852,  0.9326, -0.0609,  1.0134,\n",
       "          0.7858, -0.3970, -0.0972,  0.2352, -0.1621, -0.3524],\n",
       "        [ 0.1679, -0.7678, -0.4254,  0.3084,  0.4510, -0.2278, -0.0301,  0.1163,\n",
       "          0.0782,  0.1542, -0.5275, -0.5969, -0.2852,  0.9326, -0.0609,  1.0134,\n",
       "          0.7858, -0.3970, -0.0972,  0.2352, -0.1621, -0.3524],\n",
       "        [ 0.1679, -0.7678, -0.4254,  0.3084,  0.4510, -0.2278, -0.0301,  0.1163,\n",
       "          0.0782,  0.1542, -0.5275, -0.5969, -0.2852,  0.9326, -0.0609,  1.0134,\n",
       "          0.7858, -0.3970, -0.0972,  0.2352, -0.1621, -0.3524],\n",
       "        [ 0.1679, -0.7678, -0.4254,  0.3084,  0.4510, -0.2278, -0.0301,  0.1163,\n",
       "          0.0782,  0.1542, -0.5275, -0.5969, -0.2852,  0.9326, -0.0609,  1.0134,\n",
       "          0.7858, -0.3970, -0.0972,  0.2352, -0.1621, -0.3524],\n",
       "        [ 0.1679, -0.7678, -0.4254,  0.3084,  0.4510, -0.2278, -0.0301,  0.1163,\n",
       "          0.0782,  0.1542, -0.5275, -0.5969, -0.2852,  0.9326, -0.0609,  1.0134,\n",
       "          0.7858, -0.3970, -0.0972,  0.2352, -0.1621, -0.3524]],\n",
       "       grad_fn=<AddmmBackward>)"
      ]
     },
     "execution_count": 102,
     "metadata": {},
     "output_type": "execute_result"
    }
   ],
   "source": [
    "y_pred = clf(x_batch)\n",
    "# y_pred = F.softmax(y_pred, dim=1)\n",
    "y_pred"
   ]
  },
  {
   "cell_type": "code",
   "execution_count": 79,
   "metadata": {},
   "outputs": [
    {
     "data": {
      "text/plain": [
       "tensor([1, 2, 3, 2, 3])"
      ]
     },
     "execution_count": 79,
     "metadata": {},
     "output_type": "execute_result"
    }
   ],
   "source": [
    "labels_batch"
   ]
  },
  {
   "cell_type": "code",
   "execution_count": 103,
   "metadata": {},
   "outputs": [
    {
     "data": {
      "text/plain": [
       "tensor([-0.7678, -0.4254,  0.3084, -0.4254,  0.3084], grad_fn=<IndexBackward>)"
      ]
     },
     "execution_count": 103,
     "metadata": {},
     "output_type": "execute_result"
    }
   ],
   "source": [
    "y_pred[range(5), labels_batch]"
   ]
  },
  {
   "cell_type": "code",
   "execution_count": 80,
   "metadata": {},
   "outputs": [
    {
     "data": {
      "text/plain": [
       "tensor([3.9903, 3.6480, 2.9141, 3.6480, 2.9141], grad_fn=<NegBackward>)"
      ]
     },
     "execution_count": 80,
     "metadata": {},
     "output_type": "execute_result"
    }
   ],
   "source": [
    "-torch.log(y_pred[range(5), labels_batch])"
   ]
  },
  {
   "cell_type": "code",
   "execution_count": 95,
   "metadata": {},
   "outputs": [],
   "source": [
    "y_true = torch.zeros((5, vocabulary_size), dtype=torch.long)\n",
    "y_true[range(5), labels_batch] = 1"
   ]
  },
  {
   "cell_type": "code",
   "execution_count": 92,
   "metadata": {},
   "outputs": [
    {
     "data": {
      "text/plain": [
       "(torch.Size([5, 22]), torch.Size([5, 22]))"
      ]
     },
     "execution_count": 92,
     "metadata": {},
     "output_type": "execute_result"
    }
   ],
   "source": [
    "y_true.shape, y_pred.shape"
   ]
  },
  {
   "cell_type": "code",
   "execution_count": 104,
   "metadata": {},
   "outputs": [
    {
     "name": "stderr",
     "output_type": "stream",
     "text": [
      "/opt/anaconda3/lib/python3.6/site-packages/torch/nn/_reduction.py:49: UserWarning: size_average and reduce args will be deprecated, please use reduction='none' instead.\n",
      "  warnings.warn(warning.format(ret))\n"
     ]
    },
    {
     "data": {
      "text/plain": [
       "tensor([3.9903, 3.6480, 2.9141, 3.6480, 2.9141], grad_fn=<NllLossBackward>)"
      ]
     },
     "execution_count": 104,
     "metadata": {},
     "output_type": "execute_result"
    }
   ],
   "source": [
    "loss = nn.CrossEntropyLoss(reduce=False)\n",
    "loss(y_pred, labels_batch)"
   ]
  },
  {
   "cell_type": "code",
   "execution_count": null,
   "metadata": {},
   "outputs": [],
   "source": []
  },
  {
   "cell_type": "code",
   "execution_count": null,
   "metadata": {},
   "outputs": [],
   "source": []
  },
  {
   "cell_type": "code",
   "execution_count": null,
   "metadata": {},
   "outputs": [],
   "source": []
  },
  {
   "cell_type": "code",
   "execution_count": 64,
   "metadata": {},
   "outputs": [
    {
     "data": {
      "text/plain": [
       "tensor([1., 1., 1., 1., 1.])"
      ]
     },
     "execution_count": 64,
     "metadata": {},
     "output_type": "execute_result"
    }
   ],
   "source": [
    "arr = torch.zeros((5, vocabulary_size))\n",
    "arr[range(5), labels_batch] = 1\n",
    "arr.sum(dim=1)"
   ]
  },
  {
   "cell_type": "code",
   "execution_count": 65,
   "metadata": {},
   "outputs": [
    {
     "data": {
      "text/plain": [
       "tensor([1, 2, 3, 2, 3])"
      ]
     },
     "execution_count": 65,
     "metadata": {},
     "output_type": "execute_result"
    }
   ],
   "source": [
    "labels_batch"
   ]
  },
  {
   "cell_type": "code",
   "execution_count": 70,
   "metadata": {},
   "outputs": [
    {
     "name": "stderr",
     "output_type": "stream",
     "text": [
      "/opt/anaconda3/lib/python3.6/site-packages/ipykernel_launcher.py:1: RuntimeWarning: invalid value encountered in log\n",
      "  \"\"\"Entry point for launching an IPython kernel.\n"
     ]
    }
   ],
   "source": [
    "loss = -np.log()"
   ]
  },
  {
   "cell_type": "code",
   "execution_count": null,
   "metadata": {},
   "outputs": [],
   "source": []
  }
 ],
 "metadata": {
  "kernelspec": {
   "display_name": "Python 3",
   "language": "python",
   "name": "python3"
  },
  "language_info": {
   "codemirror_mode": {
    "name": "ipython",
    "version": 3
   },
   "file_extension": ".py",
   "mimetype": "text/x-python",
   "name": "python",
   "nbconvert_exporter": "python",
   "pygments_lexer": "ipython3",
   "version": "3.6.8"
  }
 },
 "nbformat": 4,
 "nbformat_minor": 2
}
