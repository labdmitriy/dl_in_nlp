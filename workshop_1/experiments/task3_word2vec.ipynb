{
 "cells": [
  {
   "cell_type": "markdown",
   "metadata": {},
   "source": [
    "# Naive word2vec\n",
    "\n",
    "This task can be formulated very simply. Follow this [paper](https://arxiv.org/pdf/1411.2738.pdf) and implement word2vec like a two-layer neural network with matrices $W$ and $W'$. One matrix projects words to low-dimensional 'hidden' space and the other - back to high-dimensional vocabulary space.\n",
    "\n",
    "![word2vec](https://i.stack.imgur.com/6eVXZ.jpg)\n",
    "\n",
    "You can use TensorFlow/PyTorch (numpy too, if you love to calculate gradients on your own and want some extra points, but don't forget to numerically check your gradients) and code from your previous task. Again: you don't have to implement negative sampling (you may reduce your vocabulary size for faster computation).\n",
    "\n",
    "**Results of this task**:\n",
    " * trained word vectors (mention somewhere, how long it took to train)\n",
    " * plotted loss (so we can see that it has converged)\n",
    " * function to map token to corresponding word vector\n",
    " * beautiful visualizations (PCE, T-SNE), you can use TensorBoard and play with your vectors in 3D (don't forget to add screenshots to the task)\n",
    " * qualitative evaluations of word vectors: nearest neighbors, word analogies\n",
    "\n",
    "**Extra:**\n",
    " * quantitative evaluation:\n",
    "   * for intrinsic evaluation you can find datasets [here](https://aclweb.org/aclwiki/Analogy_(State_of_the_art))\n",
    "   * for extrincis evaluation you can use [these](https://medium.com/@dataturks/rare-text-classification-open-datasets-9d340c8c508e)\n",
    "\n",
    "Also, you can find any other datasets for quantitative evaluation. If you chose to do this, please use the same datasets across tasks 3, 4, 5 and 6.\n",
    "\n",
    "Again. It is **highly recommended** to read this [paper](https://arxiv.org/pdf/1411.2738.pdf)\n",
    "\n",
    "Example of visualization in tensorboard:\n",
    "https://projector.tensorflow.org\n",
    "\n",
    "Example of 2D visualisation:\n",
    "\n",
    "![2dword2vec](https://www.tensorflow.org/images/tsne.png)\n",
    "\n",
    "If you struggle with something, ask your neighbor. If it is not obvious for you, probably someone else is looking for the answer too. And in contrast, if you see that you can help someone - do it! Good luck!"
   ]
  },
  {
   "cell_type": "code",
   "execution_count": 1,
   "metadata": {},
   "outputs": [],
   "source": [
    "from pathlib import Path\n",
    "from collections import Counter\n",
    "from itertools import islice, product, chain\n",
    "from argparse import Namespace\n",
    "\n",
    "from tqdm import tqdm_notebook\n",
    "\n",
    "import numpy as np\n",
    "import pandas as pd\n",
    "\n",
    "%matplotlib inline\n",
    "import matplotlib.pyplot as plt\n",
    "import seaborn as sns\n",
    "\n",
    "import torch\n",
    "import torch.nn as nn\n",
    "import torch.nn.functional as F\n",
    "import torch.optim as optim\n",
    "\n",
    "from tensorboardX import SummaryWriter\n",
    "from annoy import AnnoyIndex"
   ]
  },
  {
   "cell_type": "code",
   "execution_count": 2,
   "metadata": {},
   "outputs": [],
   "source": [
    "DATA_PATH = Path('../data')\n",
    "MODELS_PATH = Path('../models')"
   ]
  },
  {
   "cell_type": "code",
   "execution_count": 3,
   "metadata": {},
   "outputs": [],
   "source": [
    "class SkipGramBatcher():\n",
    "    def __init__(self, text):\n",
    "        self.text = text\n",
    "    \n",
    "    @classmethod\n",
    "    def from_file(cls, file_path):\n",
    "        with open(file_path) as f:\n",
    "            text = f.read()\n",
    "        \n",
    "        return cls(text)\n",
    "    \n",
    "    def _tokenize(self):\n",
    "        self.tokens = self.text.split()\n",
    "    \n",
    "    def _count_tokens(self):\n",
    "        self.token_counts = Counter(self.tokens)\n",
    "    \n",
    "    def _build_vocab(self, cutoff):\n",
    "        filtered_token_counts = dict(filter(lambda x: x[1] >= cutoff, self.token_counts.items()))\n",
    "        self.token_to_idx = {token:idx for (idx, (token, _)) \n",
    "                             in enumerate(filtered_token_counts.items())}\n",
    "        self.idx_to_token = {idx:token for (token, idx) in self.token_to_idx.items()}\n",
    "        self.vocab = set(self.token_to_idx)\n",
    "\n",
    "    def _filter_tokens(self):\n",
    "        self.tokens = [token for token in self.tokens if token in self.vocab]\n",
    "    \n",
    "    def _vectorize_tokens(self):\n",
    "        self.vectorized_tokens = [self.token_to_idx[token] for token in self.tokens]\n",
    "    \n",
    "    def _create_sliding_window(self, window_size, stride):\n",
    "        tokens_size = len(self.tokens)\n",
    "\n",
    "        for i in range(0, tokens_size, stride):\n",
    "#             center_word = islice(self.vectorized_tokens, i, i + 1)\n",
    "#             left_context = islice(self.vectorized_tokens, i + 1, \n",
    "#                                   min(tokens_size, i + window_size + 1))\n",
    "#             right_context = islice(self.vectorized_tokens, \n",
    "#                                    max(0, i - window_size), i)\n",
    "#             yield from product(center_word, chain(left_context, right_context))\n",
    "\n",
    "#             window_size = np.random.randint(1, max_window_size+1)\n",
    "            center_word = self.vectorized_tokens[i:i+1]\n",
    "            left_context = self.vectorized_tokens[max(0, i - window_size): i]\n",
    "            right_context = self.vectorized_tokens[i + 1: min(tokens_size, i + window_size + 1)]\n",
    "            yield from product(center_word, chain(left_context, right_context))\n",
    "        \n",
    "    def devectorize_tokens(self, indices):\n",
    "        return [self.idx_to_token[idx] for idx in indices]\n",
    "        \n",
    "    def prepare_data(self, cutoff=1):\n",
    "        self._tokenize()\n",
    "        self._count_tokens()\n",
    "        self._build_vocab(cutoff)\n",
    "        self._filter_tokens()\n",
    "        self._vectorize_tokens()\n",
    "        \n",
    "    def generate_batches(self, window_size=1, stride=1, batch_size=1, drop_last=True):\n",
    "        window = self._create_sliding_window(window_size, stride)\n",
    "        batch = list(zip(*islice(window, batch_size)))\n",
    "        x_batch, labels_batch = torch.tensor(batch[0]), torch.tensor(batch[1])\n",
    "\n",
    "        if drop_last:\n",
    "            while batch and len(batch[0]) == batch_size:\n",
    "                yield x_batch, labels_batch\n",
    "                batch = list(zip(*islice(window, batch_size)))\n",
    "                x_batch, labels_batch = torch.tensor(batch[0]), torch.tensor(batch[1])\n",
    "        else:\n",
    "            while batch:\n",
    "                yield x_batch, labels_batch\n",
    "                batch = list(zip(*islice(window, batch_size)))\n",
    "                x_batch, labels_batch = torch.tensor(batch[0]), torch.tensor(batch[1])"
   ]
  },
  {
   "cell_type": "code",
   "execution_count": 4,
   "metadata": {},
   "outputs": [],
   "source": [
    "class NaiveWord2VecClassifier(nn.Module):\n",
    "    def __init__(self, vocabulary_size, embedding_size):\n",
    "        super().__init__()\n",
    "        \n",
    "#         self.embedding = nn.utils.weight_norm(nn.Embedding(num_embeddings=vocabulary_size,\n",
    "#                                       embedding_dim=embedding_size), dim=1)\n",
    "# #                                       max_norm=1.0)\n",
    "# #                                       scale_grad_by_freq=True)\n",
    "                                      \n",
    "#         self.fc1 = nn.utils.weight_norm(nn.Linear(in_features=embedding_size,\n",
    "#                              out_features=vocabulary_size,\n",
    "#                              bias=False), dim=1)\n",
    "\n",
    "        self.embedding = nn.utils.weight_norm(nn.Embedding(num_embeddings=vocabulary_size,\n",
    "                                              embedding_dim=embedding_size), dim=1)\n",
    "\n",
    "        self.fc1 = nn.utils.weight_norm(nn.Linear(in_features=embedding_size,\n",
    "                             out_features=vocabulary_size,\n",
    "                             bias=False), dim=1)\n",
    "        \n",
    "    def forward(self, x_in):\n",
    "#         self.embedding.weight.data = F.normalize(self.embedding.weight.data, p=2, dim=1)\n",
    "#         self.fc1.weight.data = F.normalize(self.fc1.weight.data, p=2, dim=1)\n",
    "        x_embedded = self.embedding(x_in)\n",
    "        y_out = self.fc1(x_embedded)\n",
    "        \n",
    "        return y_out"
   ]
  },
  {
   "cell_type": "code",
   "execution_count": 5,
   "metadata": {},
   "outputs": [],
   "source": [
    "def set_seeds(seed):\n",
    "    np.random.seed(seed)\n",
    "    torch.manual_seed(seed)\n",
    "    torch.cuda.manual_seed_all(seed)\n",
    "    torch.backends.cudnn.deterministic = True"
   ]
  },
  {
   "cell_type": "code",
   "execution_count": 6,
   "metadata": {},
   "outputs": [],
   "source": [
    "args = Namespace(\n",
    "    file_path = DATA_PATH/'text8',\n",
    "    model_state_path = MODELS_PATH/'naive_word2vec_embeddings.pth',\n",
    "    weights_path = MODELS_PATH/'weights.npz',\n",
    "    \n",
    "    embedding_size = 100,\n",
    "    \n",
    "    seed = 42,\n",
    "    cutoff = 10, # 10\n",
    "    window_size = 3, # 1\n",
    "    stride = 1, # 1\n",
    "    batch_size = 1024, #  1024\n",
    "    learning_rate = 0.03, # 0.03\n",
    "    iterations = 1000,\n",
    "    save_iterations = 100,\n",
    "    early_stopping_criteria = 1e8,\n",
    "    factor=0.5, # 0.7\n",
    "    patience=5000, # 1000\n",
    "    \n",
    "    cuda=True\n",
    ")"
   ]
  },
  {
   "cell_type": "code",
   "execution_count": 7,
   "metadata": {},
   "outputs": [],
   "source": [
    "def make_train_state(args):\n",
    "    return {'stop_early': False,\n",
    "            'early_stopping_step': 0,\n",
    "            'early_stopping_best_val': 1e8,\n",
    "            'learning_rate': [], # args.learning_rate\n",
    "            'batch_idx': 0,\n",
    "            'loss': [],\n",
    "            'model_file_name': args.model_state_path}\n",
    "\n",
    "def update_train_state(args, model, train_state):\n",
    "    if train_state['batch_idx'] == 0:\n",
    "        train_state['stop_early'] = False\n",
    "        torch.save(model.state_dict(), train_state['model_file_name'])\n",
    "    else:\n",
    "        loss = train_state['loss'][-1]\n",
    "\n",
    "        if loss < train_state['early_stopping_best_val']:\n",
    "            train_state['early_stopping_best_val'] = loss\n",
    "            train_state['early_stopping_step'] = 0\n",
    "            \n",
    "            if train_state['batch_idx'] % args.save_iterations == 0:\n",
    "                torch.save(model.state_dict(), train_state['model_file_name'])\n",
    "        else:\n",
    "            train_state['early_stopping_step'] += 1 \n",
    "    \n",
    "        train_state['stop_early'] = train_state['early_stopping_step'] >= args.early_stopping_criteria\n",
    "    return train_state"
   ]
  },
  {
   "cell_type": "code",
   "execution_count": 8,
   "metadata": {},
   "outputs": [
    {
     "name": "stdout",
     "output_type": "stream",
     "text": [
      "Using CUDA: True\n"
     ]
    }
   ],
   "source": [
    "if not torch.cuda.is_available():\n",
    "    args.cuda=False\n",
    "    \n",
    "print(f'Using CUDA: {args.cuda}')\n",
    "args.device = torch.device('cuda' if args.cuda else 'cpu')"
   ]
  },
  {
   "cell_type": "code",
   "execution_count": 9,
   "metadata": {},
   "outputs": [
    {
     "data": {
      "text/plain": [
       "47134"
      ]
     },
     "execution_count": 9,
     "metadata": {},
     "output_type": "execute_result"
    }
   ],
   "source": [
    "sg_batcher = SkipGramBatcher.from_file(args.file_path)\n",
    "sg_batcher.prepare_data(cutoff=args.cutoff)\n",
    "\n",
    "vocabulary_size = len(sg_batcher.vocab)\n",
    "vocabulary_size"
   ]
  },
  {
   "cell_type": "code",
   "execution_count": 10,
   "metadata": {},
   "outputs": [
    {
     "data": {
      "application/vnd.jupyter.widget-view+json": {
       "model_id": "c43ce9219c7e4b9d86ecdeb69c42c52a",
       "version_major": 2,
       "version_minor": 0
      },
      "text/plain": [
       "HBox(children=(IntProgress(value=0, description='Training', max=97037, style=ProgressStyle(description_width='…"
      ]
     },
     "metadata": {},
     "output_type": "display_data"
    }
   ],
   "source": [
    "set_seeds(args.seed)\n",
    "\n",
    "classifier = NaiveWord2VecClassifier(vocabulary_size=vocabulary_size,\n",
    "                                     embedding_size=args.embedding_size)\n",
    "classifier = classifier.to(args.device)\n",
    "\n",
    "loss_func = nn.CrossEntropyLoss(reduction='mean')\n",
    "optimizer = optim.Adam(params=classifier.parameters(),\n",
    "                      lr=args.learning_rate)\n",
    "\n",
    "epoch_size = 2 * (args.window_size * len(sg_batcher.tokens) \n",
    "                  - np.math.factorial(args.window_size)) // (args.batch_size * args.stride)\n",
    "\n",
    "scheduler = optim.lr_scheduler.ReduceLROnPlateau(optimizer=optimizer,\n",
    "                                                 mode='min',\n",
    "                                                 factor=args.factor,\n",
    "                                                 patience=args.patience)\n",
    "\n",
    "train_bar = tqdm_notebook(desc='Training',\n",
    "                          position=1,\n",
    "#                           total=args.iterations,\n",
    "                          total=epoch_size)\n",
    "\n",
    "batch_generator = sg_batcher.generate_batches(window_size=args.window_size, \n",
    "                                              batch_size=args.batch_size)\n",
    "\n",
    "train_state = make_train_state(args)\n",
    "\n",
    "writer = SummaryWriter(log_dir='logs/task_3', comment='embedding_training')\n",
    "\n",
    "running_loss = 0.\n",
    "classifier.train()\n",
    "\n",
    "try:\n",
    "    for batch_idx, (x_batch, labels_batch) in enumerate(batch_generator, 1):\n",
    "        x_batch = x_batch.to(args.device)\n",
    "        labels_batch = labels_batch.to(args.device)\n",
    "\n",
    "        optimizer.zero_grad()\n",
    "\n",
    "        y_pred = classifier(x_in=x_batch)\n",
    "\n",
    "        loss = loss_func(y_pred, labels_batch)\n",
    "        loss_value = loss.item()\n",
    "        running_loss += (loss_value - running_loss) / (batch_idx)\n",
    "        loss.backward()\n",
    "        \n",
    "        learning_rate = optimizer.param_groups[0]['lr']\n",
    "        \n",
    "        train_state['batch_idx'] = batch_idx\n",
    "        train_state['loss'].append(running_loss)\n",
    "        train_state['learning_rate'].append(learning_rate)\n",
    "#         writer.add_scalar('loss', scalar_value=loss, global_step=batch_idx)\n",
    "\n",
    "\n",
    "        train_state = update_train_state(args=args,\n",
    "                                         model=classifier,\n",
    "                                         train_state=train_state)\n",
    "\n",
    "        train_params = dict(loss=running_loss,\n",
    "                            lr=learning_rate,\n",
    "                            early_step=train_state['early_stopping_step'],\n",
    "                            early_best=train_state['early_stopping_best_val'])\n",
    "        train_bar.set_postfix(train_params)\n",
    "        train_bar.update()\n",
    "        \n",
    "        optimizer.step()\n",
    "        \n",
    "        scheduler.step(train_state['loss'][-1])\n",
    "\n",
    "        if train_state['stop_early'] or (batch_idx == epoch_size):\n",
    "            torch.save(classifier.state_dict(), str(train_state['model_file_name']) + '_last')\n",
    "            break\n",
    "except KeyboardInterrupt:\n",
    "    print('Exit training')"
   ]
  },
  {
   "cell_type": "code",
   "execution_count": 11,
   "metadata": {},
   "outputs": [
    {
     "data": {
      "image/png": "[encoded data removed]",
      "text/plain": [
       "<Figure size 432x288 with 1 Axes>"
      ]
     },
     "metadata": {
      "needs_background": "light"
     },
     "output_type": "display_data"
    }
   ],
   "source": [
    "train_state_df = pd.DataFrame(train_state)\n",
    "train_state_df['loss'].plot()\n",
    "plt.show()"
   ]
  },
  {
   "cell_type": "code",
   "execution_count": 12,
   "metadata": {},
   "outputs": [
    {
     "data": {
      "image/png": "[encoded data removed]",
      "text/plain": [
       "<Figure size 432x288 with 1 Axes>"
      ]
     },
     "metadata": {
      "needs_background": "light"
     },
     "output_type": "display_data"
    }
   ],
   "source": [
    "train_state_df['learning_rate'].plot()\n",
    "plt.show()"
   ]
  },
  {
   "cell_type": "code",
   "execution_count": 13,
   "metadata": {},
   "outputs": [],
   "source": [
    "metadata = list(sg_batcher.token_to_idx)\n",
    "W = classifier.embedding.weight.detach().cpu().numpy()\n",
    "W_prime = classifier.fc1.weight.detach().cpu().numpy()\n",
    "\n",
    "W_avg = (W + W_prime) / 2\n",
    "np.savez(args.weights_path, W=W, W_prime=W_prime, W_avg=W_avg)"
   ]
  },
  {
   "cell_type": "code",
   "execution_count": 14,
   "metadata": {},
   "outputs": [
    {
     "data": {
      "text/plain": [
       "(torch.Size([1, 100]), torch.Size([47134, 100]))"
      ]
     },
     "execution_count": 14,
     "metadata": {},
     "output_type": "execute_result"
    }
   ],
   "source": [
    "classifier.embedding.weight_g.shape, classifier.embedding.weight_v.shape"
   ]
  },
  {
   "cell_type": "code",
   "execution_count": 15,
   "metadata": {},
   "outputs": [
    {
     "data": {
      "text/plain": [
       "(torch.Size([1, 100]), torch.Size([47134, 100]))"
      ]
     },
     "execution_count": 15,
     "metadata": {},
     "output_type": "execute_result"
    }
   ],
   "source": [
    "classifier.fc1.weight_g.shape, classifier.fc1.weight_v.shape"
   ]
  },
  {
   "cell_type": "code",
   "execution_count": 64,
   "metadata": {},
   "outputs": [],
   "source": [
    "# writer.add_embedding(W, metadata=metadata, tag='W')\n",
    "# writer.add_embedding(W_prime, metadata=metadata, tag='W_prime')\n",
    "# writer.add_embedding(W_avg, metadata=metadata, tag='W_avg')"
   ]
  },
  {
   "cell_type": "code",
   "execution_count": 37,
   "metadata": {},
   "outputs": [],
   "source": [
    "weights = np.load(args.weights_path)\n",
    "W = weights['W']\n",
    "W_prime = weights['W_prime']\n",
    "W_avg = weights['W_avg']"
   ]
  },
  {
   "cell_type": "code",
   "execution_count": 38,
   "metadata": {},
   "outputs": [
    {
     "data": {
      "text/plain": [
       "(-15.041774, 13.829485, -0.60154366, 0.5448065)"
      ]
     },
     "execution_count": 38,
     "metadata": {},
     "output_type": "execute_result"
    }
   ],
   "source": [
    "W.min(), W.max(), W_prime.min(), W_prime.max()"
   ]
  },
  {
   "cell_type": "raw",
   "metadata": {},
   "source": [
    "sns.heatmap(W)"
   ]
  },
  {
   "cell_type": "raw",
   "metadata": {},
   "source": [
    "sns.heatmap(W_prime)"
   ]
  },
  {
   "cell_type": "raw",
   "metadata": {},
   "source": [
    "sns.heatmap(W_avg)"
   ]
  },
  {
   "cell_type": "code",
   "execution_count": null,
   "metadata": {},
   "outputs": [],
   "source": []
  },
  {
   "cell_type": "raw",
   "metadata": {},
   "source": [
    "state_dict = torch.load('../models/naive_word2vec_embeddings_final.pth', map_location='cpu')\n",
    "\n",
    "clf = NaiveWord2VecClassifier(vocabulary_size=vocabulary_size,\n",
    "                              embedding_size=100)\n",
    "clf.load_state_dict(state_dict)\n",
    "\n",
    "W = clf.embedding.weight.detach().numpy()\n",
    "W_prime = clf.fc1.weight.detach().numpy()\n",
    "W_avg = (W + W_prime) / 2"
   ]
  },
  {
   "cell_type": "code",
   "execution_count": 80,
   "metadata": {},
   "outputs": [
    {
     "data": {
      "text/plain": [
       "(1.0, 19.550741, 9.950522)"
      ]
     },
     "execution_count": 80,
     "metadata": {},
     "output_type": "execute_result"
    }
   ],
   "source": [
    "W_norm = W / np.linalg.norm(W, axis=1, keepdims=True)\n",
    "W_prime_norm = W_avg / np.linalg.norm(W_prime, axis=1, keepdims=True)\n",
    "W_avg_norm = (W_norm + W_prime_norm) / 2\n",
    "np.abs(W_norm).max(), np.abs(W_prime_norm).max(), np.abs(W_avg_norm).max()"
   ]
  },
  {
   "cell_type": "code",
   "execution_count": null,
   "metadata": {},
   "outputs": [],
   "source": []
  },
  {
   "cell_type": "code",
   "execution_count": 16,
   "metadata": {},
   "outputs": [],
   "source": [
    "from sklearn.decomposition import PCA\n",
    "# from sklearn.manifold import TSNE\n",
    "from MulticoreTSNE import MulticoreTSNE as TSNE\n",
    "from umap import UMAP"
   ]
  },
  {
   "cell_type": "code",
   "execution_count": 17,
   "metadata": {},
   "outputs": [],
   "source": [
    "def plot_embeddings(embs_reduced, token_to_idx, tokens):\n",
    "    token_embs = embs_reduced[[token_to_idx[token] for token in tokens]]\n",
    "    \n",
    "    fig, ax = plt.subplots(figsize=(12, 12))\n",
    "    ax.scatter(token_embs[:, 0], token_embs[:, 1], alpha=0.2)\n",
    "    \n",
    "    for i, token in enumerate(tokens):\n",
    "        ax.annotate(token, (token_embs[i, 0], token_embs[i, 1]))"
   ]
  },
  {
   "cell_type": "code",
   "execution_count": 121,
   "metadata": {},
   "outputs": [
    {
     "name": "stdout",
     "output_type": "stream",
     "text": [
      "CPU times: user 336 ms, sys: 4 ms, total: 340 ms\n",
      "Wall time: 87.8 ms\n"
     ]
    }
   ],
   "source": [
    "%%time\n",
    "pca = PCA(n_components=2)\n",
    "embs_pca = pca.fit_transform(W_avg)"
   ]
  },
  {
   "cell_type": "code",
   "execution_count": 122,
   "metadata": {},
   "outputs": [
    {
     "data": {
      "image/png": "[encoded data removed]",
      "text/plain": [
       "<Figure size 864x864 with 1 Axes>"
      ]
     },
     "metadata": {
      "needs_background": "light"
     },
     "output_type": "display_data"
    }
   ],
   "source": [
    "tokens = ['man', 'woman', 'king', 'queen', 'mother', 'father']\n",
    "# tokens = list(dict(sg_batcher.token_counts.most_common(100)).keys())\n",
    "plot_embeddings(embs_pca, sg_batcher.token_to_idx, tokens)"
   ]
  },
  {
   "cell_type": "code",
   "execution_count": null,
   "metadata": {},
   "outputs": [],
   "source": []
  },
  {
   "cell_type": "code",
   "execution_count": null,
   "metadata": {},
   "outputs": [],
   "source": [
    "%%time\n",
    "tsne = TSNE(n_components=2, n_iter=1000, n_jobs=-1)\n",
    "embs_tsne = tsne.fit_transform(W_avg)"
   ]
  },
  {
   "cell_type": "code",
   "execution_count": null,
   "metadata": {},
   "outputs": [],
   "source": [
    "tokens = ['man', 'woman', 'king', 'queen', 'mother', 'father']\n",
    "# tokens = list(dict(sg_batcher.token_counts.most_common(100)).keys())\n",
    "plot_embeddings(embs_tsne, sg_batcher.token_to_idx, tokens)"
   ]
  },
  {
   "cell_type": "code",
   "execution_count": null,
   "metadata": {},
   "outputs": [],
   "source": []
  },
  {
   "cell_type": "code",
   "execution_count": null,
   "metadata": {},
   "outputs": [],
   "source": [
    "%%time\n",
    "umap = UMAP(metric='cosine')\n",
    "embs_umap = umap.fit_transform(W_avg)"
   ]
  },
  {
   "cell_type": "code",
   "execution_count": null,
   "metadata": {},
   "outputs": [],
   "source": [
    "tokens = ['man', 'woman', 'king', 'queen', 'mother', 'father']\n",
    "# tokens = list(dict(sg_batcher.token_counts.most_common(100)).keys())\n",
    "plot_embeddings(embs_umap, sg_batcher.token_to_idx, tokens)"
   ]
  },
  {
   "cell_type": "code",
   "execution_count": null,
   "metadata": {},
   "outputs": [],
   "source": []
  },
  {
   "cell_type": "code",
   "execution_count": null,
   "metadata": {},
   "outputs": [],
   "source": []
  },
  {
   "cell_type": "code",
   "execution_count": 123,
   "metadata": {},
   "outputs": [],
   "source": [
    "class EmbeddingsExplorer():\n",
    "    def __init__(self, token_to_idx, vectors, metric='euclidean'):\n",
    "        self.token_to_idx = token_to_idx\n",
    "        self.idx_to_token = {idx: token for token, idx \n",
    "                             in self.token_to_idx.items()}\n",
    "        self.vectors = vectors\n",
    "        self.metric = metric\n",
    "        \n",
    "        self.index = AnnoyIndex(vectors.shape[1], metric=metric)\n",
    "        \n",
    "        print('Building index is started')\n",
    "        for i in self.token_to_idx.values():\n",
    "            self.index.add_item(i, self.vectors[i])\n",
    "        \n",
    "        self.index.build(50)\n",
    "        print('Building index is finished')\n",
    "        \n",
    "    def get_embedding(self, token):\n",
    "        return self.vectors[self.token_to_idx[token]]\n",
    "    \n",
    "    def get_closest_to_vector(self, vector, n=1):\n",
    "        nn_indices = self.index.get_nns_by_vector(vector, n)\n",
    "        return [self.idx_to_token[neighbor] for neighbor in nn_indices]\n",
    "    \n",
    "    def compute_analogy(self, token1, token2, token3, n=20):\n",
    "        vec1 = self.get_embedding(token1)\n",
    "        vec2 = self.get_embedding(token2)\n",
    "        vec3 = self.get_embedding(token3)\n",
    "        vec4 = vec3 + vec2 - vec1\n",
    "        \n",
    "        tokens = set([token1, token2, token3])\n",
    "        closest_tokens = self.get_closest_to_vector(vec4, n=n)\n",
    "        closest_tokens = [token for token in closest_tokens\n",
    "                          if token not in tokens]\n",
    "        \n",
    "        if len(closest_tokens) == 0:\n",
    "            print('Could not find nearest neighbors for the computed vector')\n",
    "            return\n",
    "        \n",
    "        for token4 in closest_tokens:\n",
    "            print(f'{token1}:{token2} :: {token3}:{token4}')"
   ]
  },
  {
   "cell_type": "code",
   "execution_count": 154,
   "metadata": {},
   "outputs": [
    {
     "name": "stdout",
     "output_type": "stream",
     "text": [
      "Building index is started\n",
      "Building index is finished\n"
     ]
    },
    {
     "data": {
      "text/plain": [
       "<__main__.EmbeddingsExplorer at 0x7fa88460d6d8>"
      ]
     },
     "execution_count": 154,
     "metadata": {},
     "output_type": "execute_result"
    }
   ],
   "source": [
    "embeddings = EmbeddingsExplorer(sg_batcher.token_to_idx, W_avg, metric='euclidean')\n",
    "embeddings"
   ]
  },
  {
   "cell_type": "code",
   "execution_count": 155,
   "metadata": {},
   "outputs": [
    {
     "name": "stdout",
     "output_type": "stream",
     "text": [
      "man:he :: woman:she\n",
      "man:he :: woman:briefly\n",
      "man:he :: woman:prison\n",
      "man:he :: woman:herself\n",
      "man:he :: woman:afterwards\n",
      "man:he :: woman:subsequently\n",
      "man:he :: woman:himself\n",
      "man:he :: woman:him\n",
      "man:he :: woman:parents\n",
      "man:he :: woman:publicly\n",
      "man:he :: woman:again\n",
      "man:he :: woman:marry\n",
      "man:he :: woman:apparently\n",
      "man:he :: woman:secretly\n",
      "man:he :: woman:marriage\n",
      "man:he :: woman:succeed\n",
      "man:he :: woman:wounded\n",
      "man:he :: woman:reportedly\n",
      "man:he :: woman:abroad\n"
     ]
    }
   ],
   "source": [
    "# man:he :: woman:(she)\n",
    "embeddings.compute_analogy('man', 'he', 'woman')"
   ]
  },
  {
   "cell_type": "code",
   "execution_count": 175,
   "metadata": {},
   "outputs": [
    {
     "name": "stdout",
     "output_type": "stream",
     "text": [
      "fly:plane :: sail:circle\n",
      "fly:plane :: sail:arc\n",
      "fly:plane :: sail:column\n",
      "fly:plane :: sail:rotation\n",
      "fly:plane :: sail:outer\n",
      "fly:plane :: sail:ring\n",
      "fly:plane :: sail:arch\n",
      "fly:plane :: sail:intersection\n",
      "fly:plane :: sail:probe\n",
      "fly:plane :: sail:imaginary\n",
      "fly:plane :: sail:curvature\n",
      "fly:plane :: sail:burst\n",
      "fly:plane :: sail:mound\n",
      "fly:plane :: sail:gate\n",
      "fly:plane :: sail:crest\n",
      "fly:plane :: sail:junction\n",
      "fly:plane :: sail:stream\n",
      "fly:plane :: sail:orbital\n",
      "fly:plane :: sail:loop\n"
     ]
    }
   ],
   "source": [
    "# fly:plane :: sail:(ship)\n",
    "embeddings.compute_analogy('fly', 'plane', 'sail')"
   ]
  },
  {
   "cell_type": "code",
   "execution_count": 157,
   "metadata": {},
   "outputs": [
    {
     "name": "stdout",
     "output_type": "stream",
     "text": [
      "kitten:cat :: puppy:dog\n",
      "kitten:cat :: puppy:bird\n",
      "kitten:cat :: puppy:wolf\n",
      "kitten:cat :: puppy:magic\n",
      "kitten:cat :: puppy:soup\n",
      "kitten:cat :: puppy:cow\n",
      "kitten:cat :: puppy:pepper\n",
      "kitten:cat :: puppy:tiger\n",
      "kitten:cat :: puppy:horn\n",
      "kitten:cat :: puppy:monster\n",
      "kitten:cat :: puppy:flower\n",
      "kitten:cat :: puppy:killer\n",
      "kitten:cat :: puppy:beast\n",
      "kitten:cat :: puppy:pet\n",
      "kitten:cat :: puppy:chorus\n",
      "kitten:cat :: puppy:honey\n",
      "kitten:cat :: puppy:jacket\n",
      "kitten:cat :: puppy:rabbit\n",
      "kitten:cat :: puppy:grass\n"
     ]
    }
   ],
   "source": [
    "# kitten:cat :: puppy:dog\n",
    "embeddings.compute_analogy('kitten', 'cat', 'puppy')"
   ]
  },
  {
   "cell_type": "code",
   "execution_count": 158,
   "metadata": {},
   "outputs": [
    {
     "name": "stdout",
     "output_type": "stream",
     "text": [
      "blue:color :: dog:breed\n",
      "blue:color :: dog:fitting\n",
      "blue:color :: dog:joke\n",
      "blue:color :: dog:straightforward\n",
      "blue:color :: dog:confusing\n",
      "blue:color :: dog:perfect\n",
      "blue:color :: dog:trick\n",
      "blue:color :: dog:realistic\n",
      "blue:color :: dog:humorous\n",
      "blue:color :: dog:stupid\n",
      "blue:color :: dog:luck\n",
      "blue:color :: dog:clip\n",
      "blue:color :: dog:mirrors\n",
      "blue:color :: dog:puzzle\n",
      "blue:color :: dog:voice\n",
      "blue:color :: dog:meter\n",
      "blue:color :: dog:fancy\n",
      "blue:color :: dog:bunch\n",
      "blue:color :: dog:typing\n"
     ]
    }
   ],
   "source": [
    "# blue:color :: dog:(breed)\n",
    "embeddings.compute_analogy('blue', 'color', 'dog')"
   ]
  },
  {
   "cell_type": "code",
   "execution_count": 159,
   "metadata": {},
   "outputs": [
    {
     "name": "stdout",
     "output_type": "stream",
     "text": [
      "leg:legs :: hand:fingers\n",
      "leg:legs :: hand:side\n",
      "leg:legs :: hand:hands\n",
      "leg:legs :: hand:shoulder\n",
      "leg:legs :: hand:neck\n",
      "leg:legs :: hand:face\n",
      "leg:legs :: hand:clothes\n",
      "leg:legs :: hand:surfaces\n",
      "leg:legs :: hand:edges\n",
      "leg:legs :: hand:bodies\n",
      "leg:legs :: hand:finger\n",
      "leg:legs :: hand:horns\n",
      "leg:legs :: hand:teeth\n",
      "leg:legs :: hand:balls\n",
      "leg:legs :: hand:shoulders\n",
      "leg:legs :: hand:holes\n",
      "leg:legs :: hand:wooden\n",
      "leg:legs :: hand:sticks\n"
     ]
    }
   ],
   "source": [
    "# leg:legs :: hand:(hands)\n",
    "embeddings.compute_analogy('leg', 'legs', 'hand')"
   ]
  },
  {
   "cell_type": "code",
   "execution_count": 160,
   "metadata": {},
   "outputs": [
    {
     "name": "stdout",
     "output_type": "stream",
     "text": [
      "toe:finger :: foot:leg\n",
      "toe:finger :: foot:neck\n",
      "toe:finger :: foot:legs\n",
      "toe:finger :: foot:arm\n",
      "toe:finger :: foot:fingers\n",
      "toe:finger :: foot:bottom\n",
      "toe:finger :: foot:floor\n",
      "toe:finger :: foot:shoulder\n",
      "toe:finger :: foot:tail\n",
      "toe:finger :: foot:bow\n",
      "toe:finger :: foot:deck\n",
      "toe:finger :: foot:edges\n",
      "toe:finger :: foot:stones\n",
      "toe:finger :: foot:wheel\n",
      "toe:finger :: foot:rear\n",
      "toe:finger :: foot:walking\n",
      "toe:finger :: foot:face\n",
      "toe:finger :: foot:wings\n"
     ]
    }
   ],
   "source": [
    "# toe:finger :: foot:(hand)\n",
    "embeddings.compute_analogy('toe', 'finger', 'foot')"
   ]
  },
  {
   "cell_type": "code",
   "execution_count": 161,
   "metadata": {},
   "outputs": [
    {
     "name": "stdout",
     "output_type": "stream",
     "text": [
      "talk:communicate :: read:translate\n",
      "talk:communicate :: read:manipulate\n",
      "talk:communicate :: read:commands\n",
      "talk:communicate :: read:modify\n",
      "talk:communicate :: read:integrate\n",
      "talk:communicate :: read:reproduce\n",
      "talk:communicate :: read:identify\n",
      "talk:communicate :: read:detect\n",
      "talk:communicate :: read:confuse\n",
      "talk:communicate :: read:render\n",
      "talk:communicate :: read:overcome\n",
      "talk:communicate :: read:execute\n",
      "talk:communicate :: read:automatically\n",
      "talk:communicate :: read:checking\n",
      "talk:communicate :: read:classify\n",
      "talk:communicate :: read:dynamically\n",
      "talk:communicate :: read:modifications\n",
      "talk:communicate :: read:instructions\n"
     ]
    }
   ],
   "source": [
    "# talk:communicate :: read:(interpret)\n",
    "embeddings.compute_analogy('talk', 'communicate', 'read')"
   ]
  },
  {
   "cell_type": "code",
   "execution_count": 162,
   "metadata": {},
   "outputs": [
    {
     "name": "stdout",
     "output_type": "stream",
     "text": [
      "man:king :: woman:viii\n",
      "man:king :: woman:prince\n",
      "man:king :: woman:son\n",
      "man:king :: woman:vii\n",
      "man:king :: woman:heir\n",
      "man:king :: woman:crowned\n",
      "man:king :: woman:henry\n",
      "man:king :: woman:queen\n",
      "man:king :: woman:elizabeth\n",
      "man:king :: woman:iii\n",
      "man:king :: woman:augustus\n",
      "man:king :: woman:khan\n",
      "man:king :: woman:cousin\n",
      "man:king :: woman:daughter\n",
      "man:king :: woman:constantine\n",
      "man:king :: woman:princess\n",
      "man:king :: woman:grandson\n",
      "man:king :: woman:bishop\n",
      "man:king :: woman:clement\n"
     ]
    }
   ],
   "source": [
    "# man:king :: woman:(queen)\n",
    "embeddings.compute_analogy('man', 'king', 'woman')"
   ]
  },
  {
   "cell_type": "code",
   "execution_count": 163,
   "metadata": {},
   "outputs": [
    {
     "name": "stdout",
     "output_type": "stream",
     "text": [
      "man:doctor :: woman:nurse\n",
      "man:doctor :: woman:secretly\n",
      "man:doctor :: woman:colleague\n",
      "man:doctor :: woman:lawyer\n",
      "man:doctor :: woman:farmer\n",
      "man:doctor :: woman:mrs\n",
      "man:doctor :: woman:gertrude\n",
      "man:doctor :: woman:child\n",
      "man:doctor :: woman:nude\n",
      "man:doctor :: woman:twins\n",
      "man:doctor :: woman:stern\n",
      "man:doctor :: woman:fellow\n",
      "man:doctor :: woman:blonde\n",
      "man:doctor :: woman:oswald\n",
      "man:doctor :: woman:teenager\n",
      "man:doctor :: woman:mortal\n",
      "man:doctor :: woman:lover\n",
      "man:doctor :: woman:reverend\n"
     ]
    }
   ],
   "source": [
    "# man:doctor :: woman:(job title)\n",
    "embeddings.compute_analogy('man', 'doctor', 'woman')"
   ]
  },
  {
   "cell_type": "code",
   "execution_count": 167,
   "metadata": {},
   "outputs": [
    {
     "name": "stdout",
     "output_type": "stream",
     "text": [
      "fast:fastest :: rich:richest\n",
      "fast:fastest :: rich:landscape\n",
      "fast:fastest :: rich:wealthiest\n",
      "fast:fastest :: rich:poorest\n",
      "fast:fastest :: rich:predominant\n",
      "fast:fastest :: rich:sparsely\n",
      "fast:fastest :: rich:northeastern\n",
      "fast:fastest :: rich:strongest\n",
      "fast:fastest :: rich:principal\n",
      "fast:fastest :: rich:americas\n",
      "fast:fastest :: rich:northernmost\n",
      "fast:fastest :: rich:lowlands\n",
      "fast:fastest :: rich:uzbekistan\n",
      "fast:fastest :: rich:coastal\n",
      "fast:fastest :: rich:overwhelmingly\n",
      "fast:fastest :: rich:abundant\n",
      "fast:fastest :: rich:fiji\n",
      "fast:fastest :: rich:highland\n",
      "fast:fastest :: rich:nordic\n"
     ]
    }
   ],
   "source": [
    "# fast:fastest :: small:smallest\n",
    "embeddings.compute_analogy('fast', 'fastest', 'rich')"
   ]
  },
  {
   "cell_type": "code",
   "execution_count": null,
   "metadata": {},
   "outputs": [],
   "source": []
  },
  {
   "cell_type": "code",
   "execution_count": null,
   "metadata": {},
   "outputs": [],
   "source": []
  },
  {
   "cell_type": "code",
   "execution_count": null,
   "metadata": {},
   "outputs": [],
   "source": []
  },
  {
   "cell_type": "code",
   "execution_count": null,
   "metadata": {},
   "outputs": [],
   "source": []
  },
  {
   "cell_type": "code",
   "execution_count": null,
   "metadata": {},
   "outputs": [],
   "source": []
  },
  {
   "cell_type": "code",
   "execution_count": null,
   "metadata": {},
   "outputs": [],
   "source": []
  },
  {
   "cell_type": "code",
   "execution_count": null,
   "metadata": {},
   "outputs": [],
   "source": []
  },
  {
   "cell_type": "code",
   "execution_count": 58,
   "metadata": {},
   "outputs": [],
   "source": [
    "sg_batcher = SkipGramBatcher.from_file(args.file_path)\n",
    "sg_batcher.prepare_data(cutoff=100000)"
   ]
  },
  {
   "cell_type": "code",
   "execution_count": 59,
   "metadata": {},
   "outputs": [
    {
     "data": {
      "text/plain": [
       "(tensor([0, 0, 0, 0, 0]), tensor([1, 2, 3, 2, 3]))"
      ]
     },
     "execution_count": 59,
     "metadata": {},
     "output_type": "execute_result"
    }
   ],
   "source": [
    "g = sg_batcher.generate_batches(window_size=5, \n",
    "                                batch_size=5)\n",
    "x_batch, labels_batch = next(g)\n",
    "\n",
    "x_batch, labels_batch"
   ]
  },
  {
   "cell_type": "code",
   "execution_count": 60,
   "metadata": {},
   "outputs": [
    {
     "data": {
      "text/plain": [
       "(22, 50)"
      ]
     },
     "execution_count": 60,
     "metadata": {},
     "output_type": "execute_result"
    }
   ],
   "source": [
    "vocabulary_size = len(sg_batcher.vocab)\n",
    "embedding_size = 50\n",
    "\n",
    "vocabulary_size, embedding_size"
   ]
  },
  {
   "cell_type": "code",
   "execution_count": 61,
   "metadata": {},
   "outputs": [],
   "source": [
    "clf = NaiveWord2VecClassifier(vocabulary_size=vocabulary_size,\n",
    "                              embedding_size=embedding_size)"
   ]
  },
  {
   "cell_type": "code",
   "execution_count": 102,
   "metadata": {},
   "outputs": [
    {
     "data": {
      "text/plain": [
       "tensor([[ 0.1679, -0.7678, -0.4254,  0.3084,  0.4510, -0.2278, -0.0301,  0.1163,\n",
       "          0.0782,  0.1542, -0.5275, -0.5969, -0.2852,  0.9326, -0.0609,  1.0134,\n",
       "          0.7858, -0.3970, -0.0972,  0.2352, -0.1621, -0.3524],\n",
       "        [ 0.1679, -0.7678, -0.4254,  0.3084,  0.4510, -0.2278, -0.0301,  0.1163,\n",
       "          0.0782,  0.1542, -0.5275, -0.5969, -0.2852,  0.9326, -0.0609,  1.0134,\n",
       "          0.7858, -0.3970, -0.0972,  0.2352, -0.1621, -0.3524],\n",
       "        [ 0.1679, -0.7678, -0.4254,  0.3084,  0.4510, -0.2278, -0.0301,  0.1163,\n",
       "          0.0782,  0.1542, -0.5275, -0.5969, -0.2852,  0.9326, -0.0609,  1.0134,\n",
       "          0.7858, -0.3970, -0.0972,  0.2352, -0.1621, -0.3524],\n",
       "        [ 0.1679, -0.7678, -0.4254,  0.3084,  0.4510, -0.2278, -0.0301,  0.1163,\n",
       "          0.0782,  0.1542, -0.5275, -0.5969, -0.2852,  0.9326, -0.0609,  1.0134,\n",
       "          0.7858, -0.3970, -0.0972,  0.2352, -0.1621, -0.3524],\n",
       "        [ 0.1679, -0.7678, -0.4254,  0.3084,  0.4510, -0.2278, -0.0301,  0.1163,\n",
       "          0.0782,  0.1542, -0.5275, -0.5969, -0.2852,  0.9326, -0.0609,  1.0134,\n",
       "          0.7858, -0.3970, -0.0972,  0.2352, -0.1621, -0.3524]],\n",
       "       grad_fn=<AddmmBackward>)"
      ]
     },
     "execution_count": 102,
     "metadata": {},
     "output_type": "execute_result"
    }
   ],
   "source": [
    "y_pred = clf(x_batch)\n",
    "# y_pred = F.softmax(y_pred, dim=1)\n",
    "y_pred"
   ]
  },
  {
   "cell_type": "code",
   "execution_count": 79,
   "metadata": {},
   "outputs": [
    {
     "data": {
      "text/plain": [
       "tensor([1, 2, 3, 2, 3])"
      ]
     },
     "execution_count": 79,
     "metadata": {},
     "output_type": "execute_result"
    }
   ],
   "source": [
    "labels_batch"
   ]
  },
  {
   "cell_type": "code",
   "execution_count": 103,
   "metadata": {},
   "outputs": [
    {
     "data": {
      "text/plain": [
       "tensor([-0.7678, -0.4254,  0.3084, -0.4254,  0.3084], grad_fn=<IndexBackward>)"
      ]
     },
     "execution_count": 103,
     "metadata": {},
     "output_type": "execute_result"
    }
   ],
   "source": [
    "y_pred[range(5), labels_batch]"
   ]
  },
  {
   "cell_type": "code",
   "execution_count": 80,
   "metadata": {},
   "outputs": [
    {
     "data": {
      "text/plain": [
       "tensor([3.9903, 3.6480, 2.9141, 3.6480, 2.9141], grad_fn=<NegBackward>)"
      ]
     },
     "execution_count": 80,
     "metadata": {},
     "output_type": "execute_result"
    }
   ],
   "source": [
    "-torch.log(y_pred[range(5), labels_batch])"
   ]
  },
  {
   "cell_type": "code",
   "execution_count": 95,
   "metadata": {},
   "outputs": [],
   "source": [
    "y_true = torch.zeros((5, vocabulary_size), dtype=torch.long)\n",
    "y_true[range(5), labels_batch] = 1"
   ]
  },
  {
   "cell_type": "code",
   "execution_count": 92,
   "metadata": {},
   "outputs": [
    {
     "data": {
      "text/plain": [
       "(torch.Size([5, 22]), torch.Size([5, 22]))"
      ]
     },
     "execution_count": 92,
     "metadata": {},
     "output_type": "execute_result"
    }
   ],
   "source": [
    "y_true.shape, y_pred.shape"
   ]
  },
  {
   "cell_type": "code",
   "execution_count": 104,
   "metadata": {},
   "outputs": [
    {
     "name": "stderr",
     "output_type": "stream",
     "text": [
      "/opt/anaconda3/lib/python3.6/site-packages/torch/nn/_reduction.py:49: UserWarning: size_average and reduce args will be deprecated, please use reduction='none' instead.\n",
      "  warnings.warn(warning.format(ret))\n"
     ]
    },
    {
     "data": {
      "text/plain": [
       "tensor([3.9903, 3.6480, 2.9141, 3.6480, 2.9141], grad_fn=<NllLossBackward>)"
      ]
     },
     "execution_count": 104,
     "metadata": {},
     "output_type": "execute_result"
    }
   ],
   "source": [
    "loss = nn.CrossEntropyLoss(reduce=False)\n",
    "loss(y_pred, labels_batch)"
   ]
  },
  {
   "cell_type": "code",
   "execution_count": null,
   "metadata": {},
   "outputs": [],
   "source": []
  },
  {
   "cell_type": "code",
   "execution_count": null,
   "metadata": {},
   "outputs": [],
   "source": []
  },
  {
   "cell_type": "code",
   "execution_count": null,
   "metadata": {},
   "outputs": [],
   "source": []
  },
  {
   "cell_type": "code",
   "execution_count": 64,
   "metadata": {},
   "outputs": [
    {
     "data": {
      "text/plain": [
       "tensor([1., 1., 1., 1., 1.])"
      ]
     },
     "execution_count": 64,
     "metadata": {},
     "output_type": "execute_result"
    }
   ],
   "source": [
    "arr = torch.zeros((5, vocabulary_size))\n",
    "arr[range(5), labels_batch] = 1\n",
    "arr.sum(dim=1)"
   ]
  },
  {
   "cell_type": "code",
   "execution_count": 65,
   "metadata": {},
   "outputs": [
    {
     "data": {
      "text/plain": [
       "tensor([1, 2, 3, 2, 3])"
      ]
     },
     "execution_count": 65,
     "metadata": {},
     "output_type": "execute_result"
    }
   ],
   "source": [
    "labels_batch"
   ]
  },
  {
   "cell_type": "code",
   "execution_count": 70,
   "metadata": {},
   "outputs": [
    {
     "name": "stderr",
     "output_type": "stream",
     "text": [
      "/opt/anaconda3/lib/python3.6/site-packages/ipykernel_launcher.py:1: RuntimeWarning: invalid value encountered in log\n",
      "  \"\"\"Entry point for launching an IPython kernel.\n"
     ]
    }
   ],
   "source": [
    "loss = -np.log()"
   ]
  },
  {
   "cell_type": "code",
   "execution_count": null,
   "metadata": {},
   "outputs": [],
   "source": []
  }
 ],
 "metadata": {
  "kernelspec": {
   "display_name": "Python 3",
   "language": "python",
   "name": "python3"
  },
  "language_info": {
   "codemirror_mode": {
    "name": "ipython",
    "version": 3
   },
   "file_extension": ".py",
   "mimetype": "text/x-python",
   "name": "python",
   "nbconvert_exporter": "python",
   "pygments_lexer": "ipython3",
   "version": "3.6.8"
  }
 },
 "nbformat": 4,
 "nbformat_minor": 2
}
