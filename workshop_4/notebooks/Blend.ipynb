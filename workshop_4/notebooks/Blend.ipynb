{
 "cells": [
  {
   "cell_type": "code",
   "execution_count": 18,
   "metadata": {},
   "outputs": [],
   "source": [
    "from pathlib import Path\n",
    "\n",
    "import numpy as np\n",
    "import pandas as pd\n",
    "\n",
    "from sklearn.preprocessing import LabelEncoder"
   ]
  },
  {
   "cell_type": "code",
   "execution_count": 4,
   "metadata": {},
   "outputs": [],
   "source": [
    "SUB_PATH = Path('../submissions')"
   ]
  },
  {
   "cell_type": "code",
   "execution_count": 55,
   "metadata": {},
   "outputs": [],
   "source": [
    "linear_df = pd.read_csv(SUB_PATH/'submission.csv')\n",
    "linear2_df = pd.read_csv(SUB_PATH/'submission_2.csv')\n",
    "\n",
    "ulmfit_df = pd.read_csv(SUB_PATH/'ulmfit_predictions.csv')\n",
    "ulmfit2_df = pd.read_csv(SUB_PATH/'ulmfit_predictions_2.csv')\n",
    "ulmfit3_df = pd.read_csv(SUB_PATH/'ulmfit_predictions_3.csv')\n",
    "ulmfit4_df = pd.read_csv(SUB_PATH/'ulmfit_predictions_4.csv')"
   ]
  },
  {
   "cell_type": "code",
   "execution_count": 79,
   "metadata": {},
   "outputs": [
    {
     "data": {
      "text/html": [
       "<div>\n",
       "<style scoped>\n",
       "    .dataframe tbody tr th:only-of-type {\n",
       "        vertical-align: middle;\n",
       "    }\n",
       "\n",
       "    .dataframe tbody tr th {\n",
       "        vertical-align: top;\n",
       "    }\n",
       "\n",
       "    .dataframe thead th {\n",
       "        text-align: right;\n",
       "    }\n",
       "</style>\n",
       "<table border=\"1\" class=\"dataframe\">\n",
       "  <thead>\n",
       "    <tr style=\"text-align: right;\">\n",
       "      <th></th>\n",
       "      <th>linear</th>\n",
       "      <th>ulmfit</th>\n",
       "      <th>ulmfit_2</th>\n",
       "      <th>ulmfit_3</th>\n",
       "      <th>ulmfit_4</th>\n",
       "    </tr>\n",
       "  </thead>\n",
       "  <tbody>\n",
       "    <tr>\n",
       "      <th>0</th>\n",
       "      <td>clickbait</td>\n",
       "      <td>news</td>\n",
       "      <td>news</td>\n",
       "      <td>news</td>\n",
       "      <td>news</td>\n",
       "    </tr>\n",
       "    <tr>\n",
       "      <th>1</th>\n",
       "      <td>clickbait</td>\n",
       "      <td>news</td>\n",
       "      <td>clickbait</td>\n",
       "      <td>news</td>\n",
       "      <td>news</td>\n",
       "    </tr>\n",
       "    <tr>\n",
       "      <th>2</th>\n",
       "      <td>news</td>\n",
       "      <td>news</td>\n",
       "      <td>news</td>\n",
       "      <td>news</td>\n",
       "      <td>news</td>\n",
       "    </tr>\n",
       "    <tr>\n",
       "      <th>3</th>\n",
       "      <td>clickbait</td>\n",
       "      <td>news</td>\n",
       "      <td>clickbait</td>\n",
       "      <td>clickbait</td>\n",
       "      <td>news</td>\n",
       "    </tr>\n",
       "    <tr>\n",
       "      <th>4</th>\n",
       "      <td>news</td>\n",
       "      <td>news</td>\n",
       "      <td>news</td>\n",
       "      <td>news</td>\n",
       "      <td>news</td>\n",
       "    </tr>\n",
       "  </tbody>\n",
       "</table>\n",
       "</div>"
      ],
      "text/plain": [
       "      linear ulmfit   ulmfit_2   ulmfit_3 ulmfit_4\n",
       "0  clickbait   news       news       news     news\n",
       "1  clickbait   news  clickbait       news     news\n",
       "2       news   news       news       news     news\n",
       "3  clickbait   news  clickbait  clickbait     news\n",
       "4       news   news       news       news     news"
      ]
     },
     "execution_count": 79,
     "metadata": {},
     "output_type": "execute_result"
    }
   ],
   "source": [
    "full_df = pd.concat([linear_df['label'], #linear2_df['label'],\n",
    "                     ulmfit_df['label'], ulmfit2_df['label'], \n",
    "                     ulmfit3_df['label'], \n",
    "                     ulmfit4_df['label']], axis=1)\n",
    "full_df.columns = ['linear', #'linear_2', \n",
    "                   'ulmfit', 'ulmfit_2', \n",
    "                   'ulmfit_3', \n",
    "                   'ulmfit_4']\n",
    "full_df.head()"
   ]
  },
  {
   "cell_type": "code",
   "execution_count": 80,
   "metadata": {},
   "outputs": [],
   "source": [
    "codes = {'clickbait': 0, 'news': 1, 'other': 2}"
   ]
  },
  {
   "cell_type": "code",
   "execution_count": 81,
   "metadata": {},
   "outputs": [
    {
     "data": {
      "text/html": [
       "<div>\n",
       "<style scoped>\n",
       "    .dataframe tbody tr th:only-of-type {\n",
       "        vertical-align: middle;\n",
       "    }\n",
       "\n",
       "    .dataframe tbody tr th {\n",
       "        vertical-align: top;\n",
       "    }\n",
       "\n",
       "    .dataframe thead th {\n",
       "        text-align: right;\n",
       "    }\n",
       "</style>\n",
       "<table border=\"1\" class=\"dataframe\">\n",
       "  <thead>\n",
       "    <tr style=\"text-align: right;\">\n",
       "      <th></th>\n",
       "      <th>linear</th>\n",
       "      <th>ulmfit</th>\n",
       "      <th>ulmfit_2</th>\n",
       "      <th>ulmfit_3</th>\n",
       "      <th>ulmfit_4</th>\n",
       "    </tr>\n",
       "  </thead>\n",
       "  <tbody>\n",
       "    <tr>\n",
       "      <th>linear</th>\n",
       "      <td>1.000000</td>\n",
       "      <td>0.736473</td>\n",
       "      <td>0.723342</td>\n",
       "      <td>0.678071</td>\n",
       "      <td>0.692379</td>\n",
       "    </tr>\n",
       "    <tr>\n",
       "      <th>ulmfit</th>\n",
       "      <td>0.736473</td>\n",
       "      <td>1.000000</td>\n",
       "      <td>0.880341</td>\n",
       "      <td>0.862803</td>\n",
       "      <td>0.861667</td>\n",
       "    </tr>\n",
       "    <tr>\n",
       "      <th>ulmfit_2</th>\n",
       "      <td>0.723342</td>\n",
       "      <td>0.880341</td>\n",
       "      <td>1.000000</td>\n",
       "      <td>0.857664</td>\n",
       "      <td>0.826252</td>\n",
       "    </tr>\n",
       "    <tr>\n",
       "      <th>ulmfit_3</th>\n",
       "      <td>0.678071</td>\n",
       "      <td>0.862803</td>\n",
       "      <td>0.857664</td>\n",
       "      <td>1.000000</td>\n",
       "      <td>0.821441</td>\n",
       "    </tr>\n",
       "    <tr>\n",
       "      <th>ulmfit_4</th>\n",
       "      <td>0.692379</td>\n",
       "      <td>0.861667</td>\n",
       "      <td>0.826252</td>\n",
       "      <td>0.821441</td>\n",
       "      <td>1.000000</td>\n",
       "    </tr>\n",
       "  </tbody>\n",
       "</table>\n",
       "</div>"
      ],
      "text/plain": [
       "            linear    ulmfit  ulmfit_2  ulmfit_3  ulmfit_4\n",
       "linear    1.000000  0.736473  0.723342  0.678071  0.692379\n",
       "ulmfit    0.736473  1.000000  0.880341  0.862803  0.861667\n",
       "ulmfit_2  0.723342  0.880341  1.000000  0.857664  0.826252\n",
       "ulmfit_3  0.678071  0.862803  0.857664  1.000000  0.821441\n",
       "ulmfit_4  0.692379  0.861667  0.826252  0.821441  1.000000"
      ]
     },
     "execution_count": 81,
     "metadata": {},
     "output_type": "execute_result"
    }
   ],
   "source": [
    "full_df.apply(lambda x: x.map(codes)).corr()"
   ]
  },
  {
   "cell_type": "code",
   "execution_count": 82,
   "metadata": {},
   "outputs": [
    {
     "data": {
      "text/html": [
       "<div>\n",
       "<style scoped>\n",
       "    .dataframe tbody tr th:only-of-type {\n",
       "        vertical-align: middle;\n",
       "    }\n",
       "\n",
       "    .dataframe tbody tr th {\n",
       "        vertical-align: top;\n",
       "    }\n",
       "\n",
       "    .dataframe thead th {\n",
       "        text-align: right;\n",
       "    }\n",
       "</style>\n",
       "<table border=\"1\" class=\"dataframe\">\n",
       "  <thead>\n",
       "    <tr style=\"text-align: right;\">\n",
       "      <th></th>\n",
       "      <th>id</th>\n",
       "      <th>label</th>\n",
       "    </tr>\n",
       "  </thead>\n",
       "  <tbody>\n",
       "    <tr>\n",
       "      <th>0</th>\n",
       "      <td>0</td>\n",
       "      <td>news</td>\n",
       "    </tr>\n",
       "    <tr>\n",
       "      <th>1</th>\n",
       "      <td>1</td>\n",
       "      <td>news</td>\n",
       "    </tr>\n",
       "    <tr>\n",
       "      <th>2</th>\n",
       "      <td>2</td>\n",
       "      <td>news</td>\n",
       "    </tr>\n",
       "    <tr>\n",
       "      <th>3</th>\n",
       "      <td>3</td>\n",
       "      <td>clickbait</td>\n",
       "    </tr>\n",
       "    <tr>\n",
       "      <th>4</th>\n",
       "      <td>4</td>\n",
       "      <td>news</td>\n",
       "    </tr>\n",
       "  </tbody>\n",
       "</table>\n",
       "</div>"
      ],
      "text/plain": [
       "   id      label\n",
       "0   0       news\n",
       "1   1       news\n",
       "2   2       news\n",
       "3   3  clickbait\n",
       "4   4       news"
      ]
     },
     "execution_count": 82,
     "metadata": {},
     "output_type": "execute_result"
    }
   ],
   "source": [
    "all_preds_df = pd.DataFrame({'id': linear_df['id'], 'label': full_df.mode(axis=1)[0]})\n",
    "all_preds_df.head()"
   ]
  },
  {
   "cell_type": "code",
   "execution_count": 83,
   "metadata": {},
   "outputs": [
    {
     "data": {
      "text/plain": [
       "news         0.830175\n",
       "other        0.085001\n",
       "clickbait    0.084824\n",
       "Name: label, dtype: float64"
      ]
     },
     "execution_count": 83,
     "metadata": {},
     "output_type": "execute_result"
    }
   ],
   "source": [
    "all_preds_df['label'].value_counts(normalize=True)"
   ]
  },
  {
   "cell_type": "code",
   "execution_count": null,
   "metadata": {},
   "outputs": [],
   "source": []
  },
  {
   "cell_type": "code",
   "execution_count": 84,
   "metadata": {},
   "outputs": [],
   "source": [
    "all_preds_df.to_csv(SUB_PATH/'all_5_predictions.csv', index=False, header=True)"
   ]
  },
  {
   "cell_type": "code",
   "execution_count": 85,
   "metadata": {},
   "outputs": [
    {
     "name": "stdout",
     "output_type": "stream",
     "text": [
      "id,label\n",
      "0,news\n",
      "1,news\n",
      "2,news\n",
      "3,clickbait\n",
      "4,news\n",
      "5,news\n",
      "6,news\n",
      "7,news\n",
      "8,news\n"
     ]
    }
   ],
   "source": [
    "!head {SUB_PATH}/'all_5_predictions.csv'"
   ]
  },
  {
   "cell_type": "code",
   "execution_count": 86,
   "metadata": {},
   "outputs": [
    {
     "name": "stdout",
     "output_type": "stream",
     "text": [
      "5648 ../submissions/all_5_predictions.csv\n"
     ]
    }
   ],
   "source": [
    "!wc -l {SUB_PATH}/all_5_predictions.csv"
   ]
  },
  {
   "cell_type": "code",
   "execution_count": 87,
   "metadata": {},
   "outputs": [
    {
     "name": "stdout",
     "output_type": "stream",
     "text": [
      "100%|██████████████████████████████████████| 56.9k/56.9k [00:02<00:00, 19.5kB/s]\n",
      "Successfully submitted to DL in NLP Spring 2019. Classification"
     ]
    }
   ],
   "source": [
    "!kaggle competitions submit -c dlinnlp-spring-2019-clf -f {SUB_PATH}/all_5_predictions.csv -m \"BL\""
   ]
  },
  {
   "cell_type": "code",
   "execution_count": null,
   "metadata": {},
   "outputs": [],
   "source": []
  },
  {
   "cell_type": "code",
   "execution_count": 64,
   "metadata": {},
   "outputs": [
    {
     "data": {
      "text/html": [
       "<div>\n",
       "<style scoped>\n",
       "    .dataframe tbody tr th:only-of-type {\n",
       "        vertical-align: middle;\n",
       "    }\n",
       "\n",
       "    .dataframe tbody tr th {\n",
       "        vertical-align: top;\n",
       "    }\n",
       "\n",
       "    .dataframe thead th {\n",
       "        text-align: right;\n",
       "    }\n",
       "</style>\n",
       "<table border=\"1\" class=\"dataframe\">\n",
       "  <thead>\n",
       "    <tr style=\"text-align: right;\">\n",
       "      <th></th>\n",
       "      <th>id</th>\n",
       "      <th>label</th>\n",
       "    </tr>\n",
       "  </thead>\n",
       "  <tbody>\n",
       "    <tr>\n",
       "      <th>0</th>\n",
       "      <td>0</td>\n",
       "      <td>news</td>\n",
       "    </tr>\n",
       "    <tr>\n",
       "      <th>1</th>\n",
       "      <td>1</td>\n",
       "      <td>news</td>\n",
       "    </tr>\n",
       "    <tr>\n",
       "      <th>2</th>\n",
       "      <td>2</td>\n",
       "      <td>news</td>\n",
       "    </tr>\n",
       "    <tr>\n",
       "      <th>3</th>\n",
       "      <td>3</td>\n",
       "      <td>news</td>\n",
       "    </tr>\n",
       "    <tr>\n",
       "      <th>4</th>\n",
       "      <td>4</td>\n",
       "      <td>news</td>\n",
       "    </tr>\n",
       "  </tbody>\n",
       "</table>\n",
       "</div>"
      ],
      "text/plain": [
       "   id label\n",
       "0   0  news\n",
       "1   1  news\n",
       "2   2  news\n",
       "3   3  news\n",
       "4   4  news"
      ]
     },
     "execution_count": 64,
     "metadata": {},
     "output_type": "execute_result"
    }
   ],
   "source": [
    "ulmfit_preds_df = pd.DataFrame({'id': linear_df['id'], 'label': full_df.filter(like='ulmfit').mode(axis=1)[0]})\n",
    "ulmfit_preds_df.head()"
   ]
  },
  {
   "cell_type": "code",
   "execution_count": 50,
   "metadata": {},
   "outputs": [
    {
     "data": {
      "text/plain": [
       "(134, 104, 137)"
      ]
     },
     "execution_count": 50,
     "metadata": {},
     "output_type": "execute_result"
    }
   ],
   "source": [
    "((all_preds_df['label'] != ulmfit_preds_df['label']).sum(), \n",
    " (full_df['ulmfit'] != ulmfit_preds_df['label']).sum(),\n",
    " (full_df['ulmfit'] != all_preds_df['label']).sum())"
   ]
  },
  {
   "cell_type": "code",
   "execution_count": null,
   "metadata": {},
   "outputs": [],
   "source": []
  },
  {
   "cell_type": "code",
   "execution_count": null,
   "metadata": {},
   "outputs": [],
   "source": []
  },
  {
   "cell_type": "code",
   "execution_count": 65,
   "metadata": {},
   "outputs": [],
   "source": [
    "ulmfit_preds_df.to_csv(SUB_PATH/'all_ulmfit_predictions.csv', index=False, header=True)"
   ]
  },
  {
   "cell_type": "code",
   "execution_count": 66,
   "metadata": {},
   "outputs": [
    {
     "name": "stdout",
     "output_type": "stream",
     "text": [
      "id,label\n",
      "0,news\n",
      "1,news\n",
      "2,news\n",
      "3,news\n",
      "4,news\n",
      "5,news\n",
      "6,news\n",
      "7,news\n",
      "8,news\n"
     ]
    }
   ],
   "source": [
    "!head {SUB_PATH}/'all_ulmfit_predictions.csv'"
   ]
  },
  {
   "cell_type": "code",
   "execution_count": 67,
   "metadata": {},
   "outputs": [
    {
     "name": "stdout",
     "output_type": "stream",
     "text": [
      "5648 ../submissions/all_ulmfit_predictions.csv\n"
     ]
    }
   ],
   "source": [
    "!wc -l {SUB_PATH}/all_ulmfit_predictions.csv"
   ]
  },
  {
   "cell_type": "code",
   "execution_count": 68,
   "metadata": {},
   "outputs": [
    {
     "name": "stdout",
     "output_type": "stream",
     "text": [
      "100%|██████████████████████████████████████| 56.8k/56.8k [00:02<00:00, 27.2kB/s]\n",
      "Successfully submitted to DL in NLP Spring 2019. Classification"
     ]
    }
   ],
   "source": [
    "!kaggle competitions submit -c dlinnlp-spring-2019-clf -f {SUB_PATH}/all_ulmfit_predictions.csv -m \"BL\""
   ]
  },
  {
   "cell_type": "code",
   "execution_count": null,
   "metadata": {},
   "outputs": [],
   "source": []
  }
 ],
 "metadata": {
  "kernelspec": {
   "display_name": "Python 3",
   "language": "python",
   "name": "python3"
  },
  "language_info": {
   "codemirror_mode": {
    "name": "ipython",
    "version": 3
   },
   "file_extension": ".py",
   "mimetype": "text/x-python",
   "name": "python",
   "nbconvert_exporter": "python",
   "pygments_lexer": "ipython3",
   "version": "3.6.8"
  }
 },
 "nbformat": 4,
 "nbformat_minor": 2
}
