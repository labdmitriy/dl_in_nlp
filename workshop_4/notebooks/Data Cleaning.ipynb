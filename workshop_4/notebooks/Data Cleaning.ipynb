{
 "cells": [
  {
   "cell_type": "code",
   "execution_count": 1,
   "metadata": {},
   "outputs": [],
   "source": [
    "from pathlib import Path\n",
    "import pickle\n",
    "import re\n",
    "from functools import partial\n",
    "\n",
    "from tqdm import tqdm, tqdm_notebook\n",
    "from multiprocessing import cpu_count, Pool\n",
    "\n",
    "import numpy as np\n",
    "import pandas as pd\n",
    "\n",
    "import spacy\n",
    "import ftfy\n",
    "import yake\n",
    "from nltk.tokenize import TweetTokenizer\n",
    "\n",
    "%matplotlib inline\n",
    "import matplotlib.pyplot as plt\n",
    "import seaborn as sns"
   ]
  },
  {
   "cell_type": "code",
   "execution_count": 2,
   "metadata": {},
   "outputs": [],
   "source": [
    "pd.options.display.max_colwidth = 200 # default - 50"
   ]
  },
  {
   "cell_type": "code",
   "execution_count": 3,
   "metadata": {},
   "outputs": [
    {
     "data": {
      "application/vnd.jupyter.widget-view+json": {
       "model_id": "3d53856b571944afb3b08213943482ad",
       "version_major": 2,
       "version_minor": 0
      },
      "text/plain": [
       "HBox(children=(IntProgress(value=1, bar_style='info', max=1), HTML(value='')))"
      ]
     },
     "metadata": {},
     "output_type": "display_data"
    },
    {
     "name": "stdout",
     "output_type": "stream",
     "text": [
      "\n"
     ]
    }
   ],
   "source": [
    "DATA_PATH = Path('../data')\n",
    "RANDOM_SEED = 17\n",
    "\n",
    "tqdm_notebook().pandas()"
   ]
  },
  {
   "cell_type": "markdown",
   "metadata": {},
   "source": [
    "**Load Data**"
   ]
  },
  {
   "cell_type": "code",
   "execution_count": 4,
   "metadata": {},
   "outputs": [],
   "source": [
    "train_df = pd.read_csv(DATA_PATH/'train.csv')\n",
    "valid_df = pd.read_csv(DATA_PATH/'valid.csv')\n",
    "test_df = pd.read_csv(DATA_PATH/'test.csv')"
   ]
  },
  {
   "cell_type": "code",
   "execution_count": 5,
   "metadata": {},
   "outputs": [],
   "source": [
    "text_cols = ['title', 'text']"
   ]
  },
  {
   "cell_type": "markdown",
   "metadata": {},
   "source": [
    "**Clean Data**"
   ]
  },
  {
   "cell_type": "code",
   "execution_count": 6,
   "metadata": {},
   "outputs": [],
   "source": [
    "def parallelize(data, func, cores=None):\n",
    "    if cores is None:\n",
    "        cores = cpu_count()\n",
    "    partitions = cores\n",
    "    data_split = np.array_split(data, partitions)\n",
    "    pool = Pool(cores)\n",
    "    data = pd.concat(pool.map(func, data_split))\n",
    "    pool.close()\n",
    "    pool.join()\n",
    "    return data"
   ]
  },
  {
   "cell_type": "markdown",
   "metadata": {},
   "source": [
    "**Fix unicode characters**"
   ]
  },
  {
   "cell_type": "code",
   "execution_count": 7,
   "metadata": {},
   "outputs": [],
   "source": [
    "def parallel_fix_text(s, normalization='NFC'):\n",
    "    return s.progress_apply(fix_text)\n",
    "\n",
    "def fix_text(doc):\n",
    "    return ftfy.fix_text(doc)"
   ]
  },
  {
   "cell_type": "markdown",
   "metadata": {},
   "source": [
    "Experiments on sample data"
   ]
  },
  {
   "cell_type": "code",
   "execution_count": 8,
   "metadata": {},
   "outputs": [
    {
     "data": {
      "text/plain": [
       "(24871,)"
      ]
     },
     "execution_count": 8,
     "metadata": {},
     "output_type": "execute_result"
    }
   ],
   "source": [
    "sample_df = train_df['text'].sample(frac=1.0)\n",
    "sample_df.shape"
   ]
  },
  {
   "cell_type": "code",
   "execution_count": 11,
   "metadata": {},
   "outputs": [
    {
     "data": {
      "application/vnd.jupyter.widget-view+json": {
       "model_id": "954959df654344f183f8e19f3d5ee909",
       "version_major": 2,
       "version_minor": 0
      },
      "text/plain": [
       "HBox(children=(IntProgress(value=0, max=24871), HTML(value='')))"
      ]
     },
     "metadata": {},
     "output_type": "display_data"
    },
    {
     "ename": "TypeError",
     "evalue": "object of type 'float' has no len()",
     "output_type": "error",
     "traceback": [
      "\u001b[0;31m---------------------------------------------------------------------------\u001b[0m",
      "\u001b[0;31mTypeError\u001b[0m                                 Traceback (most recent call last)",
      "\u001b[0;32m<ipython-input-11-01d113e1fcc0>\u001b[0m in \u001b[0;36m<module>\u001b[0;34m\u001b[0m\n\u001b[0;32m----> 1\u001b[0;31m \u001b[0mtrain_df\u001b[0m\u001b[0;34m[\u001b[0m\u001b[0;34m'title'\u001b[0m\u001b[0;34m]\u001b[0m\u001b[0;34m.\u001b[0m\u001b[0mprogress_apply\u001b[0m\u001b[0;34m(\u001b[0m\u001b[0mfix_text\u001b[0m\u001b[0;34m)\u001b[0m\u001b[0;34m\u001b[0m\u001b[0;34m\u001b[0m\u001b[0m\n\u001b[0m",
      "\u001b[0;32m/opt/anaconda3/lib/python3.6/site-packages/tqdm/_tqdm.py\u001b[0m in \u001b[0;36minner\u001b[0;34m(df, func, *args, **kwargs)\u001b[0m\n\u001b[1;32m    658\u001b[0m                 \u001b[0;31m# Apply the provided function (in **kwargs)\u001b[0m\u001b[0;34m\u001b[0m\u001b[0;34m\u001b[0m\u001b[0;34m\u001b[0m\u001b[0m\n\u001b[1;32m    659\u001b[0m                 \u001b[0;31m# on the df using our wrapper (which provides bar updating)\u001b[0m\u001b[0;34m\u001b[0m\u001b[0;34m\u001b[0m\u001b[0;34m\u001b[0m\u001b[0m\n\u001b[0;32m--> 660\u001b[0;31m                 \u001b[0mresult\u001b[0m \u001b[0;34m=\u001b[0m \u001b[0mgetattr\u001b[0m\u001b[0;34m(\u001b[0m\u001b[0mdf\u001b[0m\u001b[0;34m,\u001b[0m \u001b[0mdf_function\u001b[0m\u001b[0;34m)\u001b[0m\u001b[0;34m(\u001b[0m\u001b[0mwrapper\u001b[0m\u001b[0;34m,\u001b[0m \u001b[0;34m**\u001b[0m\u001b[0mkwargs\u001b[0m\u001b[0;34m)\u001b[0m\u001b[0;34m\u001b[0m\u001b[0;34m\u001b[0m\u001b[0m\n\u001b[0m\u001b[1;32m    661\u001b[0m \u001b[0;34m\u001b[0m\u001b[0m\n\u001b[1;32m    662\u001b[0m                 \u001b[0;31m# Close bar and return pandas calculation result\u001b[0m\u001b[0;34m\u001b[0m\u001b[0;34m\u001b[0m\u001b[0;34m\u001b[0m\u001b[0m\n",
      "\u001b[0;32m/opt/anaconda3/lib/python3.6/site-packages/pandas/core/series.py\u001b[0m in \u001b[0;36mapply\u001b[0;34m(self, func, convert_dtype, args, **kwds)\u001b[0m\n\u001b[1;32m   3589\u001b[0m             \u001b[0;32melse\u001b[0m\u001b[0;34m:\u001b[0m\u001b[0;34m\u001b[0m\u001b[0;34m\u001b[0m\u001b[0m\n\u001b[1;32m   3590\u001b[0m                 \u001b[0mvalues\u001b[0m \u001b[0;34m=\u001b[0m \u001b[0mself\u001b[0m\u001b[0;34m.\u001b[0m\u001b[0mastype\u001b[0m\u001b[0;34m(\u001b[0m\u001b[0mobject\u001b[0m\u001b[0;34m)\u001b[0m\u001b[0;34m.\u001b[0m\u001b[0mvalues\u001b[0m\u001b[0;34m\u001b[0m\u001b[0;34m\u001b[0m\u001b[0m\n\u001b[0;32m-> 3591\u001b[0;31m                 \u001b[0mmapped\u001b[0m \u001b[0;34m=\u001b[0m \u001b[0mlib\u001b[0m\u001b[0;34m.\u001b[0m\u001b[0mmap_infer\u001b[0m\u001b[0;34m(\u001b[0m\u001b[0mvalues\u001b[0m\u001b[0;34m,\u001b[0m \u001b[0mf\u001b[0m\u001b[0;34m,\u001b[0m \u001b[0mconvert\u001b[0m\u001b[0;34m=\u001b[0m\u001b[0mconvert_dtype\u001b[0m\u001b[0;34m)\u001b[0m\u001b[0;34m\u001b[0m\u001b[0;34m\u001b[0m\u001b[0m\n\u001b[0m\u001b[1;32m   3592\u001b[0m \u001b[0;34m\u001b[0m\u001b[0m\n\u001b[1;32m   3593\u001b[0m         \u001b[0;32mif\u001b[0m \u001b[0mlen\u001b[0m\u001b[0;34m(\u001b[0m\u001b[0mmapped\u001b[0m\u001b[0;34m)\u001b[0m \u001b[0;32mand\u001b[0m \u001b[0misinstance\u001b[0m\u001b[0;34m(\u001b[0m\u001b[0mmapped\u001b[0m\u001b[0;34m[\u001b[0m\u001b[0;36m0\u001b[0m\u001b[0;34m]\u001b[0m\u001b[0;34m,\u001b[0m \u001b[0mSeries\u001b[0m\u001b[0;34m)\u001b[0m\u001b[0;34m:\u001b[0m\u001b[0;34m\u001b[0m\u001b[0;34m\u001b[0m\u001b[0m\n",
      "\u001b[0;32mpandas/_libs/lib.pyx\u001b[0m in \u001b[0;36mpandas._libs.lib.map_infer\u001b[0;34m()\u001b[0m\n",
      "\u001b[0;32m/opt/anaconda3/lib/python3.6/site-packages/tqdm/_tqdm.py\u001b[0m in \u001b[0;36mwrapper\u001b[0;34m(*args, **kwargs)\u001b[0m\n\u001b[1;32m    654\u001b[0m                     \u001b[0;31m# take a fast or slow code path; so stop when t.total==t.n\u001b[0m\u001b[0;34m\u001b[0m\u001b[0;34m\u001b[0m\u001b[0;34m\u001b[0m\u001b[0m\n\u001b[1;32m    655\u001b[0m                     \u001b[0mt\u001b[0m\u001b[0;34m.\u001b[0m\u001b[0mupdate\u001b[0m\u001b[0;34m(\u001b[0m\u001b[0mn\u001b[0m\u001b[0;34m=\u001b[0m\u001b[0;36m1\u001b[0m \u001b[0;32mif\u001b[0m \u001b[0;32mnot\u001b[0m \u001b[0mt\u001b[0m\u001b[0;34m.\u001b[0m\u001b[0mtotal\u001b[0m \u001b[0;32mor\u001b[0m \u001b[0mt\u001b[0m\u001b[0;34m.\u001b[0m\u001b[0mn\u001b[0m \u001b[0;34m<\u001b[0m \u001b[0mt\u001b[0m\u001b[0;34m.\u001b[0m\u001b[0mtotal\u001b[0m \u001b[0;32melse\u001b[0m \u001b[0;36m0\u001b[0m\u001b[0;34m)\u001b[0m\u001b[0;34m\u001b[0m\u001b[0;34m\u001b[0m\u001b[0m\n\u001b[0;32m--> 656\u001b[0;31m                     \u001b[0;32mreturn\u001b[0m \u001b[0mfunc\u001b[0m\u001b[0;34m(\u001b[0m\u001b[0;34m*\u001b[0m\u001b[0margs\u001b[0m\u001b[0;34m,\u001b[0m \u001b[0;34m**\u001b[0m\u001b[0mkwargs\u001b[0m\u001b[0;34m)\u001b[0m\u001b[0;34m\u001b[0m\u001b[0;34m\u001b[0m\u001b[0m\n\u001b[0m\u001b[1;32m    657\u001b[0m \u001b[0;34m\u001b[0m\u001b[0m\n\u001b[1;32m    658\u001b[0m                 \u001b[0;31m# Apply the provided function (in **kwargs)\u001b[0m\u001b[0;34m\u001b[0m\u001b[0;34m\u001b[0m\u001b[0;34m\u001b[0m\u001b[0m\n",
      "\u001b[0;32m<ipython-input-7-d39a595c87d1>\u001b[0m in \u001b[0;36mfix_text\u001b[0;34m(doc)\u001b[0m\n\u001b[1;32m      3\u001b[0m \u001b[0;34m\u001b[0m\u001b[0m\n\u001b[1;32m      4\u001b[0m \u001b[0;32mdef\u001b[0m \u001b[0mfix_text\u001b[0m\u001b[0;34m(\u001b[0m\u001b[0mdoc\u001b[0m\u001b[0;34m)\u001b[0m\u001b[0;34m:\u001b[0m\u001b[0;34m\u001b[0m\u001b[0;34m\u001b[0m\u001b[0m\n\u001b[0;32m----> 5\u001b[0;31m     \u001b[0;32mreturn\u001b[0m \u001b[0mftfy\u001b[0m\u001b[0;34m.\u001b[0m\u001b[0mfix_text\u001b[0m\u001b[0;34m(\u001b[0m\u001b[0mdoc\u001b[0m\u001b[0;34m)\u001b[0m\u001b[0;34m\u001b[0m\u001b[0;34m\u001b[0m\u001b[0m\n\u001b[0m",
      "\u001b[0;32m/opt/anaconda3/lib/python3.6/site-packages/ftfy/__init__.py\u001b[0m in \u001b[0;36mfix_text\u001b[0;34m(text, fix_entities, remove_terminal_escapes, fix_encoding, fix_latin_ligatures, fix_character_width, uncurl_quotes, fix_line_breaks, fix_surrogates, remove_control_chars, remove_bom, normalization, max_decode_length)\u001b[0m\n\u001b[1;32m    152\u001b[0m     \u001b[0mout\u001b[0m \u001b[0;34m=\u001b[0m \u001b[0;34m[\u001b[0m\u001b[0;34m]\u001b[0m\u001b[0;34m\u001b[0m\u001b[0;34m\u001b[0m\u001b[0m\n\u001b[1;32m    153\u001b[0m     \u001b[0mpos\u001b[0m \u001b[0;34m=\u001b[0m \u001b[0;36m0\u001b[0m\u001b[0;34m\u001b[0m\u001b[0;34m\u001b[0m\u001b[0m\n\u001b[0;32m--> 154\u001b[0;31m     \u001b[0;32mwhile\u001b[0m \u001b[0mpos\u001b[0m \u001b[0;34m<\u001b[0m \u001b[0mlen\u001b[0m\u001b[0;34m(\u001b[0m\u001b[0mtext\u001b[0m\u001b[0;34m)\u001b[0m\u001b[0;34m:\u001b[0m\u001b[0;34m\u001b[0m\u001b[0;34m\u001b[0m\u001b[0m\n\u001b[0m\u001b[1;32m    155\u001b[0m         \u001b[0mtextbreak\u001b[0m \u001b[0;34m=\u001b[0m \u001b[0mtext\u001b[0m\u001b[0;34m.\u001b[0m\u001b[0mfind\u001b[0m\u001b[0;34m(\u001b[0m\u001b[0;34m'\\n'\u001b[0m\u001b[0;34m,\u001b[0m \u001b[0mpos\u001b[0m\u001b[0;34m)\u001b[0m \u001b[0;34m+\u001b[0m \u001b[0;36m1\u001b[0m\u001b[0;34m\u001b[0m\u001b[0;34m\u001b[0m\u001b[0m\n\u001b[1;32m    156\u001b[0m         \u001b[0mfix_encoding_this_time\u001b[0m \u001b[0;34m=\u001b[0m \u001b[0mfix_encoding\u001b[0m\u001b[0;34m\u001b[0m\u001b[0;34m\u001b[0m\u001b[0m\n",
      "\u001b[0;31mTypeError\u001b[0m: object of type 'float' has no len()"
     ]
    }
   ],
   "source": [
    "train_df['title'].progress_apply(fix_text)"
   ]
  },
  {
   "cell_type": "code",
   "execution_count": 9,
   "metadata": {},
   "outputs": [
    {
     "name": "stdout",
     "output_type": "stream",
     "text": [
      "\n",
      "\n",
      "\n",
      "\n",
      "\n",
      "\n",
      "\n",
      "\n"
     ]
    },
    {
     "ename": "TypeError",
     "evalue": "object of type 'float' has no len()",
     "output_type": "error",
     "traceback": [
      "\u001b[0;31m---------------------------------------------------------------------------\u001b[0m",
      "\u001b[0;31mRemoteTraceback\u001b[0m                           Traceback (most recent call last)",
      "\u001b[0;31mRemoteTraceback\u001b[0m: \n\"\"\"\nTraceback (most recent call last):\n  File \"/opt/anaconda3/lib/python3.6/multiprocessing/pool.py\", line 119, in worker\n    result = (True, func(*args, **kwds))\n  File \"/opt/anaconda3/lib/python3.6/multiprocessing/pool.py\", line 44, in mapstar\n    return list(map(*args))\n  File \"<ipython-input-7-d39a595c87d1>\", line 2, in parallel_fix_text\n    return s.progress_apply(fix_text)\n  File \"/opt/anaconda3/lib/python3.6/site-packages/tqdm/_tqdm.py\", line 660, in inner\n    result = getattr(df, df_function)(wrapper, **kwargs)\n  File \"/opt/anaconda3/lib/python3.6/site-packages/pandas/core/series.py\", line 3591, in apply\n    mapped = lib.map_infer(values, f, convert=convert_dtype)\n  File \"pandas/_libs/lib.pyx\", line 2217, in pandas._libs.lib.map_infer\n  File \"/opt/anaconda3/lib/python3.6/site-packages/tqdm/_tqdm.py\", line 656, in wrapper\n    return func(*args, **kwargs)\n  File \"<ipython-input-7-d39a595c87d1>\", line 5, in fix_text\n    return ftfy.fix_text(doc)\n  File \"/opt/anaconda3/lib/python3.6/site-packages/ftfy/__init__.py\", line 154, in fix_text\n    while pos < len(text):\nTypeError: object of type 'float' has no len()\n\"\"\"",
      "\nThe above exception was the direct cause of the following exception:\n",
      "\u001b[0;31mTypeError\u001b[0m                                 Traceback (most recent call last)",
      "\u001b[0;32m<ipython-input-9-f4f2b9921125>\u001b[0m in \u001b[0;36m<module>\u001b[0;34m\u001b[0m\n\u001b[1;32m      1\u001b[0m \u001b[0;31m# clean_df = sample_df.progress_apply(ftfy.fix_text, normalization='NFKC')\u001b[0m\u001b[0;34m\u001b[0m\u001b[0;34m\u001b[0m\u001b[0;34m\u001b[0m\u001b[0m\n\u001b[0;32m----> 2\u001b[0;31m \u001b[0mclean_df\u001b[0m \u001b[0;34m=\u001b[0m \u001b[0mparallelize\u001b[0m\u001b[0;34m(\u001b[0m\u001b[0msample_df\u001b[0m\u001b[0;34m,\u001b[0m \u001b[0mparallel_fix_text\u001b[0m\u001b[0;34m)\u001b[0m\u001b[0;34m\u001b[0m\u001b[0;34m\u001b[0m\u001b[0m\n\u001b[0m\u001b[1;32m      3\u001b[0m \u001b[0mclean_df\u001b[0m \u001b[0;34m=\u001b[0m \u001b[0mclean_df\u001b[0m\u001b[0;34m.\u001b[0m\u001b[0mrename\u001b[0m\u001b[0;34m(\u001b[0m\u001b[0;34m'clean_comment_text'\u001b[0m\u001b[0;34m)\u001b[0m\u001b[0;34m\u001b[0m\u001b[0;34m\u001b[0m\u001b[0m\n",
      "\u001b[0;32m<ipython-input-6-02d8d7c81910>\u001b[0m in \u001b[0;36mparallelize\u001b[0;34m(data, func, cores)\u001b[0m\n\u001b[1;32m      5\u001b[0m     \u001b[0mdata_split\u001b[0m \u001b[0;34m=\u001b[0m \u001b[0mnp\u001b[0m\u001b[0;34m.\u001b[0m\u001b[0marray_split\u001b[0m\u001b[0;34m(\u001b[0m\u001b[0mdata\u001b[0m\u001b[0;34m,\u001b[0m \u001b[0mpartitions\u001b[0m\u001b[0;34m)\u001b[0m\u001b[0;34m\u001b[0m\u001b[0;34m\u001b[0m\u001b[0m\n\u001b[1;32m      6\u001b[0m     \u001b[0mpool\u001b[0m \u001b[0;34m=\u001b[0m \u001b[0mPool\u001b[0m\u001b[0;34m(\u001b[0m\u001b[0mcores\u001b[0m\u001b[0;34m)\u001b[0m\u001b[0;34m\u001b[0m\u001b[0;34m\u001b[0m\u001b[0m\n\u001b[0;32m----> 7\u001b[0;31m     \u001b[0mdata\u001b[0m \u001b[0;34m=\u001b[0m \u001b[0mpd\u001b[0m\u001b[0;34m.\u001b[0m\u001b[0mconcat\u001b[0m\u001b[0;34m(\u001b[0m\u001b[0mpool\u001b[0m\u001b[0;34m.\u001b[0m\u001b[0mmap\u001b[0m\u001b[0;34m(\u001b[0m\u001b[0mfunc\u001b[0m\u001b[0;34m,\u001b[0m \u001b[0mdata_split\u001b[0m\u001b[0;34m)\u001b[0m\u001b[0;34m)\u001b[0m\u001b[0;34m\u001b[0m\u001b[0;34m\u001b[0m\u001b[0m\n\u001b[0m\u001b[1;32m      8\u001b[0m     \u001b[0mpool\u001b[0m\u001b[0;34m.\u001b[0m\u001b[0mclose\u001b[0m\u001b[0;34m(\u001b[0m\u001b[0;34m)\u001b[0m\u001b[0;34m\u001b[0m\u001b[0;34m\u001b[0m\u001b[0m\n\u001b[1;32m      9\u001b[0m     \u001b[0mpool\u001b[0m\u001b[0;34m.\u001b[0m\u001b[0mjoin\u001b[0m\u001b[0;34m(\u001b[0m\u001b[0;34m)\u001b[0m\u001b[0;34m\u001b[0m\u001b[0;34m\u001b[0m\u001b[0m\n",
      "\u001b[0;32m/opt/anaconda3/lib/python3.6/multiprocessing/pool.py\u001b[0m in \u001b[0;36mmap\u001b[0;34m(self, func, iterable, chunksize)\u001b[0m\n\u001b[1;32m    264\u001b[0m         \u001b[0;32min\u001b[0m \u001b[0ma\u001b[0m \u001b[0mlist\u001b[0m \u001b[0mthat\u001b[0m \u001b[0;32mis\u001b[0m \u001b[0mreturned\u001b[0m\u001b[0;34m.\u001b[0m\u001b[0;34m\u001b[0m\u001b[0;34m\u001b[0m\u001b[0m\n\u001b[1;32m    265\u001b[0m         '''\n\u001b[0;32m--> 266\u001b[0;31m         \u001b[0;32mreturn\u001b[0m \u001b[0mself\u001b[0m\u001b[0;34m.\u001b[0m\u001b[0m_map_async\u001b[0m\u001b[0;34m(\u001b[0m\u001b[0mfunc\u001b[0m\u001b[0;34m,\u001b[0m \u001b[0miterable\u001b[0m\u001b[0;34m,\u001b[0m \u001b[0mmapstar\u001b[0m\u001b[0;34m,\u001b[0m \u001b[0mchunksize\u001b[0m\u001b[0;34m)\u001b[0m\u001b[0;34m.\u001b[0m\u001b[0mget\u001b[0m\u001b[0;34m(\u001b[0m\u001b[0;34m)\u001b[0m\u001b[0;34m\u001b[0m\u001b[0;34m\u001b[0m\u001b[0m\n\u001b[0m\u001b[1;32m    267\u001b[0m \u001b[0;34m\u001b[0m\u001b[0m\n\u001b[1;32m    268\u001b[0m     \u001b[0;32mdef\u001b[0m \u001b[0mstarmap\u001b[0m\u001b[0;34m(\u001b[0m\u001b[0mself\u001b[0m\u001b[0;34m,\u001b[0m \u001b[0mfunc\u001b[0m\u001b[0;34m,\u001b[0m \u001b[0miterable\u001b[0m\u001b[0;34m,\u001b[0m \u001b[0mchunksize\u001b[0m\u001b[0;34m=\u001b[0m\u001b[0;32mNone\u001b[0m\u001b[0;34m)\u001b[0m\u001b[0;34m:\u001b[0m\u001b[0;34m\u001b[0m\u001b[0;34m\u001b[0m\u001b[0m\n",
      "\u001b[0;32m/opt/anaconda3/lib/python3.6/multiprocessing/pool.py\u001b[0m in \u001b[0;36mget\u001b[0;34m(self, timeout)\u001b[0m\n\u001b[1;32m    642\u001b[0m             \u001b[0;32mreturn\u001b[0m \u001b[0mself\u001b[0m\u001b[0;34m.\u001b[0m\u001b[0m_value\u001b[0m\u001b[0;34m\u001b[0m\u001b[0;34m\u001b[0m\u001b[0m\n\u001b[1;32m    643\u001b[0m         \u001b[0;32melse\u001b[0m\u001b[0;34m:\u001b[0m\u001b[0;34m\u001b[0m\u001b[0;34m\u001b[0m\u001b[0m\n\u001b[0;32m--> 644\u001b[0;31m             \u001b[0;32mraise\u001b[0m \u001b[0mself\u001b[0m\u001b[0;34m.\u001b[0m\u001b[0m_value\u001b[0m\u001b[0;34m\u001b[0m\u001b[0;34m\u001b[0m\u001b[0m\n\u001b[0m\u001b[1;32m    645\u001b[0m \u001b[0;34m\u001b[0m\u001b[0m\n\u001b[1;32m    646\u001b[0m     \u001b[0;32mdef\u001b[0m \u001b[0m_set\u001b[0m\u001b[0;34m(\u001b[0m\u001b[0mself\u001b[0m\u001b[0;34m,\u001b[0m \u001b[0mi\u001b[0m\u001b[0;34m,\u001b[0m \u001b[0mobj\u001b[0m\u001b[0;34m)\u001b[0m\u001b[0;34m:\u001b[0m\u001b[0;34m\u001b[0m\u001b[0;34m\u001b[0m\u001b[0m\n",
      "\u001b[0;31mTypeError\u001b[0m: object of type 'float' has no len()"
     ]
    },
    {
     "name": "stderr",
     "output_type": "stream",
     "text": [
      "Process ForkPoolWorker-1:\n",
      "Process ForkPoolWorker-2:\n",
      "Process ForkPoolWorker-4:\n",
      "Process ForkPoolWorker-8:\n",
      "Process ForkPoolWorker-5:\n",
      "Process ForkPoolWorker-6:\n",
      "Process ForkPoolWorker-7:\n",
      "Process ForkPoolWorker-3:\n",
      "Traceback (most recent call last):\n",
      "Traceback (most recent call last):\n",
      "Traceback (most recent call last):\n",
      "Traceback (most recent call last):\n",
      "Traceback (most recent call last):\n",
      "Traceback (most recent call last):\n",
      "Traceback (most recent call last):\n",
      "  File \"/opt/anaconda3/lib/python3.6/multiprocessing/process.py\", line 258, in _bootstrap\n",
      "    self.run()\n",
      "  File \"/opt/anaconda3/lib/python3.6/multiprocessing/process.py\", line 258, in _bootstrap\n",
      "    self.run()\n",
      "  File \"/opt/anaconda3/lib/python3.6/multiprocessing/process.py\", line 258, in _bootstrap\n",
      "    self.run()\n",
      "  File \"/opt/anaconda3/lib/python3.6/multiprocessing/process.py\", line 258, in _bootstrap\n",
      "    self.run()\n",
      "  File \"/opt/anaconda3/lib/python3.6/multiprocessing/process.py\", line 93, in run\n",
      "    self._target(*self._args, **self._kwargs)\n",
      "  File \"/opt/anaconda3/lib/python3.6/multiprocessing/process.py\", line 93, in run\n",
      "    self._target(*self._args, **self._kwargs)\n",
      "  File \"/opt/anaconda3/lib/python3.6/multiprocessing/process.py\", line 93, in run\n",
      "    self._target(*self._args, **self._kwargs)\n",
      "  File \"/opt/anaconda3/lib/python3.6/multiprocessing/process.py\", line 258, in _bootstrap\n",
      "    self.run()\n",
      "  File \"/opt/anaconda3/lib/python3.6/multiprocessing/process.py\", line 258, in _bootstrap\n",
      "    self.run()\n",
      "  File \"/opt/anaconda3/lib/python3.6/multiprocessing/process.py\", line 258, in _bootstrap\n",
      "    self.run()\n",
      "Traceback (most recent call last):\n",
      "  File \"/opt/anaconda3/lib/python3.6/multiprocessing/pool.py\", line 108, in worker\n",
      "    task = get()\n",
      "  File \"/opt/anaconda3/lib/python3.6/multiprocessing/process.py\", line 93, in run\n",
      "    self._target(*self._args, **self._kwargs)\n",
      "  File \"/opt/anaconda3/lib/python3.6/multiprocessing/process.py\", line 93, in run\n",
      "    self._target(*self._args, **self._kwargs)\n",
      "  File \"/opt/anaconda3/lib/python3.6/multiprocessing/pool.py\", line 108, in worker\n",
      "    task = get()\n",
      "  File \"/opt/anaconda3/lib/python3.6/multiprocessing/pool.py\", line 108, in worker\n",
      "    task = get()\n",
      "  File \"/opt/anaconda3/lib/python3.6/multiprocessing/process.py\", line 93, in run\n",
      "    self._target(*self._args, **self._kwargs)\n",
      "  File \"/opt/anaconda3/lib/python3.6/multiprocessing/process.py\", line 93, in run\n",
      "    self._target(*self._args, **self._kwargs)\n",
      "  File \"/opt/anaconda3/lib/python3.6/multiprocessing/process.py\", line 258, in _bootstrap\n",
      "    self.run()\n",
      "  File \"/opt/anaconda3/lib/python3.6/multiprocessing/pool.py\", line 108, in worker\n",
      "    task = get()\n",
      "  File \"/opt/anaconda3/lib/python3.6/multiprocessing/pool.py\", line 108, in worker\n",
      "    task = get()\n",
      "  File \"/opt/anaconda3/lib/python3.6/multiprocessing/queues.py\", line 334, in get\n",
      "    with self._rlock:\n",
      "  File \"/opt/anaconda3/lib/python3.6/multiprocessing/queues.py\", line 334, in get\n",
      "    with self._rlock:\n",
      "  File \"/opt/anaconda3/lib/python3.6/multiprocessing/queues.py\", line 334, in get\n",
      "    with self._rlock:\n",
      "  File \"/opt/anaconda3/lib/python3.6/multiprocessing/pool.py\", line 108, in worker\n",
      "    task = get()\n",
      "  File \"/opt/anaconda3/lib/python3.6/multiprocessing/process.py\", line 93, in run\n",
      "    self._target(*self._args, **self._kwargs)\n",
      "  File \"/opt/anaconda3/lib/python3.6/multiprocessing/pool.py\", line 108, in worker\n",
      "    task = get()\n",
      "  File \"/opt/anaconda3/lib/python3.6/multiprocessing/synchronize.py\", line 95, in __enter__\n",
      "    return self._semlock.__enter__()\n",
      "  File \"/opt/anaconda3/lib/python3.6/multiprocessing/queues.py\", line 335, in get\n",
      "    res = self._reader.recv_bytes()\n",
      "  File \"/opt/anaconda3/lib/python3.6/multiprocessing/synchronize.py\", line 95, in __enter__\n",
      "    return self._semlock.__enter__()\n",
      "  File \"/opt/anaconda3/lib/python3.6/multiprocessing/queues.py\", line 334, in get\n",
      "    with self._rlock:\n",
      "  File \"/opt/anaconda3/lib/python3.6/multiprocessing/pool.py\", line 108, in worker\n",
      "    task = get()\n",
      "  File \"/opt/anaconda3/lib/python3.6/multiprocessing/queues.py\", line 334, in get\n",
      "    with self._rlock:\n",
      "  File \"/opt/anaconda3/lib/python3.6/multiprocessing/connection.py\", line 216, in recv_bytes\n",
      "    buf = self._recv_bytes(maxlength)\n",
      "KeyboardInterrupt\n",
      "  File \"/opt/anaconda3/lib/python3.6/multiprocessing/queues.py\", line 334, in get\n",
      "    with self._rlock:\n",
      "KeyboardInterrupt\n",
      "  File \"/opt/anaconda3/lib/python3.6/multiprocessing/queues.py\", line 334, in get\n",
      "    with self._rlock:\n",
      "  File \"/opt/anaconda3/lib/python3.6/multiprocessing/synchronize.py\", line 95, in __enter__\n",
      "    return self._semlock.__enter__()\n",
      "  File \"/opt/anaconda3/lib/python3.6/multiprocessing/connection.py\", line 407, in _recv_bytes\n",
      "    buf = self._recv(4)\n",
      "  File \"/opt/anaconda3/lib/python3.6/multiprocessing/connection.py\", line 379, in _recv\n",
      "    chunk = read(handle, remaining)\n",
      "KeyboardInterrupt\n",
      "KeyboardInterrupt\n",
      "  File \"/opt/anaconda3/lib/python3.6/multiprocessing/synchronize.py\", line 95, in __enter__\n",
      "    return self._semlock.__enter__()\n",
      "  File \"/opt/anaconda3/lib/python3.6/multiprocessing/synchronize.py\", line 95, in __enter__\n",
      "    return self._semlock.__enter__()\n",
      "KeyboardInterrupt\n",
      "KeyboardInterrupt\n",
      "  File \"/opt/anaconda3/lib/python3.6/multiprocessing/synchronize.py\", line 95, in __enter__\n",
      "    return self._semlock.__enter__()\n",
      "KeyboardInterrupt\n",
      "  File \"/opt/anaconda3/lib/python3.6/multiprocessing/synchronize.py\", line 95, in __enter__\n",
      "    return self._semlock.__enter__()\n",
      "KeyboardInterrupt\n"
     ]
    }
   ],
   "source": [
    "# clean_df = sample_df.progress_apply(ftfy.fix_text, normalization='NFKC')\n",
    "clean_df = parallelize(sample_df, parallel_fix_text)\n",
    "clean_df = clean_df.rename('clean_comment_text')"
   ]
  },
  {
   "cell_type": "code",
   "execution_count": 188,
   "metadata": {},
   "outputs": [
    {
     "data": {
      "text/plain": [
       "(56554, 2)"
      ]
     },
     "execution_count": 188,
     "metadata": {},
     "output_type": "execute_result"
    }
   ],
   "source": [
    "diff_df = pd.concat([clean_df, sample_df], axis=1)\n",
    "diff_df = diff_df[diff_df['clean_comment_text'] != diff_df['comment_text']]\n",
    "diff_df.shape"
   ]
  },
  {
   "cell_type": "code",
   "execution_count": 189,
   "metadata": {},
   "outputs": [
    {
     "data": {
      "text/html": [
       "<div>\n",
       "<style scoped>\n",
       "    .dataframe tbody tr th:only-of-type {\n",
       "        vertical-align: middle;\n",
       "    }\n",
       "\n",
       "    .dataframe tbody tr th {\n",
       "        vertical-align: top;\n",
       "    }\n",
       "\n",
       "    .dataframe thead th {\n",
       "        text-align: right;\n",
       "    }\n",
       "</style>\n",
       "<table border=\"1\" class=\"dataframe\">\n",
       "  <thead>\n",
       "    <tr style=\"text-align: right;\">\n",
       "      <th></th>\n",
       "      <th>clean_comment_text</th>\n",
       "      <th>comment_text</th>\n",
       "    </tr>\n",
       "  </thead>\n",
       "  <tbody>\n",
       "    <tr>\n",
       "      <th>1792214</th>\n",
       "      <td>This is how these things impact all of us when they are brought into our political discourse.\\n\\n If these folks want to tell us that public policy isn't necessary to stop people from killing fell...</td>\n",
       "      <td>This is how these things impact all of us when they are brought into our political discourse.\\n\\n If these folks want to tell us that public policy isn’t necessary to stop people from killing fell...</td>\n",
       "    </tr>\n",
       "    <tr>\n",
       "      <th>643621</th>\n",
       "      <td>I am not a politician, so I don't need to report it, but I also participated in a Pacifica Institute trip to Turkey.  The article stated, \"It's puzzling that state legislators who rarely get invol...</td>\n",
       "      <td>I am not a politician, so I don't need to report it, but I also participated in a Pacifica Institute trip to Turkey.  The article stated, “It’s puzzling that state legislators who rarely get invol...</td>\n",
       "    </tr>\n",
       "    <tr>\n",
       "      <th>651697</th>\n",
       "      <td>No, it appears preaching is your specialty.\\n\\nI won't go into this with you again.  I get no pleasure from besting a fool.</td>\n",
       "      <td>No, it appears preaching is your specialty.\\n\\nI won’t go into this with you again.  I get no pleasure from besting a fool.</td>\n",
       "    </tr>\n",
       "    <tr>\n",
       "      <th>988929</th>\n",
       "      <td>The false dictionary of the White Supremacist, Old South CONfederacy, Neo-CONservative, Neo-dogma determined to destroy the nation to re-establish the Old South Plantation system now called Corpor...</td>\n",
       "      <td>The false dictionary of the White Supremacist, Old South CONfederacy, Neo-CONservative, Neo-dogma determined to destroy the nation to re-establish the Old South Plantation system now called Corpor...</td>\n",
       "    </tr>\n",
       "    <tr>\n",
       "      <th>1515445</th>\n",
       "      <td>If it ever sees the light of a legislator's laptop, it will bear about as much resemblance to the original as an unretouched Maxim cover does to the model who posed for it.</td>\n",
       "      <td>If it ever sees the light of a legislator’s laptop, it will bear about as much resemblance to the original as an unretouched Maxim cover does to the model who posed for it.</td>\n",
       "    </tr>\n",
       "  </tbody>\n",
       "</table>\n",
       "</div>"
      ],
      "text/plain": [
       "                                                                                                                                                                                              clean_comment_text  \\\n",
       "1792214  This is how these things impact all of us when they are brought into our political discourse.\\n\\n If these folks want to tell us that public policy isn't necessary to stop people from killing fell...   \n",
       "643621   I am not a politician, so I don't need to report it, but I also participated in a Pacifica Institute trip to Turkey.  The article stated, \"It's puzzling that state legislators who rarely get invol...   \n",
       "651697                                                                               No, it appears preaching is your specialty.\\n\\nI won't go into this with you again.  I get no pleasure from besting a fool.   \n",
       "988929   The false dictionary of the White Supremacist, Old South CONfederacy, Neo-CONservative, Neo-dogma determined to destroy the nation to re-establish the Old South Plantation system now called Corpor...   \n",
       "1515445                             If it ever sees the light of a legislator's laptop, it will bear about as much resemblance to the original as an unretouched Maxim cover does to the model who posed for it.   \n",
       "\n",
       "                                                                                                                                                                                                    comment_text  \n",
       "1792214  This is how these things impact all of us when they are brought into our political discourse.\\n\\n If these folks want to tell us that public policy isn’t necessary to stop people from killing fell...  \n",
       "643621   I am not a politician, so I don't need to report it, but I also participated in a Pacifica Institute trip to Turkey.  The article stated, “It’s puzzling that state legislators who rarely get invol...  \n",
       "651697                                                                               No, it appears preaching is your specialty.\\n\\nI won’t go into this with you again.  I get no pleasure from besting a fool.  \n",
       "988929   The false dictionary of the White Supremacist, Old South CONfederacy, Neo-CONservative, Neo-dogma determined to destroy the nation to re-establish the Old South Plantation system now called Corpor...  \n",
       "1515445                             If it ever sees the light of a legislator’s laptop, it will bear about as much resemblance to the original as an unretouched Maxim cover does to the model who posed for it.  "
      ]
     },
     "execution_count": 189,
     "metadata": {},
     "output_type": "execute_result"
    }
   ],
   "source": [
    "diff_df.head()"
   ]
  },
  {
   "cell_type": "code",
   "execution_count": 190,
   "metadata": {},
   "outputs": [
    {
     "data": {
      "text/plain": [
       "826201    25\n",
       "131633    22\n",
       "76263     10\n",
       "115751    10\n",
       "77657      8\n",
       "88374      7\n",
       "96710      6\n",
       "148735     6\n",
       "124405     6\n",
       "105658     6\n",
       "dtype: int64"
      ]
     },
     "execution_count": 190,
     "metadata": {},
     "output_type": "execute_result"
    }
   ],
   "source": [
    "top_diff_df = (diff_df['clean_comment_text'].str.len() - diff_df['comment_text'].str.len()).abs().sort_values(ascending=False).head(10)\n",
    "top_diff_df"
   ]
  },
  {
   "cell_type": "code",
   "execution_count": 204,
   "metadata": {},
   "outputs": [
    {
     "data": {
      "text/plain": [
       "array([['That bridge is incredibly dangerous, a relic of the past.  A tight, narrow turn, almost any speed above 30 could have been \"excessive speed\" for  a truck  like this.  But a professional truck driver should have been aware of  that.\\nFortunately there are now definite plans to replace it!\\nIn the meantime enjoy  sweet little Scottsburg,  once a major shipping metropolis.',\n",
       "        'That bridge is incredibly dangerous, a relic of the past.  A tight, narrow turn, almost any speed above 30 could have been \"excessive \\x10\\x10\\x10\\x10\\x10\\x10\\x10\\x10\\x10\\x10\\x10\\x10\\x10\\x10\\x10\\x10\\x10\\x10\\x10\\x10\\x10\\x10\\x10\\x10\\x10speed\" for  a truck  like this.  But a professional truck driver should have been aware of  that.\\nFortunately there are now definite plans to replace it!\\nIn the meantime enjoy  sweet little Scottsburg,  once a major shipping metropolis.'],\n",
       "       [\"GARBAGE ! FOR DECADES FOAMING AT THE MOUTH RIGHT WING NUTJOBS HAVE PERSECUTED THE CLINTONS AND THEY GOT SQUAT. AMAZINGLY ENOUGH THEY HAVE MADE MISTAKES BUT THE RESULTS OF MILLIONS OF DOLLARS SPENT ON TRYING TO CONVICT THEM Of SOMETHING IS SQUAT ZERO NADA! LIE AFTER LIE AFTER LIE SPEWED OUT AND REPEATED BY SCUM SUCH AS RUSH THE BIMBO, HANNITY THE WHORE AND ROGER  ALIES THE FIRED FOX NEWS PERVERT HAVE RESULTED IN THE CLINTONS BEING ELECTED TO REPRESENT THIS NATION ONCE AGAIN IN THE WHITE HOUSE .\\n\\nGO AHEAD AND GET THE POST DELETED . YOU CAN'T SILENCE THE WILL OF THE MAJORITY OF AMERICANS . PEOPLE WHO DON'T NEED A FLAG LAPEL PIN TO ACTUALLY BE AMERICAN PATRIOTS !!\",\n",
       "        \"GARBAGE ! FOR DECADES FOAMING AT THE MOUTH \\x7fRIGHT WING \\x7fNUTJOBS \\x7fHAVE PERSECUTED THE CLINTONS AND THEY GOT SQ\\x7fUAT. AMAZINGLY ENOUGH THEY HAVE \\x7fMADE MISTAKES BUT THE \\x7fRESULTS \\x7fOF MILLIONS OF DOLLARS SPENT ON TRYING TO CONVICT THEM Of SOMETHING IS SQUAT ZERO \\x7fNADA!\\x7f LIE AFTER \\x7fLIE AFTER LIE S\\x7fPEWED OUT AND REPEATED BY SCUM SUCH AS \\x7fRUSH THE \\x7fBIMBO, HA\\x7fNNITY \\x7fTHE WHORE AND ROGER  A\\x7fLIES THE FIRED FOX NEWS PERVERT HAVE RESULTED IN THE CLINTONS BEING ELECTED TO REPRESENT THIS NATION ONCE AGAIN IN THE WHITE HOUSE .\\n\\nGO AHEAD AND GET THE POST DELETED \\x7f. YOU CAN'T S\\x7fILENCE \\x7fTHE WILL OF THE MAJORITY OF AMERICANS . PEOPLE WHO DON'T NEED A FLAG LAPEL PIN TO ACTUALLY \\x7fBE AMERICAN \\x7fPATRIOTS !!\\x7f\"],\n",
       "       ['Yes taxes have gone up, DUH !\\nAnd his VA has taken away the gun rights of our veterans that make the mistake of seeking counseling.\\n\" the Justice Department proposing a rule change that makes receiving nebulous \"outpatient\" services from a professional such as a psychiatrist would be a red flag under gun ownership rules. According to the proposed rule change being treated as an outpatient will be akin to being committed to a mental institution.\" - See more at: http://www.teaparty.org/obama-uses-mental-health-issue-weapon-take-away-guns-32998/#sthash.1tNEq89g.dpuf\\n\\nThe only reason Hussein Obama has not gone total tyrant is because those that love liberty control the house, & senate.',\n",
       "        'Yes taxes have gone up, DUH !\\nAnd his VA has taken away the gun rights of our veterans that make the mistake of seeking counseling.\\n\" the Justice Department proposing a rule change that makes receiving nebulous &#147;outpatient&#148; services from a professional such as a psychiatrist would be a red flag under gun ownership rules. According to the proposed rule change being treated as an outpatient will be akin to being committed to a mental institution.\" - See more at: http://www.teaparty.org/obama-uses-mental-health-issue-weapon-take-away-guns-32998/#sthash.1tNEq89g.dpuf\\n\\nThe only reason Hussein Obama has not gone total tyrant is because those that love liberty control the house, & senate.'],\n",
       "       ['A sales tax IS REGRESSIVE .  It has a MUCH bigger impact on those with lower incomes .\\nEconomics 101',\n",
       "        'A sales tax \\x7fIS RE\\x7fGRESSIVE \\x7f. \\x7f\\x7f\\x7f It has a MUCH bigger \\x7fimpact \\x7fon those with \\x7flower \\x7fincomes .\\nEconomics 101'],\n",
       "       ['Kill House Bill 247 and let see what oil prices are next year and how big Pikka and Smith Bay & all the other discoveries are, the credits are working!\\n\\nThe oil glut is \"a real emergency\" and that is why the oil companies provided most the Constitutional budget to protect the state\\'s main income getter from emergencies like this Saudi market & price manipulation!\\n\\nUse this CBR fund to save the oil and gas Indusrty that HB 247 is trying to kill!\\n\\nIt will kill Alaska\\'s economy and shut down TAPS and cause the people to lose all the Permanent fund in a few short years!\\n\\nUse the CBR savings for this \"real emergency\" and kill House Bill 247, it\\'s a Atom Bomb 24/ 7 !',\n",
       "        'Kill House Bill 247 and let see what oil prices are next year and how big Pikka and Smith Bay & all the other discoveries are, the credits are working!\\r\\n\\r\\nThe oil glut is \"a real emergency\" and that is why the oil companies provided most the Constitutional budget to protect the state\\'s main income getter from emergencies like this Saudi market & price manipulation!\\r\\n\\r\\nUse this CBR fund to save the oil and gas Indusrty that HB 247 is trying to kill!\\r\\n\\r\\nIt will kill Alaska\\'s economy and shut down TAPS and cause the people to lose all the Permanent fund in a few short years!\\r\\n\\r\\nUse the CBR savings for this \"real emergency\" and kill House Bill 247, it\\'s a Atom Bomb 24/ 7 !'],\n",
       "       ['The best part of donald was the wet spot in his parents bed.',\n",
       "        '\\x7f\\x7f\\x7f\\x7fT\\x7f\\x7f\\x7fhe best part of donald was the wet spot in his parents bed.'],\n",
       "       [\"Why has Walker refused to oust Mark Pfeffer, owner of the LIO, from the Alaska Municipal Bond Bank Authority? \\n\\nThe conflict of interest between Pfeffer's public official role as chair of the Alaska Municipal Bond Band Authority and his private construction development company is too great for him to stay on the board. \\n\\nIt's not as if Pfeffer has the integrity to stay on as chair of the AMBBA as the released emails between Hawker and Pfeffer shows that Pfeffer does not have the public's best interest in mind when push comes to shove.\\n\\nSo, why has Walker not removed Pfeffer from the Alaska Municipal Bond Bank Authority?\",\n",
       "        \"Why has Walker refused to oust Mark Pfeffer, owner of the LIO, from the Alaska Municipal Bond Bank Authority? \\r\\n\\r\\nThe conflict of interest between Pfeffer's public official role as chair of the Alaska Municipal Bond Band Authority and his private construction development company is too great for him to stay on the board. \\r\\n\\r\\nIt's not as if Pfeffer has the integrity to stay on as chair of the AMBBA as the released emails between Hawker and Pfeffer shows that Pfeffer does not have the public's best interest in mind when push comes to shove.\\r\\n\\r\\nSo, why has Walker not removed Pfeffer from the Alaska Municipal Bond Bank Authority?\"],\n",
       "       ['HELL NO!\\n\\nHow about we cut management salaries  to fill the gap instead ?',\n",
       "        '\\x7fHE\\x7fLL NO!\\n\\n\\x7fHow a\\x7fbout we cut \\x7fma\\x7fnagement salaries  to fill the gap instead ?'],\n",
       "       [\"A TINY FIRE NEXT TO A MAJOR HIGHWAY AND 5 MINUTES FROM ELMENDORF AND ANCHORAGE AIRPORTS AND THEY HAVE UTTERLY FAILED TO CONTAIN IT?\\n\\nIS THE RNC IN CHARGE OF FOREST FIRES HERE NOW?\\n\\nIT'S ROUGH COUNTRY ?\\n\\nAWWW!\",\n",
       "        \"A TINY FIRE NEXT TO A MAJOR HIGHWAY AND 5 MINUTES FROM \\x7f\\x7fE\\x7fLMENDORF AND A\\x7fNCHORAGE AIR\\x7fPORTS AND THEY HAVE \\x7fUTTERLY FAILED TO CONTAIN IT?\\n\\nIS THE RNC IN CHARGE OF FOREST FIRES HERE NOW?\\n\\nIT'S ROUGH COUNTRY ?\\n\\nAWWW!\"],\n",
       "       ['LIFE THREATENING AMOUNTS ?\\n\\nWay too vague ! All those meds CAN be life threatening , especially in combination .\\n\\nBut there ARE CHRONIC PAIN  patients that LEGITIMATELY NEED THEM .\\n\\nSounds like this jerk was taking advantage of people that can least defend themselves .\\n\\nI\\'m a chronic pain patient , and if this \"DR\" is guilty I\\'d like 5 minutes in a room  alone with him . He would not walk out.\\n\\nIt\\'s already a nightmare getting the meds I NEED, scum like him make it even harder .',\n",
       "        'LIFE \\x7fTHREATENING AMOUNTS ?\\n\\nWay too vague ! All those meds \\x7fCAN be life threatening , especially in combination \\x7f.\\n\\nBut there ARE CHRONIC PAIN  patients that LEGITIMATELY NEED THEM .\\n\\nSounds like this jerk was taking advantage of people that can least defend themselves \\x7f.\\n\\nI\\'m a chronic \\x7fpain patient , and if this \"DR\" is guilty I\\'d like 5 minutes in a room  alone with him . He would not walk \\x7fout.\\n\\nIt\\'s already a nightmare getting the meds I NEED, scum like him make it even harder .']],\n",
       "      dtype=object)"
      ]
     },
     "execution_count": 204,
     "metadata": {},
     "output_type": "execute_result"
    }
   ],
   "source": [
    "diff_df.loc[top_diff_df.head(10).index].values"
   ]
  },
  {
   "cell_type": "raw",
   "metadata": {},
   "source": []
  },
  {
   "cell_type": "markdown",
   "metadata": {},
   "source": [
    "Apply on full data"
   ]
  },
  {
   "cell_type": "code",
   "execution_count": 194,
   "metadata": {},
   "outputs": [
    {
     "data": {
      "text/plain": [
       "0                 This is so cool. It's like, 'would you want your mother to read this??' Really great idea, well done!\n",
       "1    Thank you!! This would make my life a lot less anxiety-inducing. Keep it up, and don't let anyone get in your way!\n",
       "2                                This is such an urgent design problem; kudos to you for taking it on. Very impressive!\n",
       "3                                  Is this something I'll be able to install on my site? When will you be releasing it?\n",
       "4                                                                                  haha you guys are a bunch of losers.\n",
       "Name: comment_text, dtype: object"
      ]
     },
     "execution_count": 194,
     "metadata": {},
     "output_type": "execute_result"
    }
   ],
   "source": [
    "ftfy_train_df = parallelize(train_df['comment_text'], parallel_fix_text)\n",
    "ftfy_train_df.head()"
   ]
  },
  {
   "cell_type": "code",
   "execution_count": 195,
   "metadata": {},
   "outputs": [
    {
     "data": {
      "text/plain": [
       "0                                                Jeff Sessions is another one of Trump's Orwellian choices. He believes and has believed his entire career the exact opposite of what the position requires.\n",
       "1    I actually inspected the infrastructure on Grand Chief Stewart Philip's home Penticton First Nation in both 2010 and 2013.  Exactly Zero projects that had been identified in previous inspection re...\n",
       "2    No it won't . That's just wishful thinking on democrats fault .   For the 100 th time , Walker cited the cost of drug users treatment as being lost with Obamacare .  I laugh every time I hear a li...\n",
       "3    Instead of wringing our hands and nibbling the periphery of the issue, how about we face the actual issue head on? I would support a city ordinance against loitering, and applaud city councilors w...\n",
       "4    how many of you commenters have garbage piled high in your yard, bald tires, dead batteries, rotten pallets, car parts, blah blah blah. this town is a pigpen. drive around and look for yourself, i...\n",
       "Name: comment_text, dtype: object"
      ]
     },
     "execution_count": 195,
     "metadata": {},
     "output_type": "execute_result"
    }
   ],
   "source": [
    "ftfy_test_df = parallelize(test_df['comment_text'], parallel_fix_text)\n",
    "ftfy_test_df.head()"
   ]
  },
  {
   "cell_type": "code",
   "execution_count": 196,
   "metadata": {},
   "outputs": [
    {
     "data": {
      "text/plain": [
       "(56554, 2943)"
      ]
     },
     "execution_count": 196,
     "metadata": {},
     "output_type": "execute_result"
    }
   ],
   "source": [
    "((ftfy_train_df != train_df['comment_text']).sum(),\n",
    " (ftfy_test_df != test_df['comment_text']).sum())"
   ]
  },
  {
   "cell_type": "markdown",
   "metadata": {},
   "source": [
    "**Save/Load Clean Data**"
   ]
  },
  {
   "cell_type": "raw",
   "metadata": {},
   "source": [
    "with open(DATA_PATH/'ftfy_nfkc_train.pkl', 'wb') as  f:\n",
    "    pickle.dump(ftfy_train_df, f)\n",
    "\n",
    "with open(DATA_PATH/'ftfy_nfkc_test.pkl', 'wb') as  f:\n",
    "    pickle.dump(ftfy_test_df, f)"
   ]
  },
  {
   "cell_type": "raw",
   "metadata": {},
   "source": [
    "with open(DATA_PATH/'ftfy_nfkc_train.pkl', 'rb') as  f:\n",
    "    ftfy_train_df = pickle.load(f)\n",
    "\n",
    "with open(DATA_PATH/'ftfy_nfkc_test.pkl', 'rb') as  f:\n",
    "    ftfy_test_df = pickle.load(f)"
   ]
  },
  {
   "cell_type": "markdown",
   "metadata": {},
   "source": [
    "**Tokenize Data (Spacy)**"
   ]
  },
  {
   "cell_type": "code",
   "execution_count": 236,
   "metadata": {},
   "outputs": [],
   "source": [
    "def parallel_tokenize(s):\n",
    "    return s.progress_apply(tokenize)\n",
    "\n",
    "def tokenize(doc):\n",
    "    return ' '.join([token.text for token in nlp(doc)])"
   ]
  },
  {
   "cell_type": "code",
   "execution_count": 199,
   "metadata": {},
   "outputs": [],
   "source": [
    "nlp = spacy.load('en_core_web_lg', disable=['parser', 'tagger', 'ner'])"
   ]
  },
  {
   "cell_type": "code",
   "execution_count": 200,
   "metadata": {},
   "outputs": [
    {
     "data": {
      "text/plain": [
       "0                This is so cool . It 's like , ' would you want your mother to read this ? ? ' Really great idea , well done !\n",
       "1    Thank you ! ! This would make my life a lot less anxiety - inducing . Keep it up , and do n't let anyone get in your way !\n",
       "2                                     This is such an urgent design problem ; kudos to you for taking it on . Very impressive !\n",
       "3                                       Is this something I 'll be able to install on my site ? When will you be releasing it ?\n",
       "4                                                                                         haha you guys are a bunch of losers .\n",
       "Name: comment_text, dtype: object"
      ]
     },
     "execution_count": 200,
     "metadata": {},
     "output_type": "execute_result"
    }
   ],
   "source": [
    "spacy_ftfy_train_df = parallelize(ftfy_train_df, parallel_tokenize)\n",
    "spacy_ftfy_train_df.head()"
   ]
  },
  {
   "cell_type": "code",
   "execution_count": 201,
   "metadata": {},
   "outputs": [
    {
     "data": {
      "text/plain": [
       "0                                             Jeff Sessions is another one of Trump 's Orwellian choices . He believes and has believed his entire career the exact opposite of what the position requires .\n",
       "1    I actually inspected the infrastructure on Grand Chief Stewart Philip 's home Penticton First Nation in both 2010 and 2013 .   Exactly Zero projects that had been identified in previous inspection...\n",
       "2    No it wo n't . That 's just wishful thinking on democrats fault .    For the 100 th time , Walker cited the cost of drug users treatment as being lost with Obamacare .   I laugh every time I hear ...\n",
       "3    Instead of wringing our hands and nibbling the periphery of the issue , how about we face the actual issue head on ? I would support a city ordinance against loitering , and applaud city councilor...\n",
       "4    how many of you commenters have garbage piled high in your yard , bald tires , dead batteries , rotten pallets , car parts , blah blah blah . this town is a pigpen . drive around and look for your...\n",
       "Name: comment_text, dtype: object"
      ]
     },
     "execution_count": 201,
     "metadata": {},
     "output_type": "execute_result"
    }
   ],
   "source": [
    "spacy_ftfy_test_df = parallelize(ftfy_test_df, parallel_tokenize)\n",
    "spacy_ftfy_test_df.head()"
   ]
  },
  {
   "cell_type": "markdown",
   "metadata": {},
   "source": [
    "**Save/Load Clean Data**"
   ]
  },
  {
   "cell_type": "raw",
   "metadata": {},
   "source": [
    "with open(DATA_PATH/'spacy_ftfy_nfkc_train.pkl', 'wb') as  f:\n",
    "    pickle.dump(spacy_ftfy_train_df, f)\n",
    "\n",
    "with open(DATA_PATH/'spacy_ftfy_nfkc_test.pkl', 'wb') as  f:\n",
    "    pickle.dump(spacy_ftfy_test_df, f)"
   ]
  },
  {
   "cell_type": "raw",
   "metadata": {},
   "source": [
    "with open(DATA_PATH/'spacy_ftfy_nfkc_train.pkl', 'rb') as  f:\n",
    "    spacy_ftfy_train_df = pickle.load(f)\n",
    "\n",
    "with open(DATA_PATH/'spacy_ftfy_nfkc_test.pkl', 'rb') as  f:\n",
    "    spacy_ftfy_test_df = pickle.load(f)"
   ]
  },
  {
   "cell_type": "raw",
   "metadata": {},
   "source": []
  },
  {
   "cell_type": "markdown",
   "metadata": {},
   "source": [
    "**Tokenize Data (nltk)**"
   ]
  },
  {
   "cell_type": "code",
   "execution_count": 238,
   "metadata": {},
   "outputs": [
    {
     "data": {
      "text/plain": [
       "<nltk.tokenize.casual.TweetTokenizer at 0x7f0dac2225c0>"
      ]
     },
     "execution_count": 238,
     "metadata": {},
     "output_type": "execute_result"
    }
   ],
   "source": [
    "tokenizer = TweetTokenizer(reduce_len=True)\n",
    "tokenizer"
   ]
  },
  {
   "cell_type": "code",
   "execution_count": 239,
   "metadata": {},
   "outputs": [],
   "source": [
    "def parallel_tokenize(s):\n",
    "    return s.progress_apply(tokenize)\n",
    "\n",
    "def tokenize(doc):\n",
    "    return ' '.join(tokenizer.tokenize(doc))"
   ]
  },
  {
   "cell_type": "code",
   "execution_count": 240,
   "metadata": {},
   "outputs": [
    {
     "data": {
      "text/plain": [
       "0              This is so cool . It's like , ' would you want your mother to read this ? ? ' Really great idea , well done !\n",
       "1    Thank you ! ! This would make my life a lot less anxiety-inducing . Keep it up , and don't let anyone get in your way !\n",
       "2                                  This is such an urgent design problem ; kudos to you for taking it on . Very impressive !\n",
       "3                                     Is this something I'll be able to install on my site ? When will you be releasing it ?\n",
       "4                                                                                      haha you guys are a bunch of losers .\n",
       "Name: comment_text, dtype: object"
      ]
     },
     "execution_count": 240,
     "metadata": {},
     "output_type": "execute_result"
    }
   ],
   "source": [
    "tweet_ftfy_train_df = parallelize(ftfy_train_df, parallel_tokenize)\n",
    "tweet_ftfy_train_df.head()"
   ]
  },
  {
   "cell_type": "code",
   "execution_count": 241,
   "metadata": {},
   "outputs": [
    {
     "data": {
      "text/plain": [
       "0                                              Jeff Sessions is another one of Trump's Orwellian choices . He believes and has believed his entire career the exact opposite of what the position requires .\n",
       "1    I actually inspected the infrastructure on Grand Chief Stewart Philip's home Penticton First Nation in both 2010 and 2013 . Exactly Zero projects that had been identified in previous inspection re...\n",
       "2    No it won't . That's just wishful thinking on democrats fault . For the 100 th time , Walker cited the cost of drug users treatment as being lost with Obamacare . I laugh every time I hear a liber...\n",
       "3    Instead of wringing our hands and nibbling the periphery of the issue , how about we face the actual issue head on ? I would support a city ordinance against loitering , and applaud city councilor...\n",
       "4    how many of you commenters have garbage piled high in your yard , bald tires , dead batteries , rotten pallets , car parts , blah blah blah . this town is a pigpen . drive around and look for your...\n",
       "Name: comment_text, dtype: object"
      ]
     },
     "execution_count": 241,
     "metadata": {},
     "output_type": "execute_result"
    }
   ],
   "source": [
    "tweet_ftfy_test_df = parallelize(ftfy_test_df, parallel_tokenize)\n",
    "tweet_ftfy_test_df.head()"
   ]
  },
  {
   "cell_type": "markdown",
   "metadata": {},
   "source": [
    "**Save/Load Clean Data**"
   ]
  },
  {
   "cell_type": "code",
   "execution_count": 243,
   "metadata": {},
   "outputs": [],
   "source": [
    "with open(DATA_PATH/'tweet_ftfy_nfkc_train.pkl', 'wb') as  f:\n",
    "    pickle.dump(tweet_ftfy_train_df, f)\n",
    "\n",
    "with open(DATA_PATH/'tweet_ftfy_nfkc_test.pkl', 'wb') as  f:\n",
    "    pickle.dump(tweet_ftfy_test_df, f)"
   ]
  },
  {
   "cell_type": "code",
   "execution_count": 244,
   "metadata": {},
   "outputs": [],
   "source": [
    "with open(DATA_PATH/'tweet_ftfy_nfkc_train.pkl', 'rb') as  f:\n",
    "    tweet_ftfy_train_df = pickle.load(f)\n",
    "\n",
    "with open(DATA_PATH/'tweet_ftfy_nfkc_test.pkl', 'rb') as  f:\n",
    "    tweet_ftfy_test_df = pickle.load(f)"
   ]
  },
  {
   "cell_type": "code",
   "execution_count": 247,
   "metadata": {},
   "outputs": [
    {
     "data": {
      "text/plain": [
       "0              [This, is, so, cool, ., It's, like, ,, ', would, you, want, your, mother, to, read, this, ?, ?, ', Really, great, idea, ,, well, done, !]\n",
       "1    [Thank, you, !, !, This, would, make, my, life, a, lot, less, anxiety-inducing, ., Keep, it, up, ,, and, don't, let, anyone, get, in, your, way, !]\n",
       "2                                          [This, is, such, an, urgent, design, problem, ;, kudos, to, you, for, taking, it, on, ., Very, impressive, !]\n",
       "3                                             [Is, this, something, I'll, be, able, to, install, on, my, site, ?, When, will, you, be, releasing, it, ?]\n",
       "4                                                                                                        [haha, you, guys, are, a, bunch, of, losers, .]\n",
       "Name: comment_text, dtype: object"
      ]
     },
     "execution_count": 247,
     "metadata": {},
     "output_type": "execute_result"
    }
   ],
   "source": [
    "check_df = tweet_ftfy_train_df.str.split()\n",
    "check_df.head()"
   ]
  },
  {
   "cell_type": "code",
   "execution_count": 249,
   "metadata": {},
   "outputs": [
    {
     "data": {
      "text/plain": [
       "7                                                                                                                                                 [FFFUUU]\n",
       "269                                            [www.businessinsider.com/it-turns-out-that-smoking-marijuana-may-actually-make-you-a-better-driver-2011-12]\n",
       "276                                                                                                                                                   [:(]\n",
       "316                                                                                                                                                   [;)]\n",
       "375                                                                                                                                                  [log]\n",
       "436                                                                                                                                                   [No]\n",
       "437                                                                                                                                                  [yes]\n",
       "615                                                                                                                         [http://www.tacticalshit.com/]\n",
       "860                                                                                                                                                 [boom]\n",
       "956                                                                                                                                               [NIGGER]\n",
       "1023                                                                                                                                             [Testing]\n",
       "1075                                                                                                                                                [asdf]\n",
       "1396                                                                                                                                                 [LOL]\n",
       "1634                                                                                                      [http://daytonflyers.com/roster.aspx?rp_id=2579]\n",
       "1745                                                                                                        [https://en.wikipedia.org/wiki/Theta_Pi_Sigma]\n",
       "1960                                                                                                                                [#ElizabethWarren2016]\n",
       "3669                                                                                                                                              [SNITCH]\n",
       "3959                                                                                                         [https://www.youtube.com/watch?v=NJxmpTMGhU0]\n",
       "5396                                                                                                                                               [Great]\n",
       "5477                                                                                                                                              [Heroin]\n",
       "5638                                                                                                                                                [LMAO]\n",
       "5825                                                                                                                                                [Amen]\n",
       "5971                                                                                                                                                [Nope]\n",
       "5988                                                                                          [http://www.internationalviewpoint.org/spip.php?article4265]\n",
       "6186                                                                                                                                                  [ok]\n",
       "7375                                                                               [http://heartseamonkeys.blogspot.com/2016/03/au-revoir-stump-town.html]\n",
       "7765                                                                             [http://koin.com/2015/11/13/10-of-oregons-13-superdelegates-uncommitted/]\n",
       "8051                                                                                                                                                 [wow]\n",
       "8178                                                                                                                                               [shill]\n",
       "8465                                                                                                                                             [Awesome]\n",
       "                                                                                ...                                                                       \n",
       "1794073                                                                            [http://www.cnn.com/2017/11/01/us/colorado-walmart-shooting/index.html]\n",
       "1794379                                                                                                                                              [boo]\n",
       "1794427                                                                                                                          [http://study.result.pk/]\n",
       "1794535                                                                                               [https://weather.com/weather/tenday/l/CHXX0008:1:CH]\n",
       "1794607                                                                                                                                            [Agree]\n",
       "1794627                                                                                                             [They_cling_to_familiarity_over_faith]\n",
       "1794809                                                                            [https://www.webmd.com/a-to-z-guides/tc/fractured-rib-topic-overview#1]\n",
       "1795472                                                                                                                                               [42]\n",
       "1796225                                                                                                                                              [007]\n",
       "1796427                                                      [http://www.denverpost.com/2012/02/14/editorial-obamas-failure-to-lead-on-deficit-reduction/]\n",
       "1797040                                                  [https://thinkprogress.org/u-s-solar-created-more-jobs-than-oil-and-gas-extraction-8634b2aff1f6/]\n",
       "1797450    [https://ucr.fbi.gov/crime-in-the-u.s/2015/crime-in-the-u.s.-2015/tables/expanded_homicide_data_table_8_murder_victims_by_weapon_2011-2015.xls]\n",
       "1797809                                                                              [http://www.aim.org/guest-column/how-to-fake-an-islamophobia-crisis/]\n",
       "1798079                                                                                                                                             [putz]\n",
       "1798503                                                                                                                                       [Disgusting]\n",
       "1799065                                                                                                                                    [Righteousness]\n",
       "1799493                                                                                                                                   [#JusticeForAnt]\n",
       "1799873                                            [https://www.tranbc.ca/2014/10/24/how-to-choose-from-4-types-of-winter-tires-for-winter-driving-in-bc/]\n",
       "1800209                                                                                                                          [http://forextrading.pk/]\n",
       "1800328                                                               [http://www.hawaiiprepworld.com/featured/signing-day-hilliard-nam-among-40-signees/]\n",
       "1800383                                                                                                                                         [moergabe]\n",
       "1801251                                                                                                                                          [Vietnam]\n",
       "1801405                                             [http://www.doctornerdlove.com/wp-content/uploads/2016/03/you-keep-using-that-word-e1458094038124.jpg]\n",
       "1801525                                     [http://business.financialpost.com/news/economy/forget-nafta-the-tpp-is-the-new-gold-standard-of-global-trade]\n",
       "1802259           [http://business.financialpost.com/commodities/energy/conservatives-savage-liberal-government-over-cancellation-of-energy-east-pipeline]\n",
       "1802442                                                                                                                                          [exactly]\n",
       "1802473                  [http://www.staradvertiser.com/2017/11/09/breaking-news/report-alabamas-senate-gop-nominee-accused-of-sexual-contact-with-minor/]\n",
       "1802525                                                                                                                                              [sad]\n",
       "1803373                                                                                                                     [https://youtu.be/IHE17cfzyQM]\n",
       "1804385                                                                                                                                         [Nonsense]\n",
       "Name: comment_text, Length: 5472, dtype: object"
      ]
     },
     "execution_count": 249,
     "metadata": {},
     "output_type": "execute_result"
    }
   ],
   "source": [
    "check_df[check_df.str.len() == 1]"
   ]
  },
  {
   "cell_type": "raw",
   "metadata": {},
   "source": []
  },
  {
   "cell_type": "markdown",
   "metadata": {},
   "source": [
    "**Keyword Extraction**"
   ]
  },
  {
   "cell_type": "code",
   "execution_count": 224,
   "metadata": {},
   "outputs": [],
   "source": [
    "text_content = \" Jeff Sessions is another one of Trump 's Orwellian choices . He believes and has believed his entire career the exact opposite of what the position requires .\"\n",
    "simple_kwextractor = yake.KeywordExtractor(n=2)\n",
    "keywords = simple_kwextractor.extract_keywords(text_content)"
   ]
  },
  {
   "cell_type": "code",
   "execution_count": 225,
   "metadata": {},
   "outputs": [
    {
     "data": {
      "text/plain": [
       "[('jeff sessions', 0.008293207122436794),\n",
       " ('orwellian choices', 0.008293207122436794),\n",
       " ('position requires', 0.015380821171891606),\n",
       " ('entire career', 0.02570861714399338),\n",
       " ('exact opposite', 0.02570861714399338),\n",
       " ('trump', 0.057012387690331526),\n",
       " ('sessions', 0.08596317751626563),\n",
       " ('orwellian', 0.08596317751626563),\n",
       " ('jeff', 0.09568045026443411),\n",
       " ('choices', 0.09568045026443411),\n",
       " ('requires', 0.09568045026443411),\n",
       " ('believed', 0.15831692877998726),\n",
       " ('entire', 0.15831692877998726),\n",
       " ('career', 0.15831692877998726),\n",
       " ('exact', 0.15831692877998726),\n",
       " ('opposite', 0.15831692877998726),\n",
       " ('position', 0.15831692877998726)]"
      ]
     },
     "execution_count": 225,
     "metadata": {},
     "output_type": "execute_result"
    }
   ],
   "source": [
    "keywords"
   ]
  },
  {
   "cell_type": "raw",
   "metadata": {},
   "source": [
    "spacy_ftfy_train_df[spacy_ftfy_train_df.str.len() > 2].head(100).progress_apply(simple_kwextractor.extract_keywords)"
   ]
  },
  {
   "cell_type": "raw",
   "metadata": {},
   "source": [
    "spacy_ftfy_train_df.progress_apply(simple_kwextractor.extract_keywords)"
   ]
  },
  {
   "cell_type": "code",
   "execution_count": null,
   "metadata": {},
   "outputs": [],
   "source": []
  }
 ],
 "metadata": {
  "kernelspec": {
   "display_name": "Python 3",
   "language": "python",
   "name": "python3"
  },
  "language_info": {
   "codemirror_mode": {
    "name": "ipython",
    "version": 3
   },
   "file_extension": ".py",
   "mimetype": "text/x-python",
   "name": "python",
   "nbconvert_exporter": "python",
   "pygments_lexer": "ipython3",
   "version": "3.6.8"
  }
 },
 "nbformat": 4,
 "nbformat_minor": 2
}
