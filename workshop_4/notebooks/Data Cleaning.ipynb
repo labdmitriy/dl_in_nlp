{
 "cells": [
  {
   "cell_type": "code",
   "execution_count": 1,
   "metadata": {},
   "outputs": [],
   "source": [
    "from pathlib import Path\n",
    "import pickle\n",
    "import re\n",
    "from functools import partial\n",
    "\n",
    "from tqdm import tqdm, tqdm_notebook\n",
    "from multiprocessing import cpu_count, Pool\n",
    "\n",
    "import numpy as np\n",
    "import pandas as pd\n",
    "\n",
    "import spacy\n",
    "import ftfy\n",
    "import yake\n",
    "from nltk.tokenize import TweetTokenizer\n",
    "\n",
    "%matplotlib inline\n",
    "import matplotlib.pyplot as plt\n",
    "import seaborn as sns"
   ]
  },
  {
   "cell_type": "code",
   "execution_count": 2,
   "metadata": {},
   "outputs": [],
   "source": [
    "pd.options.display.max_colwidth = 200 # default - 50"
   ]
  },
  {
   "cell_type": "code",
   "execution_count": 3,
   "metadata": {},
   "outputs": [
    {
     "name": "stderr",
     "output_type": "stream",
     "text": [
      "0it [00:00, ?it/s]\n"
     ]
    }
   ],
   "source": [
    "DATA_PATH = Path('../data')\n",
    "RANDOM_SEED = 17\n",
    "\n",
    "tqdm().pandas()"
   ]
  },
  {
   "cell_type": "markdown",
   "metadata": {},
   "source": [
    "**Load Data**"
   ]
  },
  {
   "cell_type": "code",
   "execution_count": 4,
   "metadata": {},
   "outputs": [],
   "source": [
    "train_df = pd.read_csv(DATA_PATH/'train.csv')\n",
    "valid_df = pd.read_csv(DATA_PATH/'valid.csv')\n",
    "test_df = pd.read_csv(DATA_PATH/'test.csv')"
   ]
  },
  {
   "cell_type": "code",
   "execution_count": 5,
   "metadata": {},
   "outputs": [],
   "source": [
    "text_cols = ['title', 'text']"
   ]
  },
  {
   "cell_type": "markdown",
   "metadata": {},
   "source": [
    "**Clean Data**"
   ]
  },
  {
   "cell_type": "code",
   "execution_count": 6,
   "metadata": {},
   "outputs": [],
   "source": [
    "def parallelize(data, func, cores=None):\n",
    "    if cores is None:\n",
    "        cores = cpu_count()\n",
    "    partitions = cores\n",
    "    data_split = np.array_split(data, partitions)\n",
    "    pool = Pool(cores)\n",
    "    data = pd.concat(pool.map(func, data_split))\n",
    "    pool.close()\n",
    "    pool.join()\n",
    "    return data"
   ]
  },
  {
   "cell_type": "code",
   "execution_count": 7,
   "metadata": {},
   "outputs": [],
   "source": [
    "X_train = train_df.fillna('')\n",
    "X_valid = valid_df.fillna('')\n",
    "X_test = test_df.fillna('')"
   ]
  },
  {
   "cell_type": "markdown",
   "metadata": {},
   "source": [
    "**Fix unicode characters**"
   ]
  },
  {
   "cell_type": "code",
   "execution_count": 8,
   "metadata": {},
   "outputs": [],
   "source": [
    "def parallel_fix_text(s, normalization='NFKC'):\n",
    "    return s.progress_apply(fix_text)\n",
    "\n",
    "def fix_text(doc):\n",
    "    return ftfy.fix_text(doc)"
   ]
  },
  {
   "cell_type": "code",
   "execution_count": 9,
   "metadata": {},
   "outputs": [
    {
     "name": "stderr",
     "output_type": "stream",
     "text": [
      "100%|██████████| 3109/3109 [00:00<00:00, 22100.91it/s]\n",
      "100%|██████████| 3108/3108 [00:00<00:00, 18084.56it/s]\n",
      "100%|██████████| 3109/3109 [00:00<00:00, 17231.61it/s]\n",
      "100%|██████████| 3109/3109 [00:00<00:00, 13246.69it/s]\n",
      "100%|██████████| 3109/3109 [00:00<00:00, 12758.49it/s]\n",
      "100%|██████████| 3109/3109 [00:00<00:00, 11046.03it/s]\n",
      "100%|██████████| 3109/3109 [00:00<00:00, 9337.93it/s]\n",
      "100%|██████████| 3109/3109 [00:00<00:00, 9167.28it/s]\n",
      "100%|██████████| 3108/3108 [00:14<00:00, 216.37it/s]\n",
      "100%|██████████| 3109/3109 [00:14<00:00, 209.88it/s]\n",
      "100%|██████████| 3109/3109 [00:14<00:00, 209.19it/s]\n",
      "100%|██████████| 3109/3109 [00:21<00:00, 141.99it/s]\n",
      "100%|██████████| 3109/3109 [00:23<00:00, 133.49it/s]\n",
      "100%|██████████| 3109/3109 [00:23<00:00, 132.90it/s]\n",
      "100%|██████████| 3109/3109 [00:23<00:00, 131.09it/s]\n",
      "100%|██████████| 3109/3109 [00:23<00:00, 130.94it/s]\n"
     ]
    },
    {
     "data": {
      "text/html": [
       "<div>\n",
       "<style scoped>\n",
       "    .dataframe tbody tr th:only-of-type {\n",
       "        vertical-align: middle;\n",
       "    }\n",
       "\n",
       "    .dataframe tbody tr th {\n",
       "        vertical-align: top;\n",
       "    }\n",
       "\n",
       "    .dataframe thead th {\n",
       "        text-align: right;\n",
       "    }\n",
       "</style>\n",
       "<table border=\"1\" class=\"dataframe\">\n",
       "  <thead>\n",
       "    <tr style=\"text-align: right;\">\n",
       "      <th></th>\n",
       "      <th>clean_title</th>\n",
       "      <th>clean_text</th>\n",
       "    </tr>\n",
       "  </thead>\n",
       "  <tbody>\n",
       "    <tr>\n",
       "      <th>0</th>\n",
       "      <td>China and Economic Reform: Xi Jinping's Track Record</td>\n",
       "      <td>Economists generally agree: China must overhaul its huge but wasteful economy if it wants to continue to grow in the years to come. That means limiting political interference in banking and the fi...</td>\n",
       "    </tr>\n",
       "    <tr>\n",
       "      <th>1</th>\n",
       "      <td>Trade to Be a Big Topic in Theresa May's U.S. Visit</td>\n",
       "      <td>LONDON—British Prime Minister Theresa May said she'll discuss trade and security in a coming meeting with President Donald Trump, his first visit from a foreign leader as president, underscoring t...</td>\n",
       "    </tr>\n",
       "    <tr>\n",
       "      <th>2</th>\n",
       "      <td>The Top Beaches In The World, According To National Geographic</td>\n",
       "      <td>Beaches come in all sorts of shapes and sizes beyond the typical Caribbean postcard. As such, National Geographic's new list of the Top 21 Beaches in the World includes a diverse mix of shorelines...</td>\n",
       "    </tr>\n",
       "    <tr>\n",
       "      <th>3</th>\n",
       "      <td>Sheriff's Report Provides New Details on Tamir Rice's Death, but Leaves Questions</td>\n",
       "      <td>A timeline of what happened after Tamir Rice, a 12-year-old boy, was killed by a police officer in Cleveland last November. A lengthy report published Saturday revealed new details about the fatal...</td>\n",
       "    </tr>\n",
       "    <tr>\n",
       "      <th>4</th>\n",
       "      <td>Surgeon claiming he will transplant volunteer's HEAD to another body says he needs America's help to do it</td>\n",
       "      <td>An Italian neurosurgeon who has claimed for months that he will perform the world's first human head transplant asked Americans to 'be Americans' and donate to his cause.  Dr. Sergio Canavero's pl...</td>\n",
       "    </tr>\n",
       "  </tbody>\n",
       "</table>\n",
       "</div>"
      ],
      "text/plain": [
       "                                                                                                  clean_title  \\\n",
       "0                                                       China and Economic Reform: Xi Jinping's Track Record    \n",
       "1                                                         Trade to Be a Big Topic in Theresa May's U.S. Visit   \n",
       "2                                              The Top Beaches In The World, According To National Geographic   \n",
       "3                          Sheriff's Report Provides New Details on Tamir Rice's Death, but Leaves Questions    \n",
       "4  Surgeon claiming he will transplant volunteer's HEAD to another body says he needs America's help to do it   \n",
       "\n",
       "                                                                                                                                                                                                clean_text  \n",
       "0  Economists generally agree: China must overhaul its huge but wasteful economy if it wants to continue to grow in the years to come. That means limiting political interference in banking and the fi...  \n",
       "1  LONDON—British Prime Minister Theresa May said she'll discuss trade and security in a coming meeting with President Donald Trump, his first visit from a foreign leader as president, underscoring t...  \n",
       "2  Beaches come in all sorts of shapes and sizes beyond the typical Caribbean postcard. As such, National Geographic's new list of the Top 21 Beaches in the World includes a diverse mix of shorelines...  \n",
       "3  A timeline of what happened after Tamir Rice, a 12-year-old boy, was killed by a police officer in Cleveland last November. A lengthy report published Saturday revealed new details about the fatal...  \n",
       "4  An Italian neurosurgeon who has claimed for months that he will perform the world's first human head transplant asked Americans to 'be Americans' and donate to his cause.  Dr. Sergio Canavero's pl...  "
      ]
     },
     "execution_count": 9,
     "metadata": {},
     "output_type": "execute_result"
    }
   ],
   "source": [
    "X_train_ftfy = pd.DataFrame()\n",
    "X_train_ftfy['clean_title'] = parallelize(X_train['title'], parallel_fix_text)\n",
    "X_train_ftfy['clean_text'] = parallelize(X_train['text'], parallel_fix_text)\n",
    "X_train_ftfy.head()"
   ]
  },
  {
   "cell_type": "code",
   "execution_count": 10,
   "metadata": {},
   "outputs": [
    {
     "data": {
      "text/plain": [
       "(3397, 5)"
      ]
     },
     "execution_count": 10,
     "metadata": {},
     "output_type": "execute_result"
    }
   ],
   "source": [
    "diff_df = pd.concat([X_train_ftfy, X_train], axis=1)\n",
    "diff_df = diff_df[diff_df['clean_title'] != diff_df['title']]\n",
    "diff_df.shape"
   ]
  },
  {
   "cell_type": "code",
   "execution_count": 11,
   "metadata": {},
   "outputs": [
    {
     "data": {
      "text/html": [
       "<div>\n",
       "<style scoped>\n",
       "    .dataframe tbody tr th:only-of-type {\n",
       "        vertical-align: middle;\n",
       "    }\n",
       "\n",
       "    .dataframe tbody tr th {\n",
       "        vertical-align: top;\n",
       "    }\n",
       "\n",
       "    .dataframe thead th {\n",
       "        text-align: right;\n",
       "    }\n",
       "</style>\n",
       "<table border=\"1\" class=\"dataframe\">\n",
       "  <thead>\n",
       "    <tr style=\"text-align: right;\">\n",
       "      <th></th>\n",
       "      <th>clean_title</th>\n",
       "      <th>clean_text</th>\n",
       "      <th>label</th>\n",
       "      <th>title</th>\n",
       "      <th>text</th>\n",
       "    </tr>\n",
       "  </thead>\n",
       "  <tbody>\n",
       "    <tr>\n",
       "      <th>0</th>\n",
       "      <td>China and Economic Reform: Xi Jinping's Track Record</td>\n",
       "      <td>Economists generally agree: China must overhaul its huge but wasteful economy if it wants to continue to grow in the years to come. That means limiting political interference in banking and the fi...</td>\n",
       "      <td>news</td>\n",
       "      <td>China and Economic Reform: Xi Jinping’s Track Record</td>\n",
       "      <td>Economists generally agree: China must overhaul its huge but wasteful economy if it wants to continue to grow in the years to come. That means limiting political interference in banking and the fi...</td>\n",
       "    </tr>\n",
       "    <tr>\n",
       "      <th>1</th>\n",
       "      <td>Trade to Be a Big Topic in Theresa May's U.S. Visit</td>\n",
       "      <td>LONDON—British Prime Minister Theresa May said she'll discuss trade and security in a coming meeting with President Donald Trump, his first visit from a foreign leader as president, underscoring t...</td>\n",
       "      <td>news</td>\n",
       "      <td>Trade to Be a Big Topic in Theresa May’s U.S. Visit</td>\n",
       "      <td>LONDON—British Prime Minister Theresa May said she’ll discuss trade and security in a coming meeting with President Donald Trump, his first visit from a foreign leader as president, underscoring t...</td>\n",
       "    </tr>\n",
       "    <tr>\n",
       "      <th>3</th>\n",
       "      <td>Sheriff's Report Provides New Details on Tamir Rice's Death, but Leaves Questions</td>\n",
       "      <td>A timeline of what happened after Tamir Rice, a 12-year-old boy, was killed by a police officer in Cleveland last November. A lengthy report published Saturday revealed new details about the fatal...</td>\n",
       "      <td>clickbait</td>\n",
       "      <td>Sheriff’s Report Provides New Details on Tamir Rice’s Death, but Leaves Questions</td>\n",
       "      <td>A timeline of what happened after Tamir Rice, a 12-year-old boy, was killed by a police officer in Cleveland last November. A lengthy report published Saturday revealed new details about the fatal...</td>\n",
       "    </tr>\n",
       "    <tr>\n",
       "      <th>11</th>\n",
       "      <td>Trump's Mar-a-Lago Hit With 13 Health Violations in January</td>\n",
       "      <td>President Donald Trump may want to consider swinging by the kitchen when he visits his plush Mar-a-Lago resort this weekend. Florida health inspectors found more than a dozen violations during a J...</td>\n",
       "      <td>news</td>\n",
       "      <td>Trump’s Mar-a-Lago Hit With 13 Health Violations in January</td>\n",
       "      <td>President Donald Trump may want to consider swinging by the kitchen when he visits his plush Mar-a-Lago resort this weekend. Florida health inspectors found more than a dozen violations during a J...</td>\n",
       "    </tr>\n",
       "    <tr>\n",
       "      <th>24</th>\n",
       "      <td>EXCLUSIVE: 'I'm not going crazy to cut my head off here': Disabled 'guinea pig' for first full HEAD transplant to meet surgeon for first time this week and insists he'll only go under knife when i...</td>\n",
       "      <td>The man volunteering to be the guinea pig for pioneering head transplant surgery is flying to America this week to meet for the first time the doctor intending to give him a new body. Russian Vale...</td>\n",
       "      <td>news</td>\n",
       "      <td>EXCLUSIVE: 'I'm not going crazy to cut my head off here': Disabled ‘guinea pig’ for first full HEAD transplant to meet surgeon for first time this week and insists he'll only go under knife when i...</td>\n",
       "      <td>The man volunteering to be the guinea pig for pioneering head transplant surgery is flying to America this week to meet for the first time the doctor intending to give him a new body. Russian Vale...</td>\n",
       "    </tr>\n",
       "  </tbody>\n",
       "</table>\n",
       "</div>"
      ],
      "text/plain": [
       "                                                                                                                                                                                                clean_title  \\\n",
       "0                                                                                                                                                     China and Economic Reform: Xi Jinping's Track Record    \n",
       "1                                                                                                                                                       Trade to Be a Big Topic in Theresa May's U.S. Visit   \n",
       "3                                                                                                                        Sheriff's Report Provides New Details on Tamir Rice's Death, but Leaves Questions    \n",
       "11                                                                                                                                              Trump's Mar-a-Lago Hit With 13 Health Violations in January   \n",
       "24  EXCLUSIVE: 'I'm not going crazy to cut my head off here': Disabled 'guinea pig' for first full HEAD transplant to meet surgeon for first time this week and insists he'll only go under knife when i...   \n",
       "\n",
       "                                                                                                                                                                                                 clean_text  \\\n",
       "0   Economists generally agree: China must overhaul its huge but wasteful economy if it wants to continue to grow in the years to come. That means limiting political interference in banking and the fi...   \n",
       "1   LONDON—British Prime Minister Theresa May said she'll discuss trade and security in a coming meeting with President Donald Trump, his first visit from a foreign leader as president, underscoring t...   \n",
       "3   A timeline of what happened after Tamir Rice, a 12-year-old boy, was killed by a police officer in Cleveland last November. A lengthy report published Saturday revealed new details about the fatal...   \n",
       "11  President Donald Trump may want to consider swinging by the kitchen when he visits his plush Mar-a-Lago resort this weekend. Florida health inspectors found more than a dozen violations during a J...   \n",
       "24  The man volunteering to be the guinea pig for pioneering head transplant surgery is flying to America this week to meet for the first time the doctor intending to give him a new body. Russian Vale...   \n",
       "\n",
       "        label  \\\n",
       "0        news   \n",
       "1        news   \n",
       "3   clickbait   \n",
       "11       news   \n",
       "24       news   \n",
       "\n",
       "                                                                                                                                                                                                      title  \\\n",
       "0                                                                                                                                                     China and Economic Reform: Xi Jinping’s Track Record    \n",
       "1                                                                                                                                                       Trade to Be a Big Topic in Theresa May’s U.S. Visit   \n",
       "3                                                                                                                        Sheriff’s Report Provides New Details on Tamir Rice’s Death, but Leaves Questions    \n",
       "11                                                                                                                                              Trump’s Mar-a-Lago Hit With 13 Health Violations in January   \n",
       "24  EXCLUSIVE: 'I'm not going crazy to cut my head off here': Disabled ‘guinea pig’ for first full HEAD transplant to meet surgeon for first time this week and insists he'll only go under knife when i...   \n",
       "\n",
       "                                                                                                                                                                                                       text  \n",
       "0   Economists generally agree: China must overhaul its huge but wasteful economy if it wants to continue to grow in the years to come. That means limiting political interference in banking and the fi...  \n",
       "1   LONDON—British Prime Minister Theresa May said she’ll discuss trade and security in a coming meeting with President Donald Trump, his first visit from a foreign leader as president, underscoring t...  \n",
       "3   A timeline of what happened after Tamir Rice, a 12-year-old boy, was killed by a police officer in Cleveland last November. A lengthy report published Saturday revealed new details about the fatal...  \n",
       "11  President Donald Trump may want to consider swinging by the kitchen when he visits his plush Mar-a-Lago resort this weekend. Florida health inspectors found more than a dozen violations during a J...  \n",
       "24  The man volunteering to be the guinea pig for pioneering head transplant surgery is flying to America this week to meet for the first time the doctor intending to give him a new body. Russian Vale...  "
      ]
     },
     "execution_count": 11,
     "metadata": {},
     "output_type": "execute_result"
    }
   ],
   "source": [
    "diff_df.head()"
   ]
  },
  {
   "cell_type": "code",
   "execution_count": 12,
   "metadata": {},
   "outputs": [
    {
     "data": {
      "text/plain": [
       "2360    6\n",
       "128     4\n",
       "8375    4\n",
       "2861    4\n",
       "7128    4\n",
       "3256    4\n",
       "2949    4\n",
       "5574    4\n",
       "7053    3\n",
       "8223    3\n",
       "dtype: int64"
      ]
     },
     "execution_count": 12,
     "metadata": {},
     "output_type": "execute_result"
    }
   ],
   "source": [
    "top_diff_df = (diff_df['clean_title'].str.len() - diff_df['title'].str.len()).abs().sort_values(ascending=False).head(10)\n",
    "top_diff_df"
   ]
  },
  {
   "cell_type": "raw",
   "metadata": {},
   "source": [
    "diff_df.loc[top_diff_df.head(5).index].values"
   ]
  },
  {
   "cell_type": "code",
   "execution_count": 13,
   "metadata": {},
   "outputs": [
    {
     "name": "stderr",
     "output_type": "stream",
     "text": [
      "100%|██████████| 444/444 [00:00<00:00, 11798.25it/s]\n",
      "100%|██████████| 444/444 [00:00<00:00, 10942.43it/s]\n",
      "100%|██████████| 444/444 [00:00<00:00, 7218.50it/s]\n",
      "100%|██████████| 444/444 [00:00<00:00, 11558.21it/s]\n",
      "100%|██████████| 444/444 [00:00<00:00, 7009.61it/s]\n",
      "100%|██████████| 444/444 [00:00<00:00, 7751.32it/s]\n",
      "100%|██████████| 444/444 [00:00<00:00, 7127.93it/s]\n",
      "100%|██████████| 444/444 [00:00<00:00, 6517.61it/s]\n",
      "100%|██████████| 444/444 [00:02<00:00, 208.51it/s]\n",
      "100%|██████████| 444/444 [00:02<00:00, 207.87it/s]\n",
      "100%|██████████| 444/444 [00:02<00:00, 197.63it/s]\n",
      "100%|██████████| 444/444 [00:03<00:00, 135.98it/s]\n",
      "100%|██████████| 444/444 [00:03<00:00, 133.57it/s]\n",
      "100%|██████████| 444/444 [00:03<00:00, 126.80it/s]\n",
      "100%|██████████| 444/444 [00:03<00:00, 127.01it/s]\n",
      "100%|██████████| 444/444 [00:03<00:00, 121.34it/s]\n"
     ]
    },
    {
     "data": {
      "text/html": [
       "<div>\n",
       "<style scoped>\n",
       "    .dataframe tbody tr th:only-of-type {\n",
       "        vertical-align: middle;\n",
       "    }\n",
       "\n",
       "    .dataframe tbody tr th {\n",
       "        vertical-align: top;\n",
       "    }\n",
       "\n",
       "    .dataframe thead th {\n",
       "        text-align: right;\n",
       "    }\n",
       "</style>\n",
       "<table border=\"1\" class=\"dataframe\">\n",
       "  <thead>\n",
       "    <tr style=\"text-align: right;\">\n",
       "      <th></th>\n",
       "      <th>clean_title</th>\n",
       "      <th>clean_text</th>\n",
       "    </tr>\n",
       "  </thead>\n",
       "  <tbody>\n",
       "    <tr>\n",
       "      <th>0</th>\n",
       "      <td>Trump says he is releasing something 'phenomenal in terms of tax' in 2 to 3 weeks</td>\n",
       "      <td>Bob Bryan, Business Insider 9.02.2017, 16:25 182 facebook linkedin twitter email print \"We're going to be announcing something over the next, I would say, two or three weeks that will be phenomena...</td>\n",
       "    </tr>\n",
       "    <tr>\n",
       "      <th>1</th>\n",
       "      <td>Fidel Castro's ashes make their final journey across Cuba</td>\n",
       "      <td>Cubans have been lining the streets from Havana to Santiago to watch Fidel Castro's ashes make their final journey. The route is the reverse of that taken by Castro and his rebels to mark their vi...</td>\n",
       "    </tr>\n",
       "    <tr>\n",
       "      <th>2</th>\n",
       "      <td>Obama Administration Sending $500 Million to Global Climate Change Fund</td>\n",
       "      <td>WASHINGTON—The Obama administration announced Tuesday it is funneling $500 million to a global fund to address climate change, one of the final acts President Barack Obama is taking to preserve hi...</td>\n",
       "    </tr>\n",
       "    <tr>\n",
       "      <th>3</th>\n",
       "      <td>Insurers Are Worried About The House GOP Health Care Bill</td>\n",
       "      <td>The main industry groups representing health insurance companies have broken their silence on the Republican bill to repeal the Affordable Care Act and \"replace\" it with smaller reforms. America's...</td>\n",
       "    </tr>\n",
       "    <tr>\n",
       "      <th>4</th>\n",
       "      <td>Kobe Bryant and Nike Form Youth Basketball 'Mamba League' in Los Angeles</td>\n",
       "      <td>A year after Kobe Bryant concluded his NBA career, Bryant and Nike have announced a partnership to establish a youth basketball program in Los Angeles.  The Mamba League will instruct boys and gir...</td>\n",
       "    </tr>\n",
       "  </tbody>\n",
       "</table>\n",
       "</div>"
      ],
      "text/plain": [
       "                                                                         clean_title  \\\n",
       "0  Trump says he is releasing something 'phenomenal in terms of tax' in 2 to 3 weeks   \n",
       "1                          Fidel Castro's ashes make their final journey across Cuba   \n",
       "2            Obama Administration Sending $500 Million to Global Climate Change Fund   \n",
       "3                          Insurers Are Worried About The House GOP Health Care Bill   \n",
       "4           Kobe Bryant and Nike Form Youth Basketball 'Mamba League' in Los Angeles   \n",
       "\n",
       "                                                                                                                                                                                                clean_text  \n",
       "0  Bob Bryan, Business Insider 9.02.2017, 16:25 182 facebook linkedin twitter email print \"We're going to be announcing something over the next, I would say, two or three weeks that will be phenomena...  \n",
       "1  Cubans have been lining the streets from Havana to Santiago to watch Fidel Castro's ashes make their final journey. The route is the reverse of that taken by Castro and his rebels to mark their vi...  \n",
       "2  WASHINGTON—The Obama administration announced Tuesday it is funneling $500 million to a global fund to address climate change, one of the final acts President Barack Obama is taking to preserve hi...  \n",
       "3  The main industry groups representing health insurance companies have broken their silence on the Republican bill to repeal the Affordable Care Act and \"replace\" it with smaller reforms. America's...  \n",
       "4  A year after Kobe Bryant concluded his NBA career, Bryant and Nike have announced a partnership to establish a youth basketball program in Los Angeles.  The Mamba League will instruct boys and gir...  "
      ]
     },
     "execution_count": 13,
     "metadata": {},
     "output_type": "execute_result"
    }
   ],
   "source": [
    "X_valid_ftfy = pd.DataFrame()\n",
    "X_valid_ftfy['clean_title'] = parallelize(X_valid['title'], parallel_fix_text)\n",
    "X_valid_ftfy['clean_text'] = parallelize(X_valid['text'], parallel_fix_text)\n",
    "X_valid_ftfy.head()"
   ]
  },
  {
   "cell_type": "code",
   "execution_count": 14,
   "metadata": {},
   "outputs": [
    {
     "name": "stderr",
     "output_type": "stream",
     "text": [
      "100%|██████████| 706/706 [00:00<00:00, 7253.95it/s]\n",
      "100%|██████████| 706/706 [00:00<00:00, 7249.60it/s]\n",
      "100%|██████████| 706/706 [00:00<00:00, 7010.30it/s]\n",
      "100%|██████████| 706/706 [00:00<00:00, 7000.31it/s]\n",
      "100%|██████████| 706/706 [00:00<00:00, 7267.25it/s]\n",
      "100%|██████████| 706/706 [00:00<00:00, 6911.81it/s]\n",
      "100%|██████████| 706/706 [00:00<00:00, 7132.17it/s]\n",
      "100%|██████████| 705/705 [00:00<00:00, 6327.13it/s]\n",
      "100%|██████████| 706/706 [00:06<00:00, 115.60it/s]\n",
      "100%|██████████| 706/706 [00:06<00:00, 114.49it/s]\n",
      "100%|██████████| 706/706 [00:06<00:00, 112.11it/s]\n",
      "100%|██████████| 706/706 [00:06<00:00, 111.09it/s]\n",
      "100%|██████████| 706/706 [00:06<00:00, 108.51it/s]\n",
      "100%|██████████| 706/706 [00:06<00:00, 107.73it/s]\n",
      "100%|██████████| 706/706 [00:06<00:00, 107.11it/s]\n",
      "100%|██████████| 705/705 [00:06<00:00, 105.63it/s]\n"
     ]
    },
    {
     "data": {
      "text/html": [
       "<div>\n",
       "<style scoped>\n",
       "    .dataframe tbody tr th:only-of-type {\n",
       "        vertical-align: middle;\n",
       "    }\n",
       "\n",
       "    .dataframe tbody tr th {\n",
       "        vertical-align: top;\n",
       "    }\n",
       "\n",
       "    .dataframe thead th {\n",
       "        text-align: right;\n",
       "    }\n",
       "</style>\n",
       "<table border=\"1\" class=\"dataframe\">\n",
       "  <thead>\n",
       "    <tr style=\"text-align: right;\">\n",
       "      <th></th>\n",
       "      <th>clean_title</th>\n",
       "      <th>clean_text</th>\n",
       "    </tr>\n",
       "  </thead>\n",
       "  <tbody>\n",
       "    <tr>\n",
       "      <th>0</th>\n",
       "      <td>Amazon CEO Jeff Bezos is now the second richest man in the world</td>\n",
       "      <td>More Try Yahoo Finance on Firefox » Amazon CEO Jeff Bezos is now the second richest man in the world after overtaking Amancio Ortega and Warren Buffett, according to Bloomberg's Billionaires Index...</td>\n",
       "    </tr>\n",
       "    <tr>\n",
       "      <th>1</th>\n",
       "      <td>Does Laura Dern Handle a Lightsaber in the New 'Star Wars'? [Video]</td>\n",
       "      <td>More Laura Dern seems to be everywhere these days. That's because she is. She's the ferocious Renata in Big Little Lies, she's a recovering drug addict in Wilson, and she has two top-secret roles ...</td>\n",
       "    </tr>\n",
       "    <tr>\n",
       "      <th>2</th>\n",
       "      <td>In this photographer's home town, stepping out of the house is a risk</td>\n",
       "      <td>Kirkuk is a city of Northern Iraq in the Kurdish region of the country. Arabs, Kurds, Turkmen, Christians and foreign workers live beside one another. Back in the day, Saddam Hussein initiated sev...</td>\n",
       "    </tr>\n",
       "    <tr>\n",
       "      <th>3</th>\n",
       "      <td>8 Ways To Get Your Spouse To Open Up More, According To Therapists</td>\n",
       "      <td>Experts say that communication is the cornerstone of a good relationship. That's why it can be deeply troubling when your partner is closed off and guarded.  How do you get them to open up? Below,...</td>\n",
       "    </tr>\n",
       "    <tr>\n",
       "      <th>4</th>\n",
       "      <td>US says claim it supported IS in Syria is 'ludicrous'</td>\n",
       "      <td>Share this with Email Facebook Messenger Messenger Twitter Pinterest WhatsApp LinkedIn Copy this link The US has described as \"ludicrous\" a claim by Turkish President Recep Tayyip Erdogan that it ...</td>\n",
       "    </tr>\n",
       "  </tbody>\n",
       "</table>\n",
       "</div>"
      ],
      "text/plain": [
       "                                                             clean_title  \\\n",
       "0       Amazon CEO Jeff Bezos is now the second richest man in the world   \n",
       "1    Does Laura Dern Handle a Lightsaber in the New 'Star Wars'? [Video]   \n",
       "2  In this photographer's home town, stepping out of the house is a risk   \n",
       "3     8 Ways To Get Your Spouse To Open Up More, According To Therapists   \n",
       "4                  US says claim it supported IS in Syria is 'ludicrous'   \n",
       "\n",
       "                                                                                                                                                                                                clean_text  \n",
       "0  More Try Yahoo Finance on Firefox » Amazon CEO Jeff Bezos is now the second richest man in the world after overtaking Amancio Ortega and Warren Buffett, according to Bloomberg's Billionaires Index...  \n",
       "1  More Laura Dern seems to be everywhere these days. That's because she is. She's the ferocious Renata in Big Little Lies, she's a recovering drug addict in Wilson, and she has two top-secret roles ...  \n",
       "2  Kirkuk is a city of Northern Iraq in the Kurdish region of the country. Arabs, Kurds, Turkmen, Christians and foreign workers live beside one another. Back in the day, Saddam Hussein initiated sev...  \n",
       "3  Experts say that communication is the cornerstone of a good relationship. That's why it can be deeply troubling when your partner is closed off and guarded.  How do you get them to open up? Below,...  \n",
       "4  Share this with Email Facebook Messenger Messenger Twitter Pinterest WhatsApp LinkedIn Copy this link The US has described as \"ludicrous\" a claim by Turkish President Recep Tayyip Erdogan that it ...  "
      ]
     },
     "execution_count": 14,
     "metadata": {},
     "output_type": "execute_result"
    }
   ],
   "source": [
    "X_test_ftfy = pd.DataFrame()\n",
    "X_test_ftfy['clean_title'] = parallelize(X_test['title'], parallel_fix_text)\n",
    "X_test_ftfy['clean_text'] = parallelize(X_test['text'], parallel_fix_text)\n",
    "X_test_ftfy.head()"
   ]
  },
  {
   "cell_type": "markdown",
   "metadata": {},
   "source": [
    "**Save/Load Clean Data**"
   ]
  },
  {
   "cell_type": "code",
   "execution_count": 15,
   "metadata": {},
   "outputs": [],
   "source": [
    "with open(DATA_PATH/'X_train_ftfy.pkl', 'wb') as  f:\n",
    "    pickle.dump(X_train_ftfy, f)\n",
    "\n",
    "with open(DATA_PATH/'X_valid_ftfy.pkl', 'wb') as  f:\n",
    "    pickle.dump(X_valid_ftfy, f)\n",
    "    \n",
    "with open(DATA_PATH/'X_test_ftfy.pkl', 'wb') as  f:\n",
    "    pickle.dump(X_test_ftfy, f)"
   ]
  },
  {
   "cell_type": "raw",
   "metadata": {},
   "source": [
    "with open(DATA_PATH/'X_train_ftfy.pkl', 'rb') as  f:\n",
    "    X_train_ftfy = pickle.load(f)\n",
    "\n",
    "with open(DATA_PATH/'X_valid_ftfy.pkl', 'rb') as  f:\n",
    "    X_valid_ftfy = pickle.load(f)\n",
    "    \n",
    "with open(DATA_PATH/'X_test_ftfy.pkl', 'rb') as  f:\n",
    "    X_test_ftfy = pickle.load(f)"
   ]
  },
  {
   "cell_type": "raw",
   "metadata": {},
   "source": []
  },
  {
   "cell_type": "code",
   "execution_count": 16,
   "metadata": {},
   "outputs": [
    {
     "data": {
      "text/plain": [
       "(3397, 12215, 455, 1712, 967, 3501)"
      ]
     },
     "execution_count": 16,
     "metadata": {},
     "output_type": "execute_result"
    }
   ],
   "source": [
    "((X_train_ftfy['clean_title'] != X_train['title']).sum(),\n",
    " (X_train_ftfy['clean_text'] != X_train['text']).sum(),\n",
    " (X_valid_ftfy['clean_title'] != X_valid['title']).sum(),\n",
    " (X_valid_ftfy['clean_text'] != X_valid['text']).sum(),\n",
    " (X_test_ftfy['clean_title'] != X_test['title']).sum(),\n",
    " (X_test_ftfy['clean_text'] != X_test['text']).sum())"
   ]
  },
  {
   "cell_type": "markdown",
   "metadata": {},
   "source": [
    "**Tokenize Data (Spacy)**"
   ]
  },
  {
   "cell_type": "code",
   "execution_count": 26,
   "metadata": {},
   "outputs": [],
   "source": [
    "def parallel_tokenize(s):\n",
    "    return s.progress_apply(tokenize)\n",
    "\n",
    "def tokenize(doc):\n",
    "    return ' '.join(['_'.join([token.text, token.pos_]) for token in nlp(doc)])"
   ]
  },
  {
   "cell_type": "code",
   "execution_count": 31,
   "metadata": {},
   "outputs": [],
   "source": [
    "nlp = spacy.load('en_core_web_lg', disable=['parser', 'ner']) #, disable=['parser', 'tagger', 'ner'])"
   ]
  },
  {
   "cell_type": "code",
   "execution_count": 32,
   "metadata": {},
   "outputs": [
    {
     "name": "stderr",
     "output_type": "stream",
     "text": [
      "100%|██████████| 3109/3109 [01:31<00:00, 33.82it/s]\n",
      "100%|██████████| 3108/3108 [01:32<00:00, 33.67it/s]\n",
      "100%|██████████| 3109/3109 [01:33<00:00, 33.09it/s]\n",
      "100%|██████████| 3109/3109 [01:39<00:00, 31.34it/s]\n",
      "100%|██████████| 3109/3109 [01:39<00:00, 31.26it/s]\n",
      "100%|██████████| 3109/3109 [01:39<00:00, 31.16it/s]\n",
      " 97%|█████████▋| 3004/3109 [01:40<00:00, 176.76it/s]\n",
      "100%|██████████| 3109/3109 [01:40<00:00, 30.90it/s] \n",
      "100%|██████████| 3108/3108 [04:26<00:00, 11.67it/s]\n",
      "100%|██████████| 3109/3109 [04:33<00:00, 11.37it/s]\n",
      "100%|██████████| 3109/3109 [04:35<00:00, 11.27it/s]\n",
      "100%|██████████| 3109/3109 [06:19<00:00,  8.18it/s]\n",
      "100%|██████████| 3109/3109 [06:33<00:00, 13.46it/s]\n",
      "100%|██████████| 3109/3109 [06:34<00:00, 15.64it/s]\n",
      "100%|██████████| 3109/3109 [06:37<00:00,  7.82it/s]\n",
      "100%|██████████| 3109/3109 [06:37<00:00,  7.82it/s]\n"
     ]
    },
    {
     "data": {
      "text/html": [
       "<div>\n",
       "<style scoped>\n",
       "    .dataframe tbody tr th:only-of-type {\n",
       "        vertical-align: middle;\n",
       "    }\n",
       "\n",
       "    .dataframe tbody tr th {\n",
       "        vertical-align: top;\n",
       "    }\n",
       "\n",
       "    .dataframe thead th {\n",
       "        text-align: right;\n",
       "    }\n",
       "</style>\n",
       "<table border=\"1\" class=\"dataframe\">\n",
       "  <thead>\n",
       "    <tr style=\"text-align: right;\">\n",
       "      <th></th>\n",
       "      <th>clean_title</th>\n",
       "      <th>clean_text</th>\n",
       "    </tr>\n",
       "  </thead>\n",
       "  <tbody>\n",
       "    <tr>\n",
       "      <th>0</th>\n",
       "      <td>China_PROPN and_CCONJ Economic_PROPN Reform_PROPN :_PUNCT Xi_PROPN Jinping_PROPN 's_PART Track_PROPN Record_PROPN</td>\n",
       "      <td>Economists_NOUN generally_ADV agree_VERB :_PUNCT China_PROPN must_VERB overhaul_VERB its_ADJ huge_ADJ but_CCONJ wasteful_ADJ economy_NOUN if_ADP it_PRON wants_VERB to_PART continue_VERB to_PART gr...</td>\n",
       "    </tr>\n",
       "    <tr>\n",
       "      <th>1</th>\n",
       "      <td>Trade_NOUN to_PART Be_VERB a_DET Big_PROPN Topic_NOUN in_ADP Theresa_PROPN May_PROPN 's_PART U.S._PROPN Visit_NOUN</td>\n",
       "      <td>LONDON_PROPN —_NUM British_ADJ Prime_PROPN Minister_PROPN Theresa_PROPN May_PROPN said_VERB she_PRON 'll_VERB discuss_VERB trade_NOUN and_CCONJ security_NOUN in_ADP a_DET coming_VERB meeting_NOUN ...</td>\n",
       "    </tr>\n",
       "    <tr>\n",
       "      <th>2</th>\n",
       "      <td>The_DET Top_PROPN Beaches_PROPN In_ADP The_DET World_PROPN ,_PUNCT According_VERB To_ADP National_PROPN Geographic_PROPN</td>\n",
       "      <td>Beaches_NOUN come_VERB in_ADP all_DET sorts_NOUN of_ADP shapes_NOUN and_CCONJ sizes_NOUN beyond_ADP the_DET typical_ADJ Caribbean_ADJ postcard_NOUN ._PUNCT As_ADP such_ADJ ,_PUNCT  _SPACE National...</td>\n",
       "    </tr>\n",
       "    <tr>\n",
       "      <th>3</th>\n",
       "      <td>Sheriff_PROPN 's_PART Report_PROPN Provides_VERB New_PROPN Details_PROPN on_ADP Tamir_PROPN Rice_PROPN 's_PART Death_PROPN ,_PUNCT but_CCONJ Leaves_VERB Questions_NOUN</td>\n",
       "      <td>A_DET timeline_NOUN of_ADP what_NOUN happened_VERB after_ADP Tamir_PROPN Rice_PROPN ,_PUNCT a_DET 12-year_ADJ -_PUNCT old_ADJ boy_NOUN ,_PUNCT was_VERB killed_VERB by_ADP a_DET police_NOUN officer...</td>\n",
       "    </tr>\n",
       "    <tr>\n",
       "      <th>4</th>\n",
       "      <td>Surgeon_NOUN claiming_VERB he_PRON will_VERB transplant_NOUN volunteer_NOUN 's_PART HEAD_NOUN to_ADP another_DET body_NOUN says_VERB he_PRON needs_VERB America_PROPN 's_PART help_NOUN to_PART do_V...</td>\n",
       "      <td>An_DET Italian_ADJ neurosurgeon_NOUN who_NOUN has_VERB claimed_VERB for_ADP months_NOUN that_ADP he_PRON will_VERB perform_VERB the_DET world_NOUN 's_PART first_ADJ human_ADJ head_NOUN transplant_...</td>\n",
       "    </tr>\n",
       "  </tbody>\n",
       "</table>\n",
       "</div>"
      ],
      "text/plain": [
       "                                                                                                                                                                                               clean_title  \\\n",
       "0                                                                                        China_PROPN and_CCONJ Economic_PROPN Reform_PROPN :_PUNCT Xi_PROPN Jinping_PROPN 's_PART Track_PROPN Record_PROPN   \n",
       "1                                                                                       Trade_NOUN to_PART Be_VERB a_DET Big_PROPN Topic_NOUN in_ADP Theresa_PROPN May_PROPN 's_PART U.S._PROPN Visit_NOUN   \n",
       "2                                                                                 The_DET Top_PROPN Beaches_PROPN In_ADP The_DET World_PROPN ,_PUNCT According_VERB To_ADP National_PROPN Geographic_PROPN   \n",
       "3                                  Sheriff_PROPN 's_PART Report_PROPN Provides_VERB New_PROPN Details_PROPN on_ADP Tamir_PROPN Rice_PROPN 's_PART Death_PROPN ,_PUNCT but_CCONJ Leaves_VERB Questions_NOUN   \n",
       "4  Surgeon_NOUN claiming_VERB he_PRON will_VERB transplant_NOUN volunteer_NOUN 's_PART HEAD_NOUN to_ADP another_DET body_NOUN says_VERB he_PRON needs_VERB America_PROPN 's_PART help_NOUN to_PART do_V...   \n",
       "\n",
       "                                                                                                                                                                                                clean_text  \n",
       "0  Economists_NOUN generally_ADV agree_VERB :_PUNCT China_PROPN must_VERB overhaul_VERB its_ADJ huge_ADJ but_CCONJ wasteful_ADJ economy_NOUN if_ADP it_PRON wants_VERB to_PART continue_VERB to_PART gr...  \n",
       "1  LONDON_PROPN —_NUM British_ADJ Prime_PROPN Minister_PROPN Theresa_PROPN May_PROPN said_VERB she_PRON 'll_VERB discuss_VERB trade_NOUN and_CCONJ security_NOUN in_ADP a_DET coming_VERB meeting_NOUN ...  \n",
       "2  Beaches_NOUN come_VERB in_ADP all_DET sorts_NOUN of_ADP shapes_NOUN and_CCONJ sizes_NOUN beyond_ADP the_DET typical_ADJ Caribbean_ADJ postcard_NOUN ._PUNCT As_ADP such_ADJ ,_PUNCT  _SPACE National...  \n",
       "3  A_DET timeline_NOUN of_ADP what_NOUN happened_VERB after_ADP Tamir_PROPN Rice_PROPN ,_PUNCT a_DET 12-year_ADJ -_PUNCT old_ADJ boy_NOUN ,_PUNCT was_VERB killed_VERB by_ADP a_DET police_NOUN officer...  \n",
       "4  An_DET Italian_ADJ neurosurgeon_NOUN who_NOUN has_VERB claimed_VERB for_ADP months_NOUN that_ADP he_PRON will_VERB perform_VERB the_DET world_NOUN 's_PART first_ADJ human_ADJ head_NOUN transplant_...  "
      ]
     },
     "execution_count": 32,
     "metadata": {},
     "output_type": "execute_result"
    }
   ],
   "source": [
    "X_train_ftfy_spacy = pd.DataFrame()\n",
    "X_train_ftfy_spacy['clean_title'] = parallelize(X_train_ftfy['clean_title'], parallel_tokenize)\n",
    "X_train_ftfy_spacy['clean_text'] = parallelize(X_train_ftfy['clean_text'], parallel_tokenize)\n",
    "X_train_ftfy_spacy.head()"
   ]
  },
  {
   "cell_type": "code",
   "execution_count": 33,
   "metadata": {},
   "outputs": [
    {
     "name": "stderr",
     "output_type": "stream",
     "text": [
      "100%|██████████| 444/444 [00:20<00:00, 21.38it/s]\n",
      "100%|██████████| 444/444 [00:21<00:00, 21.05it/s]\n",
      "100%|██████████| 444/444 [00:21<00:00, 20.38it/s]\n",
      " 90%|████████▉ | 398/444 [00:21<00:02, 21.45it/s]\n",
      "100%|██████████| 444/444 [00:22<00:00, 20.03it/s]\n",
      "100%|██████████| 444/444 [00:22<00:00, 19.51it/s]\n",
      "100%|██████████| 444/444 [00:22<00:00, 19.52it/s]\n",
      "100%|██████████| 444/444 [00:23<00:00, 19.22it/s]\n",
      "100%|██████████| 444/444 [00:45<00:00,  9.83it/s]\n",
      "100%|██████████| 444/444 [00:46<00:00,  9.64it/s]\n",
      " 61%|██████    | 270/444 [00:46<00:21,  8.07it/s]\n",
      "100%|██████████| 444/444 [01:04<00:00,  6.89it/s]\n",
      "100%|██████████| 444/444 [01:04<00:00,  6.87it/s]\n",
      "100%|██████████| 444/444 [01:04<00:00,  6.87it/s]\n",
      "100%|██████████| 444/444 [01:04<00:00,  6.85it/s]\n",
      "100%|██████████| 444/444 [01:04<00:00,  6.84it/s]\n"
     ]
    },
    {
     "data": {
      "text/html": [
       "<div>\n",
       "<style scoped>\n",
       "    .dataframe tbody tr th:only-of-type {\n",
       "        vertical-align: middle;\n",
       "    }\n",
       "\n",
       "    .dataframe tbody tr th {\n",
       "        vertical-align: top;\n",
       "    }\n",
       "\n",
       "    .dataframe thead th {\n",
       "        text-align: right;\n",
       "    }\n",
       "</style>\n",
       "<table border=\"1\" class=\"dataframe\">\n",
       "  <thead>\n",
       "    <tr style=\"text-align: right;\">\n",
       "      <th></th>\n",
       "      <th>clean_title</th>\n",
       "      <th>clean_text</th>\n",
       "    </tr>\n",
       "  </thead>\n",
       "  <tbody>\n",
       "    <tr>\n",
       "      <th>0</th>\n",
       "      <td>Trump_PROPN says_VERB he_PRON is_VERB releasing_VERB something_NOUN '_PART phenomenal_ADJ in_ADP terms_NOUN of_ADP tax_NOUN '_PUNCT in_ADP 2_NUM to_PART 3_NUM weeks_NOUN</td>\n",
       "      <td>Bob_PROPN Bryan_PROPN ,_PUNCT Business_PROPN Insider_PROPN 9.02.2017_NUM ,_PUNCT 16:25_NUM 182_NUM facebook_NOUN linkedin_NOUN twitter_NOUN email_NOUN print_NOUN \"_PUNCT We_PRON 're_VERB going_VER...</td>\n",
       "    </tr>\n",
       "    <tr>\n",
       "      <th>1</th>\n",
       "      <td>Fidel_PROPN Castro_PROPN 's_PART ashes_NOUN make_VERB their_ADJ final_ADJ journey_NOUN across_ADP Cuba_PROPN</td>\n",
       "      <td>Cubans_PROPN have_VERB been_VERB lining_VERB the_DET streets_NOUN from_ADP Havana_PROPN to_ADP Santiago_PROPN to_PART watch_VERB Fidel_PROPN Castro_PROPN 's_PART ashes_NOUN make_VERB their_ADJ fin...</td>\n",
       "    </tr>\n",
       "    <tr>\n",
       "      <th>2</th>\n",
       "      <td>Obama_PROPN Administration_PROPN Sending_VERB $_SYM 500_NUM Million_NUM to_ADP Global_PROPN Climate_PROPN Change_PROPN Fund_PROPN</td>\n",
       "      <td>WASHINGTON_PROPN —_PUNCT The_DET Obama_PROPN administration_NOUN announced_VERB Tuesday_PROPN it_PRON is_VERB funneling_VERB $_SYM 500_NUM million_NUM to_ADP a_DET global_ADJ fund_NOUN to_PART add...</td>\n",
       "    </tr>\n",
       "    <tr>\n",
       "      <th>3</th>\n",
       "      <td>Insurers_NOUN Are_VERB Worried_ADJ About_ADP The_DET House_PROPN GOP_PROPN Health_PROPN Care_PROPN Bill_PROPN</td>\n",
       "      <td>The_DET main_ADJ industry_NOUN groups_NOUN representing_VERB health_NOUN insurance_NOUN companies_NOUN have_VERB broken_VERB their_ADJ silence_NOUN on_ADP the_DET Republican_ADJ bill_NOUN to_PART ...</td>\n",
       "    </tr>\n",
       "    <tr>\n",
       "      <th>4</th>\n",
       "      <td>Kobe_PROPN Bryant_PROPN and_CCONJ Nike_PROPN Form_PROPN Youth_PROPN Basketball_PROPN '_PART Mamba_PROPN League_PROPN '_PUNCT in_ADP Los_PROPN Angeles_PROPN</td>\n",
       "      <td>A_DET year_NOUN after_ADP Kobe_PROPN Bryant_PROPN concluded_VERB his_ADJ NBA_PROPN career_NOUN ,_PUNCT Bryant_PROPN and_CCONJ Nike_PROPN have_VERB announced_VERB a_DET partnership_NOUN to_PART est...</td>\n",
       "    </tr>\n",
       "  </tbody>\n",
       "</table>\n",
       "</div>"
      ],
      "text/plain": [
       "                                                                                                                                                                 clean_title  \\\n",
       "0  Trump_PROPN says_VERB he_PRON is_VERB releasing_VERB something_NOUN '_PART phenomenal_ADJ in_ADP terms_NOUN of_ADP tax_NOUN '_PUNCT in_ADP 2_NUM to_PART 3_NUM weeks_NOUN   \n",
       "1                                                               Fidel_PROPN Castro_PROPN 's_PART ashes_NOUN make_VERB their_ADJ final_ADJ journey_NOUN across_ADP Cuba_PROPN   \n",
       "2                                          Obama_PROPN Administration_PROPN Sending_VERB $_SYM 500_NUM Million_NUM to_ADP Global_PROPN Climate_PROPN Change_PROPN Fund_PROPN   \n",
       "3                                                              Insurers_NOUN Are_VERB Worried_ADJ About_ADP The_DET House_PROPN GOP_PROPN Health_PROPN Care_PROPN Bill_PROPN   \n",
       "4                Kobe_PROPN Bryant_PROPN and_CCONJ Nike_PROPN Form_PROPN Youth_PROPN Basketball_PROPN '_PART Mamba_PROPN League_PROPN '_PUNCT in_ADP Los_PROPN Angeles_PROPN   \n",
       "\n",
       "                                                                                                                                                                                                clean_text  \n",
       "0  Bob_PROPN Bryan_PROPN ,_PUNCT Business_PROPN Insider_PROPN 9.02.2017_NUM ,_PUNCT 16:25_NUM 182_NUM facebook_NOUN linkedin_NOUN twitter_NOUN email_NOUN print_NOUN \"_PUNCT We_PRON 're_VERB going_VER...  \n",
       "1  Cubans_PROPN have_VERB been_VERB lining_VERB the_DET streets_NOUN from_ADP Havana_PROPN to_ADP Santiago_PROPN to_PART watch_VERB Fidel_PROPN Castro_PROPN 's_PART ashes_NOUN make_VERB their_ADJ fin...  \n",
       "2  WASHINGTON_PROPN —_PUNCT The_DET Obama_PROPN administration_NOUN announced_VERB Tuesday_PROPN it_PRON is_VERB funneling_VERB $_SYM 500_NUM million_NUM to_ADP a_DET global_ADJ fund_NOUN to_PART add...  \n",
       "3  The_DET main_ADJ industry_NOUN groups_NOUN representing_VERB health_NOUN insurance_NOUN companies_NOUN have_VERB broken_VERB their_ADJ silence_NOUN on_ADP the_DET Republican_ADJ bill_NOUN to_PART ...  \n",
       "4  A_DET year_NOUN after_ADP Kobe_PROPN Bryant_PROPN concluded_VERB his_ADJ NBA_PROPN career_NOUN ,_PUNCT Bryant_PROPN and_CCONJ Nike_PROPN have_VERB announced_VERB a_DET partnership_NOUN to_PART est...  "
      ]
     },
     "execution_count": 33,
     "metadata": {},
     "output_type": "execute_result"
    }
   ],
   "source": [
    "X_valid_ftfy_spacy = pd.DataFrame()\n",
    "X_valid_ftfy_spacy['clean_title'] = parallelize(X_valid_ftfy['clean_title'], parallel_tokenize)\n",
    "X_valid_ftfy_spacy['clean_text'] = parallelize(X_valid_ftfy['clean_text'], parallel_tokenize)\n",
    "X_valid_ftfy_spacy.head()"
   ]
  },
  {
   "cell_type": "code",
   "execution_count": 34,
   "metadata": {},
   "outputs": [
    {
     "name": "stderr",
     "output_type": "stream",
     "text": [
      "100%|██████████| 706/706 [00:25<00:00, 27.50it/s]\n",
      " 92%|█████████▏| 647/706 [00:25<00:01, 34.18it/s]\n",
      "100%|██████████| 706/706 [00:25<00:00, 27.23it/s]\n",
      "100%|██████████| 705/705 [00:26<00:00, 26.41it/s]\n",
      "100%|██████████| 706/706 [00:26<00:00, 26.32it/s]\n",
      "100%|██████████| 706/706 [00:27<00:00, 26.08it/s]\n",
      "100%|██████████| 706/706 [00:27<00:00, 26.06it/s]\n",
      "100%|██████████| 706/706 [00:27<00:00, 25.96it/s]\n",
      "100%|██████████| 706/706 [01:33<00:00,  7.52it/s]\n",
      " 96%|█████████▌| 678/706 [01:34<00:05,  4.75it/s]\n",
      "100%|██████████| 706/706 [01:36<00:00,  7.30it/s]\n",
      "100%|██████████| 706/706 [01:36<00:00,  7.29it/s]\n",
      "100%|██████████| 706/706 [01:37<00:00,  7.26it/s]\n",
      "100%|██████████| 706/706 [01:37<00:00,  7.25it/s]\n",
      "100%|██████████| 705/705 [01:38<00:00,  7.16it/s]\n",
      "100%|██████████| 706/706 [01:38<00:00, 32.95it/s]\n"
     ]
    },
    {
     "data": {
      "text/html": [
       "<div>\n",
       "<style scoped>\n",
       "    .dataframe tbody tr th:only-of-type {\n",
       "        vertical-align: middle;\n",
       "    }\n",
       "\n",
       "    .dataframe tbody tr th {\n",
       "        vertical-align: top;\n",
       "    }\n",
       "\n",
       "    .dataframe thead th {\n",
       "        text-align: right;\n",
       "    }\n",
       "</style>\n",
       "<table border=\"1\" class=\"dataframe\">\n",
       "  <thead>\n",
       "    <tr style=\"text-align: right;\">\n",
       "      <th></th>\n",
       "      <th>clean_title</th>\n",
       "      <th>clean_text</th>\n",
       "    </tr>\n",
       "  </thead>\n",
       "  <tbody>\n",
       "    <tr>\n",
       "      <th>0</th>\n",
       "      <td>Amazon_PROPN CEO_PROPN Jeff_PROPN Bezos_PROPN is_VERB now_ADV the_DET second_ADJ richest_ADJ man_NOUN in_ADP the_DET world_NOUN</td>\n",
       "      <td>More_ADJ Try_VERB Yahoo_PROPN Finance_PROPN on_ADP Firefox_PROPN  _SPACE »_PROPN Amazon_PROPN  _SPACE CEO_PROPN Jeff_PROPN Bezos_PROPN is_VERB now_ADV the_DET second_ADJ richest_ADJ man_NOUN in_AD...</td>\n",
       "    </tr>\n",
       "    <tr>\n",
       "      <th>1</th>\n",
       "      <td>Does_VERB Laura_PROPN Dern_PROPN Handle_PROPN a_DET Lightsaber_PROPN in_ADP the_DET New_PROPN '_PART Star_PROPN Wars_PROPN '_PUNCT ?_PUNCT [_PUNCT Video_NOUN ]_PUNCT</td>\n",
       "      <td>More_ADJ Laura_PROPN Dern_PROPN seems_VERB to_PART be_VERB everywhere_ADV these_DET days_NOUN ._PUNCT That_DET 's_VERB because_ADP she_PRON is_VERB ._PUNCT She_PRON 's_VERB the_DET ferocious_ADJ R...</td>\n",
       "    </tr>\n",
       "    <tr>\n",
       "      <th>2</th>\n",
       "      <td>In_ADP this_DET photographer_NOUN 's_PART home_NOUN town_NOUN ,_PUNCT stepping_VERB out_ADP of_ADP the_DET house_NOUN is_VERB a_DET risk_NOUN</td>\n",
       "      <td>Kirkuk_PROPN is_VERB a_DET city_NOUN of_ADP Northern_ADJ Iraq_PROPN in_ADP the_DET Kurdish_ADJ region_NOUN of_ADP the_DET country_NOUN ._PUNCT Arabs_PROPN ,_PUNCT Kurds_PROPN ,_PUNCT Turkmen_PROPN...</td>\n",
       "    </tr>\n",
       "    <tr>\n",
       "      <th>3</th>\n",
       "      <td>8_NUM Ways_PROPN To_PART Get_VERB Your_ADJ Spouse_NOUN To_PART Open_VERB Up_PART More_ADV ,_PUNCT According_VERB To_ADP Therapists_NOUN</td>\n",
       "      <td>Experts_NOUN say_VERB that_ADP communication_NOUN is_VERB the_DET cornerstone_NOUN of_ADP a_DET good_ADJ relationship_NOUN ._PUNCT That_DET 's_VERB why_ADV it_PRON can_VERB be_VERB deeply_ADV trou...</td>\n",
       "    </tr>\n",
       "    <tr>\n",
       "      <th>4</th>\n",
       "      <td>US_PROPN says_VERB claim_VERB it_PRON supported_VERB IS_VERB in_ADP Syria_PROPN is_VERB '_PUNCT ludicrous_ADJ '_PUNCT</td>\n",
       "      <td>Share_VERB this_DET with_ADP Email_PROPN Facebook_PROPN Messenger_PROPN Messenger_PROPN Twitter_PROPN Pinterest_PROPN WhatsApp_NOUN LinkedIn_PROPN Copy_VERB this_DET link_NOUN The_DET US_PROPN has...</td>\n",
       "    </tr>\n",
       "  </tbody>\n",
       "</table>\n",
       "</div>"
      ],
      "text/plain": [
       "                                                                                                                                                             clean_title  \\\n",
       "0                                        Amazon_PROPN CEO_PROPN Jeff_PROPN Bezos_PROPN is_VERB now_ADV the_DET second_ADJ richest_ADJ man_NOUN in_ADP the_DET world_NOUN   \n",
       "1  Does_VERB Laura_PROPN Dern_PROPN Handle_PROPN a_DET Lightsaber_PROPN in_ADP the_DET New_PROPN '_PART Star_PROPN Wars_PROPN '_PUNCT ?_PUNCT [_PUNCT Video_NOUN ]_PUNCT   \n",
       "2                          In_ADP this_DET photographer_NOUN 's_PART home_NOUN town_NOUN ,_PUNCT stepping_VERB out_ADP of_ADP the_DET house_NOUN is_VERB a_DET risk_NOUN   \n",
       "3                                8_NUM Ways_PROPN To_PART Get_VERB Your_ADJ Spouse_NOUN To_PART Open_VERB Up_PART More_ADV ,_PUNCT According_VERB To_ADP Therapists_NOUN   \n",
       "4                                                  US_PROPN says_VERB claim_VERB it_PRON supported_VERB IS_VERB in_ADP Syria_PROPN is_VERB '_PUNCT ludicrous_ADJ '_PUNCT   \n",
       "\n",
       "                                                                                                                                                                                                clean_text  \n",
       "0  More_ADJ Try_VERB Yahoo_PROPN Finance_PROPN on_ADP Firefox_PROPN  _SPACE »_PROPN Amazon_PROPN  _SPACE CEO_PROPN Jeff_PROPN Bezos_PROPN is_VERB now_ADV the_DET second_ADJ richest_ADJ man_NOUN in_AD...  \n",
       "1  More_ADJ Laura_PROPN Dern_PROPN seems_VERB to_PART be_VERB everywhere_ADV these_DET days_NOUN ._PUNCT That_DET 's_VERB because_ADP she_PRON is_VERB ._PUNCT She_PRON 's_VERB the_DET ferocious_ADJ R...  \n",
       "2  Kirkuk_PROPN is_VERB a_DET city_NOUN of_ADP Northern_ADJ Iraq_PROPN in_ADP the_DET Kurdish_ADJ region_NOUN of_ADP the_DET country_NOUN ._PUNCT Arabs_PROPN ,_PUNCT Kurds_PROPN ,_PUNCT Turkmen_PROPN...  \n",
       "3  Experts_NOUN say_VERB that_ADP communication_NOUN is_VERB the_DET cornerstone_NOUN of_ADP a_DET good_ADJ relationship_NOUN ._PUNCT That_DET 's_VERB why_ADV it_PRON can_VERB be_VERB deeply_ADV trou...  \n",
       "4  Share_VERB this_DET with_ADP Email_PROPN Facebook_PROPN Messenger_PROPN Messenger_PROPN Twitter_PROPN Pinterest_PROPN WhatsApp_NOUN LinkedIn_PROPN Copy_VERB this_DET link_NOUN The_DET US_PROPN has...  "
      ]
     },
     "execution_count": 34,
     "metadata": {},
     "output_type": "execute_result"
    }
   ],
   "source": [
    "X_test_ftfy_spacy = pd.DataFrame()\n",
    "X_test_ftfy_spacy['clean_title'] = parallelize(X_test_ftfy['clean_title'], parallel_tokenize)\n",
    "X_test_ftfy_spacy['clean_text'] = parallelize(X_test_ftfy['clean_text'], parallel_tokenize)\n",
    "X_test_ftfy_spacy.head()"
   ]
  },
  {
   "cell_type": "markdown",
   "metadata": {},
   "source": [
    "**Save/Load Clean Data**"
   ]
  },
  {
   "cell_type": "code",
   "execution_count": 35,
   "metadata": {},
   "outputs": [],
   "source": [
    "with open(DATA_PATH/'X_train_ftfy_spacy.pkl', 'wb') as  f:\n",
    "    pickle.dump(X_train_ftfy_spacy, f)\n",
    "\n",
    "with open(DATA_PATH/'X_valid_ftfy_spacy.pkl', 'wb') as  f:\n",
    "    pickle.dump(X_valid_ftfy_spacy, f)\n",
    "    \n",
    "with open(DATA_PATH/'X_test_ftfy_spacy.pkl', 'wb') as  f:\n",
    "    pickle.dump(X_test_ftfy_spacy, f)"
   ]
  },
  {
   "cell_type": "raw",
   "metadata": {},
   "source": [
    "with open(DATA_PATH/'X_train_ftfy_spacy.pkl', 'rb') as  f:\n",
    "    X_train_ftfy_spacy = pickle.load(f)\n",
    "\n",
    "with open(DATA_PATH/'X_valid_ftfy_spacy.pkl', 'rb') as  f:\n",
    "    X_valid_ftfy_spacy = pickle.load(f)\n",
    "    \n",
    "with open(DATA_PATH/'X_test_ftfy_spacy.pkl', 'rb') as  f:\n",
    "    X_test_ftfy_spacy = pickle.load(f)"
   ]
  },
  {
   "cell_type": "raw",
   "metadata": {},
   "source": []
  },
  {
   "cell_type": "code",
   "execution_count": 24,
   "metadata": {},
   "outputs": [
    {
     "data": {
      "text/plain": [
       "(14901, 24589, 2078, 3506, 4202, 5598)"
      ]
     },
     "execution_count": 24,
     "metadata": {},
     "output_type": "execute_result"
    }
   ],
   "source": [
    "((X_train_ftfy_spacy['clean_title'] != X_train_ftfy['clean_title']).sum(),\n",
    " (X_train_ftfy_spacy['clean_text'] != X_train_ftfy['clean_text']).sum(),\n",
    " (X_valid_ftfy_spacy['clean_title'] != X_valid_ftfy['clean_title']).sum(),\n",
    " (X_valid_ftfy_spacy['clean_text'] != X_valid_ftfy['clean_text']).sum(),\n",
    " (X_test_ftfy_spacy['clean_title'] != X_test_ftfy['clean_title']).sum(),\n",
    " (X_test_ftfy_spacy['clean_text'] != X_test_ftfy['clean_text']).sum())"
   ]
  },
  {
   "cell_type": "raw",
   "metadata": {},
   "source": []
  },
  {
   "cell_type": "markdown",
   "metadata": {},
   "source": [
    "**Tokenize Data (nltk)**"
   ]
  },
  {
   "cell_type": "code",
   "execution_count": 238,
   "metadata": {},
   "outputs": [
    {
     "data": {
      "text/plain": [
       "<nltk.tokenize.casual.TweetTokenizer at 0x7f0dac2225c0>"
      ]
     },
     "execution_count": 238,
     "metadata": {},
     "output_type": "execute_result"
    }
   ],
   "source": [
    "tokenizer = TweetTokenizer(reduce_len=True)\n",
    "tokenizer"
   ]
  },
  {
   "cell_type": "code",
   "execution_count": 239,
   "metadata": {},
   "outputs": [],
   "source": [
    "def parallel_tokenize(s):\n",
    "    return s.progress_apply(tokenize)\n",
    "\n",
    "def tokenize(doc):\n",
    "    return ' '.join(tokenizer.tokenize(doc))"
   ]
  },
  {
   "cell_type": "code",
   "execution_count": 240,
   "metadata": {},
   "outputs": [
    {
     "data": {
      "text/plain": [
       "0              This is so cool . It's like , ' would you want your mother to read this ? ? ' Really great idea , well done !\n",
       "1    Thank you ! ! This would make my life a lot less anxiety-inducing . Keep it up , and don't let anyone get in your way !\n",
       "2                                  This is such an urgent design problem ; kudos to you for taking it on . Very impressive !\n",
       "3                                     Is this something I'll be able to install on my site ? When will you be releasing it ?\n",
       "4                                                                                      haha you guys are a bunch of losers .\n",
       "Name: comment_text, dtype: object"
      ]
     },
     "execution_count": 240,
     "metadata": {},
     "output_type": "execute_result"
    }
   ],
   "source": [
    "tweet_ftfy_train_df = parallelize(ftfy_train_df, parallel_tokenize)\n",
    "tweet_ftfy_train_df.head()"
   ]
  },
  {
   "cell_type": "code",
   "execution_count": 241,
   "metadata": {},
   "outputs": [
    {
     "data": {
      "text/plain": [
       "0                                              Jeff Sessions is another one of Trump's Orwellian choices . He believes and has believed his entire career the exact opposite of what the position requires .\n",
       "1    I actually inspected the infrastructure on Grand Chief Stewart Philip's home Penticton First Nation in both 2010 and 2013 . Exactly Zero projects that had been identified in previous inspection re...\n",
       "2    No it won't . That's just wishful thinking on democrats fault . For the 100 th time , Walker cited the cost of drug users treatment as being lost with Obamacare . I laugh every time I hear a liber...\n",
       "3    Instead of wringing our hands and nibbling the periphery of the issue , how about we face the actual issue head on ? I would support a city ordinance against loitering , and applaud city councilor...\n",
       "4    how many of you commenters have garbage piled high in your yard , bald tires , dead batteries , rotten pallets , car parts , blah blah blah . this town is a pigpen . drive around and look for your...\n",
       "Name: comment_text, dtype: object"
      ]
     },
     "execution_count": 241,
     "metadata": {},
     "output_type": "execute_result"
    }
   ],
   "source": [
    "tweet_ftfy_test_df = parallelize(ftfy_test_df, parallel_tokenize)\n",
    "tweet_ftfy_test_df.head()"
   ]
  },
  {
   "cell_type": "markdown",
   "metadata": {},
   "source": [
    "**Save/Load Clean Data**"
   ]
  },
  {
   "cell_type": "code",
   "execution_count": 243,
   "metadata": {},
   "outputs": [],
   "source": [
    "with open(DATA_PATH/'tweet_ftfy_nfkc_train.pkl', 'wb') as  f:\n",
    "    pickle.dump(tweet_ftfy_train_df, f)\n",
    "\n",
    "with open(DATA_PATH/'tweet_ftfy_nfkc_test.pkl', 'wb') as  f:\n",
    "    pickle.dump(tweet_ftfy_test_df, f)"
   ]
  },
  {
   "cell_type": "code",
   "execution_count": 244,
   "metadata": {},
   "outputs": [],
   "source": [
    "with open(DATA_PATH/'tweet_ftfy_nfkc_train.pkl', 'rb') as  f:\n",
    "    tweet_ftfy_train_df = pickle.load(f)\n",
    "\n",
    "with open(DATA_PATH/'tweet_ftfy_nfkc_test.pkl', 'rb') as  f:\n",
    "    tweet_ftfy_test_df = pickle.load(f)"
   ]
  },
  {
   "cell_type": "code",
   "execution_count": 247,
   "metadata": {},
   "outputs": [
    {
     "data": {
      "text/plain": [
       "0              [This, is, so, cool, ., It's, like, ,, ', would, you, want, your, mother, to, read, this, ?, ?, ', Really, great, idea, ,, well, done, !]\n",
       "1    [Thank, you, !, !, This, would, make, my, life, a, lot, less, anxiety-inducing, ., Keep, it, up, ,, and, don't, let, anyone, get, in, your, way, !]\n",
       "2                                          [This, is, such, an, urgent, design, problem, ;, kudos, to, you, for, taking, it, on, ., Very, impressive, !]\n",
       "3                                             [Is, this, something, I'll, be, able, to, install, on, my, site, ?, When, will, you, be, releasing, it, ?]\n",
       "4                                                                                                        [haha, you, guys, are, a, bunch, of, losers, .]\n",
       "Name: comment_text, dtype: object"
      ]
     },
     "execution_count": 247,
     "metadata": {},
     "output_type": "execute_result"
    }
   ],
   "source": [
    "check_df = tweet_ftfy_train_df.str.split()\n",
    "check_df.head()"
   ]
  },
  {
   "cell_type": "raw",
   "metadata": {},
   "source": []
  },
  {
   "cell_type": "markdown",
   "metadata": {},
   "source": [
    "**Keyword Extraction**"
   ]
  },
  {
   "cell_type": "code",
   "execution_count": 224,
   "metadata": {},
   "outputs": [],
   "source": [
    "text_content = \" Jeff Sessions is another one of Trump 's Orwellian choices . He believes and has believed his entire career the exact opposite of what the position requires .\"\n",
    "simple_kwextractor = yake.KeywordExtractor(n=2)\n",
    "keywords = simple_kwextractor.extract_keywords(text_content)"
   ]
  },
  {
   "cell_type": "code",
   "execution_count": 225,
   "metadata": {},
   "outputs": [
    {
     "data": {
      "text/plain": [
       "[('jeff sessions', 0.008293207122436794),\n",
       " ('orwellian choices', 0.008293207122436794),\n",
       " ('position requires', 0.015380821171891606),\n",
       " ('entire career', 0.02570861714399338),\n",
       " ('exact opposite', 0.02570861714399338),\n",
       " ('trump', 0.057012387690331526),\n",
       " ('sessions', 0.08596317751626563),\n",
       " ('orwellian', 0.08596317751626563),\n",
       " ('jeff', 0.09568045026443411),\n",
       " ('choices', 0.09568045026443411),\n",
       " ('requires', 0.09568045026443411),\n",
       " ('believed', 0.15831692877998726),\n",
       " ('entire', 0.15831692877998726),\n",
       " ('career', 0.15831692877998726),\n",
       " ('exact', 0.15831692877998726),\n",
       " ('opposite', 0.15831692877998726),\n",
       " ('position', 0.15831692877998726)]"
      ]
     },
     "execution_count": 225,
     "metadata": {},
     "output_type": "execute_result"
    }
   ],
   "source": [
    "keywords"
   ]
  },
  {
   "cell_type": "raw",
   "metadata": {},
   "source": [
    "X_train_spacy_ftfy.progress_apply(simple_kwextractor.extract_keywords)"
   ]
  },
  {
   "cell_type": "code",
   "execution_count": null,
   "metadata": {},
   "outputs": [],
   "source": []
  }
 ],
 "metadata": {
  "kernelspec": {
   "display_name": "Python 3",
   "language": "python",
   "name": "python3"
  },
  "language_info": {
   "codemirror_mode": {
    "name": "ipython",
    "version": 3
   },
   "file_extension": ".py",
   "mimetype": "text/x-python",
   "name": "python",
   "nbconvert_exporter": "python",
   "pygments_lexer": "ipython3",
   "version": "3.6.8"
  }
 },
 "nbformat": 4,
 "nbformat_minor": 2
}
