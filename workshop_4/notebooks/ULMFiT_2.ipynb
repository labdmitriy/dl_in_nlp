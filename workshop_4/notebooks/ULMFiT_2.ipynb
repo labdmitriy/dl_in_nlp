{
 "cells": [
  {
   "cell_type": "code",
   "execution_count": 1,
   "metadata": {},
   "outputs": [],
   "source": [
    "from pathlib import Path\n",
    "from tqdm import tqdm_notebook\n",
    "\n",
    "import numpy as np\n",
    "import pandas as pd\n",
    "\n",
    "%matplotlib inline\n",
    "import matplotlib.pyplot as plt\n",
    "import seaborn as sns\n",
    "\n",
    "import torch\n",
    "\n",
    "import fastai\n",
    "from fastai.text import *"
   ]
  },
  {
   "cell_type": "code",
   "execution_count": 2,
   "metadata": {},
   "outputs": [
    {
     "data": {
      "application/vnd.jupyter.widget-view+json": {
       "model_id": "c873910ad2e843ffb82d9c2fcfa4efb0",
       "version_major": 2,
       "version_minor": 0
      },
      "text/plain": [
       "HBox(children=(IntProgress(value=1, bar_style='info', max=1), HTML(value='')))"
      ]
     },
     "metadata": {},
     "output_type": "display_data"
    },
    {
     "name": "stdout",
     "output_type": "stream",
     "text": [
      "\n"
     ]
    }
   ],
   "source": [
    "DATA_PATH = Path('../data')\n",
    "tqdm_notebook().pandas()"
   ]
  },
  {
   "cell_type": "code",
   "execution_count": 3,
   "metadata": {},
   "outputs": [],
   "source": [
    "text_cols = ['title', 'text']"
   ]
  },
  {
   "cell_type": "raw",
   "metadata": {},
   "source": [
    "train_df = pd.read_csv(DATA_PATH/'train.csv').fillna(' ')\n",
    "valid_df = pd.read_csv(DATA_PATH/'valid.csv').fillna(' ')\n",
    "test_df = pd.read_csv(DATA_PATH/'test.csv', index_col=0).fillna(' ')\n",
    "# unlabeled_df = pd.read_csv(DATA_PATH/'unlabeled.csv', index_col=0).fillna(' ')"
   ]
  },
  {
   "cell_type": "code",
   "execution_count": 4,
   "metadata": {},
   "outputs": [],
   "source": [
    "train_df = pd.read_csv(DATA_PATH/'X_train_ftfy_nfkd.csv').fillna('xxempty')\n",
    "valid_df = pd.read_csv(DATA_PATH/'X_valid_ftfy_nfkd.csv').fillna('xxempty')\n",
    "test_df = pd.read_csv(DATA_PATH/'X_test_ftfy_nfkd.csv').fillna('xxempty')\n",
    "# unlabeled_df = pd.read_csv(DATA_PATH/'X_unlabeled_ftfy_nfkd.csv').fillna('xxempty')"
   ]
  },
  {
   "cell_type": "raw",
   "metadata": {},
   "source": [
    "train_df['title'].apply(str) + ' xxfld ' + train_df['text'].apply(str)"
   ]
  },
  {
   "cell_type": "code",
   "execution_count": 5,
   "metadata": {},
   "outputs": [],
   "source": [
    "full_unlabeled_df = pd.concat([train_df[text_cols], valid_df[text_cols], test_df[text_cols]], # unlabeled_df[text_cols]], \n",
    "                              axis=0, ignore_index=True)\n",
    "full_unlabeled_df.to_csv(DATA_PATH/'full_unlabeled.csv', index=False, header=True)\n",
    "\n",
    "full_train_df = pd.concat([train_df, valid_df], axis=0, ignore_index=True)\n",
    "full_train_df.to_csv(DATA_PATH/'full_train.csv', index=False, header=True)\n",
    "\n",
    "test_df.to_csv(DATA_PATH/'full_test.csv', index=False, header=True)"
   ]
  },
  {
   "cell_type": "raw",
   "metadata": {},
   "source": [
    "full_unlabeled_df = pd.concat([train_df['title'], valid_df['title'], test_df['title'], unlabeled_df['title']], \n",
    "                              axis=0, ignore_index=True)\n",
    "full_unlabeled_df.to_csv(DATA_PATH/'full_unlabeled.csv', index=False, header=True)\n",
    "\n",
    "full_train_df = pd.concat([train_df[['title', 'label']], valid_df[['title', 'label']]], axis=0, ignore_index=True)\n",
    "full_train_df.to_csv(DATA_PATH/'full_train.csv', index=False, header=True)\n",
    "\n",
    "test_df['title'].to_csv(DATA_PATH/'full_test.csv', index=False, header=True)"
   ]
  },
  {
   "cell_type": "code",
   "execution_count": 6,
   "metadata": {},
   "outputs": [
    {
     "data": {
      "text/plain": [
       "Tokenizer SpacyTokenizer in en with the following rules:\n",
       " - fix_html\n",
       " - replace_rep\n",
       " - replace_wrep\n",
       " - spec_add_spaces\n",
       " - rm_useless_spaces\n",
       " - replace_all_caps\n",
       " - deal_caps"
      ]
     },
     "execution_count": 6,
     "metadata": {},
     "output_type": "execute_result"
    }
   ],
   "source": [
    "BOS,EOS,FLD,UNK,PAD = 'xxbos','xxeos','xxfld','xxunk','xxpad'\n",
    "TK_MAJ,TK_UP,TK_REP,TK_WREP = 'xxmaj','xxup','xxrep','xxwrep'\n",
    "EMPTY = 'xxempty'\n",
    "text_spec_tok = [UNK,PAD,BOS,EOS,FLD,TK_MAJ,TK_UP,TK_REP,TK_WREP] + [EMPTY]\n",
    "\n",
    "tokenizer = Tokenizer(special_cases=text_spec_tok)\n",
    "tokenizer"
   ]
  },
  {
   "cell_type": "raw",
   "metadata": {},
   "source": [
    "data_lm = TextLMDataBunch.from_csv(DATA_PATH, 'full_unlabeled.csv', \n",
    "                                   text_cols=text_cols, bs=16,\n",
    "                                   tokenizer=tokenizer,\n",
    "                                   mark_fields=True, include_eos=True, \n",
    "                                   min_freq=1, valid_pct=0.1)"
   ]
  },
  {
   "cell_type": "code",
   "execution_count": 7,
   "metadata": {},
   "outputs": [],
   "source": [
    "# data_lm.save(DATA_PATH/'data_lm_export.pkl')\n",
    "data_lm = load_data(DATA_PATH, 'data_lm_export.pkl')"
   ]
  },
  {
   "cell_type": "code",
   "execution_count": 10,
   "metadata": {},
   "outputs": [
    {
     "data": {
      "text/html": [
       "<table border=\"1\" class=\"dataframe\">\n",
       "  <thead>\n",
       "    <tr style=\"text-align: right;\">\n",
       "      <th>idx</th>\n",
       "      <th>text</th>\n",
       "    </tr>\n",
       "  </thead>\n",
       "  <tbody>\n",
       "    <tr>\n",
       "      <td>0</td>\n",
       "      <td>is the \" force of nature \" xxmaj america needs to move on from the past three decades of its adherence to globalist policies and principles . xxmaj the veteran actor and xxmaj breitbart xxmaj news contributor began his speech by asking how many xxup cpac attendees were xxmaj trump supporters from the very first day he announced — a few raised their hands . xxmaj when he asked how</td>\n",
       "    </tr>\n",
       "    <tr>\n",
       "      <td>1</td>\n",
       "      <td>few months , xxmaj house xxup gop moderates who have been uncomfortable with their party 's xxmaj obamacare repeal bill have had the raucous complaints of xxmaj house conservative hardliners about the legislation to hide behind . xxmaj but that shield has fallen , the hardliners are supporting the bill , and now it 's the votes of xxmaj republicans from purple and blue districts that determine the fate of</td>\n",
       "    </tr>\n",
       "    <tr>\n",
       "      <td>2</td>\n",
       "      <td>around the world . xxmaj are n't those foreigners stealing our jobs while destroying our \" own identity \" , as xxmaj trump has it ? xxmaj digital automation is the real culprit . xxmaj and why not gang up with xxmaj putin against xxmaj isis ? xxmaj because xxmaj vladimir i has far larger strategic fish to fry , and all of them in order to weaken the xxmaj</td>\n",
       "    </tr>\n",
       "    <tr>\n",
       "      <td>3</td>\n",
       "      <td>so that they are leaders of the pack and tell the press to them seriously , \" the memo continued . \" xxmaj our hope is that the goal of a potential xxup hrc campaign and the xxup dnc would be one - in - the - same : to make whomever the xxmaj republicans nominate unpalatable to a majority of the electorate , \" stated the memo . xxmaj</td>\n",
       "    </tr>\n",
       "    <tr>\n",
       "      <td>4</td>\n",
       "      <td>judge could stop his removal , \" said xxmaj adam xxmaj ansari in a statement . \" xxmaj we were in communication with the government regarding those motions – what they failed to mention was that they were in the process of throwing him out of the country . \" xxmaj roth told huffpost that the motion to rescind xxmaj beristain 's removal is still pending , though a ruling</td>\n",
       "    </tr>\n",
       "  </tbody>\n",
       "</table>"
      ],
      "text/plain": [
       "<IPython.core.display.HTML object>"
      ]
     },
     "metadata": {},
     "output_type": "display_data"
    }
   ],
   "source": [
    "data_lm.show_batch()"
   ]
  },
  {
   "cell_type": "code",
   "execution_count": 11,
   "metadata": {},
   "outputs": [
    {
     "data": {
      "text/plain": [
       "60002"
      ]
     },
     "execution_count": 11,
     "metadata": {},
     "output_type": "execute_result"
    }
   ],
   "source": [
    "len(data_lm.vocab.stoi)"
   ]
  },
  {
   "cell_type": "code",
   "execution_count": 12,
   "metadata": {},
   "outputs": [
    {
     "data": {
      "text/plain": [
       "60002"
      ]
     },
     "execution_count": 12,
     "metadata": {},
     "output_type": "execute_result"
    }
   ],
   "source": [
    "len(data_lm.vocab.itos)"
   ]
  },
  {
   "cell_type": "code",
   "execution_count": 13,
   "metadata": {},
   "outputs": [
    {
     "data": {
      "text/html": [
       "<div>\n",
       "<style scoped>\n",
       "    .dataframe tbody tr th:only-of-type {\n",
       "        vertical-align: middle;\n",
       "    }\n",
       "\n",
       "    .dataframe tbody tr th {\n",
       "        vertical-align: top;\n",
       "    }\n",
       "\n",
       "    .dataframe thead th {\n",
       "        text-align: right;\n",
       "    }\n",
       "</style>\n",
       "<table border=\"1\" class=\"dataframe\">\n",
       "  <thead>\n",
       "    <tr style=\"text-align: right;\">\n",
       "      <th></th>\n",
       "      <th>token</th>\n",
       "      <th>token_length</th>\n",
       "    </tr>\n",
       "  </thead>\n",
       "  <tbody>\n",
       "    <tr>\n",
       "      <th>0</th>\n",
       "      <td>xxunk</td>\n",
       "      <td>5</td>\n",
       "    </tr>\n",
       "    <tr>\n",
       "      <th>1</th>\n",
       "      <td>xxpad</td>\n",
       "      <td>5</td>\n",
       "    </tr>\n",
       "    <tr>\n",
       "      <th>2</th>\n",
       "      <td>xxbos</td>\n",
       "      <td>5</td>\n",
       "    </tr>\n",
       "    <tr>\n",
       "      <th>3</th>\n",
       "      <td>xxeos</td>\n",
       "      <td>5</td>\n",
       "    </tr>\n",
       "    <tr>\n",
       "      <th>4</th>\n",
       "      <td>xxfld</td>\n",
       "      <td>5</td>\n",
       "    </tr>\n",
       "  </tbody>\n",
       "</table>\n",
       "</div>"
      ],
      "text/plain": [
       "   token  token_length\n",
       "0  xxunk             5\n",
       "1  xxpad             5\n",
       "2  xxbos             5\n",
       "3  xxeos             5\n",
       "4  xxfld             5"
      ]
     },
     "execution_count": 13,
     "metadata": {},
     "output_type": "execute_result"
    }
   ],
   "source": [
    "vocab_df = pd.DataFrame(data_lm.vocab.itos, columns=['token'])\n",
    "vocab_df['token_length'] = vocab_df['token'].str.len()\n",
    "vocab_df.head()"
   ]
  },
  {
   "cell_type": "code",
   "execution_count": 14,
   "metadata": {},
   "outputs": [
    {
     "data": {
      "text/plain": [
       "array(['sportstips@complex.com', 'pricewaterhousecoopers', 'igcolonel@hotmail.com', 'www.itscanadatime.com',\n",
       "       'christmascatsofinstagram', 'newunitedairlinesmottos', 'awrhawkins@breitbart.com', 'bookshop.theguardian.com',\n",
       "       'entertainment.news@bbc.co.uk', 'static1.squarespace.com', '584086c7be6594762f5ec56e',\n",
       "       '5877e24a29687f9613e546ff', 'wmw+guiding+vision+%26+definition+of+principles.pdf', 'dhowley@yahoo-inc.com',\n",
       "       'channel_14,channelname', 'wpmagazine@washpost.com', 'womensmarchonwashington', 'haveyoursay@bbc.co.uk',\n",
       "       'channel_2,channelname', 'newsletters@theatlantic', 'ontheroad@cbsnews.com',\n",
       "       'ayw_2tf4a1fewxfhv1bys3p8mu95skfbcvz5unjkyozlzotrcjtvgk_6ndbep1imtauws83wewrm_md9nxhr',\n",
       "       'tciccotta@breitbart.com', 'holyfuckhsjdfds@l??!dsjfas!!sfjmfnksemrewlkf23i', 'yhtruestories@yahoo.com',\n",
       "       'tanya.chen@buzzfeed.com', 'nextvideo.description', 'psillitoe@bloomberg.net'], dtype=object)"
      ]
     },
     "execution_count": 14,
     "metadata": {},
     "output_type": "execute_result"
    }
   ],
   "source": [
    "vocab_df[vocab_df['token_length'] > 20]['token'].values"
   ]
  },
  {
   "cell_type": "code",
   "execution_count": 15,
   "metadata": {},
   "outputs": [
    {
     "data": {
      "text/html": [
       "<div>\n",
       "<style scoped>\n",
       "    .dataframe tbody tr th:only-of-type {\n",
       "        vertical-align: middle;\n",
       "    }\n",
       "\n",
       "    .dataframe tbody tr th {\n",
       "        vertical-align: top;\n",
       "    }\n",
       "\n",
       "    .dataframe thead th {\n",
       "        text-align: right;\n",
       "    }\n",
       "</style>\n",
       "<table border=\"1\" class=\"dataframe\">\n",
       "  <thead>\n",
       "    <tr style=\"text-align: right;\">\n",
       "      <th></th>\n",
       "      <th>title</th>\n",
       "      <th>text</th>\n",
       "      <th>label</th>\n",
       "    </tr>\n",
       "  </thead>\n",
       "  <tbody>\n",
       "    <tr>\n",
       "      <th>350</th>\n",
       "      <td>Hong Kong's New Leader Will Inherit a Fragile ...</td>\n",
       "      <td>Hong Kong's next chief executive -- to be sele...</td>\n",
       "      <td>news</td>\n",
       "    </tr>\n",
       "    <tr>\n",
       "      <th>7277</th>\n",
       "      <td>Hong Kong's New Leader Will Inherit a Fragile ...</td>\n",
       "      <td>Hong Kong's next chief executive -- to be sele...</td>\n",
       "      <td>news</td>\n",
       "    </tr>\n",
       "    <tr>\n",
       "      <th>24233</th>\n",
       "      <td>xxempty</td>\n",
       "      <td>xxempty</td>\n",
       "      <td>other</td>\n",
       "    </tr>\n",
       "    <tr>\n",
       "      <th>23221</th>\n",
       "      <td>xxempty</td>\n",
       "      <td>xxempty</td>\n",
       "      <td>other</td>\n",
       "    </tr>\n",
       "    <tr>\n",
       "      <th>22831</th>\n",
       "      <td>xxempty</td>\n",
       "      <td>xxempty</td>\n",
       "      <td>other</td>\n",
       "    </tr>\n",
       "  </tbody>\n",
       "</table>\n",
       "</div>"
      ],
      "text/plain": [
       "                                                   title  \\\n",
       "350    Hong Kong's New Leader Will Inherit a Fragile ...   \n",
       "7277   Hong Kong's New Leader Will Inherit a Fragile ...   \n",
       "24233                                            xxempty   \n",
       "23221                                            xxempty   \n",
       "22831                                            xxempty   \n",
       "\n",
       "                                                    text  label  \n",
       "350    Hong Kong's next chief executive -- to be sele...   news  \n",
       "7277   Hong Kong's next chief executive -- to be sele...   news  \n",
       "24233                                            xxempty  other  \n",
       "23221                                            xxempty  other  \n",
       "22831                                            xxempty  other  "
      ]
     },
     "execution_count": 15,
     "metadata": {},
     "output_type": "execute_result"
    }
   ],
   "source": [
    "dup_df = full_train_df[full_train_df.duplicated(keep=False)].sort_values('title').head()\n",
    "dup_df"
   ]
  },
  {
   "cell_type": "raw",
   "metadata": {},
   "source": []
  },
  {
   "cell_type": "code",
   "execution_count": 8,
   "metadata": {},
   "outputs": [],
   "source": [
    "learn = language_model_learner(data_lm, AWD_LSTM, drop_mult=0.3)"
   ]
  },
  {
   "cell_type": "code",
   "execution_count": 20,
   "metadata": {},
   "outputs": [
    {
     "data": {
      "text/html": [],
      "text/plain": [
       "<IPython.core.display.HTML object>"
      ]
     },
     "metadata": {},
     "output_type": "display_data"
    },
    {
     "name": "stdout",
     "output_type": "stream",
     "text": [
      "LR Finder is complete, type {learner_name}.recorder.plot() to see the graph.\n",
      "Min numerical gradient: 1.58E-03\n"
     ]
    },
    {
     "data": {
      "text/plain": [
       "0.001584893192461113"
      ]
     },
     "execution_count": 20,
     "metadata": {},
     "output_type": "execute_result"
    },
    {
     "data": {
      "image/png": "[encoded data removed]",
      "text/plain": [
       "<Figure size 432x288 with 1 Axes>"
      ]
     },
     "metadata": {
      "needs_background": "light"
     },
     "output_type": "display_data"
    }
   ],
   "source": [
    "learn.lr_find(start_lr = slice(10e-7, 10e-5), end_lr=slice(0.1, 10))\n",
    "learn.recorder.plot(suggestion=True)\n",
    "\n",
    "best_lm_lr = learn.recorder.min_grad_lr\n",
    "best_lm_lr"
   ]
  },
  {
   "cell_type": "code",
   "execution_count": 21,
   "metadata": {},
   "outputs": [
    {
     "data": {
      "text/html": [
       "<table border=\"1\" class=\"dataframe\">\n",
       "  <thead>\n",
       "    <tr style=\"text-align: left;\">\n",
       "      <th>epoch</th>\n",
       "      <th>train_loss</th>\n",
       "      <th>valid_loss</th>\n",
       "      <th>accuracy</th>\n",
       "      <th>time</th>\n",
       "    </tr>\n",
       "  </thead>\n",
       "  <tbody>\n",
       "    <tr>\n",
       "      <td>0</td>\n",
       "      <td>4.286894</td>\n",
       "      <td>4.095900</td>\n",
       "      <td>0.324444</td>\n",
       "      <td>1:21:11</td>\n",
       "    </tr>\n",
       "  </tbody>\n",
       "</table>"
      ],
      "text/plain": [
       "<IPython.core.display.HTML object>"
      ]
     },
     "metadata": {},
     "output_type": "display_data"
    }
   ],
   "source": [
    "learn.fit_one_cycle(1, best_lm_lr, moms=(0.8, 0.7))"
   ]
  },
  {
   "cell_type": "raw",
   "metadata": {},
   "source": [
    "learn.save('lm_freezed_2')\n",
    "learn.save_encoder('lm_enc_freezed_2')"
   ]
  },
  {
   "cell_type": "code",
   "execution_count": null,
   "metadata": {},
   "outputs": [],
   "source": []
  },
  {
   "cell_type": "code",
   "execution_count": 17,
   "metadata": {},
   "outputs": [],
   "source": [
    "learn = learn.load('lm_freezed_2')"
   ]
  },
  {
   "cell_type": "code",
   "execution_count": 18,
   "metadata": {},
   "outputs": [],
   "source": [
    "learn.unfreeze()"
   ]
  },
  {
   "cell_type": "code",
   "execution_count": 19,
   "metadata": {},
   "outputs": [
    {
     "data": {
      "text/html": [],
      "text/plain": [
       "<IPython.core.display.HTML object>"
      ]
     },
     "metadata": {},
     "output_type": "display_data"
    },
    {
     "name": "stdout",
     "output_type": "stream",
     "text": [
      "LR Finder is complete, type {learner_name}.recorder.plot() to see the graph.\n",
      "Min numerical gradient: 3.16E-04\n"
     ]
    },
    {
     "data": {
      "text/plain": [
       "0.00031622776601683783"
      ]
     },
     "execution_count": 19,
     "metadata": {},
     "output_type": "execute_result"
    },
    {
     "data": {
      "image/png": "[encoded data removed]",
      "text/plain": [
       "<Figure size 432x288 with 1 Axes>"
      ]
     },
     "metadata": {
      "needs_background": "light"
     },
     "output_type": "display_data"
    }
   ],
   "source": [
    "learn.lr_find(start_lr = slice(10e-7, 10e-5), end_lr=slice(0.1, 10))\n",
    "learn.recorder.plot(suggestion=True)\n",
    "\n",
    "best_lm_lr = learn.recorder.min_grad_lr\n",
    "best_lm_lr"
   ]
  },
  {
   "cell_type": "code",
   "execution_count": 20,
   "metadata": {},
   "outputs": [
    {
     "data": {
      "text/html": [
       "<table border=\"1\" class=\"dataframe\">\n",
       "  <thead>\n",
       "    <tr style=\"text-align: left;\">\n",
       "      <th>epoch</th>\n",
       "      <th>train_loss</th>\n",
       "      <th>valid_loss</th>\n",
       "      <th>accuracy</th>\n",
       "      <th>time</th>\n",
       "    </tr>\n",
       "  </thead>\n",
       "  <tbody>\n",
       "    <tr>\n",
       "      <td>0</td>\n",
       "      <td>3.881428</td>\n",
       "      <td>3.789793</td>\n",
       "      <td>0.347150</td>\n",
       "      <td>43:26</td>\n",
       "    </tr>\n",
       "  </tbody>\n",
       "</table>"
      ],
      "text/plain": [
       "<IPython.core.display.HTML object>"
      ]
     },
     "metadata": {},
     "output_type": "display_data"
    }
   ],
   "source": [
    "learn.fit_one_cycle(1, best_lm_lr, moms=(0.8, 0.7))"
   ]
  },
  {
   "cell_type": "code",
   "execution_count": 22,
   "metadata": {},
   "outputs": [],
   "source": [
    "learn.save('lm_unfreezed_2')\n",
    "learn.save_encoder('lm_enc_unfreezed_2')"
   ]
  },
  {
   "cell_type": "raw",
   "metadata": {},
   "source": []
  },
  {
   "cell_type": "code",
   "execution_count": 9,
   "metadata": {},
   "outputs": [],
   "source": [
    "learn = learn.load('lm_unfreezed_2')"
   ]
  },
  {
   "cell_type": "raw",
   "metadata": {},
   "source": [
    "data_clas = TextClasDataBunch.from_csv(path=DATA_PATH, \n",
    "                                       csv_name='full_train.csv',\n",
    "                                       test='full_test.csv',\n",
    "                                       vocab=data_lm.train_ds.vocab, \n",
    "                                       bs=16,\n",
    "                                       text_cols=text_cols, \n",
    "                                       label_cols='label',\n",
    "                                       tokenizer=tokenizer,\n",
    "                                       mark_fields=True, include_eos=True, \n",
    "                                       min_freq=1, valid_pct=0.1)"
   ]
  },
  {
   "cell_type": "code",
   "execution_count": 9,
   "metadata": {},
   "outputs": [],
   "source": [
    "# data_clas.save(DATA_PATH/'data_clas_export.pkl')\n",
    "data_clas = load_data(DATA_PATH, 'data_clas_export.pkl', bs=32)"
   ]
  },
  {
   "cell_type": "code",
   "execution_count": 12,
   "metadata": {},
   "outputs": [
    {
     "data": {
      "text/html": [
       "<table border=\"1\" class=\"dataframe\">\n",
       "  <thead>\n",
       "    <tr style=\"text-align: right;\">\n",
       "      <th>text</th>\n",
       "      <th>target</th>\n",
       "    </tr>\n",
       "  </thead>\n",
       "  <tbody>\n",
       "    <tr>\n",
       "      <td>xxbos xxfld 1 xxmaj inauguration xxmaj day : xxmaj live xxmaj coverage xxfld 2 xxup jan . 20 , 2017 xxmaj alan xxmaj rappeport xxmaj washington xxmaj correspondent xxunk xxup pm xxup et xxmaj welcome ! xxmaj we will starting our live analysis and coverage of the inauguration ceremonies starting around 10 a.m. xxmaj friday morning . xxmaj please check back then to join us . xxmaj morrigan mccarthy 9:31</td>\n",
       "      <td>news</td>\n",
       "    </tr>\n",
       "    <tr>\n",
       "      <td>xxbos xxfld 1 2017 xxup nba xxmaj power xxmaj rankings : xxmaj stacking xxmaj up xxmaj all 30 xxmaj teams xxmaj before the xxmaj home xxmaj stretch xxfld 2 xxmaj you know we 're hitting the stretch run when high - end xxup nba teams are surpassing last season 's win totals and clinching playoff spots : xxmaj the xxmaj houston xxmaj rockets and xxmaj golden xxmaj state xxmaj warriors</td>\n",
       "      <td>news</td>\n",
       "    </tr>\n",
       "    <tr>\n",
       "      <td>xxbos xxfld 1 xxmaj david xxmaj pogue tested 40 xxmaj bluetooth earbuds to find the best of the best xxfld 2 xxmaj more xxmaj try xxmaj yahoo xxmaj finance on xxmaj firefox » xxmaj admit it , my people : the way of the world is to go wireless . xxmaj first phone cords went away , then internet cables , then printer cords ; power cords ' extinction is</td>\n",
       "      <td>news</td>\n",
       "    </tr>\n",
       "    <tr>\n",
       "      <td>xxbos xxfld 1 i xxmaj quit xxmaj sugar xxmaj for 30 xxmaj days xxmaj and xxmaj this xxmaj is xxmaj what xxmaj happened xxfld 2 xxmaj log in or sign up to create your own posts . xxmaj no added sugars , no artificial sweeteners , no fake sugars , no honey , no agave , no syrup , no joy . i honestly wish the above statement were a</td>\n",
       "      <td>clickbait</td>\n",
       "    </tr>\n",
       "    <tr>\n",
       "      <td>xxbos xxfld 1 xxmaj what 's xxmaj it xxmaj like xxmaj being xxmaj black in the xxmaj white - xxmaj dominated xxmaj weed xxmaj industry xxfld 2 xxmaj not everyone can be xxmaj wiz xxmaj khalifa , xxmaj snoop xxmaj dogg or xxmaj freddie xxmaj gibbs . xxmaj we 're not just talking about the money , fame , and musical talent , but the fact that all three are</td>\n",
       "      <td>news</td>\n",
       "    </tr>\n",
       "  </tbody>\n",
       "</table>"
      ],
      "text/plain": [
       "<IPython.core.display.HTML object>"
      ]
     },
     "metadata": {},
     "output_type": "display_data"
    }
   ],
   "source": [
    "data_clas.show_batch()"
   ]
  },
  {
   "cell_type": "code",
   "execution_count": 10,
   "metadata": {},
   "outputs": [
    {
     "data": {
      "text/plain": [
       "60002"
      ]
     },
     "execution_count": 10,
     "metadata": {},
     "output_type": "execute_result"
    }
   ],
   "source": [
    "len(data_clas.vocab.stoi)"
   ]
  },
  {
   "cell_type": "code",
   "execution_count": 14,
   "metadata": {},
   "outputs": [
    {
     "data": {
      "text/plain": [
       "60002"
      ]
     },
     "execution_count": 14,
     "metadata": {},
     "output_type": "execute_result"
    }
   ],
   "source": [
    "len(data_clas.vocab.itos)"
   ]
  },
  {
   "cell_type": "code",
   "execution_count": 15,
   "metadata": {},
   "outputs": [
    {
     "data": {
      "text/html": [
       "<div>\n",
       "<style scoped>\n",
       "    .dataframe tbody tr th:only-of-type {\n",
       "        vertical-align: middle;\n",
       "    }\n",
       "\n",
       "    .dataframe tbody tr th {\n",
       "        vertical-align: top;\n",
       "    }\n",
       "\n",
       "    .dataframe thead th {\n",
       "        text-align: right;\n",
       "    }\n",
       "</style>\n",
       "<table border=\"1\" class=\"dataframe\">\n",
       "  <thead>\n",
       "    <tr style=\"text-align: right;\">\n",
       "      <th></th>\n",
       "      <th>token</th>\n",
       "      <th>token_length</th>\n",
       "    </tr>\n",
       "  </thead>\n",
       "  <tbody>\n",
       "    <tr>\n",
       "      <th>0</th>\n",
       "      <td>xxunk</td>\n",
       "      <td>5</td>\n",
       "    </tr>\n",
       "    <tr>\n",
       "      <th>1</th>\n",
       "      <td>xxpad</td>\n",
       "      <td>5</td>\n",
       "    </tr>\n",
       "    <tr>\n",
       "      <th>2</th>\n",
       "      <td>xxbos</td>\n",
       "      <td>5</td>\n",
       "    </tr>\n",
       "    <tr>\n",
       "      <th>3</th>\n",
       "      <td>xxeos</td>\n",
       "      <td>5</td>\n",
       "    </tr>\n",
       "    <tr>\n",
       "      <th>4</th>\n",
       "      <td>xxfld</td>\n",
       "      <td>5</td>\n",
       "    </tr>\n",
       "  </tbody>\n",
       "</table>\n",
       "</div>"
      ],
      "text/plain": [
       "   token  token_length\n",
       "0  xxunk             5\n",
       "1  xxpad             5\n",
       "2  xxbos             5\n",
       "3  xxeos             5\n",
       "4  xxfld             5"
      ]
     },
     "execution_count": 15,
     "metadata": {},
     "output_type": "execute_result"
    }
   ],
   "source": [
    "vocab_df = pd.DataFrame(data_clas.vocab.itos, columns=['token'])\n",
    "vocab_df['token_length'] = vocab_df['token'].str.len()\n",
    "vocab_df.head()"
   ]
  },
  {
   "cell_type": "code",
   "execution_count": 18,
   "metadata": {},
   "outputs": [
    {
     "data": {
      "text/plain": [
       "array(['sportstips@complex.com', 'pricewaterhousecoopers', 'igcolonel@hotmail.com', 'www.itscanadatime.com',\n",
       "       'christmascatsofinstagram', 'newunitedairlinesmottos', 'awrhawkins@breitbart.com', 'bookshop.theguardian.com',\n",
       "       'entertainment.news@bbc.co.uk', 'static1.squarespace.com', '584086c7be6594762f5ec56e',\n",
       "       '5877e24a29687f9613e546ff', 'wmw+guiding+vision+%26+definition+of+principles.pdf', 'dhowley@yahoo-inc.com',\n",
       "       'channel_14,channelname', 'wpmagazine@washpost.com', 'womensmarchonwashington', 'haveyoursay@bbc.co.uk',\n",
       "       'channel_2,channelname', 'newsletters@theatlantic', 'ontheroad@cbsnews.com',\n",
       "       'ayw_2tf4a1fewxfhv1bys3p8mu95skfbcvz5unjkyozlzotrcjtvgk_6ndbep1imtauws83wewrm_md9nxhr',\n",
       "       'tciccotta@breitbart.com', 'holyfuckhsjdfds@l??!dsjfas!!sfjmfnksemrewlkf23i', 'yhtruestories@yahoo.com',\n",
       "       'tanya.chen@buzzfeed.com', 'nextvideo.description', 'psillitoe@bloomberg.net'], dtype=object)"
      ]
     },
     "execution_count": 18,
     "metadata": {},
     "output_type": "execute_result"
    }
   ],
   "source": [
    "vocab_df[vocab_df['token_length'] > 20]['token'].values"
   ]
  },
  {
   "cell_type": "code",
   "execution_count": 19,
   "metadata": {},
   "outputs": [
    {
     "data": {
      "text/html": [
       "<div>\n",
       "<style scoped>\n",
       "    .dataframe tbody tr th:only-of-type {\n",
       "        vertical-align: middle;\n",
       "    }\n",
       "\n",
       "    .dataframe tbody tr th {\n",
       "        vertical-align: top;\n",
       "    }\n",
       "\n",
       "    .dataframe thead th {\n",
       "        text-align: right;\n",
       "    }\n",
       "</style>\n",
       "<table border=\"1\" class=\"dataframe\">\n",
       "  <thead>\n",
       "    <tr style=\"text-align: right;\">\n",
       "      <th></th>\n",
       "      <th>title</th>\n",
       "      <th>text</th>\n",
       "      <th>label</th>\n",
       "    </tr>\n",
       "  </thead>\n",
       "  <tbody>\n",
       "    <tr>\n",
       "      <th>350</th>\n",
       "      <td>Hong Kong's New Leader Will Inherit a Fragile ...</td>\n",
       "      <td>Hong Kong's next chief executive -- to be sele...</td>\n",
       "      <td>news</td>\n",
       "    </tr>\n",
       "    <tr>\n",
       "      <th>7277</th>\n",
       "      <td>Hong Kong's New Leader Will Inherit a Fragile ...</td>\n",
       "      <td>Hong Kong's next chief executive -- to be sele...</td>\n",
       "      <td>news</td>\n",
       "    </tr>\n",
       "    <tr>\n",
       "      <th>24233</th>\n",
       "      <td>xxempty</td>\n",
       "      <td>xxempty</td>\n",
       "      <td>other</td>\n",
       "    </tr>\n",
       "    <tr>\n",
       "      <th>23221</th>\n",
       "      <td>xxempty</td>\n",
       "      <td>xxempty</td>\n",
       "      <td>other</td>\n",
       "    </tr>\n",
       "    <tr>\n",
       "      <th>22831</th>\n",
       "      <td>xxempty</td>\n",
       "      <td>xxempty</td>\n",
       "      <td>other</td>\n",
       "    </tr>\n",
       "  </tbody>\n",
       "</table>\n",
       "</div>"
      ],
      "text/plain": [
       "                                                   title  \\\n",
       "350    Hong Kong's New Leader Will Inherit a Fragile ...   \n",
       "7277   Hong Kong's New Leader Will Inherit a Fragile ...   \n",
       "24233                                            xxempty   \n",
       "23221                                            xxempty   \n",
       "22831                                            xxempty   \n",
       "\n",
       "                                                    text  label  \n",
       "350    Hong Kong's next chief executive -- to be sele...   news  \n",
       "7277   Hong Kong's next chief executive -- to be sele...   news  \n",
       "24233                                            xxempty  other  \n",
       "23221                                            xxempty  other  \n",
       "22831                                            xxempty  other  "
      ]
     },
     "execution_count": 19,
     "metadata": {},
     "output_type": "execute_result"
    }
   ],
   "source": [
    "dup_df = full_train_df[full_train_df.duplicated(keep=False)].sort_values('title').head()\n",
    "dup_df"
   ]
  },
  {
   "cell_type": "raw",
   "metadata": {},
   "source": []
  },
  {
   "cell_type": "code",
   "execution_count": 20,
   "metadata": {},
   "outputs": [],
   "source": [
    "learn_clas = text_classifier_learner(data_clas, drop_mult=0.3, arch=AWD_LSTM)"
   ]
  },
  {
   "cell_type": "code",
   "execution_count": 20,
   "metadata": {},
   "outputs": [],
   "source": [
    "learn_clas.load_encoder('lm_enc_unfreezed_2')"
   ]
  },
  {
   "cell_type": "code",
   "execution_count": 21,
   "metadata": {},
   "outputs": [
    {
     "data": {
      "text/html": [],
      "text/plain": [
       "<IPython.core.display.HTML object>"
      ]
     },
     "metadata": {},
     "output_type": "display_data"
    },
    {
     "name": "stdout",
     "output_type": "stream",
     "text": [
      "LR Finder is complete, type {learner_name}.recorder.plot() to see the graph.\n",
      "Min numerical gradient: 2.24E-03\n"
     ]
    },
    {
     "data": {
      "text/plain": [
       "0.0022387211385683403"
      ]
     },
     "execution_count": 21,
     "metadata": {},
     "output_type": "execute_result"
    },
    {
     "data": {
      "image/png": "[encoded data removed]",
      "text/plain": [
       "<Figure size 432x288 with 1 Axes>"
      ]
     },
     "metadata": {
      "needs_background": "light"
     },
     "output_type": "display_data"
    }
   ],
   "source": [
    "learn_clas.lr_find(start_lr = slice(10e-7, 10e-5), end_lr=slice(0.1, 10))\n",
    "learn_clas.recorder.plot(suggestion=True)\n",
    "\n",
    "best_clf_lr = learn_clas.recorder.min_grad_lr\n",
    "best_clf_lr"
   ]
  },
  {
   "cell_type": "code",
   "execution_count": 22,
   "metadata": {},
   "outputs": [
    {
     "data": {
      "text/html": [
       "<table border=\"1\" class=\"dataframe\">\n",
       "  <thead>\n",
       "    <tr style=\"text-align: left;\">\n",
       "      <th>epoch</th>\n",
       "      <th>train_loss</th>\n",
       "      <th>valid_loss</th>\n",
       "      <th>accuracy</th>\n",
       "      <th>time</th>\n",
       "    </tr>\n",
       "  </thead>\n",
       "  <tbody>\n",
       "    <tr>\n",
       "      <td>0</td>\n",
       "      <td>0.475150</td>\n",
       "      <td>0.369563</td>\n",
       "      <td>0.851565</td>\n",
       "      <td>59:24</td>\n",
       "    </tr>\n",
       "  </tbody>\n",
       "</table>"
      ],
      "text/plain": [
       "<IPython.core.display.HTML object>"
      ]
     },
     "metadata": {},
     "output_type": "display_data"
    }
   ],
   "source": [
    "learn_clas.fit_one_cycle(1, best_clf_lr, moms=(0.8, 0.7))"
   ]
  },
  {
   "cell_type": "code",
   "execution_count": 24,
   "metadata": {},
   "outputs": [],
   "source": [
    "learn_clas.save('clf_freezed_2')\n",
    "learn_clas.save_encoder('clf_enc_freezed_2')"
   ]
  },
  {
   "cell_type": "raw",
   "metadata": {},
   "source": []
  },
  {
   "cell_type": "code",
   "execution_count": null,
   "metadata": {},
   "outputs": [],
   "source": [
    "learn_clas = learn_clas.load('clf_freezed_2')"
   ]
  },
  {
   "cell_type": "code",
   "execution_count": null,
   "metadata": {},
   "outputs": [],
   "source": [
    "learn_clas.freeze_to(-2)"
   ]
  },
  {
   "cell_type": "code",
   "execution_count": null,
   "metadata": {},
   "outputs": [],
   "source": [
    "learn_clas.lr_find(start_lr = slice(10e-7, 10e-5), end_lr=slice(0.1, 10))\n",
    "learn_clas.recorder.plot(suggestion=True)\n",
    "\n",
    "best_clf_lr = learn_clas.recorder.min_grad_lr\n",
    "best_clf_lr"
   ]
  },
  {
   "cell_type": "code",
   "execution_count": null,
   "metadata": {},
   "outputs": [],
   "source": [
    "learn_clas.fit_one_cycle(1, slice(best_clf_lr/2.6**4, best_clf_lr), moms=(0.8, 0.7))"
   ]
  },
  {
   "cell_type": "code",
   "execution_count": null,
   "metadata": {},
   "outputs": [],
   "source": [
    "learn_clas.save('clf_unfreezed_2_2')\n",
    "learn_clas.save_encoder('clf_enc_unfreezed_2_2')"
   ]
  },
  {
   "cell_type": "code",
   "execution_count": null,
   "metadata": {},
   "outputs": [],
   "source": []
  },
  {
   "cell_type": "raw",
   "metadata": {},
   "source": [
    "learn_clas = learn_clas.load('clf_unfreezed_2_2')"
   ]
  },
  {
   "cell_type": "raw",
   "metadata": {},
   "source": [
    "learn_clas.freeze_to(-3)"
   ]
  },
  {
   "cell_type": "raw",
   "metadata": {},
   "source": [
    "learn_clas.lr_find(start_lr = slice(10e-7, 10e-5), end_lr=slice(0.1, 10))\n",
    "learn_clas.recorder.plot(suggestion=True)\n",
    "\n",
    "best_clf_lr = learn_clas.recorder.min_grad_lr\n",
    "best_clf_lr"
   ]
  },
  {
   "cell_type": "raw",
   "metadata": {},
   "source": [
    "learn_clas.fit_one_cycle(1, slice(best_clf_lr/2.6**4, best_clf_lr), moms=(0.8, 0.7))"
   ]
  },
  {
   "cell_type": "raw",
   "metadata": {},
   "source": [
    "learn_clas.save('clf_unfreezed_3_2')"
   ]
  },
  {
   "cell_type": "raw",
   "metadata": {},
   "source": [
    "learn_clas = learn_clas.load('clf_unfreezed_3_2')"
   ]
  },
  {
   "cell_type": "raw",
   "metadata": {},
   "source": []
  },
  {
   "cell_type": "code",
   "execution_count": null,
   "metadata": {},
   "outputs": [],
   "source": [
    "learn_clas.unfreeze()"
   ]
  },
  {
   "cell_type": "code",
   "execution_count": null,
   "metadata": {},
   "outputs": [],
   "source": [
    "learn_clas.lr_find(start_lr = slice(10e-7, 10e-5), end_lr=slice(0.1, 10))\n",
    "learn_clas.recorder.plot(suggestion=True)\n",
    "\n",
    "best_clf_lr = learn_clas.recorder.min_grad_lr\n",
    "best_clf_lr"
   ]
  },
  {
   "cell_type": "code",
   "execution_count": null,
   "metadata": {},
   "outputs": [],
   "source": [
    "learn_clas.fit_one_cycle(1, slice(best_clf_lr/2.6**4, best_clf_lr), moms=(0.8, 0.7))"
   ]
  },
  {
   "cell_type": "code",
   "execution_count": null,
   "metadata": {},
   "outputs": [],
   "source": [
    "learn_clas.save('clf_unfreezed_all_2')\n",
    "learn_clas.save_encoder('clf_enc_unfreezed_all_2')"
   ]
  },
  {
   "cell_type": "code",
   "execution_count": null,
   "metadata": {},
   "outputs": [],
   "source": [
    "learn_clas.show_results()"
   ]
  },
  {
   "cell_type": "raw",
   "metadata": {},
   "source": []
  },
  {
   "cell_type": "raw",
   "metadata": {},
   "source": [
    "test_preds = np.concatenate([learn_clas.predict(item=test_df.iloc[i])[2].cpu().numpy().reshape(1, -1)\n",
    "                            for i in tqdm_notebook(range(len(test_df)))], axis=0)"
   ]
  },
  {
   "cell_type": "raw",
   "metadata": {},
   "source": [
    "test_pred_df = pd.DataFrame(test_preds, columns=['clickbait', 'news', 'other'])\n",
    "ulmfit_preds = pd.Series(np.argmax(test_pred_df.values, axis=1),\n",
    "                        name='label').map({0: 'clickbait', 1: 'news', 2: 'other'})"
   ]
  },
  {
   "cell_type": "code",
   "execution_count": 40,
   "metadata": {},
   "outputs": [
    {
     "data": {
      "application/vnd.jupyter.widget-view+json": {
       "model_id": "4db63986c121400c8f382862feda414e",
       "version_major": 2,
       "version_minor": 0
      },
      "text/plain": [
       "HBox(children=(IntProgress(value=0, max=353), HTML(value='')))"
      ]
     },
     "metadata": {},
     "output_type": "display_data"
    },
    {
     "data": {
      "text/plain": [
       "353"
      ]
     },
     "execution_count": 40,
     "metadata": {},
     "output_type": "execute_result"
    }
   ],
   "source": [
    "test_preds = []\n",
    "\n",
    "for batch in tqdm_notebook(learn_clas.data.test_dl):\n",
    "    test_preds.append(learn_clas.pred_batch(batch))\n",
    "    \n",
    "len(test_preds)"
   ]
  },
  {
   "cell_type": "code",
   "execution_count": 67,
   "metadata": {},
   "outputs": [],
   "source": [
    "test_pred_df = pd.DataFrame(torch.cat(test_preds), columns=['clickbait', 'news', 'other'])\n",
    "ulmfit_preds = pd.Series(np.argmax(test_pred_df.values, axis=1),\n",
    "                        name='label').map({0: 'clickbait', 1: 'news', 2: 'other'})"
   ]
  },
  {
   "cell_type": "code",
   "execution_count": 48,
   "metadata": {},
   "outputs": [],
   "source": [
    "ulmfit_preds.to_csv('ulmfit_predictions_title.csv', index_label='id', header=True)"
   ]
  },
  {
   "cell_type": "code",
   "execution_count": 49,
   "metadata": {},
   "outputs": [
    {
     "name": "stdout",
     "output_type": "stream",
     "text": [
      "id,label\n",
      "0,news\n",
      "1,news\n",
      "2,news\n",
      "3,news\n",
      "4,news\n",
      "5,news\n",
      "6,news\n",
      "7,news\n",
      "8,news\n"
     ]
    }
   ],
   "source": [
    "!head 'ulmfit_predictions_title.csv'"
   ]
  },
  {
   "cell_type": "code",
   "execution_count": 50,
   "metadata": {},
   "outputs": [
    {
     "name": "stdout",
     "output_type": "stream",
     "text": [
      "5649 ulmfit_predictions_title.csv\n"
     ]
    }
   ],
   "source": [
    "!wc -l ulmfit_predictions_title.csv"
   ]
  },
  {
   "cell_type": "code",
   "execution_count": 42,
   "metadata": {},
   "outputs": [
    {
     "name": "stdout",
     "output_type": "stream",
     "text": [
      "100%|██████████████████████████████████████| 56.9k/56.9k [00:05<00:00, 11.3kB/s]\n",
      "Successfully submitted to DL in NLP Spring 2019. Classification"
     ]
    }
   ],
   "source": [
    "!kaggle competitions submit -c dlinnlp-spring-2019-clf -f ulmfit_predictions_title.csv -m \"ULMFiT Baseline\""
   ]
  },
  {
   "cell_type": "code",
   "execution_count": null,
   "metadata": {},
   "outputs": [],
   "source": []
  }
 ],
 "metadata": {
  "kernelspec": {
   "display_name": "Python 3",
   "language": "python",
   "name": "python3"
  },
  "language_info": {
   "codemirror_mode": {
    "name": "ipython",
    "version": 3
   },
   "file_extension": ".py",
   "mimetype": "text/x-python",
   "name": "python",
   "nbconvert_exporter": "python",
   "pygments_lexer": "ipython3",
   "version": "3.6.8"
  }
 },
 "nbformat": 4,
 "nbformat_minor": 2
}
