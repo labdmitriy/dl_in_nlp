{
 "cells": [
  {
   "cell_type": "markdown",
   "metadata": {},
   "source": [
    "# Softmax exercise\n",
    "\n",
    "In this exercise you will:\n",
    "\n",
    "- implement a fully-vectorized **loss function** for the Softmax classifier\n",
    "- implement the fully-vectorized expression for its **analytic gradient**\n",
    "- **check your implementation** with numerical gradient\n",
    "- use a validation set to **tune the learning rate and regularization** strength\n",
    "- **optimize** the loss function with **SGD**\n",
    "- **visualize** the final learned weights\n",
    "\n",
    "Credit: [cs231n.stanford.edu](http://cs231n.stanford.edu)"
   ]
  },
  {
   "cell_type": "code",
   "execution_count": 106,
   "metadata": {},
   "outputs": [
    {
     "name": "stdout",
     "output_type": "stream",
     "text": [
      "The autoreload extension is already loaded. To reload it, use:\n",
      "  %reload_ext autoreload\n"
     ]
    }
   ],
   "source": [
    "import random\n",
    "import numpy as np\n",
    "from cs231n.data_utils import load_CIFAR10\n",
    "import matplotlib.pyplot as plt\n",
    "\n",
    "%matplotlib inline\n",
    "plt.rcParams['figure.figsize'] = (10.0, 8.0) # set default size of plots\n",
    "plt.rcParams['image.interpolation'] = 'nearest'\n",
    "plt.rcParams['image.cmap'] = 'gray'\n",
    "\n",
    "# for auto-reloading extenrnal modules\n",
    "# see http://stackoverflow.com/questions/1907993/autoreload-of-modules-in-ipython\n",
    "%load_ext autoreload\n",
    "%autoreload 2"
   ]
  },
  {
   "cell_type": "code",
   "execution_count": 2,
   "metadata": {},
   "outputs": [
    {
     "name": "stdout",
     "output_type": "stream",
     "text": [
      "Train data shape:  (49000, 3073)\n",
      "Train labels shape:  (49000,)\n",
      "Validation data shape:  (1000, 3073)\n",
      "Validation labels shape:  (1000,)\n",
      "Test data shape:  (1000, 3073)\n",
      "Test labels shape:  (1000,)\n",
      "dev data shape:  (500, 3073)\n",
      "dev labels shape:  (500,)\n"
     ]
    }
   ],
   "source": [
    "def get_CIFAR10_data(num_training=49000, num_validation=1000, num_test=1000, num_dev=500):\n",
    "    \"\"\"\n",
    "    Load the CIFAR-10 dataset from disk and perform preprocessing to prepare\n",
    "    it for the linear classifier.\n",
    "    \"\"\"\n",
    "    # Load the raw CIFAR-10 data\n",
    "    cifar10_dir = 'cs231n/datasets/cifar-10-batches-py'\n",
    "    \n",
    "    X_train, y_train, X_test, y_test = load_CIFAR10(cifar10_dir)\n",
    "    \n",
    "    # subsample the data\n",
    "    mask = list(range(num_training, num_training + num_validation))\n",
    "    X_val = X_train[mask]\n",
    "    y_val = y_train[mask]\n",
    "    mask = list(range(num_training))\n",
    "    X_train = X_train[mask]\n",
    "    y_train = y_train[mask]\n",
    "    mask = list(range(num_test))\n",
    "    X_test = X_test[mask]\n",
    "    y_test = y_test[mask]\n",
    "    mask = np.random.choice(num_training, num_dev, replace=False)\n",
    "    X_dev = X_train[mask]\n",
    "    y_dev = y_train[mask]\n",
    "    \n",
    "    # Preprocessing: reshape the image data into rows\n",
    "    X_train = np.reshape(X_train, (X_train.shape[0], -1))\n",
    "    X_val = np.reshape(X_val, (X_val.shape[0], -1))\n",
    "    X_test = np.reshape(X_test, (X_test.shape[0], -1))\n",
    "    X_dev = np.reshape(X_dev, (X_dev.shape[0], -1))\n",
    "    \n",
    "    # Normalize the data: subtract the mean image\n",
    "    mean_image = np.mean(X_train, axis = 0)\n",
    "    X_train -= mean_image\n",
    "    X_val -= mean_image\n",
    "    X_test -= mean_image\n",
    "    X_dev -= mean_image\n",
    "    \n",
    "    # add bias dimension and transform into columns\n",
    "    X_train = np.hstack([X_train, np.ones((X_train.shape[0], 1))])\n",
    "    X_val = np.hstack([X_val, np.ones((X_val.shape[0], 1))])\n",
    "    X_test = np.hstack([X_test, np.ones((X_test.shape[0], 1))])\n",
    "    X_dev = np.hstack([X_dev, np.ones((X_dev.shape[0], 1))])\n",
    "    \n",
    "    return X_train, y_train, X_val, y_val, X_test, y_test, X_dev, y_dev\n",
    "\n",
    "\n",
    "# Cleaning up variables to prevent loading data multiple times (which may cause memory issue)\n",
    "try:\n",
    "    del X_train, y_train\n",
    "    del X_test, y_test\n",
    "    print('Clear previously loaded data.')\n",
    "except:\n",
    "    pass\n",
    "\n",
    "# Invoke the above function to get our data.\n",
    "X_train, y_train, X_val, y_val, X_test, y_test, X_dev, y_dev = get_CIFAR10_data()\n",
    "print('Train data shape: ', X_train.shape)\n",
    "print('Train labels shape: ', y_train.shape)\n",
    "print('Validation data shape: ', X_val.shape)\n",
    "print('Validation labels shape: ', y_val.shape)\n",
    "print('Test data shape: ', X_test.shape)\n",
    "print('Test labels shape: ', y_test.shape)\n",
    "print('dev data shape: ', X_dev.shape)\n",
    "print('dev labels shape: ', y_dev.shape)"
   ]
  },
  {
   "cell_type": "markdown",
   "metadata": {},
   "source": [
    "## Softmax Classifier\n",
    "\n",
    "Your code for this section will all be written inside **cs231n/classifiers/softmax.py** and **cs231n/classifiers/linear_classifier.py**\n",
    "\n",
    "### Subtask 1\n",
    "First implement the naive softmax loss function with nested loops.\n",
    "Open the file cs231n/classifiers/softmax.py and implement the\n",
    "softmax_loss_naive function."
   ]
  },
  {
   "cell_type": "code",
   "execution_count": 16,
   "metadata": {},
   "outputs": [
    {
     "name": "stdout",
     "output_type": "stream",
     "text": [
      "loss: 2.379527\n",
      "sanity check: 2.302585\n"
     ]
    }
   ],
   "source": [
    "from cs231n.classifiers.softmax import softmax_loss_naive\n",
    "import time\n",
    "\n",
    "# Generate a random softmax weight matrix and use it to compute the loss.\n",
    "W = np.random.randn(3073, 10) * 0.0001\n",
    "loss, grad = softmax_loss_naive(W, X_dev, y_dev, 0.0)\n",
    "\n",
    "# As a rough sanity check, our loss should be something close to -log(0.1).\n",
    "print('loss: %f' % loss)\n",
    "print('sanity check: %f' % (-np.log(0.1)))"
   ]
  },
  {
   "cell_type": "markdown",
   "metadata": {},
   "source": [
    "**Inline Question (1 point)**:\n",
    "Why do we expect our loss to be close to -log(0.1)? Explain briefly.\n",
    "\n",
    "**Your answer:**  \n",
    "The reason is that we have 10 classes in the dataset, and we initialize weight using small random values, so we can expect that initially the probability for each class will be 1/C, where C - number of classes.  \n",
    "C = 10 for our case, so initially the probability for each class will be close to 0.1, after computing mean loss for the batch the result will be expected to be close to -np.log(0.1)\n",
    "\n",
    "### Subtask 2 (1 point)\n",
    "Complete the implementation of softmax_loss_naive and implement a (naive)\n",
    "version of the gradient that _uses nested loops_.\n",
    "\n"
   ]
  },
  {
   "cell_type": "code",
   "execution_count": 4,
   "metadata": {},
   "outputs": [
    {
     "data": {
      "text/plain": [
       "((3073, 10), (500, 3073), (500,))"
      ]
     },
     "execution_count": 4,
     "metadata": {},
     "output_type": "execute_result"
    }
   ],
   "source": [
    "W.shape, X_dev.shape, y_dev.shape"
   ]
  },
  {
   "cell_type": "code",
   "execution_count": 50,
   "metadata": {},
   "outputs": [
    {
     "name": "stdout",
     "output_type": "stream",
     "text": [
      "numerical: -0.055586 analytic: -0.055586, relative error: 8.064996e-07\n",
      "numerical: -3.663107 analytic: -3.663107, relative error: 1.150493e-09\n",
      "numerical: -3.236753 analytic: -3.236753, relative error: 8.356561e-09\n",
      "numerical: -1.700413 analytic: -1.700413, relative error: 8.996457e-09\n",
      "numerical: 1.407572 analytic: 1.407572, relative error: 1.622368e-08\n",
      "numerical: 0.188807 analytic: 0.188807, relative error: 2.095608e-08\n",
      "numerical: 1.588797 analytic: 1.588797, relative error: 4.523119e-08\n",
      "numerical: -2.169292 analytic: -2.169292, relative error: 2.732255e-08\n",
      "numerical: -2.113593 analytic: -2.113592, relative error: 2.358882e-08\n",
      "numerical: -1.178201 analytic: -1.178201, relative error: 2.663616e-08\n",
      "numerical: 2.111534 analytic: 2.111534, relative error: 2.104441e-08\n",
      "numerical: 2.890171 analytic: 2.890171, relative error: 1.388094e-08\n",
      "numerical: -2.416132 analytic: -2.416132, relative error: 7.234346e-09\n",
      "numerical: -1.374033 analytic: -1.374033, relative error: 3.479313e-08\n",
      "numerical: 1.549163 analytic: 1.549163, relative error: 8.661566e-10\n",
      "numerical: -3.082016 analytic: -3.082016, relative error: 1.142479e-08\n",
      "numerical: -1.168301 analytic: -1.168301, relative error: 6.660184e-09\n",
      "numerical: 2.697696 analytic: 2.697696, relative error: 1.747823e-09\n",
      "numerical: 2.751206 analytic: 2.751206, relative error: 2.503745e-08\n",
      "numerical: -1.667905 analytic: -1.667905, relative error: 5.349333e-09\n"
     ]
    }
   ],
   "source": [
    "loss, grad = softmax_loss_naive(W, X_dev, y_dev, 0.0)\n",
    "\n",
    "# Use numeric gradient checking as a debugging tool.\n",
    "# The numeric gradient should be close to the analytic gradient.\n",
    "from cs231n.gradient_check import grad_check_sparse\n",
    "f = lambda w: softmax_loss_naive(w, X_dev, y_dev, 0.0)[0]\n",
    "grad_numerical = grad_check_sparse(f, W, grad, 10)\n",
    "\n",
    "# Do another gradient check with regularization\n",
    "loss, grad = softmax_loss_naive(W, X_dev, y_dev, 5e1)\n",
    "f = lambda w: softmax_loss_naive(w, X_dev, y_dev, 5e1)[0]\n",
    "grad_numerical = grad_check_sparse(f, W, grad, 10)"
   ]
  },
  {
   "cell_type": "markdown",
   "metadata": {},
   "source": [
    "### Subtask 3 (4 points)\n",
    "\n",
    "Now that we have a naive implementation of the softmax loss function and its gradient,\n",
    "implement a vectorized version in softmax_loss_vectorized.\n",
    "The two versions should compute the same results, but the vectorized version should be\n",
    "much faster."
   ]
  },
  {
   "cell_type": "code",
   "execution_count": 88,
   "metadata": {},
   "outputs": [
    {
     "name": "stdout",
     "output_type": "stream",
     "text": [
      "naive loss: 2.379498e+00 computed in 0.126879s\n",
      "vectorized loss: 2.379498e+00 computed in 0.002977s\n",
      "Loss difference: 0.000000\n",
      "Gradient difference: 0.000000\n"
     ]
    }
   ],
   "source": [
    "tic = time.time()\n",
    "loss_naive, grad_naive = softmax_loss_naive(W, X_dev, y_dev, 0.000005)\n",
    "toc = time.time()\n",
    "print('naive loss: %e computed in %fs' % (loss_naive, toc - tic))\n",
    "\n",
    "from cs231n.classifiers.softmax import softmax_loss_vectorized\n",
    "tic = time.time()\n",
    "loss_vectorized, grad_vectorized = softmax_loss_vectorized(W, X_dev, y_dev, 0.000005)\n",
    "toc = time.time()\n",
    "print('vectorized loss: %e computed in %fs' % (loss_vectorized, toc - tic))\n",
    "\n",
    "# We use the Frobenius norm to compare the two versions\n",
    "# of the gradient.\n",
    "grad_difference = np.linalg.norm(grad_naive - grad_vectorized, ord='fro')\n",
    "print('Loss difference: %f' % np.abs(loss_naive - loss_vectorized))\n",
    "print('Gradient difference: %f' % grad_difference)"
   ]
  },
  {
   "cell_type": "markdown",
   "metadata": {},
   "source": [
    "### Subtask 4 (2 points)\n",
    "\n",
    "We now have vectorized and efficient expressions for the loss, the gradient and our gradient matches the numerical gradient. We are therefore ready to do SGD to minimize the loss."
   ]
  },
  {
   "cell_type": "code",
   "execution_count": 91,
   "metadata": {},
   "outputs": [
    {
     "name": "stdout",
     "output_type": "stream",
     "text": [
      "iteration 0 / 1500: loss 772.078898\n",
      "iteration 100 / 1500: loss 283.530345\n",
      "iteration 200 / 1500: loss 105.086262\n",
      "iteration 300 / 1500: loss 39.828915\n",
      "iteration 400 / 1500: loss 15.821467\n",
      "iteration 500 / 1500: loss 7.145630\n",
      "iteration 600 / 1500: loss 3.988802\n",
      "iteration 700 / 1500: loss 2.708391\n",
      "iteration 800 / 1500: loss 2.279774\n",
      "iteration 900 / 1500: loss 2.156118\n",
      "iteration 1000 / 1500: loss 2.121656\n",
      "iteration 1100 / 1500: loss 2.104100\n",
      "iteration 1200 / 1500: loss 2.087575\n",
      "iteration 1300 / 1500: loss 2.068455\n",
      "iteration 1400 / 1500: loss 2.057119\n",
      "That took 16.277914s\n"
     ]
    }
   ],
   "source": [
    "# In the file linear_classifier.py, implement SGD in the function\n",
    "# LinearClassifier.train() and then run it with the code below.\n",
    "from cs231n.classifiers import Softmax\n",
    "model = Softmax()\n",
    "tic = time.time()\n",
    "loss_hist = model.train(X_train, y_train, learning_rate=1e-7, reg=2.5e4,\n",
    "                        num_iters=1500, verbose=True)\n",
    "toc = time.time()\n",
    "print('That took %fs' % (toc - tic))"
   ]
  },
  {
   "cell_type": "code",
   "execution_count": 92,
   "metadata": {},
   "outputs": [
    {
     "data": {
      "image/png": "[encoded data removed]",
      "text/plain": [
       "<Figure size 432x288 with 1 Axes>"
      ]
     },
     "metadata": {
      "needs_background": "light"
     },
     "output_type": "display_data"
    }
   ],
   "source": [
    "# A useful debugging strategy is to plot the loss as a function of\n",
    "# iteration number:\n",
    "plt.plot(loss_hist)\n",
    "plt.xlabel('Iteration number')\n",
    "plt.ylabel('Loss value')\n",
    "plt.show()"
   ]
  },
  {
   "cell_type": "code",
   "execution_count": 95,
   "metadata": {},
   "outputs": [
    {
     "name": "stdout",
     "output_type": "stream",
     "text": [
      "training accuracy: 0.329469\n",
      "validation accuracy: 0.346000\n"
     ]
    }
   ],
   "source": [
    "# Write the LinearClassifier.predict function and evaluate the performance on both the\n",
    "# training and validation set\n",
    "y_train_pred = model.predict(X_train)\n",
    "print('training accuracy: %f' % (np.mean(y_train == y_train_pred), ))\n",
    "y_val_pred = model.predict(X_val)\n",
    "print('validation accuracy: %f' % (np.mean(y_val == y_val_pred), ))"
   ]
  },
  {
   "cell_type": "markdown",
   "metadata": {},
   "source": [
    "### Subtask 5 (2 points)\n",
    "\n",
    "Use the validation set to tune hyperparameters (regularization strength and\n",
    "learning rate). You should experiment with different ranges for the learning\n",
    "rates and regularization strengths; if you are careful you should be able to\n",
    "get a classification accuracy of over 0.35 on the validation set."
   ]
  },
  {
   "cell_type": "code",
   "execution_count": 128,
   "metadata": {},
   "outputs": [
    {
     "data": {
      "application/vnd.jupyter.widget-view+json": {
       "model_id": "09f5777b5f5b49618892e0ad879eedff",
       "version_major": 2,
       "version_minor": 0
      },
      "text/plain": [
       "HBox(children=(IntProgress(value=0, max=25), HTML(value='')))"
      ]
     },
     "metadata": {},
     "output_type": "display_data"
    },
    {
     "name": "stdout",
     "output_type": "stream",
     "text": [
      "\n",
      "lr 5.000000e-07 reg 2.500000e+03 train accuracy: 0.339102 val accuracy: 0.365000\n",
      "lr 5.000000e-07 reg 2.973018e+03 train accuracy: 0.348327 val accuracy: 0.361000\n",
      "lr 5.000000e-07 reg 3.535534e+03 train accuracy: 0.353327 val accuracy: 0.357000\n",
      "lr 5.000000e-07 reg 4.204482e+03 train accuracy: 0.363061 val accuracy: 0.375000\n",
      "lr 5.000000e-07 reg 5.000000e+03 train accuracy: 0.366082 val accuracy: 0.372000\n",
      "lr 7.825423e-07 reg 2.500000e+03 train accuracy: 0.374510 val accuracy: 0.367000\n",
      "lr 7.825423e-07 reg 2.973018e+03 train accuracy: 0.372469 val accuracy: 0.376000\n",
      "lr 7.825423e-07 reg 3.535534e+03 train accuracy: 0.373980 val accuracy: 0.383000\n",
      "lr 7.825423e-07 reg 4.204482e+03 train accuracy: 0.370633 val accuracy: 0.370000\n",
      "lr 7.825423e-07 reg 5.000000e+03 train accuracy: 0.369735 val accuracy: 0.387000\n",
      "lr 1.224745e-06 reg 2.500000e+03 train accuracy: 0.379837 val accuracy: 0.386000\n",
      "lr 1.224745e-06 reg 2.973018e+03 train accuracy: 0.377061 val accuracy: 0.386000\n",
      "lr 1.224745e-06 reg 3.535534e+03 train accuracy: 0.371898 val accuracy: 0.393000\n",
      "lr 1.224745e-06 reg 4.204482e+03 train accuracy: 0.368898 val accuracy: 0.371000\n",
      "lr 1.224745e-06 reg 5.000000e+03 train accuracy: 0.364388 val accuracy: 0.366000\n",
      "lr 1.916829e-06 reg 2.500000e+03 train accuracy: 0.378653 val accuracy: 0.370000\n",
      "lr 1.916829e-06 reg 2.973018e+03 train accuracy: 0.372633 val accuracy: 0.375000\n",
      "lr 1.916829e-06 reg 3.535534e+03 train accuracy: 0.374429 val accuracy: 0.368000\n",
      "lr 1.916829e-06 reg 4.204482e+03 train accuracy: 0.365469 val accuracy: 0.379000\n",
      "lr 1.916829e-06 reg 5.000000e+03 train accuracy: 0.363959 val accuracy: 0.357000\n",
      "lr 3.000000e-06 reg 2.500000e+03 train accuracy: 0.350122 val accuracy: 0.357000\n",
      "lr 3.000000e-06 reg 2.973018e+03 train accuracy: 0.330898 val accuracy: 0.357000\n",
      "lr 3.000000e-06 reg 3.535534e+03 train accuracy: 0.359694 val accuracy: 0.362000\n",
      "lr 3.000000e-06 reg 4.204482e+03 train accuracy: 0.344327 val accuracy: 0.359000\n",
      "lr 3.000000e-06 reg 5.000000e+03 train accuracy: 0.346714 val accuracy: 0.364000\n",
      "best validation accuracy achieved during cross-validation: 0.393000\n"
     ]
    }
   ],
   "source": [
    "# learning_rates = [1e-7, 5e-7]\n",
    "# regularization_strengths = [2.5e4, 5e4]\n",
    "\n",
    "learning_rates = [5e-7, 3e-6]\n",
    "regularization_strengths = [2.5e3, 5e3]\n",
    "\n",
    "# results is dictionary mapping tuples of the form\n",
    "# (learning_rate, regularization_strength) to tuples of the form\n",
    "# (training_accuracy, validation_accuracy). The accuracy is simply the fraction\n",
    "# of data points that are correctly classified.\n",
    "results = {}\n",
    "best_val = -1       # The highest validation accuracy that we have seen so far.\n",
    "best_softmax = None # The Softmax object that achieved the highest validation rate.\n",
    "\n",
    "################################################################################\n",
    "# TODO:                                                                        #\n",
    "# Write code that chooses the best hyperparameters by tuning on the validation #\n",
    "# set. For each combination of hyperparameters, train a Softmax clf on the     #\n",
    "# training set, compute its accuracy on the training and validation sets, and  #\n",
    "# store these numbers in the results dictionary. In addition, store the best   #\n",
    "# validation accuracy in best_val and the Softmax object that achieves this    #\n",
    "# accuracy in best_softmax.                                                    #\n",
    "#                                                                              #\n",
    "# Hint: You should use a small value for num_iters as you develop your         #\n",
    "# validation code so that the Softmax don't take much time to train; once you  #\n",
    "# are confident that your validation code works, you should rerun the          #\n",
    "# validation code with a larger value for num_iters.                           #\n",
    "################################################################################\n",
    "import itertools\n",
    "from tqdm import tqdm_notebook\n",
    "\n",
    "num_iters = 25\n",
    "lr_grid = np.logspace(*np.log10(learning_rates), 5)\n",
    "reg_grid = np.logspace(*np.log10(regularization_strengths), 5)\n",
    "params_grid = list(itertools.product(lr_grid, reg_grid))\n",
    "\n",
    "for i in tqdm_notebook(range(num_iters)):\n",
    "    softmax = Softmax()\n",
    "    softmax.train(X_train, y_train, *params_grid[i], num_iters=500)\n",
    "    y_train_pred = softmax.predict(X_train)\n",
    "    y_val_pred = softmax.predict(X_val)\n",
    "    acc_train = np.mean(y_train_pred == y_train)\n",
    "    acc_val = np.mean(y_val_pred == y_val)\n",
    "    results[params_grid[i][0], params_grid[i][1]] = (acc_train, acc_val)\n",
    "    \n",
    "    if acc_val > best_val:\n",
    "        best_val = acc_val\n",
    "        best_softmax = softmax\n",
    "################################################################################\n",
    "#                              END OF YOUR CODE                                #\n",
    "################################################################################\n",
    "    \n",
    "# Print out results.\n",
    "for lr, reg in sorted(results):\n",
    "    train_accuracy, val_accuracy = results[(lr, reg)]\n",
    "    print('lr %e reg %e train accuracy: %f val accuracy: %f' % (\n",
    "                lr, reg, train_accuracy, val_accuracy))\n",
    "    \n",
    "print('best validation accuracy achieved during cross-validation: %f' % best_val)"
   ]
  },
  {
   "cell_type": "code",
   "execution_count": 129,
   "metadata": {},
   "outputs": [
    {
     "name": "stdout",
     "output_type": "stream",
     "text": [
      "softmax on raw pixels final test set accuracy: 0.369000\n"
     ]
    }
   ],
   "source": [
    "# evaluate on test set\n",
    "# Evaluate the best softmax on test set\n",
    "y_test_pred = best_softmax.predict(X_test)\n",
    "test_accuracy = np.mean(y_test == y_test_pred)\n",
    "print('softmax on raw pixels final test set accuracy: %f' % (test_accuracy, ))"
   ]
  },
  {
   "cell_type": "code",
   "execution_count": 130,
   "metadata": {},
   "outputs": [
    {
     "data": {
      "image/png": "[encoded data removed]",
      "text/plain": [
       "<Figure size 720x576 with 10 Axes>"
      ]
     },
     "metadata": {
      "needs_background": "light"
     },
     "output_type": "display_data"
    }
   ],
   "source": [
    "# Visualize the learned weights for each class\n",
    "w = best_softmax.W[:-1,:] # strip out the bias\n",
    "w = w.reshape(32, 32, 3, 10)\n",
    "\n",
    "w_min, w_max = np.min(w), np.max(w)\n",
    "\n",
    "classes = ['plane', 'car', 'bird', 'cat', 'deer', 'dog', 'frog', 'horse', 'ship', 'truck']\n",
    "for i in range(10):\n",
    "    plt.subplot(2, 5, i + 1)\n",
    "    \n",
    "    # Rescale the weights to be between 0 and 255\n",
    "    wimg = 255.0 * (w[:, :, :, i].squeeze() - w_min) / (w_max - w_min)\n",
    "    plt.imshow(wimg.astype('uint8'))\n",
    "    plt.axis('off')\n",
    "    plt.title(classes[i])"
   ]
  },
  {
   "cell_type": "markdown",
   "metadata": {},
   "source": [
    "#### Max score: 10 points"
   ]
  }
 ],
 "metadata": {
  "kernelspec": {
   "display_name": "Python 3",
   "language": "python",
   "name": "python3"
  },
  "language_info": {
   "codemirror_mode": {
    "name": "ipython",
    "version": 3
   },
   "file_extension": ".py",
   "mimetype": "text/x-python",
   "name": "python",
   "nbconvert_exporter": "python",
   "pygments_lexer": "ipython3",
   "version": "3.6.6"
  }
 },
 "nbformat": 4,
 "nbformat_minor": 2
}
